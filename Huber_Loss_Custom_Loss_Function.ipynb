{
  "nbformat": 4,
  "nbformat_minor": 0,
  "metadata": {
    "colab": {
      "name": "Huber_Loss_Custom_Loss_Function.ipynb",
      "provenance": [],
      "authorship_tag": "ABX9TyNrslRgM9gVdYem9dqU6UGp",
      "include_colab_link": true
    },
    "kernelspec": {
      "name": "python3",
      "display_name": "Python 3"
    },
    "language_info": {
      "name": "python"
    }
  },
  "cells": [
    {
      "cell_type": "markdown",
      "metadata": {
        "id": "view-in-github",
        "colab_type": "text"
      },
      "source": [
        "<a href=\"https://colab.research.google.com/github/OnurcanKoken/Google-Colaboratory-General-Usage/blob/master/Huber_Loss_Custom_Loss_Function.ipynb\" target=\"_parent\"><img src=\"https://colab.research.google.com/assets/colab-badge.svg\" alt=\"Open In Colab\"/></a>"
      ]
    },
    {
      "cell_type": "markdown",
      "metadata": {
        "id": "ZCWZow0OmFIP"
      },
      "source": [
        "# Huber Loss Function\n",
        "\n",
        "Coursera - custom-models-layers-loss-functions-with-tensorflow - Week 2\n",
        "\n",
        "Onurcan Köken - 10th of May, 2021\n",
        "\n",
        "**How to create custom loss functions?**\n",
        "\n",
        "\n",
        "Huber Loss: https://en.wikipedia.org/wiki/Huber_loss\n",
        "\n",
        "\n",
        "Reference: https://www.coursera.org/learn/custom-models-layers-loss-functions-with-tensorflow/ungradedLab/NvHNF/huber-loss-lab/lab"
      ]
    },
    {
      "cell_type": "markdown",
      "metadata": {
        "id": "CUcM4tMSmXH1"
      },
      "source": [
        "# Imports"
      ]
    },
    {
      "cell_type": "code",
      "metadata": {
        "id": "K9VhA5ZDmYcI"
      },
      "source": [
        "try:\n",
        "  # %tensorflow_version only exists in Colab.\n",
        "  %tensorflow_version 2.x\n",
        "except Exception:\n",
        "  pass\n",
        "\n",
        "import tensorflow as tf\n",
        "import numpy as np\n",
        "from tensorflow import keras"
      ],
      "execution_count": 1,
      "outputs": []
    },
    {
      "cell_type": "markdown",
      "metadata": {
        "id": "T0Bba2R5mcRz"
      },
      "source": [
        "## Prepare the Data\n",
        "\n",
        "Our dummy dataset is just a pair of arrays `xs` and `ys` defined by the relationship $y = 2x - 1$. `xs` are the inputs while `ys` are the labels."
      ]
    },
    {
      "cell_type": "code",
      "metadata": {
        "id": "CA_ZiJjUmexo"
      },
      "source": [
        "# inputs\n",
        "xs = np.array([-1.0,  0.0, 1.0, 2.0, 3.0, 4.0], dtype=float)\n",
        "\n",
        "# labels\n",
        "ys = np.array([-3.0, -1.0, 1.0, 3.0, 5.0, 7.0], dtype=float)"
      ],
      "execution_count": 2,
      "outputs": []
    },
    {
      "cell_type": "markdown",
      "metadata": {
        "id": "3-4OSL43mgyV"
      },
      "source": [
        "## Training the model\n",
        "\n",
        "Let's build a simple model and train using a built-in loss function like the `mean_squared_error`."
      ]
    },
    {
      "cell_type": "code",
      "metadata": {
        "colab": {
          "base_uri": "https://localhost:8080/"
        },
        "id": "fnCIqt_amjEl",
        "outputId": "b45af44d-b7c5-43b8-da42-a16dab165e7f"
      },
      "source": [
        "# using single Dense with a single unit in it\n",
        "# linear relationship, so you only need 1 unit\n",
        "# then you learn the weight and the bias\n",
        "model = tf.keras.Sequential([keras.layers.Dense(units=1, input_shape=[1])])\n",
        "model.compile(optimizer='sgd', loss='mean_squared_error')\n",
        "model.fit(xs, ys, epochs=500,verbose=0)\n",
        "\n",
        "print(model.predict([10.0]))\n",
        "# result will be (10*2) - 1 = 19"
      ],
      "execution_count": 3,
      "outputs": [
        {
          "output_type": "stream",
          "text": [
            "[[18.987066]]\n"
          ],
          "name": "stdout"
        }
      ]
    },
    {
      "cell_type": "markdown",
      "metadata": {
        "id": "mE54vYhJmk_W"
      },
      "source": [
        "### Custom Loss\n",
        "\n",
        "Now let's see how we can use a custom loss. We first define a function that accepts the ground truth labels (`y_true`) and model predictions (`y_pred`) as parameters. We then compute and return the loss value in the function definition."
      ]
    },
    {
      "cell_type": "code",
      "metadata": {
        "id": "bvJVk4qPmllf"
      },
      "source": [
        "def my_huber_loss(y_true, y_pred):\n",
        "    threshold = 1 # delta symbol in the equation\n",
        "    error = y_true - y_pred # corresponds to \"a\"\n",
        "    is_small_error = tf.abs(error) <= threshold\n",
        "    small_error_loss = tf.square(error) / 2\n",
        "    big_error_loss = threshold * (tf.abs(error) - (0.5 * threshold))\n",
        "    return tf.where(is_small_error, small_error_loss, big_error_loss) # boolean to check, value if True, value if False"
      ],
      "execution_count": 4,
      "outputs": []
    },
    {
      "cell_type": "markdown",
      "metadata": {
        "id": "0HKXk1ODmnR2"
      },
      "source": [
        "Using the loss function is as simple as specifying the loss function in the `loss` argument of `model.compile()`."
      ]
    },
    {
      "cell_type": "code",
      "metadata": {
        "colab": {
          "base_uri": "https://localhost:8080/"
        },
        "id": "ewzw1DaqmpLg",
        "outputId": "18e7c21e-2f3a-43e3-bc8b-540bbe4d85c9"
      },
      "source": [
        "model = tf.keras.Sequential([keras.layers.Dense(units=1, input_shape=[1])])\n",
        "model.compile(optimizer='sgd', loss=my_huber_loss)\n",
        "model.fit(xs, ys, epochs=500,verbose=0)\n",
        "print(model.predict([10.0]))"
      ],
      "execution_count": 5,
      "outputs": [
        {
          "output_type": "stream",
          "text": [
            "[[18.585327]]\n"
          ],
          "name": "stdout"
        }
      ]
    }
  ]
}