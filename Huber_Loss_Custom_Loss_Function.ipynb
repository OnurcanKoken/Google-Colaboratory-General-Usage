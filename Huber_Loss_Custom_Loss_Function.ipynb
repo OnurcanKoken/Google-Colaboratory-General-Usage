{
  "nbformat": 4,
  "nbformat_minor": 0,
  "metadata": {
    "colab": {
      "name": "Huber_Loss_Custom_Loss_Function.ipynb",
      "provenance": [],
      "authorship_tag": "ABX9TyOdn2ln5+hlhgGh1/WrCUIR",
      "include_colab_link": true
    },
    "kernelspec": {
      "name": "python3",
      "display_name": "Python 3"
    },
    "language_info": {
      "name": "python"
    }
  },
  "cells": [
    {
      "cell_type": "markdown",
      "metadata": {
        "id": "view-in-github",
        "colab_type": "text"
      },
      "source": [
        "<a href=\"https://colab.research.google.com/github/OnurcanKoken/Google-Colaboratory-General-Usage/blob/master/Huber_Loss_Custom_Loss_Function.ipynb\" target=\"_parent\"><img src=\"https://colab.research.google.com/assets/colab-badge.svg\" alt=\"Open In Colab\"/></a>"
      ]
    },
    {
      "cell_type": "markdown",
      "metadata": {
        "id": "ZCWZow0OmFIP"
      },
      "source": [
        "# Huber Loss Function\n",
        "\n",
        "Coursera - custom-models-layers-loss-functions-with-tensorflow - Week 2\n",
        "\n",
        "Onurcan Köken - 10th of May, 2021\n",
        "\n",
        "**How to create custom loss functions?**\n",
        "\n",
        "**Hyperparameter and Class**\n",
        "\n",
        "\n",
        "Huber Loss: https://en.wikipedia.org/wiki/Huber_loss\n",
        "\n",
        "\n",
        "Reference: https://www.coursera.org/learn/custom-models-layers-loss-functions-with-tensorflow/ungradedLab/NvHNF/huber-loss-lab/lab"
      ]
    },
    {
      "cell_type": "markdown",
      "metadata": {
        "id": "CUcM4tMSmXH1"
      },
      "source": [
        "# Imports"
      ]
    },
    {
      "cell_type": "code",
      "metadata": {
        "id": "K9VhA5ZDmYcI"
      },
      "source": [
        "try:\n",
        "  # %tensorflow_version only exists in Colab.\n",
        "  %tensorflow_version 2.x\n",
        "except Exception:\n",
        "  pass\n",
        "\n",
        "import tensorflow as tf\n",
        "import numpy as np\n",
        "from tensorflow import keras"
      ],
      "execution_count": 1,
      "outputs": []
    },
    {
      "cell_type": "markdown",
      "metadata": {
        "id": "T0Bba2R5mcRz"
      },
      "source": [
        "## Prepare the Data\n",
        "\n",
        "Our dummy dataset is just a pair of arrays `xs` and `ys` defined by the relationship $y = 2x - 1$. `xs` are the inputs while `ys` are the labels."
      ]
    },
    {
      "cell_type": "code",
      "metadata": {
        "id": "CA_ZiJjUmexo"
      },
      "source": [
        "# inputs\n",
        "xs = np.array([-1.0,  0.0, 1.0, 2.0, 3.0, 4.0], dtype=float)\n",
        "\n",
        "# labels\n",
        "ys = np.array([-3.0, -1.0, 1.0, 3.0, 5.0, 7.0], dtype=float)"
      ],
      "execution_count": 2,
      "outputs": []
    },
    {
      "cell_type": "markdown",
      "metadata": {
        "id": "3-4OSL43mgyV"
      },
      "source": [
        "## Training the model\n",
        "\n",
        "Let's build a simple model and train using a built-in loss function like the `mean_squared_error`."
      ]
    },
    {
      "cell_type": "code",
      "metadata": {
        "colab": {
          "base_uri": "https://localhost:8080/"
        },
        "id": "fnCIqt_amjEl",
        "outputId": "ff3ae70b-16fd-4bb0-a4b7-1bf15b22b631"
      },
      "source": [
        "# using single Dense with a single unit in it\n",
        "# linear relationship, so you only need 1 unit\n",
        "# then you learn the weight and the bias\n",
        "model = tf.keras.Sequential([keras.layers.Dense(units=1, input_shape=[1])])\n",
        "model.compile(optimizer='sgd', loss='mean_squared_error')\n",
        "model.fit(xs, ys, epochs=500,verbose=0)\n",
        "\n",
        "print(model.predict([10.0]))\n",
        "# result will be (10*2) - 1 = 19"
      ],
      "execution_count": 3,
      "outputs": [
        {
          "output_type": "stream",
          "text": [
            "[[18.98636]]\n"
          ],
          "name": "stdout"
        }
      ]
    },
    {
      "cell_type": "markdown",
      "metadata": {
        "id": "mE54vYhJmk_W"
      },
      "source": [
        "### Custom Loss\n",
        "\n",
        "Now let's see how we can use a custom loss. We first define a function that accepts the ground truth labels (`y_true`) and model predictions (`y_pred`) as parameters. We then compute and return the loss value in the function definition."
      ]
    },
    {
      "cell_type": "code",
      "metadata": {
        "id": "bvJVk4qPmllf"
      },
      "source": [
        "def my_huber_loss(y_true, y_pred):\n",
        "    threshold = 1 # delta symbol in the equation\n",
        "    error = y_true - y_pred # corresponds to \"a\"\n",
        "    is_small_error = tf.abs(error) <= threshold\n",
        "    small_error_loss = tf.square(error) / 2\n",
        "    big_error_loss = threshold * (tf.abs(error) - (0.5 * threshold))\n",
        "    return tf.where(is_small_error, small_error_loss, big_error_loss) # boolean to check, value if True, value if False"
      ],
      "execution_count": 4,
      "outputs": []
    },
    {
      "cell_type": "markdown",
      "metadata": {
        "id": "0HKXk1ODmnR2"
      },
      "source": [
        "Using the loss function is as simple as specifying the loss function in the `loss` argument of `model.compile()`."
      ]
    },
    {
      "cell_type": "code",
      "metadata": {
        "colab": {
          "base_uri": "https://localhost:8080/"
        },
        "id": "ewzw1DaqmpLg",
        "outputId": "d979246c-27a8-471e-f56b-25152de74627"
      },
      "source": [
        "model = tf.keras.Sequential([keras.layers.Dense(units=1, input_shape=[1])])\n",
        "model.compile(optimizer='sgd', loss=my_huber_loss)\n",
        "model.fit(xs, ys, epochs=500,verbose=0)\n",
        "print(model.predict([10.0]))"
      ],
      "execution_count": 5,
      "outputs": [
        {
          "output_type": "stream",
          "text": [
            "[[18.7707]]\n"
          ],
          "name": "stdout"
        }
      ]
    },
    {
      "cell_type": "markdown",
      "metadata": {
        "id": "P3fBvCXVyco7"
      },
      "source": [
        "## Custom loss with hyperparameter\n",
        "\n",
        "How to implement a custom loss as an object by inheriting the [Loss](https://www.tensorflow.org/api_docs/python/tf/keras/losses/Loss) class.\n",
        "\n",
        "The `loss` argument in `model.compile()` only accepts functions that accepts two parameters: the ground truth (`y_true`) and the model predictions (`y_pred`). If we want to include a hyperparameter that we can tune, then we can define a wrapper function that accepts this hyperparameter."
      ]
    },
    {
      "cell_type": "code",
      "metadata": {
        "id": "xG0OVWy-ygEa"
      },
      "source": [
        "# wrapper function that accepts the hyperparameter\n",
        "def my_huber_loss_with_threshold(threshold):\n",
        "  \n",
        "    # function that accepts the ground truth and predictions\n",
        "    def my_huber_loss(y_true, y_pred):\n",
        "        error = y_true - y_pred\n",
        "        is_small_error = tf.abs(error) <= threshold\n",
        "        small_error_loss = tf.square(error) / 2\n",
        "        big_error_loss = threshold * (tf.abs(error) - (0.5 * threshold))\n",
        "        \n",
        "        return tf.where(is_small_error, small_error_loss, big_error_loss) \n",
        "\n",
        "    # return the inner function tuned by the hyperparameter\n",
        "    return my_huber_loss"
      ],
      "execution_count": 6,
      "outputs": []
    },
    {
      "cell_type": "markdown",
      "metadata": {
        "id": "3SxjhfGAyjno"
      },
      "source": [
        "We can now specify the `loss` as the wrapper function above. Notice that we can now set the `threshold` value. Try varying this value and see the results you get."
      ]
    },
    {
      "cell_type": "code",
      "metadata": {
        "colab": {
          "base_uri": "https://localhost:8080/"
        },
        "id": "Ydvn929HykEk",
        "outputId": "e0f80f8b-3063-4c2d-9925-90eacb0f3a60"
      },
      "source": [
        "model = tf.keras.Sequential([keras.layers.Dense(units=1, input_shape=[1])])\n",
        "model.compile(optimizer='sgd', loss=my_huber_loss_with_threshold(threshold=1.2))\n",
        "model.fit(xs, ys, epochs=500,verbose=0)\n",
        "print(model.predict([10.0]))"
      ],
      "execution_count": 7,
      "outputs": [
        {
          "output_type": "stream",
          "text": [
            "[[18.687706]]\n"
          ],
          "name": "stdout"
        }
      ]
    },
    {
      "cell_type": "markdown",
      "metadata": {
        "id": "WZ1MH_Tayl0f"
      },
      "source": [
        "## Implement Custom Loss as a Class\n",
        "\n",
        "We can also implement our custom loss as a class. It inherits from the Keras Loss class and the syntax and required methods are shown below."
      ]
    },
    {
      "cell_type": "code",
      "metadata": {
        "id": "hWVL8uO-ymNK"
      },
      "source": [
        "from tensorflow.keras.losses import Loss\n",
        "\n",
        "class MyHuberLoss(Loss):\n",
        "  \n",
        "    # initialize instance attributes\n",
        "    def __init__(self, threshold=1):\n",
        "        super().__init__()\n",
        "        self.threshold = threshold\n",
        "\n",
        "    # compute loss\n",
        "    def call(self, y_true, y_pred):\n",
        "        error = y_true - y_pred\n",
        "        is_small_error = tf.abs(error) <= self.threshold\n",
        "        small_error_loss = tf.square(error) / 2\n",
        "        big_error_loss = self.threshold * (tf.abs(error) - (0.5 * self.threshold))\n",
        "        return tf.where(is_small_error, small_error_loss, big_error_loss)"
      ],
      "execution_count": 8,
      "outputs": []
    },
    {
      "cell_type": "markdown",
      "metadata": {
        "id": "NVJ9mEAjynl1"
      },
      "source": [
        "You can specify the loss by instantiating an object from your custom loss class."
      ]
    },
    {
      "cell_type": "code",
      "metadata": {
        "colab": {
          "base_uri": "https://localhost:8080/"
        },
        "id": "u-00asCvyo1c",
        "outputId": "8454220b-f498-4fc6-b068-f22434701229"
      },
      "source": [
        "model = tf.keras.Sequential([keras.layers.Dense(units=1, input_shape=[1])])\n",
        "model.compile(optimizer='sgd', loss=MyHuberLoss(threshold=1.02))\n",
        "model.fit(xs, ys, epochs=500,verbose=0)\n",
        "print(model.predict([10.0]))"
      ],
      "execution_count": 9,
      "outputs": [
        {
          "output_type": "stream",
          "text": [
            "[[18.458715]]\n"
          ],
          "name": "stdout"
        }
      ]
    }
  ]
}