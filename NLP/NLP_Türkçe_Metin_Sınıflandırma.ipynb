{
  "nbformat": 4,
  "nbformat_minor": 0,
  "metadata": {
    "colab": {
      "name": "NLP_Türkçe_Metin_Sınıflandırma.ipynb",
      "provenance": [],
      "authorship_tag": "ABX9TyPBYMFN3esgWDk+JYzMPnxQ",
      "include_colab_link": true
    },
    "kernelspec": {
      "name": "python3",
      "display_name": "Python 3"
    },
    "language_info": {
      "name": "python"
    }
  },
  "cells": [
    {
      "cell_type": "markdown",
      "metadata": {
        "id": "view-in-github",
        "colab_type": "text"
      },
      "source": [
        "<a href=\"https://colab.research.google.com/github/OnurcanKoken/TensorFlow_Workshops_Colab_General_Usage/blob/master/NLP/NLP_T%C3%BCrk%C3%A7e_Metin_S%C4%B1n%C4%B1fland%C4%B1rma.ipynb\" target=\"_parent\"><img src=\"https://colab.research.google.com/assets/colab-badge.svg\" alt=\"Open In Colab\"/></a>"
      ]
    },
    {
      "cell_type": "markdown",
      "metadata": {
        "id": "Rd6GaHUQ5Ukr"
      },
      "source": [
        "# Derin Öğrenmeyle Türkçe Metin Sınıflandırma\n",
        "\n",
        "Onurcan Köken\n",
        "\n",
        "10.04.2021\n",
        "\n",
        "İçindekiler:\n",
        "* Veriyi Tanıma Aşaması\n",
        "* Derin Öğrenmeyle Türkçe Metin Sınıflandırma\n",
        "* XGBoost \n",
        "\n",
        "Kaynak: https://www.kaggle.com/erdal002/turkish-text-classification"
      ]
    },
    {
      "cell_type": "markdown",
      "metadata": {
        "id": "KRx1Rsbyp8sR"
      },
      "source": [
        "# Veriyi Tanıma Aşaması\n",
        "Burada veriyi tanımaya çalıştım."
      ]
    },
    {
      "cell_type": "code",
      "metadata": {
        "id": "Nr2uyiScT1Tg"
      },
      "source": [
        "# pandas kütüphanesi\n",
        "import pandas as pd"
      ],
      "execution_count": null,
      "outputs": []
    },
    {
      "cell_type": "code",
      "metadata": {
        "colab": {
          "base_uri": "https://localhost:8080/",
          "height": 197
        },
        "id": "2S-fNpazx1U-",
        "outputId": "bfc7c914-90c6-4ae5-94e8-b740b102b7f0"
      },
      "source": [
        "# ver setini okuma ve ilk satırlarını gösterme\n",
        "df = pd.read_csv('/content/7allV03.csv')\n",
        "df.head()"
      ],
      "execution_count": null,
      "outputs": [
        {
          "output_type": "execute_result",
          "data": {
            "text/html": [
              "<div>\n",
              "<style scoped>\n",
              "    .dataframe tbody tr th:only-of-type {\n",
              "        vertical-align: middle;\n",
              "    }\n",
              "\n",
              "    .dataframe tbody tr th {\n",
              "        vertical-align: top;\n",
              "    }\n",
              "\n",
              "    .dataframe thead th {\n",
              "        text-align: right;\n",
              "    }\n",
              "</style>\n",
              "<table border=\"1\" class=\"dataframe\">\n",
              "  <thead>\n",
              "    <tr style=\"text-align: right;\">\n",
              "      <th></th>\n",
              "      <th>category</th>\n",
              "      <th>text</th>\n",
              "    </tr>\n",
              "  </thead>\n",
              "  <tbody>\n",
              "    <tr>\n",
              "      <th>0</th>\n",
              "      <td>siyaset</td>\n",
              "      <td>3 milyon ile ön seçim vaadi mhp nin 10 olağan...</td>\n",
              "    </tr>\n",
              "    <tr>\n",
              "      <th>1</th>\n",
              "      <td>siyaset</td>\n",
              "      <td>mesut_yılmaz yüce_divan da ceza alabilirdi pr...</td>\n",
              "    </tr>\n",
              "    <tr>\n",
              "      <th>2</th>\n",
              "      <td>siyaset</td>\n",
              "      <td>disko lar kaldırılıyor başbakan_yardımcısı ar...</td>\n",
              "    </tr>\n",
              "    <tr>\n",
              "      <th>3</th>\n",
              "      <td>siyaset</td>\n",
              "      <td>sarıgül anayasa_mahkemesi ne gidiyor mustafa_...</td>\n",
              "    </tr>\n",
              "    <tr>\n",
              "      <th>4</th>\n",
              "      <td>siyaset</td>\n",
              "      <td>erdoğan idamın bir haklılık sebebi var demek ...</td>\n",
              "    </tr>\n",
              "  </tbody>\n",
              "</table>\n",
              "</div>"
            ],
            "text/plain": [
              "   category                                               text\n",
              "0  siyaset    3 milyon ile ön seçim vaadi mhp nin 10 olağan...\n",
              "1  siyaset    mesut_yılmaz yüce_divan da ceza alabilirdi pr...\n",
              "2  siyaset    disko lar kaldırılıyor başbakan_yardımcısı ar...\n",
              "3  siyaset    sarıgül anayasa_mahkemesi ne gidiyor mustafa_...\n",
              "4  siyaset    erdoğan idamın bir haklılık sebebi var demek ..."
            ]
          },
          "metadata": {
            "tags": []
          },
          "execution_count": 2
        }
      ]
    },
    {
      "cell_type": "code",
      "metadata": {
        "colab": {
          "base_uri": "https://localhost:8080/"
        },
        "id": "NlBkLpbqOfMD",
        "outputId": "fba7b48d-8582-45cb-94a6-9faae005bcb1"
      },
      "source": [
        "# veri setinin tipi\n",
        "type(df)"
      ],
      "execution_count": null,
      "outputs": [
        {
          "output_type": "execute_result",
          "data": {
            "text/plain": [
              "pandas.core.frame.DataFrame"
            ]
          },
          "metadata": {
            "tags": []
          },
          "execution_count": 3
        }
      ]
    },
    {
      "cell_type": "code",
      "metadata": {
        "colab": {
          "base_uri": "https://localhost:8080/"
        },
        "id": "UAjifTNvTpH9",
        "outputId": "c703befc-8282-4610-f4a7-a45e7b569c62"
      },
      "source": [
        "# veri seti içinde her bir kategorideki metin sayısı\n",
        "df['category'].value_counts()"
      ],
      "execution_count": null,
      "outputs": [
        {
          "output_type": "execute_result",
          "data": {
            "text/plain": [
              "siyaset       700\n",
              "ekonomi       700\n",
              "spor          700\n",
              "dunya         700\n",
              "teknoloji     700\n",
              "saglik        700\n",
              "kultur        700\n",
              "Name: category, dtype: int64"
            ]
          },
          "metadata": {
            "tags": []
          },
          "execution_count": 4
        }
      ]
    },
    {
      "cell_type": "code",
      "metadata": {
        "colab": {
          "base_uri": "https://localhost:8080/"
        },
        "id": "BDIf5p97TXqj",
        "outputId": "2a457fd0-8c0f-4fcd-813e-8bb44752ee40"
      },
      "source": [
        "# veri seti içerisindeki kategori sayısı\n",
        "df['category'].value_counts().count()"
      ],
      "execution_count": null,
      "outputs": [
        {
          "output_type": "execute_result",
          "data": {
            "text/plain": [
              "7"
            ]
          },
          "metadata": {
            "tags": []
          },
          "execution_count": 5
        }
      ]
    },
    {
      "cell_type": "code",
      "metadata": {
        "colab": {
          "base_uri": "https://localhost:8080/",
          "height": 406
        },
        "id": "pe5oSDflRqd7",
        "outputId": "59093ee2-5e46-443b-89c3-e65373d22586"
      },
      "source": [
        "# veri seti\n",
        "df"
      ],
      "execution_count": null,
      "outputs": [
        {
          "output_type": "execute_result",
          "data": {
            "text/html": [
              "<div>\n",
              "<style scoped>\n",
              "    .dataframe tbody tr th:only-of-type {\n",
              "        vertical-align: middle;\n",
              "    }\n",
              "\n",
              "    .dataframe tbody tr th {\n",
              "        vertical-align: top;\n",
              "    }\n",
              "\n",
              "    .dataframe thead th {\n",
              "        text-align: right;\n",
              "    }\n",
              "</style>\n",
              "<table border=\"1\" class=\"dataframe\">\n",
              "  <thead>\n",
              "    <tr style=\"text-align: right;\">\n",
              "      <th></th>\n",
              "      <th>category</th>\n",
              "      <th>text</th>\n",
              "    </tr>\n",
              "  </thead>\n",
              "  <tbody>\n",
              "    <tr>\n",
              "      <th>0</th>\n",
              "      <td>siyaset</td>\n",
              "      <td>3 milyon ile ön seçim vaadi mhp nin 10 olağan...</td>\n",
              "    </tr>\n",
              "    <tr>\n",
              "      <th>1</th>\n",
              "      <td>siyaset</td>\n",
              "      <td>mesut_yılmaz yüce_divan da ceza alabilirdi pr...</td>\n",
              "    </tr>\n",
              "    <tr>\n",
              "      <th>2</th>\n",
              "      <td>siyaset</td>\n",
              "      <td>disko lar kaldırılıyor başbakan_yardımcısı ar...</td>\n",
              "    </tr>\n",
              "    <tr>\n",
              "      <th>3</th>\n",
              "      <td>siyaset</td>\n",
              "      <td>sarıgül anayasa_mahkemesi ne gidiyor mustafa_...</td>\n",
              "    </tr>\n",
              "    <tr>\n",
              "      <th>4</th>\n",
              "      <td>siyaset</td>\n",
              "      <td>erdoğan idamın bir haklılık sebebi var demek ...</td>\n",
              "    </tr>\n",
              "    <tr>\n",
              "      <th>...</th>\n",
              "      <td>...</td>\n",
              "      <td>...</td>\n",
              "    </tr>\n",
              "    <tr>\n",
              "      <th>4895</th>\n",
              "      <td>teknoloji</td>\n",
              "      <td>iphone lara geri dönüyor ios 6 sürümüyle tele...</td>\n",
              "    </tr>\n",
              "    <tr>\n",
              "      <th>4896</th>\n",
              "      <td>teknoloji</td>\n",
              "      <td>muslukta devrim sadece elimizi yıkadığımız mu...</td>\n",
              "    </tr>\n",
              "    <tr>\n",
              "      <th>4897</th>\n",
              "      <td>teknoloji</td>\n",
              "      <td>halka iyi anlatılmalı bilgi_teknolojileri ile...</td>\n",
              "    </tr>\n",
              "    <tr>\n",
              "      <th>4898</th>\n",
              "      <td>teknoloji</td>\n",
              "      <td>çöpe gidiyorlar apple 775 bin uygulamayla app...</td>\n",
              "    </tr>\n",
              "    <tr>\n",
              "      <th>4899</th>\n",
              "      <td>teknoloji</td>\n",
              "      <td>google bu kez edward_gorey dedi ! google bu k...</td>\n",
              "    </tr>\n",
              "  </tbody>\n",
              "</table>\n",
              "<p>4900 rows × 2 columns</p>\n",
              "</div>"
            ],
            "text/plain": [
              "        category                                               text\n",
              "0       siyaset    3 milyon ile ön seçim vaadi mhp nin 10 olağan...\n",
              "1       siyaset    mesut_yılmaz yüce_divan da ceza alabilirdi pr...\n",
              "2       siyaset    disko lar kaldırılıyor başbakan_yardımcısı ar...\n",
              "3       siyaset    sarıgül anayasa_mahkemesi ne gidiyor mustafa_...\n",
              "4       siyaset    erdoğan idamın bir haklılık sebebi var demek ...\n",
              "...          ...                                                ...\n",
              "4895  teknoloji    iphone lara geri dönüyor ios 6 sürümüyle tele...\n",
              "4896  teknoloji    muslukta devrim sadece elimizi yıkadığımız mu...\n",
              "4897  teknoloji    halka iyi anlatılmalı bilgi_teknolojileri ile...\n",
              "4898  teknoloji    çöpe gidiyorlar apple 775 bin uygulamayla app...\n",
              "4899  teknoloji    google bu kez edward_gorey dedi ! google bu k...\n",
              "\n",
              "[4900 rows x 2 columns]"
            ]
          },
          "metadata": {
            "tags": []
          },
          "execution_count": 6
        }
      ]
    },
    {
      "cell_type": "code",
      "metadata": {
        "colab": {
          "base_uri": "https://localhost:8080/",
          "height": 88
        },
        "id": "z5HSGM7BU3NL",
        "outputId": "aacc8e7d-11da-4449-99e0-b4f8a5966758"
      },
      "source": [
        "# ilk metin\n",
        "df['text'][0]"
      ],
      "execution_count": null,
      "outputs": [
        {
          "output_type": "execute_result",
          "data": {
            "application/vnd.google.colaboratory.intrinsic+json": {
              "type": "string"
            },
            "text/plain": [
              "' 3 milyon ile ön seçim vaadi mhp nin 10 olağan büyük kurultayı nda konuşan genel başkan adayı koray_aydın seçimlerden önce partinin üye sayısının 3 milyona ulaştırılması hedefini koyarak ön seçim uygulaması vaadinde bulundu mhp nin 10 olağan büyük kurultayı nda konuşan genel başkan adayı koray_aydın seçimlerden önce partinin üye sayısının 3 milyona ulaştırılması hedefini koyarak ön seçim uygulaması vaadinde bulundu genel_başkan adayı koray_aydın kürsüye beklenirken yapılan tezahüratlar ve ıslıklamalar üzerine divan başkanı tuğrul_türkeş mhp nin genel başkanlığı da genel başkan adaylığı da saygıdeğer işlerdir bu salondaki herkes ciddiye almak zorundadır dedi ve taşkınlıklara izin verilmeyeceğini salonda sükunet sağlanmadan konuşmaların başlamayacağını vurguladı türkeş devlet_bahçeli nin kurultay açılışında konuştuğu için adaylık nedeniyle ikinci bir konuşma yapmayacağını açıkladı konuşmasında kurultayın mhp nin tek başına iktidarına vesile olmasını dileyen aydın ak_parti nin mhp yi eleştirirken kaleleri bir bir fethederek yollarına devam ettiklerini söylediğini hatırlatarak iktidarın basın ve sivil toplumu susturduğunu ifade etti ak_parti nin bürokraside taş üstüne taş bırakmadığını ileri süren aydın ülkücüleri düşman kabule ederek onları kıyma makinelerinden geçirecek bir zihniyetle sürgün ederek oraya buraya saldırarak bürokrasideki ülkücü kadrolara savaş açtılar dedi yaşanan bütün skandalların ardından devleti çete mantığıyla yöneten siyasi iktidarın olduğunu savunan aydın iktidarın belediyelere sahte raporlarla ve dinlemelerle saldırdığını savunan aydın arkasından habur dan içeri soktukları vatan hainlerine karşılama törenleri yetmez gibi oslo da teröristlerle kurdukları pazarlık masalarında suçüstü yakalanınca da ben görmedim diyerek bunu ispat edecek biri varsa şerefle ispat etsin diyerek ses kayıtları çıkınca da kıvırarak sahiplenemeyerek yaptığı işin üzerine şal örtmeye çalışarak siyasi riyakarlıkta sınır tanımayan siyasi iktidarla karşı karşıyayız diye konuştu mintika temizliği yapiyorlar ak_parti nin ne yaptığını iyi bildiğini türkiye de ihtilal teşebbüsü var diyerek ordunun subaylarını yargılama adı altında cezaevine koyduğunu savunan aydın önce milletin bu darbeciler ortadan kalksın diyerek desteklediği sonra plan gereği sürek avına çevirerek türk ordusunun neredeyse yarısını içeri atan bu zihniyet mıntıka temizliği yapıyor kuracakları yeni türkiye modeline engel olmasın diye bunları kaldırıyorlar bu işi haince yapanlar ne zaman ki şehit cenazeleri türkiye yi ağlatmaya başlarken acılarımızla yaşarken türkiye nin başbakanı gerekirse öcalan la yeniden görüşebilirim diyor sayın_başbakan ne görüşeceksin öcalan la ne söyleyeceksin oraya bir masa koymuşsun masanın üstünde türkiye karşında öcalan ne kadar istiyorsun şu kadar versem yeter mi diyeceksin öcalan yüzsüzlük eder de türkiye nin tamamını isterse ne yapacaksın diye konuştu o zaman ne yapacağiz yeni anayasa kapsamında türk milletinin adının anayasadan çıkarılarak bir alt kimlik haline getirileceğini türk milletine etnisite temelli yaklaşılacağını savunan aydın bu_türk milletinin varlığını ötüken de söğüt te türk olan türk milletinin varlığını ortadan kaldırma çabasıdır bu işin sonudur çünkü şu anda kendisiyle benzeşen anamuhalefetle anlaşıp anayasadan türk milletinin adını çıkarırlarsa yapılacak bir şey kalmaz meclis sayısal çoğunlukla yönetiliyor bunlar sinsi her işi alttan alttan götürüyorlar böyle bir adım atar bu büyük milletin adını çıkararak türk milletini bir alt kimlik haline dönüştürürlerse ne yapacağız bunu yaparlarsa 5 yıl 10 yıl sonra bu ülkenin adının türkiye olmasına gerek yoktur derlerse ne yapacağız bu sinsi planı iyi görelim bunu için bir şeyler yapmamız harekete geçmemiz lazım dedi şubat ta 1 milyon olarak toplanirsak … kimsenin türkiye de olanlara arkasını dönemeyeceğini ifade eden aydın özetle şunları söyledi meydanlara ineceğiz türk milletine gideceğiz milletle bütünleşeceğiz onu bekleyen bu tehlikeler hakkında uyaracağız anlatacağız onu yanımıza almaya çalışacağız o büyük gücü harekete geçirir meydanlara iner onların dikkatini çekip yanımıza alırsak şubat ayında 1 milyon olarak toplanırsak hangi vatan hainleri bunu yapmaya cesaret edebilir türk milletinin bunu anlamasını sağlamamız lazım bunun için güçlü bir mhp ye ihtiyaç var 43 yıllık fikri birikimi üzerinden türk milletini bütün problemlerine getireceği çözüm önerilerini bir iktidar projesine dönüştürerek türk milletini karşısına çıkıp iktidar istersek bu coşku ve heyecanı ona aksettirirsek bu millet bu şaşkınlıkla etrafına bakınırken ben nereye bakacağım sorusunu sorarken bu millet elimizi tutacak ve mhp ile yeniden ayağa kalkacaktır hedef 3 milyon üye bu mücadelede ilk doğru adımın ülkücü hareketin birliğini ve dirliğini sağlamak olduğunu kaydeden aydın harekete bir gün bile hizmet etmiş her ülküdaşlarıyla kucaklaşmak ve bir araya gelmek mecburiyetinde olduklarını ifade etti ülkücüleri ülküdaşlık hukuku temelinde kaynaştırmadan büyük hedeflere yürüyemeyeceklerini anlatan aydın bunu temel hareket noktası kabul ediyoruz birey temelli bir hareketin başlaması için önce partide üyelik sistemini bir kampanyaya çevireceğiz seçime kadar 3 milyon üye yaparak ailelerimizin fertlerini genişleteceğiz bunu iller arası yarışa çevireceğiz mhp nin 3 milyon üyeli geniş aile haline gelmesini sağlayacağız dedi önseçim vaadi genel_başkan seçilmesi halinde mhp ailesini genişleteceğini kaydeden aydın bunu yapınca bu 3 milyon kişi kurulan sandıklarla yapacağı bir ön seçimi size vaat ediyorum bunu taban güvenmek demektir böyle bir ön seçim yapıldı mı ankara da kimse genel merkez katlarında dolaşmayacak tabana size gidecek hasta olanın düğünü olanın yanında olacak yere düşeni ayağa kaldıracak böylece bu büyük aile fertleri bir birini anlayacak bu güzel sözün olduğu ortamın inşası demektir bu kötü söz olanın tasfiye edileceği liyakatın esas alınacağı yeni bir sistemin gelmesin demektir bu adımı atar aile fertleri arasında huzuru sağlarsak örgütlenme modelini buna paralel değiştirirsek mhp nin içinde huzur sağlanır diye konuştu bu bir kişiyi korumak için kelle avcısı rolü üstlenip ülküdaşlarını yok farz ederek küskünler ordusu yarattığın bir sitemin anlaşılması demektir diyen aydın mhp her yerde sloganıyla parti içinde hareketlilik sağlayacaklarını halka dokunacaklarını ifade etti ve tabanla bütünleşmiş mhp ye ihtiyaç var bunun içi bir iktidar projesi koyarak aday olduk biz iktidar olmak istiyoruz dedi aydın türk milletinin yalnızlığı yaşadığı bir durumda etrafına bakındığı kendini kaldıracak birini bekleyen türkiye nin mhp nin kendisine ulaşmasıyla yarın elbet bizimdir diye haykıracağını ifade etti haber anka foto emre senoglu murat oztek'"
            ]
          },
          "metadata": {
            "tags": []
          },
          "execution_count": 7
        }
      ]
    },
    {
      "cell_type": "markdown",
      "metadata": {
        "id": "Z8j-4IxG6Ywn"
      },
      "source": [
        "Diğer aşamalarda gerekli olacak kütüphaneler"
      ]
    },
    {
      "cell_type": "code",
      "metadata": {
        "colab": {
          "base_uri": "https://localhost:8080/"
        },
        "id": "TmwEPVbW6dmx",
        "outputId": "ae7705b3-60cf-4e14-aee1-e5e1d4d28630"
      },
      "source": [
        "# gerekli kütüphaneler\n",
        "import matplotlib.pyplot as plt\n",
        "import numpy as np # linear algebra\n",
        "import tensorflow as tf\n",
        "import re # regular expression libary\n",
        "import seaborn as sns \n",
        "import nltk # Natural Language toolkit\n",
        "nltk.download(\"stopwords\")  #downloading stopwords\n",
        "from nltk.corpus import stopwords\n",
        "from sklearn import preprocessing\n",
        "from sklearn.model_selection import train_test_split\n",
        "from tensorflow.keras.preprocessing.text import Tokenizer\n",
        "from tensorflow.keras.preprocessing.sequence import pad_sequences \n",
        "from sklearn.metrics import confusion_matrix,accuracy_score,classification_report,precision_score"
      ],
      "execution_count": null,
      "outputs": [
        {
          "output_type": "stream",
          "text": [
            "[nltk_data] Downloading package stopwords to /root/nltk_data...\n",
            "[nltk_data]   Unzipping corpora/stopwords.zip.\n"
          ],
          "name": "stdout"
        }
      ]
    },
    {
      "cell_type": "markdown",
      "metadata": {
        "id": "8D1tt3gHdnZ0"
      },
      "source": [
        "# Derin Öğrenmeyle Türkçe Metin Sınıflandırma \n",
        "**Turkish Text Classification with Deep Learning**\n",
        "\n",
        "İlgili Derin Öğrenme kodu kaggle'dan çekilmiştir. Bunun dışında daha farklı çözüm yöntemleri de orada bulunuyor. Onlar da alternatif olarak denenebilir. Aralara kendi yorumlarımı, açıklamalarımı ekledim.\n",
        "\n",
        "Özellikle bunu seçmemin nedeni modeli kendimiz oluşturduğumuz için daha net anlaşılır, kafada soru işareti daha az kalır diye düşünüyorum.\n"
      ]
    },
    {
      "cell_type": "code",
      "metadata": {
        "colab": {
          "base_uri": "https://localhost:8080/"
        },
        "id": "AuhNVaJ1dwoc",
        "outputId": "989270b0-5f24-460c-bc05-99e4ee9badf5"
      },
      "source": [
        "# orijinal veri seti üzerinde değişiklik yapmamak için kopyasını alıyoruz\n",
        "df_copy=df.copy()\n",
        "new_dataset = df_copy.text.copy()\n",
        "new_dataset.head()"
      ],
      "execution_count": null,
      "outputs": [
        {
          "output_type": "execute_result",
          "data": {
            "text/plain": [
              "0     3 milyon ile ön seçim vaadi mhp nin 10 olağan...\n",
              "1     mesut_yılmaz yüce_divan da ceza alabilirdi pr...\n",
              "2     disko lar kaldırılıyor başbakan_yardımcısı ar...\n",
              "3     sarıgül anayasa_mahkemesi ne gidiyor mustafa_...\n",
              "4     erdoğan idamın bir haklılık sebebi var demek ...\n",
              "Name: text, dtype: object"
            ]
          },
          "metadata": {
            "tags": []
          },
          "execution_count": 47
        }
      ]
    },
    {
      "cell_type": "code",
      "metadata": {
        "id": "DsQuItZPeYYL"
      },
      "source": [
        "# metinleri x listesine kaydediyoruz\n",
        "x_list=[] # store text in this list\n",
        "\n",
        "# veri seti içerisindeki her bir metne bakıyor\n",
        "for text in new_dataset:\n",
        "    text = text.lower() # büyük harften küçük harfe çevirme\n",
        "    # türkçe karakterler\n",
        "    text = re.sub(\"[^abcçdefgğhıijklmnoöprsştuüvyz]\",\" \",text)\n",
        "    text = text.split()\n",
        "    text =[word for word in text if not word in set(stopwords.words(\"turkish\"))]\n",
        "    text=\" \".join(text)\n",
        "    x_list.append(text) # store sentences in list"
      ],
      "execution_count": null,
      "outputs": []
    },
    {
      "cell_type": "code",
      "metadata": {
        "colab": {
          "base_uri": "https://localhost:8080/"
        },
        "id": "yvTfoSqUkaOi",
        "outputId": "dc8a2b8b-ba6a-46ac-dc54-be407a7cfc4e"
      },
      "source": [
        "# metinleri sayısallaştırıyoruz\n",
        "# One-Hot Encoder yerine Label Encoder kullanıyoruz\n",
        "le = preprocessing.LabelEncoder()\n",
        "labels=le.fit_transform(df_copy.category)\n",
        "labels # kategorilerimizi sayısallaştırdık"
      ],
      "execution_count": null,
      "outputs": [
        {
          "output_type": "execute_result",
          "data": {
            "text/plain": [
              "array([4, 4, 4, ..., 6, 6, 6])"
            ]
          },
          "metadata": {
            "tags": []
          },
          "execution_count": 54
        }
      ]
    },
    {
      "cell_type": "code",
      "metadata": {
        "id": "-7Dr6GY_jtsP"
      },
      "source": [
        "# etiketlerden oluşan list'i oluşturuyoruz\n",
        "y_label=[]\n",
        "\n",
        "for i in labels:\n",
        "    y_label.append(i)"
      ],
      "execution_count": null,
      "outputs": []
    },
    {
      "cell_type": "code",
      "metadata": {
        "colab": {
          "base_uri": "https://localhost:8080/"
        },
        "id": "8RtNXWU5fK4L",
        "outputId": "a857959f-c72f-4ce4-8dc0-852cd5adfd3d"
      },
      "source": [
        "y_label[0:10]"
      ],
      "execution_count": null,
      "outputs": [
        {
          "output_type": "execute_result",
          "data": {
            "text/plain": [
              "[4, 4, 4, 4, 4, 4, 4, 4, 4, 4]"
            ]
          },
          "metadata": {
            "tags": []
          },
          "execution_count": 56
        }
      ]
    },
    {
      "cell_type": "code",
      "metadata": {
        "id": "e_0lxGK_jz6I"
      },
      "source": [
        "# ilgili veriyi yüzde 20si test veri seti olacak şekilde train ve test olarak etiketleriyle beraber ayırıyoruz\n",
        "X_train, X_test, y_train, y_test = train_test_split(x_list, y_label, test_size=0.2, random_state=42,shuffle=True)"
      ],
      "execution_count": null,
      "outputs": []
    },
    {
      "cell_type": "code",
      "metadata": {
        "colab": {
          "base_uri": "https://localhost:8080/"
        },
        "id": "3ib-0jONj0Fy",
        "outputId": "11d6606c-2825-48ae-8e6b-f3cf9c46a767"
      },
      "source": [
        "# burada da görülebileceği üzere yüzde 20si test, yüzde80i train olarak ayrıldı\n",
        "print(len(X_train)) # 3920 sentences\n",
        "print(len(y_train)) #3920 Labels\n",
        "print(len(X_test))  # 980 sentences\n",
        "print(len(y_test)) # 980 labels"
      ],
      "execution_count": null,
      "outputs": [
        {
          "output_type": "stream",
          "text": [
            "3920\n",
            "3920\n",
            "980\n",
            "980\n"
          ],
          "name": "stdout"
        }
      ]
    },
    {
      "cell_type": "code",
      "metadata": {
        "colab": {
          "base_uri": "https://localhost:8080/"
        },
        "id": "Bg4tld9Yj2U-",
        "outputId": "d4c968eb-24a8-40f4-cff5-84619aae098a"
      },
      "source": [
        "# Tokenization işlemiyle kelimelerin ayrılması\n",
        "# çıktı olarak toplamda 94836 kelime elde ediyoruz\n",
        "max_lenght=100\n",
        "\n",
        "tokenizer = Tokenizer() \n",
        "tokenizer.fit_on_texts(X_train)\n",
        "\n",
        "word_index = tokenizer.word_index # creating word dict for words in training\n",
        "sequences = tokenizer.texts_to_sequences(X_train)  # replacing words with the number corresponding to them in the dictionary(word_index)\n",
        "\n",
        "X_train_padded = pad_sequences(sequences, padding='post',maxlen=max_lenght) # padding words\n",
        "\n",
        "print(len(word_index)) # I have 94836 words in my dictionary"
      ],
      "execution_count": null,
      "outputs": [
        {
          "output_type": "stream",
          "text": [
            "94836\n"
          ],
          "name": "stdout"
        }
      ]
    },
    {
      "cell_type": "code",
      "metadata": {
        "colab": {
          "base_uri": "https://localhost:8080/"
        },
        "id": "nnTA4x8Rj4fn",
        "outputId": "2b62698c-62a4-473e-df27-da81606adb7e"
      },
      "source": [
        "print(\"Original Version:\",X_train[0])\n",
        "print(\"---------------------------------\")\n",
        "print(\"Padded version\",X_train_padded[0]) \n",
        "print(\"---------------------------------\")\n",
        "print(\"Tokenized version:\",sequences[0])  # change words with number that corresponding to word word_index\n",
        "print(\"---------------------------------\")\n",
        "print(\"Shape after the padding:\",X_train_padded.shape) # make our input same size"
      ],
      "execution_count": null,
      "outputs": [
        {
          "output_type": "stream",
          "text": [
            "Original Version: internet e plorer un son versiyonu hazırlanıyor microsoft internet e plorer tarayıcısının son sürümünü milyondan fazla bilgisayar kullanıcısına ulaştırmak son hazırlıklarını yapıyor microsoft ürettikleri işletim sistemlerinden bilgisayar kullanıcıları tarafından tercih edilen indo s kullanıcılarının internet e plorer tarayıcısını kullanabileceğini bildirdi indo s kullanıcıları geçen yılın kasım ayının ortalarından itibaren internet e plorer un ön sürümünü internetten yükleyebiliyor internet e plorer un son sürümü indo s kullanıcılarına otomatik güncelleme olarak gönderilecek son tarayıcının kasım ayında piyasaya sürülen indo s e sahip bilgisayarların içine kurulduğu belirtildi\n",
            "---------------------------------\n",
            "Padded version [  113    27  8057    50    20  7270  2457  1162   113    27  8057 37497\n",
            "    20 18044  3903    52   671 18045 13109    20  5572   631  1162 11186\n",
            "  1428 24119   671  2458    33   471   151  1445   187  2904   113    27\n",
            "  8057 54140 37498   282  1445   187  2458    68   209    76  4798 54141\n",
            "   352   113    27  8057    50   708 18044  3782 37499   113    27  8057\n",
            "    50    20  6271  1445   187  4621  3321  9073     4 16043    20 37500\n",
            "    76   234   864  4237  1445   187    27    91  5766  1055  5380   358\n",
            "     0     0     0     0     0     0     0     0     0     0     0     0\n",
            "     0     0     0     0]\n",
            "---------------------------------\n",
            "Tokenized version: [113, 27, 8057, 50, 20, 7270, 2457, 1162, 113, 27, 8057, 37497, 20, 18044, 3903, 52, 671, 18045, 13109, 20, 5572, 631, 1162, 11186, 1428, 24119, 671, 2458, 33, 471, 151, 1445, 187, 2904, 113, 27, 8057, 54140, 37498, 282, 1445, 187, 2458, 68, 209, 76, 4798, 54141, 352, 113, 27, 8057, 50, 708, 18044, 3782, 37499, 113, 27, 8057, 50, 20, 6271, 1445, 187, 4621, 3321, 9073, 4, 16043, 20, 37500, 76, 234, 864, 4237, 1445, 187, 27, 91, 5766, 1055, 5380, 358]\n",
            "---------------------------------\n",
            "Shape after the padding: (3920, 100)\n"
          ],
          "name": "stdout"
        }
      ]
    },
    {
      "cell_type": "code",
      "metadata": {
        "id": "wZraVcfij6TH"
      },
      "source": [
        "X_test_sequences = tokenizer.texts_to_sequences(X_test)\n",
        "X_test_padded = pad_sequences(X_test_sequences,padding=\"post\",maxlen=max_lenght)"
      ],
      "execution_count": null,
      "outputs": []
    },
    {
      "cell_type": "code",
      "metadata": {
        "colab": {
          "base_uri": "https://localhost:8080/"
        },
        "id": "1J8Loc2Rj78K",
        "outputId": "76f3128f-ecac-4379-96cb-daf45f008c8b"
      },
      "source": [
        "print(\"Original Version:\",X_test[0])\n",
        "print(\"---------------------------------\")\n",
        "print(\"Padded version\",X_test_padded[0])   # make inputs same size\n",
        "print(\"---------------------------------\")\n",
        "print(\"Tokenized version:\",X_test_sequences[0]) # change words with number that corresponding to word word_index\n",
        "print(\"---------------------------------\")\n",
        "print(\"Shape after the padding:\",X_test_padded.shape) # make inputs same size"
      ],
      "execution_count": null,
      "outputs": [
        {
          "output_type": "stream",
          "text": [
            "Original Version: acıların kedisi sam çatık kaşlı kedi sam in internetteki yükselişi sürüyor sam in kaşlarının boya olmadığı kesinleşirken acıların kedisi görünümle hayvanın instagram hesabı popülerliliğini artırıyor\n",
            "---------------------------------\n",
            "Padded version [21442 74989 43332 25561 13814 43332     8 14911 13820  1535 43332     8\n",
            "  5769   670 21442 74989 69295 11068  2807  3625  3873     0     0     0\n",
            "     0     0     0     0     0     0     0     0     0     0     0     0\n",
            "     0     0     0     0     0     0     0     0     0     0     0     0\n",
            "     0     0     0     0     0     0     0     0     0     0     0     0\n",
            "     0     0     0     0     0     0     0     0     0     0     0     0\n",
            "     0     0     0     0     0     0     0     0     0     0     0     0\n",
            "     0     0     0     0     0     0     0     0     0     0     0     0\n",
            "     0     0     0     0]\n",
            "---------------------------------\n",
            "Tokenized version: [21442, 74989, 43332, 25561, 13814, 43332, 8, 14911, 13820, 1535, 43332, 8, 5769, 670, 21442, 74989, 69295, 11068, 2807, 3625, 3873]\n",
            "---------------------------------\n",
            "Shape after the padding: (980, 100)\n"
          ],
          "name": "stdout"
        }
      ]
    },
    {
      "cell_type": "code",
      "metadata": {
        "colab": {
          "base_uri": "https://localhost:8080/"
        },
        "id": "nw3907hrj_Gs",
        "outputId": "2d545d08-c39a-43e5-b0f2-dcc5b5c0d774"
      },
      "source": [
        "# Modeli oluşturduğumuz bölüm\n",
        "# Çıktımız softmax, 7 sınıf - kategori\n",
        "\n",
        "vocab_size = len(tokenizer.word_index)+1\n",
        "embedding_dim=16\n",
        "\n",
        "model = tf.keras.Sequential([\n",
        "    \n",
        "    tf.keras.layers.Embedding(vocab_size, embedding_dim, input_length=100),\n",
        "    \n",
        "    tf.keras.layers.Bidirectional(tf.keras.layers.LSTM(64)),\n",
        "    tf.keras.layers.Dropout(0.3),\n",
        "    tf.keras.layers.BatchNormalization(),\n",
        "    \n",
        "    tf.keras.layers.Flatten(),\n",
        "    \n",
        "    tf.keras.layers.Dense(64, activation='relu'),\n",
        "    tf.keras.layers.BatchNormalization(),\n",
        "    tf.keras.layers.Dropout(0.2),\n",
        "    \n",
        "    tf.keras.layers.Dense(7, activation='softmax')\n",
        "])\n",
        "\n",
        "adam= tf.keras.optimizers.Adam(lr=0.01) \n",
        "\n",
        "\n",
        "model.compile(loss='sparse_categorical_crossentropy',optimizer=adam,metrics=['accuracy'])\n",
        "model.summary()"
      ],
      "execution_count": null,
      "outputs": [
        {
          "output_type": "stream",
          "text": [
            "Model: \"sequential\"\n",
            "_________________________________________________________________\n",
            "Layer (type)                 Output Shape              Param #   \n",
            "=================================================================\n",
            "embedding (Embedding)        (None, 100, 16)           1517392   \n",
            "_________________________________________________________________\n",
            "bidirectional (Bidirectional (None, 128)               41472     \n",
            "_________________________________________________________________\n",
            "dropout (Dropout)            (None, 128)               0         \n",
            "_________________________________________________________________\n",
            "batch_normalization (BatchNo (None, 128)               512       \n",
            "_________________________________________________________________\n",
            "flatten (Flatten)            (None, 128)               0         \n",
            "_________________________________________________________________\n",
            "dense (Dense)                (None, 64)                8256      \n",
            "_________________________________________________________________\n",
            "batch_normalization_1 (Batch (None, 64)                256       \n",
            "_________________________________________________________________\n",
            "dropout_1 (Dropout)          (None, 64)                0         \n",
            "_________________________________________________________________\n",
            "dense_1 (Dense)              (None, 7)                 455       \n",
            "=================================================================\n",
            "Total params: 1,568,343\n",
            "Trainable params: 1,567,959\n",
            "Non-trainable params: 384\n",
            "_________________________________________________________________\n"
          ],
          "name": "stdout"
        }
      ]
    },
    {
      "cell_type": "code",
      "metadata": {
        "id": "lGqSGOXUj_oA"
      },
      "source": [
        "y_train_label=np.asarray(y_train).reshape(-1,1)\n",
        "y_test_label=np.asarray(y_test).reshape(-1,1)"
      ],
      "execution_count": null,
      "outputs": []
    },
    {
      "cell_type": "code",
      "metadata": {
        "colab": {
          "base_uri": "https://localhost:8080/"
        },
        "id": "bG4xEXWskCIg",
        "outputId": "d16466c1-0565-4ae0-c4ee-364dc1251fe8"
      },
      "source": [
        "# Model Eğitimi - Epoch - Batch Size\n",
        "# Training veri seti burada validation için bölünüyor\n",
        "num_epochs = 10\n",
        "BATCH_SIZE=64\n",
        "history=model.fit(X_train_padded,y_train_label,batch_size=BATCH_SIZE ,epochs=num_epochs, validation_data=(X_test_padded,y_test_label))"
      ],
      "execution_count": null,
      "outputs": [
        {
          "output_type": "stream",
          "text": [
            "Epoch 1/10\n",
            "62/62 [==============================] - 12s 132ms/step - loss: 2.2800 - accuracy: 0.1854 - val_loss: 1.7761 - val_accuracy: 0.3082\n",
            "Epoch 2/10\n",
            "62/62 [==============================] - 7s 119ms/step - loss: 0.7790 - accuracy: 0.7256 - val_loss: 1.2230 - val_accuracy: 0.6306\n",
            "Epoch 3/10\n",
            "62/62 [==============================] - 7s 118ms/step - loss: 0.1805 - accuracy: 0.9482 - val_loss: 0.9297 - val_accuracy: 0.7133\n",
            "Epoch 4/10\n",
            "62/62 [==============================] - 7s 120ms/step - loss: 0.0417 - accuracy: 0.9915 - val_loss: 0.8044 - val_accuracy: 0.7235\n",
            "Epoch 5/10\n",
            "62/62 [==============================] - 7s 117ms/step - loss: 0.0209 - accuracy: 0.9966 - val_loss: 0.7773 - val_accuracy: 0.7418\n",
            "Epoch 6/10\n",
            "62/62 [==============================] - 7s 118ms/step - loss: 0.0241 - accuracy: 0.9924 - val_loss: 0.7749 - val_accuracy: 0.7510\n",
            "Epoch 7/10\n",
            "62/62 [==============================] - 7s 119ms/step - loss: 0.0412 - accuracy: 0.9900 - val_loss: 0.8682 - val_accuracy: 0.7714\n",
            "Epoch 8/10\n",
            "62/62 [==============================] - 7s 119ms/step - loss: 0.0183 - accuracy: 0.9955 - val_loss: 0.9017 - val_accuracy: 0.7531\n",
            "Epoch 9/10\n",
            "62/62 [==============================] - 7s 118ms/step - loss: 0.0152 - accuracy: 0.9977 - val_loss: 0.9636 - val_accuracy: 0.7694\n",
            "Epoch 10/10\n",
            "62/62 [==============================] - 7s 118ms/step - loss: 0.0317 - accuracy: 0.9911 - val_loss: 1.0947 - val_accuracy: 0.7378\n"
          ],
          "name": "stdout"
        }
      ]
    },
    {
      "cell_type": "code",
      "metadata": {
        "colab": {
          "base_uri": "https://localhost:8080/",
          "height": 281
        },
        "id": "_tJVEIxXkCUq",
        "outputId": "52744608-5763-4707-885c-0b8879afb0eb"
      },
      "source": [
        "# Train Accuracy - Train Loss Grafiği\n",
        "plt.plot(history.history[\"accuracy\"],color=\"green\")\n",
        "plt.plot(history.history[\"loss\"],color=\"red\")\n",
        "plt.title(\"Train accuracy and Train loss\")\n",
        "plt.legend([\"Accuracy\",\"Loss\"])\n",
        "plt.grid()"
      ],
      "execution_count": null,
      "outputs": [
        {
          "output_type": "display_data",
          "data": {
            "image/png": "[encoded data removed]",
            "text/plain": [
              "<Figure size 432x288 with 1 Axes>"
            ]
          },
          "metadata": {
            "tags": [],
            "needs_background": "light"
          }
        }
      ]
    },
    {
      "cell_type": "code",
      "metadata": {
        "colab": {
          "base_uri": "https://localhost:8080/",
          "height": 281
        },
        "id": "PYAIYopDkEyQ",
        "outputId": "0967b7ef-86de-4127-b1b3-88d8603a8079"
      },
      "source": [
        "# Validation Accuracy - Validation Loss Grafiği\n",
        "plt.plot(history.history[\"val_accuracy\"],color=\"blue\")\n",
        "plt.plot(history.history[\"val_loss\"],color=\"orange\")\n",
        "plt.title(\"Test accuracy and Test loss\")\n",
        "plt.legend([\"Val_accuracy\",\"Val_loss\"])\n",
        "plt.grid()"
      ],
      "execution_count": null,
      "outputs": [
        {
          "output_type": "display_data",
          "data": {
            "image/png": "[encoded data removed]",
            "text/plain": [
              "<Figure size 432x288 with 1 Axes>"
            ]
          },
          "metadata": {
            "tags": [],
            "needs_background": "light"
          }
        }
      ]
    },
    {
      "cell_type": "code",
      "metadata": {
        "colab": {
          "base_uri": "https://localhost:8080/"
        },
        "id": "p8v6_siOkGBO",
        "outputId": "ded62abf-567a-41c6-b9c5-9842adb7c95d"
      },
      "source": [
        "print(\"Accuracy of the model on Training Data is - \" , model.evaluate(X_train_padded,y_train_label)[1]*100 , \"%\")\n",
        "print(\"Accuracy of the model on Testing Data is - \" , model.evaluate(X_test_padded,y_test_label)[1]*100 , \"%\")"
      ],
      "execution_count": null,
      "outputs": [
        {
          "output_type": "stream",
          "text": [
            "123/123 [==============================] - 2s 17ms/step - loss: 0.0117 - accuracy: 0.9972\n",
            "Accuracy of the model on Training Data is -  99.71938729286194 %\n",
            "31/31 [==============================] - 1s 16ms/step - loss: 1.0947 - accuracy: 0.7378\n",
            "Accuracy of the model on Testing Data is -  73.77551198005676 %\n"
          ],
          "name": "stdout"
        }
      ]
    },
    {
      "cell_type": "markdown",
      "metadata": {
        "id": "4kGpQavy2eBi"
      },
      "source": [
        "Model eğitimi sonunda elde ettiğimiz grafiklerden yola çıkarak model çok kısa bir sürede veri setini ezberlemiş durumdadır."
      ]
    },
    {
      "cell_type": "code",
      "metadata": {
        "colab": {
          "base_uri": "https://localhost:8080/"
        },
        "id": "eXRBRxRtkHgZ",
        "outputId": "a2590ffb-ce50-4e50-ce27-d238331365cc"
      },
      "source": [
        "# Test aşaması\n",
        "pred = model.predict_classes(X_test_padded)"
      ],
      "execution_count": null,
      "outputs": [
        {
          "output_type": "stream",
          "text": [
            "/usr/local/lib/python3.7/dist-packages/tensorflow/python/keras/engine/sequential.py:450: UserWarning: `model.predict_classes()` is deprecated and will be removed after 2021-01-01. Please use instead:* `np.argmax(model.predict(x), axis=-1)`,   if your model does multi-class classification   (e.g. if it uses a `softmax` last-layer activation).* `(model.predict(x) > 0.5).astype(\"int32\")`,   if your model does binary classification   (e.g. if it uses a `sigmoid` last-layer activation).\n",
            "  warnings.warn('`model.predict_classes()` is deprecated and '\n"
          ],
          "name": "stderr"
        }
      ]
    },
    {
      "cell_type": "code",
      "metadata": {
        "colab": {
          "base_uri": "https://localhost:8080/"
        },
        "id": "gGmxDV3ekKp9",
        "outputId": "9c53c6b8-5c37-419a-99d1-31e1c6b03edc"
      },
      "source": [
        "# tahmin edilen sınıflar\n",
        "pred[10:20]"
      ],
      "execution_count": null,
      "outputs": [
        {
          "output_type": "execute_result",
          "data": {
            "text/plain": [
              "array([3, 6, 4, 0, 6, 5, 3, 4, 1, 6])"
            ]
          },
          "metadata": {
            "tags": []
          },
          "execution_count": 75
        }
      ]
    },
    {
      "cell_type": "code",
      "metadata": {
        "colab": {
          "base_uri": "https://localhost:8080/"
        },
        "id": "L-ZP7_BmkMa8",
        "outputId": "b6fe58ce-8e3d-4d36-afea-77ea598bab79"
      },
      "source": [
        "# gerçekte olması gereken sınıflar\n",
        "y_test_label[10:20]"
      ],
      "execution_count": null,
      "outputs": [
        {
          "output_type": "execute_result",
          "data": {
            "text/plain": [
              "array([[3],\n",
              "       [4],\n",
              "       [4],\n",
              "       [0],\n",
              "       [6],\n",
              "       [5],\n",
              "       [3],\n",
              "       [3],\n",
              "       [0],\n",
              "       [6]])"
            ]
          },
          "metadata": {
            "tags": []
          },
          "execution_count": 76
        }
      ]
    },
    {
      "cell_type": "markdown",
      "metadata": {
        "id": "ik3Laf2k268c"
      },
      "source": [
        "Tahmin  Sonucu:         3 - 6 - 4 - 0 - 6 - 5 - 3 - 4 - 1 - 6 \n",
        "\n",
        "Olması Gereken: 3 - 4 - 4 - 0 - 6 - 5 - 3 - 3 - 0 - 6\n"
      ]
    },
    {
      "cell_type": "code",
      "metadata": {
        "colab": {
          "base_uri": "https://localhost:8080/",
          "height": 610
        },
        "id": "fH-aglI5kNsi",
        "outputId": "cc24a6b7-d995-40fa-e2c6-707fd65fe6cf"
      },
      "source": [
        "# Karışıklık Matrisi - Confusion Matrix\n",
        "cm = confusion_matrix(y_test,pred)\n",
        "plt.figure(figsize=(10,10))\n",
        "sns.heatmap(cm,annot=True,linecolor=\"white\",fmt='')"
      ],
      "execution_count": null,
      "outputs": [
        {
          "output_type": "execute_result",
          "data": {
            "text/plain": [
              "<matplotlib.axes._subplots.AxesSubplot at 0x7fe8c765a190>"
            ]
          },
          "metadata": {
            "tags": []
          },
          "execution_count": 78
        },
        {
          "output_type": "display_data",
          "data": {
            "image/png": "[encoded data removed]",
            "text/plain": [
              "<Figure size 720x720 with 2 Axes>"
            ]
          },
          "metadata": {
            "tags": [],
            "needs_background": "light"
          }
        }
      ]
    },
    {
      "cell_type": "markdown",
      "metadata": {
        "id": "yjkAXbW74QWz"
      },
      "source": [
        "İlgili matrise bakarak genel olarak doğru bir değerlendirme yapıldığı gözüküyor, her bir sınıfa karşılık gelen sınıfa bakarak değerlendirilebilir. Net bir değerlendirme yapmak için Precision, Recall ve f1-score değerlerine bakılarak modelin başarısı hakkında daha iyi yorum yapılabilir."
      ]
    },
    {
      "cell_type": "code",
      "metadata": {
        "colab": {
          "base_uri": "https://localhost:8080/"
        },
        "id": "nM-BcxoUkR1m",
        "outputId": "51b856a5-b54b-4a94-868c-3b9ad53d81eb"
      },
      "source": [
        "# Diğer model değerlendirme metrikleri de her bir kategori için aşağıdaki gibidir\n",
        "print(classification_report(y_test_label,pred)) # model is better when classify 3 and 5 classes"
      ],
      "execution_count": null,
      "outputs": [
        {
          "output_type": "stream",
          "text": [
            "              precision    recall  f1-score   support\n",
            "\n",
            "           0       0.70      0.56      0.62       131\n",
            "           1       0.64      0.63      0.64       142\n",
            "           2       0.86      0.69      0.76       139\n",
            "           3       0.87      0.85      0.86       122\n",
            "           4       0.66      0.68      0.67       158\n",
            "           5       0.81      0.93      0.86       147\n",
            "           6       0.68      0.82      0.74       141\n",
            "\n",
            "    accuracy                           0.74       980\n",
            "   macro avg       0.74      0.74      0.74       980\n",
            "weighted avg       0.74      0.74      0.74       980\n",
            "\n"
          ],
          "name": "stdout"
        }
      ]
    },
    {
      "cell_type": "markdown",
      "metadata": {
        "id": "wMLgfJPW6NqA"
      },
      "source": [
        "# XGBoost"
      ]
    },
    {
      "cell_type": "markdown",
      "metadata": {
        "id": "6U8G9wp6YDsU"
      },
      "source": [
        "Bu bölüm de aynı şekilde Kaggle'dan çekilmiştir. Ben sadece biraz düzenledim, yorum ve açıklamalar ekledim."
      ]
    },
    {
      "cell_type": "code",
      "metadata": {
        "colab": {
          "base_uri": "https://localhost:8080/",
          "height": 197
        },
        "id": "OpROi8317ON5",
        "outputId": "ceb53b65-8329-4ac5-fcad-f794184660bd"
      },
      "source": [
        "# orijinal veri seti üzerinde değişiklik yapmamak için kopyasını alıyoruz\n",
        "df_copy=df.copy()\n",
        "df_copy.head()"
      ],
      "execution_count": null,
      "outputs": [
        {
          "output_type": "execute_result",
          "data": {
            "text/html": [
              "<div>\n",
              "<style scoped>\n",
              "    .dataframe tbody tr th:only-of-type {\n",
              "        vertical-align: middle;\n",
              "    }\n",
              "\n",
              "    .dataframe tbody tr th {\n",
              "        vertical-align: top;\n",
              "    }\n",
              "\n",
              "    .dataframe thead th {\n",
              "        text-align: right;\n",
              "    }\n",
              "</style>\n",
              "<table border=\"1\" class=\"dataframe\">\n",
              "  <thead>\n",
              "    <tr style=\"text-align: right;\">\n",
              "      <th></th>\n",
              "      <th>category</th>\n",
              "      <th>text</th>\n",
              "    </tr>\n",
              "  </thead>\n",
              "  <tbody>\n",
              "    <tr>\n",
              "      <th>0</th>\n",
              "      <td>siyaset</td>\n",
              "      <td>3 milyon ile ön seçim vaadi mhp nin 10 olağan...</td>\n",
              "    </tr>\n",
              "    <tr>\n",
              "      <th>1</th>\n",
              "      <td>siyaset</td>\n",
              "      <td>mesut_yılmaz yüce_divan da ceza alabilirdi pr...</td>\n",
              "    </tr>\n",
              "    <tr>\n",
              "      <th>2</th>\n",
              "      <td>siyaset</td>\n",
              "      <td>disko lar kaldırılıyor başbakan_yardımcısı ar...</td>\n",
              "    </tr>\n",
              "    <tr>\n",
              "      <th>3</th>\n",
              "      <td>siyaset</td>\n",
              "      <td>sarıgül anayasa_mahkemesi ne gidiyor mustafa_...</td>\n",
              "    </tr>\n",
              "    <tr>\n",
              "      <th>4</th>\n",
              "      <td>siyaset</td>\n",
              "      <td>erdoğan idamın bir haklılık sebebi var demek ...</td>\n",
              "    </tr>\n",
              "  </tbody>\n",
              "</table>\n",
              "</div>"
            ],
            "text/plain": [
              "   category                                               text\n",
              "0  siyaset    3 milyon ile ön seçim vaadi mhp nin 10 olağan...\n",
              "1  siyaset    mesut_yılmaz yüce_divan da ceza alabilirdi pr...\n",
              "2  siyaset    disko lar kaldırılıyor başbakan_yardımcısı ar...\n",
              "3  siyaset    sarıgül anayasa_mahkemesi ne gidiyor mustafa_...\n",
              "4  siyaset    erdoğan idamın bir haklılık sebebi var demek ..."
            ]
          },
          "metadata": {
            "tags": []
          },
          "execution_count": 36
        }
      ]
    },
    {
      "cell_type": "code",
      "metadata": {
        "colab": {
          "base_uri": "https://localhost:8080/",
          "height": 352
        },
        "id": "LGful9Y17RUn",
        "outputId": "0fb580a9-7af4-4f9d-f848-f1b358af6d00"
      },
      "source": [
        "# veriyi görselleştirme\n",
        "sns.countplot(\"category\",data=df_copy)"
      ],
      "execution_count": null,
      "outputs": [
        {
          "output_type": "stream",
          "text": [
            "/usr/local/lib/python3.7/dist-packages/seaborn/_decorators.py:43: FutureWarning: Pass the following variable as a keyword arg: x. From version 0.12, the only valid positional argument will be `data`, and passing other arguments without an explicit keyword will result in an error or misinterpretation.\n",
            "  FutureWarning\n"
          ],
          "name": "stderr"
        },
        {
          "output_type": "execute_result",
          "data": {
            "text/plain": [
              "<matplotlib.axes._subplots.AxesSubplot at 0x7f6547d900d0>"
            ]
          },
          "metadata": {
            "tags": []
          },
          "execution_count": 37
        },
        {
          "output_type": "display_data",
          "data": {
            "image/png": "[encoded data removed]",
            "text/plain": [
              "<Figure size 432x288 with 1 Axes>"
            ]
          },
          "metadata": {
            "tags": [],
            "needs_background": "light"
          }
        }
      ]
    },
    {
      "cell_type": "code",
      "metadata": {
        "colab": {
          "base_uri": "https://localhost:8080/"
        },
        "id": "h8VlfOi38F-_",
        "outputId": "e154b219-afbe-43e6-a5bf-1780a62820a5"
      },
      "source": [
        "# metinleri sayısallaştırıyoruz\n",
        "# One-Hot Encoder yerine Label Encoder kullanıyoruz\n",
        "le = preprocessing.LabelEncoder()\n",
        "labels=le.fit_transform(df_copy.category)\n",
        "labels # kategorilerimizi sayısallaştırdık"
      ],
      "execution_count": null,
      "outputs": [
        {
          "output_type": "execute_result",
          "data": {
            "text/plain": [
              "array([4, 4, 4, ..., 6, 6, 6])"
            ]
          },
          "metadata": {
            "tags": []
          },
          "execution_count": 38
        }
      ]
    },
    {
      "cell_type": "code",
      "metadata": {
        "colab": {
          "base_uri": "https://localhost:8080/"
        },
        "id": "6j0vt2D3-6gB",
        "outputId": "0c8812c4-5ce8-41d5-e784-28cbed715ae5"
      },
      "source": [
        "import nltk\n",
        "import nltk as nlp\n",
        "nltk.download('punkt')\n",
        "nltk.download('wordnet')"
      ],
      "execution_count": null,
      "outputs": [
        {
          "output_type": "stream",
          "text": [
            "[nltk_data] Downloading package punkt to /root/nltk_data...\n",
            "[nltk_data]   Package punkt is already up-to-date!\n",
            "[nltk_data] Downloading package wordnet to /root/nltk_data...\n",
            "[nltk_data]   Package wordnet is already up-to-date!\n"
          ],
          "name": "stdout"
        },
        {
          "output_type": "execute_result",
          "data": {
            "text/plain": [
              "True"
            ]
          },
          "metadata": {
            "tags": []
          },
          "execution_count": 39
        }
      ]
    },
    {
      "cell_type": "code",
      "metadata": {
        "id": "Ssr_HSEl7YTB"
      },
      "source": [
        "# metinleri x listesine kaydediyoruz\n",
        "text_list=[] # store text in this list\n",
        "\n",
        "# veri seti içerisindeki her bir metne bakıyor\n",
        "for text in df_copy.text:\n",
        "    text = text.lower()  #Büyük harften -Küçük harfe çevirme\n",
        "    text = re.sub(\"[^abcçdefgğhıijklmnoöprsştuüvyz]\",\" \",text)\n",
        "    text=nltk.word_tokenize(text) # splits the words that are in the sentence from each other.\n",
        "    text =[word for word in text if not word in set(stopwords.words(\"turkish\"))]\n",
        "    lemma=nlp.WordNetLemmatizer()\n",
        "    text=[lemma.lemmatize(word) for word in text] # this code finds the root of the word for a word in the sentence and change them to their root form.\n",
        "    text=\" \".join(text)\n",
        "    text_list.append(text) # store sentences in list"
      ],
      "execution_count": null,
      "outputs": []
    },
    {
      "cell_type": "code",
      "metadata": {
        "colab": {
          "base_uri": "https://localhost:8080/"
        },
        "id": "IuxOwCZ87dbw",
        "outputId": "dbd6c4d0-50cd-4b4e-b162-630704c469a5"
      },
      "source": [
        "len(text_list)"
      ],
      "execution_count": null,
      "outputs": [
        {
          "output_type": "execute_result",
          "data": {
            "text/plain": [
              "4900"
            ]
          },
          "metadata": {
            "tags": []
          },
          "execution_count": 41
        }
      ]
    },
    {
      "cell_type": "code",
      "metadata": {
        "colab": {
          "base_uri": "https://localhost:8080/"
        },
        "id": "EsI3DWIN6-nm",
        "outputId": "8c1dd749-c737-4f3b-cb24-8334d5460631"
      },
      "source": [
        "# Bag of Words\n",
        "from sklearn.feature_extraction.text import CountVectorizer \n",
        "\n",
        "max_features=500 # \"number\" most common(used) words in reviews\n",
        "\n",
        "count_vectorizer=CountVectorizer(max_features=max_features) \n",
        "\n",
        "sparce_matrix=count_vectorizer.fit_transform(text_list).toarray()\n",
        "\n",
        "sparce_matrix.shape #4900 sentences 500 most used words"
      ],
      "execution_count": null,
      "outputs": [
        {
          "output_type": "execute_result",
          "data": {
            "text/plain": [
              "(4900, 500)"
            ]
          },
          "metadata": {
            "tags": []
          },
          "execution_count": 42
        }
      ]
    },
    {
      "cell_type": "code",
      "metadata": {
        "id": "lzJPF-sd63WQ"
      },
      "source": [
        "X=sparce_matrix\n",
        "y=labels"
      ],
      "execution_count": null,
      "outputs": []
    },
    {
      "cell_type": "code",
      "metadata": {
        "id": "w-Q9lmPB6v23"
      },
      "source": [
        "# veriyi train ve test için ayırıyoruz\n",
        "X_train,X_test,y_train,y_test = train_test_split(X,y,test_size=0.2,random_state=42)"
      ],
      "execution_count": null,
      "outputs": []
    },
    {
      "cell_type": "code",
      "metadata": {
        "id": "_2-wP6Su6hp9"
      },
      "source": [
        "# XGBoost Modelini eğitiyoruz\n",
        "from xgboost import XGBClassifier\n",
        "xgb=XGBClassifier()\n",
        "xgb_model=xgb.fit(X_train,y_train)"
      ],
      "execution_count": null,
      "outputs": []
    },
    {
      "cell_type": "code",
      "metadata": {
        "colab": {
          "base_uri": "https://localhost:8080/"
        },
        "id": "ThbRCLd8_yPy",
        "outputId": "3452a092-df93-49ca-f5c3-ac6d5d0d5094"
      },
      "source": [
        "xgb_model"
      ],
      "execution_count": null,
      "outputs": [
        {
          "output_type": "execute_result",
          "data": {
            "text/plain": [
              "XGBClassifier(base_score=0.5, booster='gbtree', colsample_bylevel=1,\n",
              "              colsample_bynode=1, colsample_bytree=1, gamma=0,\n",
              "              learning_rate=0.1, max_delta_step=0, max_depth=3,\n",
              "              min_child_weight=1, missing=None, n_estimators=100, n_jobs=1,\n",
              "              nthread=None, objective='multi:softprob', random_state=0,\n",
              "              reg_alpha=0, reg_lambda=1, scale_pos_weight=1, seed=None,\n",
              "              silent=None, subsample=1, verbosity=1)"
            ]
          },
          "metadata": {
            "tags": []
          },
          "execution_count": 46
        }
      ]
    },
    {
      "cell_type": "code",
      "metadata": {
        "id": "2PimXOph9TAe"
      },
      "source": [
        "# XGBoost Modelini test ediyoruz\n",
        "y_pred=xgb_model.predict(X_test)"
      ],
      "execution_count": null,
      "outputs": []
    },
    {
      "cell_type": "code",
      "metadata": {
        "colab": {
          "base_uri": "https://localhost:8080/"
        },
        "id": "8GfZNoTd9aBr",
        "outputId": "4638fbe6-fb07-4577-d71a-93e5c8ad0c07"
      },
      "source": [
        "print(\"Accuracy:\",accuracy_score(y_test, y_pred))\n",
        "print(\"Precision:\",precision_score(y_test, y_pred,average=\"micro\"))"
      ],
      "execution_count": null,
      "outputs": [
        {
          "output_type": "stream",
          "text": [
            "Accuracy: 0.7918367346938775\n",
            "Precision: 0.7918367346938775\n"
          ],
          "name": "stdout"
        }
      ]
    },
    {
      "cell_type": "code",
      "metadata": {
        "colab": {
          "base_uri": "https://localhost:8080/",
          "height": 610
        },
        "id": "Ccpy2EB39Q3K",
        "outputId": "cdbf2934-f0a1-47c9-bb1b-a1c77d4defde"
      },
      "source": [
        "# Karşıtlık Matrisi - Confusion Matrix\n",
        "cm=confusion_matrix(y_test,y_pred)\n",
        "\n",
        "plt.figure(figsize=(10,10))\n",
        "sns.heatmap(cm,annot=True,fmt='d') "
      ],
      "execution_count": null,
      "outputs": [
        {
          "output_type": "execute_result",
          "data": {
            "text/plain": [
              "<matplotlib.axes._subplots.AxesSubplot at 0x7f654ca2c9d0>"
            ]
          },
          "metadata": {
            "tags": []
          },
          "execution_count": 49
        },
        {
          "output_type": "display_data",
          "data": {
            "image/png": "[encoded data removed]",
            "text/plain": [
              "<Figure size 720x720 with 2 Axes>"
            ]
          },
          "metadata": {
            "tags": [],
            "needs_background": "light"
          }
        }
      ]
    },
    {
      "cell_type": "code",
      "metadata": {
        "colab": {
          "base_uri": "https://localhost:8080/"
        },
        "id": "HEDmj2QPC6KG",
        "outputId": "7d42cda0-81bb-4cf4-a630-5238dbb2ed9e"
      },
      "source": [
        "print(classification_report(y_test, y_pred)) \n",
        "# classification report is good function for seeing how well our model predict labels in each class  "
      ],
      "execution_count": null,
      "outputs": [
        {
          "output_type": "stream",
          "text": [
            "              precision    recall  f1-score   support\n",
            "\n",
            "           0       0.66      0.76      0.71       131\n",
            "           1       0.81      0.71      0.76       142\n",
            "           2       0.79      0.83      0.81       139\n",
            "           3       0.86      0.93      0.89       122\n",
            "           4       0.83      0.77      0.80       158\n",
            "           5       0.91      0.81      0.86       147\n",
            "           6       0.71      0.75      0.73       141\n",
            "\n",
            "    accuracy                           0.79       980\n",
            "   macro avg       0.80      0.79      0.79       980\n",
            "weighted avg       0.80      0.79      0.79       980\n",
            "\n"
          ],
          "name": "stdout"
        }
      ]
    }
  ]
}