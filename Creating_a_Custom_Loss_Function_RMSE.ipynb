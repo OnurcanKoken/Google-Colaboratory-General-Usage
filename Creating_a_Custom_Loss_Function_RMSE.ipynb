{
  "nbformat": 4,
  "nbformat_minor": 0,
  "metadata": {
    "colab": {
      "name": "Creating_a_Custom_Loss_Function_RMSE.ipynb",
      "provenance": [],
      "authorship_tag": "ABX9TyNZPWpTj15iHu3fwGhOfZNI",
      "include_colab_link": true
    },
    "kernelspec": {
      "name": "python3",
      "display_name": "Python 3"
    },
    "language_info": {
      "name": "python"
    }
  },
  "cells": [
    {
      "cell_type": "markdown",
      "metadata": {
        "id": "view-in-github",
        "colab_type": "text"
      },
      "source": [
        "<a href=\"https://colab.research.google.com/github/OnurcanKoken/Google-Colaboratory-General-Usage/blob/master/Creating_a_Custom_Loss_Function_RMSE.ipynb\" target=\"_parent\"><img src=\"https://colab.research.google.com/assets/colab-badge.svg\" alt=\"Open In Colab\"/></a>"
      ]
    },
    {
      "cell_type": "markdown",
      "metadata": {
        "id": "_5U7F7gtDuWf"
      },
      "source": [
        "# Creating a Custom Loss Function\n",
        "\n",
        "Root Mean Square Error\n",
        "\n",
        "Edited by: Onurcan Köken on 10th of May, 2021\n",
        "\n",
        "Coursera - Custom Models, Layers, and Loss Functions with TensorFlow by DeepLearning.AI\n",
        "\n",
        "Week 2 Assignment\n",
        "\n"
      ]
    },
    {
      "cell_type": "markdown",
      "metadata": {
        "id": "z_eyJcJ6D3l7"
      },
      "source": [
        "This short exercise will require you to write a simple linear regression neural network that is trained on two arrays: $xs$ (inputs) and $ys$ (labels), where the relationship between each corresponding element is $y=2x-1$.\n",
        "\n",
        "\n",
        "$xs = [-1.0,  0.0, 1.0, 2.0, 3.0, 4.0]$\n",
        "\n",
        "$ys = [-3.0, -1.0, 1.0, 3.0, 5.0, 7.0]$\n",
        "\n",
        "\n",
        "You will need to implement a custom loss function that returns the root mean square error (RMSE) of $y_{true} - y_{pred}$. Let's begin!"
      ]
    },
    {
      "cell_type": "code",
      "metadata": {
        "id": "lUnAPeIoD085"
      },
      "source": [
        "import tensorflow as tf\n",
        "import numpy as np\n",
        "from tensorflow import keras\n",
        "from tensorflow.keras import backend as K"
      ],
      "execution_count": 2,
      "outputs": []
    },
    {
      "cell_type": "code",
      "metadata": {
        "id": "1bTCe0r0D7xg"
      },
      "source": [
        "# inputs\n",
        "xs = np.array([-1.0,  0.0, 1.0, 2.0, 3.0, 4.0], dtype=float)\n",
        "\n",
        "# labels. relationship with the inputs above is y=2x-1.\n",
        "ys = np.array([-3.0, -1.0, 1.0, 3.0, 5.0, 7.0], dtype=float)"
      ],
      "execution_count": 3,
      "outputs": []
    },
    {
      "cell_type": "markdown",
      "metadata": {
        "id": "GDohwLKvEEIy"
      },
      "source": [
        "### Define the custom loss function (TODO)\n",
        "Define the custom loss function below called `my_rmse()` that returns the RMSE between the target (`y_true`) and prediction (`y_pred`). \n",
        "\n",
        "You will return $\\sqrt{error}$, where $error$ = $mean((y_{true} - y_{pred})^2)$\n",
        "- error: the difference between the true label and predicted label.\n",
        "- sqr_error: the square of the error.\n",
        "- mean_sqr_error: the mean of the square of the error\n",
        "- sqrt_mean_sqr_error: the square root of hte mean of the square of the error (the root mean squared error).\n",
        "- Please use `K.mean`, `K.square`, and `K.sqrt`\n",
        "- The steps are broken down into separate lines of code for clarity.  Feel free to combine them, and just remember to return the root mean squared error."
      ]
    },
    {
      "cell_type": "code",
      "metadata": {
        "id": "DuZCbN-yEExQ"
      },
      "source": [
        "def my_rmse(y_true, y_pred):\n",
        "    error = y_true - y_pred\n",
        "    sqr_error = K.square(error)\n",
        "    mean_sqr_error = K.mean(sqr_error)\n",
        "    sqrt_mean_sqr_error = K.sqrt(mean_sqr_error)\n",
        "    return sqrt_mean_sqr_error"
      ],
      "execution_count": 6,
      "outputs": []
    },
    {
      "cell_type": "markdown",
      "metadata": {
        "id": "sHrvnufPEZiC"
      },
      "source": [
        "### Define a model using the custom loss function (TODO)\n",
        "Similar to the ungraded labs, you will define a simple model and pass the function you just coded as the loss.\n",
        "- When compiling the model, you'll choose the `sgd` optimizer and set the `loss` parameter to the custom loss function that you just defined.\n",
        "- For grading purposes, please leave the other parameter values as is."
      ]
    },
    {
      "cell_type": "code",
      "metadata": {
        "colab": {
          "base_uri": "https://localhost:8080/"
        },
        "id": "raA4h3khEbAC",
        "outputId": "6aaa46ad-bf51-4b66-c3b3-5bdff860191e"
      },
      "source": [
        "# define the model architecture\n",
        "model = tf.keras.Sequential([keras.layers.Dense(units=1, input_shape=[1])])\n",
        "\n",
        "# use the function you just coded as the loss\n",
        "model.compile(optimizer='sgd', loss=my_rmse)\n",
        "              \n",
        "# train the model \n",
        "model.fit(xs, ys, epochs=500,verbose=0)\n",
        "              \n",
        "# test with a sample input\n",
        "print(model.predict([10.0]))"
      ],
      "execution_count": 7,
      "outputs": [
        {
          "output_type": "stream",
          "text": [
            "[[19.194351]]\n"
          ],
          "name": "stdout"
        }
      ]
    }
  ]
}