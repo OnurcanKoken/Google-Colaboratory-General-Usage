{
  "nbformat": 4,
  "nbformat_minor": 0,
  "metadata": {
    "colab": {
      "name": "Wine Quality Estimation and Wine Type Detection - Multiple Output Models using Keras Functional API.ipynb",
      "provenance": [],
      "toc_visible": true,
      "authorship_tag": "ABX9TyMrO5pxEfJfP6maE8vOta9u",
      "include_colab_link": true
    },
    "kernelspec": {
      "name": "python3",
      "display_name": "Python 3"
    },
    "language_info": {
      "name": "python"
    }
  },
  "cells": [
    {
      "cell_type": "markdown",
      "metadata": {
        "id": "view-in-github",
        "colab_type": "text"
      },
      "source": [
        "<a href=\"https://colab.research.google.com/github/OnurcanKoken/Google-Colaboratory-General-Usage/blob/master/Wine_Quality_Estimation_and_Wine_Type_Detection_Multiple_Output_Models_using_Keras_Functional_API.ipynb\" target=\"_parent\"><img src=\"https://colab.research.google.com/assets/colab-badge.svg\" alt=\"Open In Colab\"/></a>"
      ]
    },
    {
      "cell_type": "markdown",
      "metadata": {
        "id": "KCrKq5ZbIK5e"
      },
      "source": [
        "# Multiple Output Models using Keras Functional API\n",
        "\n",
        "* Use the Keras functional API to train a model to predict two outputs.\n",
        "\n",
        "* Use the [Wine Quality Dataset](https://archive.ics.uci.edu/ml/datasets/Wine+Quality) from the [UCI Machine Learning Repository](https://archive.ics.uci.edu/ml/index.php). It has separate datasets for red wine and white wine.\n",
        "\n",
        "* Normally, the wines are classified into one of the quality ratings specified in the attributes.\n",
        "\n",
        "* Balance the dataset\n",
        "\n",
        "* Combine the two datasets to predict the wine quality and whether the wine is red or white solely from the attributes.\n",
        "\n",
        "* Model wine quality estimations as a **regression problem** and wine type detection as a **binary classification problem**.\n",
        "\n",
        "# Contents:\n",
        "\n",
        "1. Import Libraries\n",
        "\n",
        "2. Loading and Pre-processing the Dataset\n",
        "\n",
        "3. Split Train & Test\n",
        "\n",
        "4. Define the Model\n",
        "\n",
        "5. Train the Model\n",
        "\n",
        "6. Analyze the Model Performance\n",
        "\n",
        "Edited by: Onurcan Köken on 6th of May, 2021\n",
        "\n",
        "Coursera - Custom Models, Layers, and Loss Functions with TensorFlow by DeepLearning.AI\n",
        "\n",
        "Week 1 Assignment"
      ]
    },
    {
      "cell_type": "markdown",
      "metadata": {
        "id": "ppyuxH-yINKU"
      },
      "source": [
        "# Import Libraries"
      ]
    },
    {
      "cell_type": "code",
      "metadata": {
        "id": "Axft84TkJorB"
      },
      "source": [
        "import tensorflow as tf\n",
        "from tensorflow.keras.models import Model\n",
        "from tensorflow.keras.layers import Dense, Input\n",
        "\n",
        "import numpy as np\n",
        "import matplotlib.pyplot as plt\n",
        "import pandas as pd\n",
        "from sklearn.model_selection import train_test_split\n",
        "from sklearn.metrics import confusion_matrix\n",
        "import itertools"
      ],
      "execution_count": 25,
      "outputs": []
    },
    {
      "cell_type": "code",
      "metadata": {
        "colab": {
          "base_uri": "https://localhost:8080/"
        },
        "id": "dAqLNSZZPTpg",
        "outputId": "516742af-19ee-44c4-f2fa-b9f72ce08135"
      },
      "source": [
        "!pip install utils\n",
        "import utils"
      ],
      "execution_count": 2,
      "outputs": [
        {
          "output_type": "stream",
          "text": [
            "Collecting utils\n",
            "  Downloading https://files.pythonhosted.org/packages/55/e6/c2d2b2703e7debc8b501caae0e6f7ead148fd0faa3c8131292a599930029/utils-1.0.1-py2.py3-none-any.whl\n",
            "Installing collected packages: utils\n",
            "Successfully installed utils-1.0.1\n"
          ],
          "name": "stdout"
        }
      ]
    },
    {
      "cell_type": "markdown",
      "metadata": {
        "id": "snbcSeUmJpXU"
      },
      "source": [
        "# Loading and Pre-processing the Dataset\n",
        "\n",
        "The dataset: [UCI Machine Learning Repository](https://archive.ics.uci.edu/ml/index.php).\n",
        "\n"
      ]
    },
    {
      "cell_type": "markdown",
      "metadata": {
        "id": "BIFe9cqBKGK6"
      },
      "source": [
        "Pre-process the white wine dataset"
      ]
    },
    {
      "cell_type": "code",
      "metadata": {
        "id": "bomUsSBYO3TB"
      },
      "source": [
        "# URL of the white wine dataset\n",
        "path_white = \"https://archive.ics.uci.edu/ml/machine-learning-databases/wine-quality/winequality-white.csv\"\n",
        "white_df = pd.read_csv(path_white, sep=\";\")"
      ],
      "execution_count": 26,
      "outputs": []
    },
    {
      "cell_type": "code",
      "metadata": {
        "colab": {
          "base_uri": "https://localhost:8080/",
          "height": 391
        },
        "id": "bBqyEJKqPcTA",
        "outputId": "215dd3e0-b607-4d7c-fd73-5e1efdd90cc5"
      },
      "source": [
        "white_df"
      ],
      "execution_count": 27,
      "outputs": [
        {
          "output_type": "execute_result",
          "data": {
            "text/html": [
              "<div>\n",
              "<style scoped>\n",
              "    .dataframe tbody tr th:only-of-type {\n",
              "        vertical-align: middle;\n",
              "    }\n",
              "\n",
              "    .dataframe tbody tr th {\n",
              "        vertical-align: top;\n",
              "    }\n",
              "\n",
              "    .dataframe thead th {\n",
              "        text-align: right;\n",
              "    }\n",
              "</style>\n",
              "<table border=\"1\" class=\"dataframe\">\n",
              "  <thead>\n",
              "    <tr style=\"text-align: right;\">\n",
              "      <th></th>\n",
              "      <th>fixed acidity</th>\n",
              "      <th>volatile acidity</th>\n",
              "      <th>citric acid</th>\n",
              "      <th>residual sugar</th>\n",
              "      <th>chlorides</th>\n",
              "      <th>free sulfur dioxide</th>\n",
              "      <th>total sulfur dioxide</th>\n",
              "      <th>density</th>\n",
              "      <th>pH</th>\n",
              "      <th>sulphates</th>\n",
              "      <th>alcohol</th>\n",
              "      <th>quality</th>\n",
              "    </tr>\n",
              "  </thead>\n",
              "  <tbody>\n",
              "    <tr>\n",
              "      <th>0</th>\n",
              "      <td>7.0</td>\n",
              "      <td>0.27</td>\n",
              "      <td>0.36</td>\n",
              "      <td>20.7</td>\n",
              "      <td>0.045</td>\n",
              "      <td>45.0</td>\n",
              "      <td>170.0</td>\n",
              "      <td>1.00100</td>\n",
              "      <td>3.00</td>\n",
              "      <td>0.45</td>\n",
              "      <td>8.8</td>\n",
              "      <td>6</td>\n",
              "    </tr>\n",
              "    <tr>\n",
              "      <th>1</th>\n",
              "      <td>6.3</td>\n",
              "      <td>0.30</td>\n",
              "      <td>0.34</td>\n",
              "      <td>1.6</td>\n",
              "      <td>0.049</td>\n",
              "      <td>14.0</td>\n",
              "      <td>132.0</td>\n",
              "      <td>0.99400</td>\n",
              "      <td>3.30</td>\n",
              "      <td>0.49</td>\n",
              "      <td>9.5</td>\n",
              "      <td>6</td>\n",
              "    </tr>\n",
              "    <tr>\n",
              "      <th>2</th>\n",
              "      <td>8.1</td>\n",
              "      <td>0.28</td>\n",
              "      <td>0.40</td>\n",
              "      <td>6.9</td>\n",
              "      <td>0.050</td>\n",
              "      <td>30.0</td>\n",
              "      <td>97.0</td>\n",
              "      <td>0.99510</td>\n",
              "      <td>3.26</td>\n",
              "      <td>0.44</td>\n",
              "      <td>10.1</td>\n",
              "      <td>6</td>\n",
              "    </tr>\n",
              "    <tr>\n",
              "      <th>3</th>\n",
              "      <td>7.2</td>\n",
              "      <td>0.23</td>\n",
              "      <td>0.32</td>\n",
              "      <td>8.5</td>\n",
              "      <td>0.058</td>\n",
              "      <td>47.0</td>\n",
              "      <td>186.0</td>\n",
              "      <td>0.99560</td>\n",
              "      <td>3.19</td>\n",
              "      <td>0.40</td>\n",
              "      <td>9.9</td>\n",
              "      <td>6</td>\n",
              "    </tr>\n",
              "    <tr>\n",
              "      <th>4</th>\n",
              "      <td>7.2</td>\n",
              "      <td>0.23</td>\n",
              "      <td>0.32</td>\n",
              "      <td>8.5</td>\n",
              "      <td>0.058</td>\n",
              "      <td>47.0</td>\n",
              "      <td>186.0</td>\n",
              "      <td>0.99560</td>\n",
              "      <td>3.19</td>\n",
              "      <td>0.40</td>\n",
              "      <td>9.9</td>\n",
              "      <td>6</td>\n",
              "    </tr>\n",
              "    <tr>\n",
              "      <th>...</th>\n",
              "      <td>...</td>\n",
              "      <td>...</td>\n",
              "      <td>...</td>\n",
              "      <td>...</td>\n",
              "      <td>...</td>\n",
              "      <td>...</td>\n",
              "      <td>...</td>\n",
              "      <td>...</td>\n",
              "      <td>...</td>\n",
              "      <td>...</td>\n",
              "      <td>...</td>\n",
              "      <td>...</td>\n",
              "    </tr>\n",
              "    <tr>\n",
              "      <th>4893</th>\n",
              "      <td>6.2</td>\n",
              "      <td>0.21</td>\n",
              "      <td>0.29</td>\n",
              "      <td>1.6</td>\n",
              "      <td>0.039</td>\n",
              "      <td>24.0</td>\n",
              "      <td>92.0</td>\n",
              "      <td>0.99114</td>\n",
              "      <td>3.27</td>\n",
              "      <td>0.50</td>\n",
              "      <td>11.2</td>\n",
              "      <td>6</td>\n",
              "    </tr>\n",
              "    <tr>\n",
              "      <th>4894</th>\n",
              "      <td>6.6</td>\n",
              "      <td>0.32</td>\n",
              "      <td>0.36</td>\n",
              "      <td>8.0</td>\n",
              "      <td>0.047</td>\n",
              "      <td>57.0</td>\n",
              "      <td>168.0</td>\n",
              "      <td>0.99490</td>\n",
              "      <td>3.15</td>\n",
              "      <td>0.46</td>\n",
              "      <td>9.6</td>\n",
              "      <td>5</td>\n",
              "    </tr>\n",
              "    <tr>\n",
              "      <th>4895</th>\n",
              "      <td>6.5</td>\n",
              "      <td>0.24</td>\n",
              "      <td>0.19</td>\n",
              "      <td>1.2</td>\n",
              "      <td>0.041</td>\n",
              "      <td>30.0</td>\n",
              "      <td>111.0</td>\n",
              "      <td>0.99254</td>\n",
              "      <td>2.99</td>\n",
              "      <td>0.46</td>\n",
              "      <td>9.4</td>\n",
              "      <td>6</td>\n",
              "    </tr>\n",
              "    <tr>\n",
              "      <th>4896</th>\n",
              "      <td>5.5</td>\n",
              "      <td>0.29</td>\n",
              "      <td>0.30</td>\n",
              "      <td>1.1</td>\n",
              "      <td>0.022</td>\n",
              "      <td>20.0</td>\n",
              "      <td>110.0</td>\n",
              "      <td>0.98869</td>\n",
              "      <td>3.34</td>\n",
              "      <td>0.38</td>\n",
              "      <td>12.8</td>\n",
              "      <td>7</td>\n",
              "    </tr>\n",
              "    <tr>\n",
              "      <th>4897</th>\n",
              "      <td>6.0</td>\n",
              "      <td>0.21</td>\n",
              "      <td>0.38</td>\n",
              "      <td>0.8</td>\n",
              "      <td>0.020</td>\n",
              "      <td>22.0</td>\n",
              "      <td>98.0</td>\n",
              "      <td>0.98941</td>\n",
              "      <td>3.26</td>\n",
              "      <td>0.32</td>\n",
              "      <td>11.8</td>\n",
              "      <td>6</td>\n",
              "    </tr>\n",
              "  </tbody>\n",
              "</table>\n",
              "<p>4898 rows × 12 columns</p>\n",
              "</div>"
            ],
            "text/plain": [
              "      fixed acidity  volatile acidity  citric acid  ...  sulphates  alcohol  quality\n",
              "0               7.0              0.27         0.36  ...       0.45      8.8        6\n",
              "1               6.3              0.30         0.34  ...       0.49      9.5        6\n",
              "2               8.1              0.28         0.40  ...       0.44     10.1        6\n",
              "3               7.2              0.23         0.32  ...       0.40      9.9        6\n",
              "4               7.2              0.23         0.32  ...       0.40      9.9        6\n",
              "...             ...               ...          ...  ...        ...      ...      ...\n",
              "4893            6.2              0.21         0.29  ...       0.50     11.2        6\n",
              "4894            6.6              0.32         0.36  ...       0.46      9.6        5\n",
              "4895            6.5              0.24         0.19  ...       0.46      9.4        6\n",
              "4896            5.5              0.29         0.30  ...       0.38     12.8        7\n",
              "4897            6.0              0.21         0.38  ...       0.32     11.8        6\n",
              "\n",
              "[4898 rows x 12 columns]"
            ]
          },
          "metadata": {
            "tags": []
          },
          "execution_count": 27
        }
      ]
    },
    {
      "cell_type": "code",
      "metadata": {
        "id": "JCWj46rWSag0"
      },
      "source": [
        "# shape of the dataset\n",
        "rows, columns = white_df.shape"
      ],
      "execution_count": 28,
      "outputs": []
    },
    {
      "cell_type": "code",
      "metadata": {
        "id": "qTSQW5mdNdCd"
      },
      "source": [
        "# add a new column names 'is_red' in your dataframe to indicate if the wine is white or red\n",
        "# fill the 'is_red' column with zeros.\n",
        "white_df[\"is_red\"] = 0\n",
        "\n",
        "# keep only the first of duplicate items\n",
        "white_df = white_df.drop_duplicates(keep='first')"
      ],
      "execution_count": 29,
      "outputs": []
    },
    {
      "cell_type": "code",
      "metadata": {
        "colab": {
          "base_uri": "https://localhost:8080/",
          "height": 391
        },
        "id": "JCXS-oozUFHN",
        "outputId": "b7bb6800-973e-443b-e749-539d3ab43727"
      },
      "source": [
        "white_df"
      ],
      "execution_count": 30,
      "outputs": [
        {
          "output_type": "execute_result",
          "data": {
            "text/html": [
              "<div>\n",
              "<style scoped>\n",
              "    .dataframe tbody tr th:only-of-type {\n",
              "        vertical-align: middle;\n",
              "    }\n",
              "\n",
              "    .dataframe tbody tr th {\n",
              "        vertical-align: top;\n",
              "    }\n",
              "\n",
              "    .dataframe thead th {\n",
              "        text-align: right;\n",
              "    }\n",
              "</style>\n",
              "<table border=\"1\" class=\"dataframe\">\n",
              "  <thead>\n",
              "    <tr style=\"text-align: right;\">\n",
              "      <th></th>\n",
              "      <th>fixed acidity</th>\n",
              "      <th>volatile acidity</th>\n",
              "      <th>citric acid</th>\n",
              "      <th>residual sugar</th>\n",
              "      <th>chlorides</th>\n",
              "      <th>free sulfur dioxide</th>\n",
              "      <th>total sulfur dioxide</th>\n",
              "      <th>density</th>\n",
              "      <th>pH</th>\n",
              "      <th>sulphates</th>\n",
              "      <th>alcohol</th>\n",
              "      <th>quality</th>\n",
              "      <th>is_red</th>\n",
              "    </tr>\n",
              "  </thead>\n",
              "  <tbody>\n",
              "    <tr>\n",
              "      <th>0</th>\n",
              "      <td>7.0</td>\n",
              "      <td>0.27</td>\n",
              "      <td>0.36</td>\n",
              "      <td>20.7</td>\n",
              "      <td>0.045</td>\n",
              "      <td>45.0</td>\n",
              "      <td>170.0</td>\n",
              "      <td>1.00100</td>\n",
              "      <td>3.00</td>\n",
              "      <td>0.45</td>\n",
              "      <td>8.8</td>\n",
              "      <td>6</td>\n",
              "      <td>0</td>\n",
              "    </tr>\n",
              "    <tr>\n",
              "      <th>1</th>\n",
              "      <td>6.3</td>\n",
              "      <td>0.30</td>\n",
              "      <td>0.34</td>\n",
              "      <td>1.6</td>\n",
              "      <td>0.049</td>\n",
              "      <td>14.0</td>\n",
              "      <td>132.0</td>\n",
              "      <td>0.99400</td>\n",
              "      <td>3.30</td>\n",
              "      <td>0.49</td>\n",
              "      <td>9.5</td>\n",
              "      <td>6</td>\n",
              "      <td>0</td>\n",
              "    </tr>\n",
              "    <tr>\n",
              "      <th>2</th>\n",
              "      <td>8.1</td>\n",
              "      <td>0.28</td>\n",
              "      <td>0.40</td>\n",
              "      <td>6.9</td>\n",
              "      <td>0.050</td>\n",
              "      <td>30.0</td>\n",
              "      <td>97.0</td>\n",
              "      <td>0.99510</td>\n",
              "      <td>3.26</td>\n",
              "      <td>0.44</td>\n",
              "      <td>10.1</td>\n",
              "      <td>6</td>\n",
              "      <td>0</td>\n",
              "    </tr>\n",
              "    <tr>\n",
              "      <th>3</th>\n",
              "      <td>7.2</td>\n",
              "      <td>0.23</td>\n",
              "      <td>0.32</td>\n",
              "      <td>8.5</td>\n",
              "      <td>0.058</td>\n",
              "      <td>47.0</td>\n",
              "      <td>186.0</td>\n",
              "      <td>0.99560</td>\n",
              "      <td>3.19</td>\n",
              "      <td>0.40</td>\n",
              "      <td>9.9</td>\n",
              "      <td>6</td>\n",
              "      <td>0</td>\n",
              "    </tr>\n",
              "    <tr>\n",
              "      <th>6</th>\n",
              "      <td>6.2</td>\n",
              "      <td>0.32</td>\n",
              "      <td>0.16</td>\n",
              "      <td>7.0</td>\n",
              "      <td>0.045</td>\n",
              "      <td>30.0</td>\n",
              "      <td>136.0</td>\n",
              "      <td>0.99490</td>\n",
              "      <td>3.18</td>\n",
              "      <td>0.47</td>\n",
              "      <td>9.6</td>\n",
              "      <td>6</td>\n",
              "      <td>0</td>\n",
              "    </tr>\n",
              "    <tr>\n",
              "      <th>...</th>\n",
              "      <td>...</td>\n",
              "      <td>...</td>\n",
              "      <td>...</td>\n",
              "      <td>...</td>\n",
              "      <td>...</td>\n",
              "      <td>...</td>\n",
              "      <td>...</td>\n",
              "      <td>...</td>\n",
              "      <td>...</td>\n",
              "      <td>...</td>\n",
              "      <td>...</td>\n",
              "      <td>...</td>\n",
              "      <td>...</td>\n",
              "    </tr>\n",
              "    <tr>\n",
              "      <th>4893</th>\n",
              "      <td>6.2</td>\n",
              "      <td>0.21</td>\n",
              "      <td>0.29</td>\n",
              "      <td>1.6</td>\n",
              "      <td>0.039</td>\n",
              "      <td>24.0</td>\n",
              "      <td>92.0</td>\n",
              "      <td>0.99114</td>\n",
              "      <td>3.27</td>\n",
              "      <td>0.50</td>\n",
              "      <td>11.2</td>\n",
              "      <td>6</td>\n",
              "      <td>0</td>\n",
              "    </tr>\n",
              "    <tr>\n",
              "      <th>4894</th>\n",
              "      <td>6.6</td>\n",
              "      <td>0.32</td>\n",
              "      <td>0.36</td>\n",
              "      <td>8.0</td>\n",
              "      <td>0.047</td>\n",
              "      <td>57.0</td>\n",
              "      <td>168.0</td>\n",
              "      <td>0.99490</td>\n",
              "      <td>3.15</td>\n",
              "      <td>0.46</td>\n",
              "      <td>9.6</td>\n",
              "      <td>5</td>\n",
              "      <td>0</td>\n",
              "    </tr>\n",
              "    <tr>\n",
              "      <th>4895</th>\n",
              "      <td>6.5</td>\n",
              "      <td>0.24</td>\n",
              "      <td>0.19</td>\n",
              "      <td>1.2</td>\n",
              "      <td>0.041</td>\n",
              "      <td>30.0</td>\n",
              "      <td>111.0</td>\n",
              "      <td>0.99254</td>\n",
              "      <td>2.99</td>\n",
              "      <td>0.46</td>\n",
              "      <td>9.4</td>\n",
              "      <td>6</td>\n",
              "      <td>0</td>\n",
              "    </tr>\n",
              "    <tr>\n",
              "      <th>4896</th>\n",
              "      <td>5.5</td>\n",
              "      <td>0.29</td>\n",
              "      <td>0.30</td>\n",
              "      <td>1.1</td>\n",
              "      <td>0.022</td>\n",
              "      <td>20.0</td>\n",
              "      <td>110.0</td>\n",
              "      <td>0.98869</td>\n",
              "      <td>3.34</td>\n",
              "      <td>0.38</td>\n",
              "      <td>12.8</td>\n",
              "      <td>7</td>\n",
              "      <td>0</td>\n",
              "    </tr>\n",
              "    <tr>\n",
              "      <th>4897</th>\n",
              "      <td>6.0</td>\n",
              "      <td>0.21</td>\n",
              "      <td>0.38</td>\n",
              "      <td>0.8</td>\n",
              "      <td>0.020</td>\n",
              "      <td>22.0</td>\n",
              "      <td>98.0</td>\n",
              "      <td>0.98941</td>\n",
              "      <td>3.26</td>\n",
              "      <td>0.32</td>\n",
              "      <td>11.8</td>\n",
              "      <td>6</td>\n",
              "      <td>0</td>\n",
              "    </tr>\n",
              "  </tbody>\n",
              "</table>\n",
              "<p>3961 rows × 13 columns</p>\n",
              "</div>"
            ],
            "text/plain": [
              "      fixed acidity  volatile acidity  citric acid  ...  alcohol  quality  is_red\n",
              "0               7.0              0.27         0.36  ...      8.8        6       0\n",
              "1               6.3              0.30         0.34  ...      9.5        6       0\n",
              "2               8.1              0.28         0.40  ...     10.1        6       0\n",
              "3               7.2              0.23         0.32  ...      9.9        6       0\n",
              "6               6.2              0.32         0.16  ...      9.6        6       0\n",
              "...             ...               ...          ...  ...      ...      ...     ...\n",
              "4893            6.2              0.21         0.29  ...     11.2        6       0\n",
              "4894            6.6              0.32         0.36  ...      9.6        5       0\n",
              "4895            6.5              0.24         0.19  ...      9.4        6       0\n",
              "4896            5.5              0.29         0.30  ...     12.8        7       0\n",
              "4897            6.0              0.21         0.38  ...     11.8        6       0\n",
              "\n",
              "[3961 rows x 13 columns]"
            ]
          },
          "metadata": {
            "tags": []
          },
          "execution_count": 30
        }
      ]
    },
    {
      "cell_type": "code",
      "metadata": {
        "colab": {
          "base_uri": "https://localhost:8080/"
        },
        "id": "EHHNhT35aJW7",
        "outputId": "3e3abadb-049f-4c2d-e8e5-744b7300413c"
      },
      "source": [
        "print(white_df.alcohol[0])\n",
        "print(white_df.alcohol[100])\n",
        "\n",
        "# EXPECTED OUTPUT\n",
        "# 8.8\n",
        "# 9.1"
      ],
      "execution_count": 31,
      "outputs": [
        {
          "output_type": "stream",
          "text": [
            "8.8\n",
            "9.1\n"
          ],
          "name": "stdout"
        }
      ]
    },
    {
      "cell_type": "markdown",
      "metadata": {
        "id": "xfn9eFB_KJOT"
      },
      "source": [
        "Pre-process the red wine dataset"
      ]
    },
    {
      "cell_type": "code",
      "metadata": {
        "id": "XKMbUzSmKLbL"
      },
      "source": [
        "# URL of the red wine dataset\n",
        "path_white = \"https://archive.ics.uci.edu/ml/machine-learning-databases/wine-quality/winequality-red.csv\"\n",
        "\n",
        "# load the dataset from the URL\n",
        "red_df = pd.read_csv(path_white, sep=\";\")\n",
        "\n",
        "# fill the `is_red` column with ones.\n",
        "red_df[\"is_red\"] = 1\n",
        "\n",
        "# keep only the first of duplicate items\n",
        "red_df = red_df.drop_duplicates(keep='first')"
      ],
      "execution_count": 33,
      "outputs": []
    },
    {
      "cell_type": "code",
      "metadata": {
        "colab": {
          "base_uri": "https://localhost:8080/",
          "height": 391
        },
        "id": "p7ysWcK7atdE",
        "outputId": "b0522eb0-9b88-467f-a172-383520794d60"
      },
      "source": [
        "red_df"
      ],
      "execution_count": 34,
      "outputs": [
        {
          "output_type": "execute_result",
          "data": {
            "text/html": [
              "<div>\n",
              "<style scoped>\n",
              "    .dataframe tbody tr th:only-of-type {\n",
              "        vertical-align: middle;\n",
              "    }\n",
              "\n",
              "    .dataframe tbody tr th {\n",
              "        vertical-align: top;\n",
              "    }\n",
              "\n",
              "    .dataframe thead th {\n",
              "        text-align: right;\n",
              "    }\n",
              "</style>\n",
              "<table border=\"1\" class=\"dataframe\">\n",
              "  <thead>\n",
              "    <tr style=\"text-align: right;\">\n",
              "      <th></th>\n",
              "      <th>fixed acidity</th>\n",
              "      <th>volatile acidity</th>\n",
              "      <th>citric acid</th>\n",
              "      <th>residual sugar</th>\n",
              "      <th>chlorides</th>\n",
              "      <th>free sulfur dioxide</th>\n",
              "      <th>total sulfur dioxide</th>\n",
              "      <th>density</th>\n",
              "      <th>pH</th>\n",
              "      <th>sulphates</th>\n",
              "      <th>alcohol</th>\n",
              "      <th>quality</th>\n",
              "      <th>is_red</th>\n",
              "    </tr>\n",
              "  </thead>\n",
              "  <tbody>\n",
              "    <tr>\n",
              "      <th>0</th>\n",
              "      <td>7.4</td>\n",
              "      <td>0.700</td>\n",
              "      <td>0.00</td>\n",
              "      <td>1.9</td>\n",
              "      <td>0.076</td>\n",
              "      <td>11.0</td>\n",
              "      <td>34.0</td>\n",
              "      <td>0.99780</td>\n",
              "      <td>3.51</td>\n",
              "      <td>0.56</td>\n",
              "      <td>9.4</td>\n",
              "      <td>5</td>\n",
              "      <td>1</td>\n",
              "    </tr>\n",
              "    <tr>\n",
              "      <th>1</th>\n",
              "      <td>7.8</td>\n",
              "      <td>0.880</td>\n",
              "      <td>0.00</td>\n",
              "      <td>2.6</td>\n",
              "      <td>0.098</td>\n",
              "      <td>25.0</td>\n",
              "      <td>67.0</td>\n",
              "      <td>0.99680</td>\n",
              "      <td>3.20</td>\n",
              "      <td>0.68</td>\n",
              "      <td>9.8</td>\n",
              "      <td>5</td>\n",
              "      <td>1</td>\n",
              "    </tr>\n",
              "    <tr>\n",
              "      <th>2</th>\n",
              "      <td>7.8</td>\n",
              "      <td>0.760</td>\n",
              "      <td>0.04</td>\n",
              "      <td>2.3</td>\n",
              "      <td>0.092</td>\n",
              "      <td>15.0</td>\n",
              "      <td>54.0</td>\n",
              "      <td>0.99700</td>\n",
              "      <td>3.26</td>\n",
              "      <td>0.65</td>\n",
              "      <td>9.8</td>\n",
              "      <td>5</td>\n",
              "      <td>1</td>\n",
              "    </tr>\n",
              "    <tr>\n",
              "      <th>3</th>\n",
              "      <td>11.2</td>\n",
              "      <td>0.280</td>\n",
              "      <td>0.56</td>\n",
              "      <td>1.9</td>\n",
              "      <td>0.075</td>\n",
              "      <td>17.0</td>\n",
              "      <td>60.0</td>\n",
              "      <td>0.99800</td>\n",
              "      <td>3.16</td>\n",
              "      <td>0.58</td>\n",
              "      <td>9.8</td>\n",
              "      <td>6</td>\n",
              "      <td>1</td>\n",
              "    </tr>\n",
              "    <tr>\n",
              "      <th>5</th>\n",
              "      <td>7.4</td>\n",
              "      <td>0.660</td>\n",
              "      <td>0.00</td>\n",
              "      <td>1.8</td>\n",
              "      <td>0.075</td>\n",
              "      <td>13.0</td>\n",
              "      <td>40.0</td>\n",
              "      <td>0.99780</td>\n",
              "      <td>3.51</td>\n",
              "      <td>0.56</td>\n",
              "      <td>9.4</td>\n",
              "      <td>5</td>\n",
              "      <td>1</td>\n",
              "    </tr>\n",
              "    <tr>\n",
              "      <th>...</th>\n",
              "      <td>...</td>\n",
              "      <td>...</td>\n",
              "      <td>...</td>\n",
              "      <td>...</td>\n",
              "      <td>...</td>\n",
              "      <td>...</td>\n",
              "      <td>...</td>\n",
              "      <td>...</td>\n",
              "      <td>...</td>\n",
              "      <td>...</td>\n",
              "      <td>...</td>\n",
              "      <td>...</td>\n",
              "      <td>...</td>\n",
              "    </tr>\n",
              "    <tr>\n",
              "      <th>1593</th>\n",
              "      <td>6.8</td>\n",
              "      <td>0.620</td>\n",
              "      <td>0.08</td>\n",
              "      <td>1.9</td>\n",
              "      <td>0.068</td>\n",
              "      <td>28.0</td>\n",
              "      <td>38.0</td>\n",
              "      <td>0.99651</td>\n",
              "      <td>3.42</td>\n",
              "      <td>0.82</td>\n",
              "      <td>9.5</td>\n",
              "      <td>6</td>\n",
              "      <td>1</td>\n",
              "    </tr>\n",
              "    <tr>\n",
              "      <th>1594</th>\n",
              "      <td>6.2</td>\n",
              "      <td>0.600</td>\n",
              "      <td>0.08</td>\n",
              "      <td>2.0</td>\n",
              "      <td>0.090</td>\n",
              "      <td>32.0</td>\n",
              "      <td>44.0</td>\n",
              "      <td>0.99490</td>\n",
              "      <td>3.45</td>\n",
              "      <td>0.58</td>\n",
              "      <td>10.5</td>\n",
              "      <td>5</td>\n",
              "      <td>1</td>\n",
              "    </tr>\n",
              "    <tr>\n",
              "      <th>1595</th>\n",
              "      <td>5.9</td>\n",
              "      <td>0.550</td>\n",
              "      <td>0.10</td>\n",
              "      <td>2.2</td>\n",
              "      <td>0.062</td>\n",
              "      <td>39.0</td>\n",
              "      <td>51.0</td>\n",
              "      <td>0.99512</td>\n",
              "      <td>3.52</td>\n",
              "      <td>0.76</td>\n",
              "      <td>11.2</td>\n",
              "      <td>6</td>\n",
              "      <td>1</td>\n",
              "    </tr>\n",
              "    <tr>\n",
              "      <th>1597</th>\n",
              "      <td>5.9</td>\n",
              "      <td>0.645</td>\n",
              "      <td>0.12</td>\n",
              "      <td>2.0</td>\n",
              "      <td>0.075</td>\n",
              "      <td>32.0</td>\n",
              "      <td>44.0</td>\n",
              "      <td>0.99547</td>\n",
              "      <td>3.57</td>\n",
              "      <td>0.71</td>\n",
              "      <td>10.2</td>\n",
              "      <td>5</td>\n",
              "      <td>1</td>\n",
              "    </tr>\n",
              "    <tr>\n",
              "      <th>1598</th>\n",
              "      <td>6.0</td>\n",
              "      <td>0.310</td>\n",
              "      <td>0.47</td>\n",
              "      <td>3.6</td>\n",
              "      <td>0.067</td>\n",
              "      <td>18.0</td>\n",
              "      <td>42.0</td>\n",
              "      <td>0.99549</td>\n",
              "      <td>3.39</td>\n",
              "      <td>0.66</td>\n",
              "      <td>11.0</td>\n",
              "      <td>6</td>\n",
              "      <td>1</td>\n",
              "    </tr>\n",
              "  </tbody>\n",
              "</table>\n",
              "<p>1359 rows × 13 columns</p>\n",
              "</div>"
            ],
            "text/plain": [
              "      fixed acidity  volatile acidity  citric acid  ...  alcohol  quality  is_red\n",
              "0               7.4             0.700         0.00  ...      9.4        5       1\n",
              "1               7.8             0.880         0.00  ...      9.8        5       1\n",
              "2               7.8             0.760         0.04  ...      9.8        5       1\n",
              "3              11.2             0.280         0.56  ...      9.8        6       1\n",
              "5               7.4             0.660         0.00  ...      9.4        5       1\n",
              "...             ...               ...          ...  ...      ...      ...     ...\n",
              "1593            6.8             0.620         0.08  ...      9.5        6       1\n",
              "1594            6.2             0.600         0.08  ...     10.5        5       1\n",
              "1595            5.9             0.550         0.10  ...     11.2        6       1\n",
              "1597            5.9             0.645         0.12  ...     10.2        5       1\n",
              "1598            6.0             0.310         0.47  ...     11.0        6       1\n",
              "\n",
              "[1359 rows x 13 columns]"
            ]
          },
          "metadata": {
            "tags": []
          },
          "execution_count": 34
        }
      ]
    },
    {
      "cell_type": "code",
      "metadata": {
        "colab": {
          "base_uri": "https://localhost:8080/"
        },
        "id": "Fb99v4xaaz_E",
        "outputId": "c09f8d28-3103-45ec-e21e-6a0a4f731557"
      },
      "source": [
        "print(red_df.alcohol[0])\n",
        "print(red_df.alcohol[100])\n",
        "\n",
        "# EXPECTED OUTPUT\n",
        "# 9.4\n",
        "# 10.2"
      ],
      "execution_count": 35,
      "outputs": [
        {
          "output_type": "stream",
          "text": [
            "9.4\n",
            "10.2\n"
          ],
          "name": "stdout"
        }
      ]
    },
    {
      "cell_type": "markdown",
      "metadata": {
        "id": "viCgpTkHKLsu"
      },
      "source": [
        "Concatenate the datasets"
      ]
    },
    {
      "cell_type": "code",
      "metadata": {
        "id": "y3v5qCeDa4-Z"
      },
      "source": [
        "# concatenate the red and white wine dataframes\n",
        "df = pd.concat([red_df, white_df], ignore_index=True)"
      ],
      "execution_count": 36,
      "outputs": []
    },
    {
      "cell_type": "code",
      "metadata": {
        "colab": {
          "base_uri": "https://localhost:8080/"
        },
        "id": "o-CDfXxMbAPT",
        "outputId": "3fe42d68-7730-4281-be96-f0e11b2e6517"
      },
      "source": [
        "print(df.alcohol[0])\n",
        "print(df.alcohol[100])\n",
        "\n",
        "# EXPECTED OUTPUT\n",
        "# 9.4\n",
        "# 9.5"
      ],
      "execution_count": 37,
      "outputs": [
        {
          "output_type": "stream",
          "text": [
            "9.4\n",
            "9.5\n"
          ],
          "name": "stdout"
        }
      ]
    },
    {
      "cell_type": "markdown",
      "metadata": {
        "id": "4xEmm94Kb8Fz"
      },
      "source": [
        "In a real-world scenario, you should shuffle the data but the test is performed by deterministic data, therefore you can shuffle it after you test."
      ]
    },
    {
      "cell_type": "code",
      "metadata": {
        "id": "yCfYtsVSca8v"
      },
      "source": [
        "#df = df.iloc[np.random.permutation(len(df))]"
      ],
      "execution_count": null,
      "outputs": []
    },
    {
      "cell_type": "markdown",
      "metadata": {
        "id": "YZ8bjhr_chTc"
      },
      "source": [
        "Chart the quality of the wines"
      ]
    },
    {
      "cell_type": "code",
      "metadata": {
        "colab": {
          "base_uri": "https://localhost:8080/",
          "height": 265
        },
        "id": "6SZCOQimckoM",
        "outputId": "cc27c4e1-7fd3-404e-ba5c-60b65426c51d"
      },
      "source": [
        "# imbalanced wine quality dataset\n",
        "df['quality'].hist(bins=20);"
      ],
      "execution_count": 44,
      "outputs": [
        {
          "output_type": "display_data",
          "data": {
            "image/png": "[encoded data removed]",
            "text/plain": [
              "<Figure size 432x288 with 1 Axes>"
            ]
          },
          "metadata": {
            "tags": [],
            "needs_background": "light"
          }
        }
      ]
    },
    {
      "cell_type": "code",
      "metadata": {
        "colab": {
          "base_uri": "https://localhost:8080/"
        },
        "id": "oIIg5dqdcok0",
        "outputId": "b31fa622-5b5b-4cea-89c3-5483ff1852d9"
      },
      "source": [
        "df[\"quality\"]"
      ],
      "execution_count": 39,
      "outputs": [
        {
          "output_type": "execute_result",
          "data": {
            "text/plain": [
              "0       5\n",
              "1       5\n",
              "2       5\n",
              "3       6\n",
              "4       5\n",
              "       ..\n",
              "5315    6\n",
              "5316    5\n",
              "5317    6\n",
              "5318    7\n",
              "5319    6\n",
              "Name: quality, Length: 5320, dtype: int64"
            ]
          },
          "metadata": {
            "tags": []
          },
          "execution_count": 39
        }
      ]
    },
    {
      "cell_type": "markdown",
      "metadata": {
        "id": "grcFD3P3Kn4b"
      },
      "source": [
        "Imbalanced data\n",
        "\n",
        "* Since there are very few observations with quality equal to 3, 4, 8 and 9, you can drop these observations from your dataset.\n",
        "\n",
        "* You can do this by removing data belonging to all classes except those > 4 and < 8."
      ]
    },
    {
      "cell_type": "code",
      "metadata": {
        "id": "MbbOhrcTdUIG"
      },
      "source": [
        "# get data with wine quality greater than 4 and less than 8\n",
        "df = df[(df['quality'] > 4) & (df['quality'] < 8 )]\n"
      ],
      "execution_count": 46,
      "outputs": []
    },
    {
      "cell_type": "code",
      "metadata": {
        "colab": {
          "base_uri": "https://localhost:8080/",
          "height": 391
        },
        "id": "hc6fvo94e1td",
        "outputId": "08aa6738-4183-4702-e052-27a193d2d88d"
      },
      "source": [
        "df"
      ],
      "execution_count": 47,
      "outputs": [
        {
          "output_type": "execute_result",
          "data": {
            "text/html": [
              "<div>\n",
              "<style scoped>\n",
              "    .dataframe tbody tr th:only-of-type {\n",
              "        vertical-align: middle;\n",
              "    }\n",
              "\n",
              "    .dataframe tbody tr th {\n",
              "        vertical-align: top;\n",
              "    }\n",
              "\n",
              "    .dataframe thead th {\n",
              "        text-align: right;\n",
              "    }\n",
              "</style>\n",
              "<table border=\"1\" class=\"dataframe\">\n",
              "  <thead>\n",
              "    <tr style=\"text-align: right;\">\n",
              "      <th></th>\n",
              "      <th>fixed acidity</th>\n",
              "      <th>volatile acidity</th>\n",
              "      <th>citric acid</th>\n",
              "      <th>residual sugar</th>\n",
              "      <th>chlorides</th>\n",
              "      <th>free sulfur dioxide</th>\n",
              "      <th>total sulfur dioxide</th>\n",
              "      <th>density</th>\n",
              "      <th>pH</th>\n",
              "      <th>sulphates</th>\n",
              "      <th>alcohol</th>\n",
              "      <th>quality</th>\n",
              "      <th>is_red</th>\n",
              "    </tr>\n",
              "  </thead>\n",
              "  <tbody>\n",
              "    <tr>\n",
              "      <th>0</th>\n",
              "      <td>7.4</td>\n",
              "      <td>0.70</td>\n",
              "      <td>0.00</td>\n",
              "      <td>1.9</td>\n",
              "      <td>0.076</td>\n",
              "      <td>11.0</td>\n",
              "      <td>34.0</td>\n",
              "      <td>0.99780</td>\n",
              "      <td>3.51</td>\n",
              "      <td>0.56</td>\n",
              "      <td>9.4</td>\n",
              "      <td>5</td>\n",
              "      <td>1</td>\n",
              "    </tr>\n",
              "    <tr>\n",
              "      <th>1</th>\n",
              "      <td>7.8</td>\n",
              "      <td>0.88</td>\n",
              "      <td>0.00</td>\n",
              "      <td>2.6</td>\n",
              "      <td>0.098</td>\n",
              "      <td>25.0</td>\n",
              "      <td>67.0</td>\n",
              "      <td>0.99680</td>\n",
              "      <td>3.20</td>\n",
              "      <td>0.68</td>\n",
              "      <td>9.8</td>\n",
              "      <td>5</td>\n",
              "      <td>1</td>\n",
              "    </tr>\n",
              "    <tr>\n",
              "      <th>2</th>\n",
              "      <td>7.8</td>\n",
              "      <td>0.76</td>\n",
              "      <td>0.04</td>\n",
              "      <td>2.3</td>\n",
              "      <td>0.092</td>\n",
              "      <td>15.0</td>\n",
              "      <td>54.0</td>\n",
              "      <td>0.99700</td>\n",
              "      <td>3.26</td>\n",
              "      <td>0.65</td>\n",
              "      <td>9.8</td>\n",
              "      <td>5</td>\n",
              "      <td>1</td>\n",
              "    </tr>\n",
              "    <tr>\n",
              "      <th>3</th>\n",
              "      <td>11.2</td>\n",
              "      <td>0.28</td>\n",
              "      <td>0.56</td>\n",
              "      <td>1.9</td>\n",
              "      <td>0.075</td>\n",
              "      <td>17.0</td>\n",
              "      <td>60.0</td>\n",
              "      <td>0.99800</td>\n",
              "      <td>3.16</td>\n",
              "      <td>0.58</td>\n",
              "      <td>9.8</td>\n",
              "      <td>6</td>\n",
              "      <td>1</td>\n",
              "    </tr>\n",
              "    <tr>\n",
              "      <th>4</th>\n",
              "      <td>7.4</td>\n",
              "      <td>0.66</td>\n",
              "      <td>0.00</td>\n",
              "      <td>1.8</td>\n",
              "      <td>0.075</td>\n",
              "      <td>13.0</td>\n",
              "      <td>40.0</td>\n",
              "      <td>0.99780</td>\n",
              "      <td>3.51</td>\n",
              "      <td>0.56</td>\n",
              "      <td>9.4</td>\n",
              "      <td>5</td>\n",
              "      <td>1</td>\n",
              "    </tr>\n",
              "    <tr>\n",
              "      <th>...</th>\n",
              "      <td>...</td>\n",
              "      <td>...</td>\n",
              "      <td>...</td>\n",
              "      <td>...</td>\n",
              "      <td>...</td>\n",
              "      <td>...</td>\n",
              "      <td>...</td>\n",
              "      <td>...</td>\n",
              "      <td>...</td>\n",
              "      <td>...</td>\n",
              "      <td>...</td>\n",
              "      <td>...</td>\n",
              "      <td>...</td>\n",
              "    </tr>\n",
              "    <tr>\n",
              "      <th>4926</th>\n",
              "      <td>6.2</td>\n",
              "      <td>0.21</td>\n",
              "      <td>0.29</td>\n",
              "      <td>1.6</td>\n",
              "      <td>0.039</td>\n",
              "      <td>24.0</td>\n",
              "      <td>92.0</td>\n",
              "      <td>0.99114</td>\n",
              "      <td>3.27</td>\n",
              "      <td>0.50</td>\n",
              "      <td>11.2</td>\n",
              "      <td>6</td>\n",
              "      <td>0</td>\n",
              "    </tr>\n",
              "    <tr>\n",
              "      <th>4927</th>\n",
              "      <td>6.6</td>\n",
              "      <td>0.32</td>\n",
              "      <td>0.36</td>\n",
              "      <td>8.0</td>\n",
              "      <td>0.047</td>\n",
              "      <td>57.0</td>\n",
              "      <td>168.0</td>\n",
              "      <td>0.99490</td>\n",
              "      <td>3.15</td>\n",
              "      <td>0.46</td>\n",
              "      <td>9.6</td>\n",
              "      <td>5</td>\n",
              "      <td>0</td>\n",
              "    </tr>\n",
              "    <tr>\n",
              "      <th>4928</th>\n",
              "      <td>6.5</td>\n",
              "      <td>0.24</td>\n",
              "      <td>0.19</td>\n",
              "      <td>1.2</td>\n",
              "      <td>0.041</td>\n",
              "      <td>30.0</td>\n",
              "      <td>111.0</td>\n",
              "      <td>0.99254</td>\n",
              "      <td>2.99</td>\n",
              "      <td>0.46</td>\n",
              "      <td>9.4</td>\n",
              "      <td>6</td>\n",
              "      <td>0</td>\n",
              "    </tr>\n",
              "    <tr>\n",
              "      <th>4929</th>\n",
              "      <td>5.5</td>\n",
              "      <td>0.29</td>\n",
              "      <td>0.30</td>\n",
              "      <td>1.1</td>\n",
              "      <td>0.022</td>\n",
              "      <td>20.0</td>\n",
              "      <td>110.0</td>\n",
              "      <td>0.98869</td>\n",
              "      <td>3.34</td>\n",
              "      <td>0.38</td>\n",
              "      <td>12.8</td>\n",
              "      <td>7</td>\n",
              "      <td>0</td>\n",
              "    </tr>\n",
              "    <tr>\n",
              "      <th>4930</th>\n",
              "      <td>6.0</td>\n",
              "      <td>0.21</td>\n",
              "      <td>0.38</td>\n",
              "      <td>0.8</td>\n",
              "      <td>0.020</td>\n",
              "      <td>22.0</td>\n",
              "      <td>98.0</td>\n",
              "      <td>0.98941</td>\n",
              "      <td>3.26</td>\n",
              "      <td>0.32</td>\n",
              "      <td>11.8</td>\n",
              "      <td>6</td>\n",
              "      <td>0</td>\n",
              "    </tr>\n",
              "  </tbody>\n",
              "</table>\n",
              "<p>4931 rows × 13 columns</p>\n",
              "</div>"
            ],
            "text/plain": [
              "      fixed acidity  volatile acidity  citric acid  ...  alcohol  quality  is_red\n",
              "0               7.4              0.70         0.00  ...      9.4        5       1\n",
              "1               7.8              0.88         0.00  ...      9.8        5       1\n",
              "2               7.8              0.76         0.04  ...      9.8        5       1\n",
              "3              11.2              0.28         0.56  ...      9.8        6       1\n",
              "4               7.4              0.66         0.00  ...      9.4        5       1\n",
              "...             ...               ...          ...  ...      ...      ...     ...\n",
              "4926            6.2              0.21         0.29  ...     11.2        6       0\n",
              "4927            6.6              0.32         0.36  ...      9.6        5       0\n",
              "4928            6.5              0.24         0.19  ...      9.4        6       0\n",
              "4929            5.5              0.29         0.30  ...     12.8        7       0\n",
              "4930            6.0              0.21         0.38  ...     11.8        6       0\n",
              "\n",
              "[4931 rows x 13 columns]"
            ]
          },
          "metadata": {
            "tags": []
          },
          "execution_count": 47
        }
      ]
    },
    {
      "cell_type": "code",
      "metadata": {
        "id": "RTN39wn2e0oC"
      },
      "source": [
        "# reset index and drop the old one\n",
        "df = df.reset_index(drop=True)\n",
        "# for more detail: https://pandas.pydata.org/pandas-docs/version/0.22/generated/pandas.DataFrame.reset_index.html"
      ],
      "execution_count": 48,
      "outputs": []
    },
    {
      "cell_type": "code",
      "metadata": {
        "colab": {
          "base_uri": "https://localhost:8080/",
          "height": 391
        },
        "id": "ScKkJcDYe2RJ",
        "outputId": "b780e31c-6c95-4ada-d7e0-6d75b782eee0"
      },
      "source": [
        "df"
      ],
      "execution_count": 49,
      "outputs": [
        {
          "output_type": "execute_result",
          "data": {
            "text/html": [
              "<div>\n",
              "<style scoped>\n",
              "    .dataframe tbody tr th:only-of-type {\n",
              "        vertical-align: middle;\n",
              "    }\n",
              "\n",
              "    .dataframe tbody tr th {\n",
              "        vertical-align: top;\n",
              "    }\n",
              "\n",
              "    .dataframe thead th {\n",
              "        text-align: right;\n",
              "    }\n",
              "</style>\n",
              "<table border=\"1\" class=\"dataframe\">\n",
              "  <thead>\n",
              "    <tr style=\"text-align: right;\">\n",
              "      <th></th>\n",
              "      <th>fixed acidity</th>\n",
              "      <th>volatile acidity</th>\n",
              "      <th>citric acid</th>\n",
              "      <th>residual sugar</th>\n",
              "      <th>chlorides</th>\n",
              "      <th>free sulfur dioxide</th>\n",
              "      <th>total sulfur dioxide</th>\n",
              "      <th>density</th>\n",
              "      <th>pH</th>\n",
              "      <th>sulphates</th>\n",
              "      <th>alcohol</th>\n",
              "      <th>quality</th>\n",
              "      <th>is_red</th>\n",
              "    </tr>\n",
              "  </thead>\n",
              "  <tbody>\n",
              "    <tr>\n",
              "      <th>0</th>\n",
              "      <td>7.4</td>\n",
              "      <td>0.70</td>\n",
              "      <td>0.00</td>\n",
              "      <td>1.9</td>\n",
              "      <td>0.076</td>\n",
              "      <td>11.0</td>\n",
              "      <td>34.0</td>\n",
              "      <td>0.99780</td>\n",
              "      <td>3.51</td>\n",
              "      <td>0.56</td>\n",
              "      <td>9.4</td>\n",
              "      <td>5</td>\n",
              "      <td>1</td>\n",
              "    </tr>\n",
              "    <tr>\n",
              "      <th>1</th>\n",
              "      <td>7.8</td>\n",
              "      <td>0.88</td>\n",
              "      <td>0.00</td>\n",
              "      <td>2.6</td>\n",
              "      <td>0.098</td>\n",
              "      <td>25.0</td>\n",
              "      <td>67.0</td>\n",
              "      <td>0.99680</td>\n",
              "      <td>3.20</td>\n",
              "      <td>0.68</td>\n",
              "      <td>9.8</td>\n",
              "      <td>5</td>\n",
              "      <td>1</td>\n",
              "    </tr>\n",
              "    <tr>\n",
              "      <th>2</th>\n",
              "      <td>7.8</td>\n",
              "      <td>0.76</td>\n",
              "      <td>0.04</td>\n",
              "      <td>2.3</td>\n",
              "      <td>0.092</td>\n",
              "      <td>15.0</td>\n",
              "      <td>54.0</td>\n",
              "      <td>0.99700</td>\n",
              "      <td>3.26</td>\n",
              "      <td>0.65</td>\n",
              "      <td>9.8</td>\n",
              "      <td>5</td>\n",
              "      <td>1</td>\n",
              "    </tr>\n",
              "    <tr>\n",
              "      <th>3</th>\n",
              "      <td>11.2</td>\n",
              "      <td>0.28</td>\n",
              "      <td>0.56</td>\n",
              "      <td>1.9</td>\n",
              "      <td>0.075</td>\n",
              "      <td>17.0</td>\n",
              "      <td>60.0</td>\n",
              "      <td>0.99800</td>\n",
              "      <td>3.16</td>\n",
              "      <td>0.58</td>\n",
              "      <td>9.8</td>\n",
              "      <td>6</td>\n",
              "      <td>1</td>\n",
              "    </tr>\n",
              "    <tr>\n",
              "      <th>4</th>\n",
              "      <td>7.4</td>\n",
              "      <td>0.66</td>\n",
              "      <td>0.00</td>\n",
              "      <td>1.8</td>\n",
              "      <td>0.075</td>\n",
              "      <td>13.0</td>\n",
              "      <td>40.0</td>\n",
              "      <td>0.99780</td>\n",
              "      <td>3.51</td>\n",
              "      <td>0.56</td>\n",
              "      <td>9.4</td>\n",
              "      <td>5</td>\n",
              "      <td>1</td>\n",
              "    </tr>\n",
              "    <tr>\n",
              "      <th>...</th>\n",
              "      <td>...</td>\n",
              "      <td>...</td>\n",
              "      <td>...</td>\n",
              "      <td>...</td>\n",
              "      <td>...</td>\n",
              "      <td>...</td>\n",
              "      <td>...</td>\n",
              "      <td>...</td>\n",
              "      <td>...</td>\n",
              "      <td>...</td>\n",
              "      <td>...</td>\n",
              "      <td>...</td>\n",
              "      <td>...</td>\n",
              "    </tr>\n",
              "    <tr>\n",
              "      <th>4926</th>\n",
              "      <td>6.2</td>\n",
              "      <td>0.21</td>\n",
              "      <td>0.29</td>\n",
              "      <td>1.6</td>\n",
              "      <td>0.039</td>\n",
              "      <td>24.0</td>\n",
              "      <td>92.0</td>\n",
              "      <td>0.99114</td>\n",
              "      <td>3.27</td>\n",
              "      <td>0.50</td>\n",
              "      <td>11.2</td>\n",
              "      <td>6</td>\n",
              "      <td>0</td>\n",
              "    </tr>\n",
              "    <tr>\n",
              "      <th>4927</th>\n",
              "      <td>6.6</td>\n",
              "      <td>0.32</td>\n",
              "      <td>0.36</td>\n",
              "      <td>8.0</td>\n",
              "      <td>0.047</td>\n",
              "      <td>57.0</td>\n",
              "      <td>168.0</td>\n",
              "      <td>0.99490</td>\n",
              "      <td>3.15</td>\n",
              "      <td>0.46</td>\n",
              "      <td>9.6</td>\n",
              "      <td>5</td>\n",
              "      <td>0</td>\n",
              "    </tr>\n",
              "    <tr>\n",
              "      <th>4928</th>\n",
              "      <td>6.5</td>\n",
              "      <td>0.24</td>\n",
              "      <td>0.19</td>\n",
              "      <td>1.2</td>\n",
              "      <td>0.041</td>\n",
              "      <td>30.0</td>\n",
              "      <td>111.0</td>\n",
              "      <td>0.99254</td>\n",
              "      <td>2.99</td>\n",
              "      <td>0.46</td>\n",
              "      <td>9.4</td>\n",
              "      <td>6</td>\n",
              "      <td>0</td>\n",
              "    </tr>\n",
              "    <tr>\n",
              "      <th>4929</th>\n",
              "      <td>5.5</td>\n",
              "      <td>0.29</td>\n",
              "      <td>0.30</td>\n",
              "      <td>1.1</td>\n",
              "      <td>0.022</td>\n",
              "      <td>20.0</td>\n",
              "      <td>110.0</td>\n",
              "      <td>0.98869</td>\n",
              "      <td>3.34</td>\n",
              "      <td>0.38</td>\n",
              "      <td>12.8</td>\n",
              "      <td>7</td>\n",
              "      <td>0</td>\n",
              "    </tr>\n",
              "    <tr>\n",
              "      <th>4930</th>\n",
              "      <td>6.0</td>\n",
              "      <td>0.21</td>\n",
              "      <td>0.38</td>\n",
              "      <td>0.8</td>\n",
              "      <td>0.020</td>\n",
              "      <td>22.0</td>\n",
              "      <td>98.0</td>\n",
              "      <td>0.98941</td>\n",
              "      <td>3.26</td>\n",
              "      <td>0.32</td>\n",
              "      <td>11.8</td>\n",
              "      <td>6</td>\n",
              "      <td>0</td>\n",
              "    </tr>\n",
              "  </tbody>\n",
              "</table>\n",
              "<p>4931 rows × 13 columns</p>\n",
              "</div>"
            ],
            "text/plain": [
              "      fixed acidity  volatile acidity  citric acid  ...  alcohol  quality  is_red\n",
              "0               7.4              0.70         0.00  ...      9.4        5       1\n",
              "1               7.8              0.88         0.00  ...      9.8        5       1\n",
              "2               7.8              0.76         0.04  ...      9.8        5       1\n",
              "3              11.2              0.28         0.56  ...      9.8        6       1\n",
              "4               7.4              0.66         0.00  ...      9.4        5       1\n",
              "...             ...               ...          ...  ...      ...      ...     ...\n",
              "4926            6.2              0.21         0.29  ...     11.2        6       0\n",
              "4927            6.6              0.32         0.36  ...      9.6        5       0\n",
              "4928            6.5              0.24         0.19  ...      9.4        6       0\n",
              "4929            5.5              0.29         0.30  ...     12.8        7       0\n",
              "4930            6.0              0.21         0.38  ...     11.8        6       0\n",
              "\n",
              "[4931 rows x 13 columns]"
            ]
          },
          "metadata": {
            "tags": []
          },
          "execution_count": 49
        }
      ]
    },
    {
      "cell_type": "code",
      "metadata": {
        "colab": {
          "base_uri": "https://localhost:8080/"
        },
        "id": "vTbSgRz6f8In",
        "outputId": "9887848b-0ae3-4a63-f1a7-d5b725fd0ea5"
      },
      "source": [
        "print(df.alcohol[0])\n",
        "print(df.alcohol[100])\n",
        "\n",
        "# EXPECTED OUTPUT\n",
        "# 9.4\n",
        "# 10.9"
      ],
      "execution_count": 50,
      "outputs": [
        {
          "output_type": "stream",
          "text": [
            "9.4\n",
            "10.9\n"
          ],
          "name": "stdout"
        }
      ]
    },
    {
      "cell_type": "code",
      "metadata": {
        "colab": {
          "base_uri": "https://localhost:8080/",
          "height": 265
        },
        "id": "2yExdyESf_EU",
        "outputId": "43a75a17-8fad-42a1-ec12-4886d5bf8137"
      },
      "source": [
        "df['quality'].hist(bins=20);"
      ],
      "execution_count": 51,
      "outputs": [
        {
          "output_type": "display_data",
          "data": {
            "image/png": "[encoded data removed]",
            "text/plain": [
              "<Figure size 432x288 with 1 Axes>"
            ]
          },
          "metadata": {
            "tags": [],
            "needs_background": "light"
          }
        }
      ]
    },
    {
      "cell_type": "markdown",
      "metadata": {
        "id": "yaCzzpgMKptJ"
      },
      "source": [
        "# Split Training, Validatation and Test Datasets\n",
        "\n",
        "* The data frame should be split **80:20** into `train` and `test` sets.\n",
        "\n",
        "* The resulting `train` should then be split **80:20** into `train` and `val` sets.\n",
        "\n",
        "* The `train_test_split` parameter `test_size` takes a float value that ranges between 0. and 1, and represents the proportion of the dataset that is allocated to the test set. The rest of the data is allocated to the training set."
      ]
    },
    {
      "cell_type": "code",
      "metadata": {
        "id": "gufA8KKJhS0W"
      },
      "source": [
        "# Please do not change the random_state parameter.\n",
        "\n",
        "# split df into 80:20 train and test sets\n",
        "train, test = train_test_split(df, test_size=0.2, random_state = 1)\n",
        "                               \n",
        "# split train into 80:20 train and val sets\n",
        "train, val = train_test_split(train, test_size=0.2, random_state = 1)"
      ],
      "execution_count": 53,
      "outputs": []
    },
    {
      "cell_type": "markdown",
      "metadata": {
        "id": "4ZD9lJjsh01Q"
      },
      "source": [
        "Explore the training stats. Pop the labels `is_red` and `quality` from the data as these will be used as the labels."
      ]
    },
    {
      "cell_type": "code",
      "metadata": {
        "id": "JffOIARwh1aA"
      },
      "source": [
        "train_stats = train.describe()\n",
        "train_stats.pop('is_red')\n",
        "train_stats.pop('quality')\n",
        "train_stats = train_stats.transpose()"
      ],
      "execution_count": 54,
      "outputs": []
    },
    {
      "cell_type": "code",
      "metadata": {
        "colab": {
          "base_uri": "https://localhost:8080/",
          "height": 363
        },
        "id": "XQmE6nU9h1_x",
        "outputId": "b801b5bb-b482-44e2-d4f3-3df73a11732e"
      },
      "source": [
        "train_stats"
      ],
      "execution_count": 55,
      "outputs": [
        {
          "output_type": "execute_result",
          "data": {
            "text/html": [
              "<div>\n",
              "<style scoped>\n",
              "    .dataframe tbody tr th:only-of-type {\n",
              "        vertical-align: middle;\n",
              "    }\n",
              "\n",
              "    .dataframe tbody tr th {\n",
              "        vertical-align: top;\n",
              "    }\n",
              "\n",
              "    .dataframe thead th {\n",
              "        text-align: right;\n",
              "    }\n",
              "</style>\n",
              "<table border=\"1\" class=\"dataframe\">\n",
              "  <thead>\n",
              "    <tr style=\"text-align: right;\">\n",
              "      <th></th>\n",
              "      <th>count</th>\n",
              "      <th>mean</th>\n",
              "      <th>std</th>\n",
              "      <th>min</th>\n",
              "      <th>25%</th>\n",
              "      <th>50%</th>\n",
              "      <th>75%</th>\n",
              "      <th>max</th>\n",
              "    </tr>\n",
              "  </thead>\n",
              "  <tbody>\n",
              "    <tr>\n",
              "      <th>fixed acidity</th>\n",
              "      <td>3155.0</td>\n",
              "      <td>7.221616</td>\n",
              "      <td>1.325297</td>\n",
              "      <td>3.80000</td>\n",
              "      <td>6.40000</td>\n",
              "      <td>7.00000</td>\n",
              "      <td>7.7000</td>\n",
              "      <td>15.60000</td>\n",
              "    </tr>\n",
              "    <tr>\n",
              "      <th>volatile acidity</th>\n",
              "      <td>3155.0</td>\n",
              "      <td>0.338929</td>\n",
              "      <td>0.162476</td>\n",
              "      <td>0.08000</td>\n",
              "      <td>0.23000</td>\n",
              "      <td>0.29000</td>\n",
              "      <td>0.4000</td>\n",
              "      <td>1.24000</td>\n",
              "    </tr>\n",
              "    <tr>\n",
              "      <th>citric acid</th>\n",
              "      <td>3155.0</td>\n",
              "      <td>0.321569</td>\n",
              "      <td>0.147970</td>\n",
              "      <td>0.00000</td>\n",
              "      <td>0.25000</td>\n",
              "      <td>0.31000</td>\n",
              "      <td>0.4000</td>\n",
              "      <td>1.66000</td>\n",
              "    </tr>\n",
              "    <tr>\n",
              "      <th>residual sugar</th>\n",
              "      <td>3155.0</td>\n",
              "      <td>5.155911</td>\n",
              "      <td>4.639632</td>\n",
              "      <td>0.60000</td>\n",
              "      <td>1.80000</td>\n",
              "      <td>2.80000</td>\n",
              "      <td>7.6500</td>\n",
              "      <td>65.80000</td>\n",
              "    </tr>\n",
              "    <tr>\n",
              "      <th>chlorides</th>\n",
              "      <td>3155.0</td>\n",
              "      <td>0.056976</td>\n",
              "      <td>0.036802</td>\n",
              "      <td>0.01200</td>\n",
              "      <td>0.03800</td>\n",
              "      <td>0.04700</td>\n",
              "      <td>0.0660</td>\n",
              "      <td>0.61100</td>\n",
              "    </tr>\n",
              "    <tr>\n",
              "      <th>free sulfur dioxide</th>\n",
              "      <td>3155.0</td>\n",
              "      <td>30.388590</td>\n",
              "      <td>17.236784</td>\n",
              "      <td>1.00000</td>\n",
              "      <td>17.00000</td>\n",
              "      <td>28.00000</td>\n",
              "      <td>41.0000</td>\n",
              "      <td>131.00000</td>\n",
              "    </tr>\n",
              "    <tr>\n",
              "      <th>total sulfur dioxide</th>\n",
              "      <td>3155.0</td>\n",
              "      <td>115.062282</td>\n",
              "      <td>56.706617</td>\n",
              "      <td>6.00000</td>\n",
              "      <td>75.00000</td>\n",
              "      <td>117.00000</td>\n",
              "      <td>156.0000</td>\n",
              "      <td>344.00000</td>\n",
              "    </tr>\n",
              "    <tr>\n",
              "      <th>density</th>\n",
              "      <td>3155.0</td>\n",
              "      <td>0.994633</td>\n",
              "      <td>0.003005</td>\n",
              "      <td>0.98711</td>\n",
              "      <td>0.99232</td>\n",
              "      <td>0.99481</td>\n",
              "      <td>0.9968</td>\n",
              "      <td>1.03898</td>\n",
              "    </tr>\n",
              "    <tr>\n",
              "      <th>pH</th>\n",
              "      <td>3155.0</td>\n",
              "      <td>3.223201</td>\n",
              "      <td>0.161272</td>\n",
              "      <td>2.72000</td>\n",
              "      <td>3.11000</td>\n",
              "      <td>3.21000</td>\n",
              "      <td>3.3300</td>\n",
              "      <td>4.01000</td>\n",
              "    </tr>\n",
              "    <tr>\n",
              "      <th>sulphates</th>\n",
              "      <td>3155.0</td>\n",
              "      <td>0.534051</td>\n",
              "      <td>0.149149</td>\n",
              "      <td>0.22000</td>\n",
              "      <td>0.43000</td>\n",
              "      <td>0.51000</td>\n",
              "      <td>0.6000</td>\n",
              "      <td>1.95000</td>\n",
              "    </tr>\n",
              "    <tr>\n",
              "      <th>alcohol</th>\n",
              "      <td>3155.0</td>\n",
              "      <td>10.504466</td>\n",
              "      <td>1.154654</td>\n",
              "      <td>8.50000</td>\n",
              "      <td>9.50000</td>\n",
              "      <td>10.30000</td>\n",
              "      <td>11.3000</td>\n",
              "      <td>14.00000</td>\n",
              "    </tr>\n",
              "  </tbody>\n",
              "</table>\n",
              "</div>"
            ],
            "text/plain": [
              "                       count        mean  ...       75%        max\n",
              "fixed acidity         3155.0    7.221616  ...    7.7000   15.60000\n",
              "volatile acidity      3155.0    0.338929  ...    0.4000    1.24000\n",
              "citric acid           3155.0    0.321569  ...    0.4000    1.66000\n",
              "residual sugar        3155.0    5.155911  ...    7.6500   65.80000\n",
              "chlorides             3155.0    0.056976  ...    0.0660    0.61100\n",
              "free sulfur dioxide   3155.0   30.388590  ...   41.0000  131.00000\n",
              "total sulfur dioxide  3155.0  115.062282  ...  156.0000  344.00000\n",
              "density               3155.0    0.994633  ...    0.9968    1.03898\n",
              "pH                    3155.0    3.223201  ...    3.3300    4.01000\n",
              "sulphates             3155.0    0.534051  ...    0.6000    1.95000\n",
              "alcohol               3155.0   10.504466  ...   11.3000   14.00000\n",
              "\n",
              "[11 rows x 8 columns]"
            ]
          },
          "metadata": {
            "tags": []
          },
          "execution_count": 55
        }
      ]
    },
    {
      "cell_type": "markdown",
      "metadata": {
        "id": "DE5ZSCx9KuL2"
      },
      "source": [
        "Get the labels\n",
        "\n",
        "The features and labels are currently in the same dataframe\n",
        "\n",
        "- Store the label columns `is_red` and `quality` separately from the feature columns.  \n",
        "- The following function, `format_output`, gets these two columns from the dataframe. Also formats the data into numpy arrays. \n",
        "- Use the `format_output` and apply it to the `train`, `val` and `test` sets to get dataframes for the labels."
      ]
    },
    {
      "cell_type": "code",
      "metadata": {
        "colab": {
          "base_uri": "https://localhost:8080/",
          "height": 191
        },
        "id": "frxuAXoGjyp_",
        "outputId": "a6b99ddd-0afe-4ed1-e4f4-915f983a42db"
      },
      "source": [
        "train.head()"
      ],
      "execution_count": 56,
      "outputs": [
        {
          "output_type": "execute_result",
          "data": {
            "text/html": [
              "<div>\n",
              "<style scoped>\n",
              "    .dataframe tbody tr th:only-of-type {\n",
              "        vertical-align: middle;\n",
              "    }\n",
              "\n",
              "    .dataframe tbody tr th {\n",
              "        vertical-align: top;\n",
              "    }\n",
              "\n",
              "    .dataframe thead th {\n",
              "        text-align: right;\n",
              "    }\n",
              "</style>\n",
              "<table border=\"1\" class=\"dataframe\">\n",
              "  <thead>\n",
              "    <tr style=\"text-align: right;\">\n",
              "      <th></th>\n",
              "      <th>fixed acidity</th>\n",
              "      <th>volatile acidity</th>\n",
              "      <th>citric acid</th>\n",
              "      <th>residual sugar</th>\n",
              "      <th>chlorides</th>\n",
              "      <th>free sulfur dioxide</th>\n",
              "      <th>total sulfur dioxide</th>\n",
              "      <th>density</th>\n",
              "      <th>pH</th>\n",
              "      <th>sulphates</th>\n",
              "      <th>alcohol</th>\n",
              "      <th>quality</th>\n",
              "      <th>is_red</th>\n",
              "    </tr>\n",
              "  </thead>\n",
              "  <tbody>\n",
              "    <tr>\n",
              "      <th>225</th>\n",
              "      <td>7.5</td>\n",
              "      <td>0.65</td>\n",
              "      <td>0.18</td>\n",
              "      <td>7.0</td>\n",
              "      <td>0.088</td>\n",
              "      <td>27.0</td>\n",
              "      <td>94.0</td>\n",
              "      <td>0.99915</td>\n",
              "      <td>3.38</td>\n",
              "      <td>0.77</td>\n",
              "      <td>9.4</td>\n",
              "      <td>5</td>\n",
              "      <td>1</td>\n",
              "    </tr>\n",
              "    <tr>\n",
              "      <th>3557</th>\n",
              "      <td>6.3</td>\n",
              "      <td>0.27</td>\n",
              "      <td>0.29</td>\n",
              "      <td>12.2</td>\n",
              "      <td>0.044</td>\n",
              "      <td>59.0</td>\n",
              "      <td>196.0</td>\n",
              "      <td>0.99782</td>\n",
              "      <td>3.14</td>\n",
              "      <td>0.40</td>\n",
              "      <td>8.8</td>\n",
              "      <td>6</td>\n",
              "      <td>0</td>\n",
              "    </tr>\n",
              "    <tr>\n",
              "      <th>3825</th>\n",
              "      <td>8.8</td>\n",
              "      <td>0.27</td>\n",
              "      <td>0.25</td>\n",
              "      <td>5.0</td>\n",
              "      <td>0.024</td>\n",
              "      <td>52.0</td>\n",
              "      <td>99.0</td>\n",
              "      <td>0.99250</td>\n",
              "      <td>2.87</td>\n",
              "      <td>0.49</td>\n",
              "      <td>11.4</td>\n",
              "      <td>5</td>\n",
              "      <td>0</td>\n",
              "    </tr>\n",
              "    <tr>\n",
              "      <th>1740</th>\n",
              "      <td>6.4</td>\n",
              "      <td>0.45</td>\n",
              "      <td>0.07</td>\n",
              "      <td>1.1</td>\n",
              "      <td>0.030</td>\n",
              "      <td>10.0</td>\n",
              "      <td>131.0</td>\n",
              "      <td>0.99050</td>\n",
              "      <td>2.97</td>\n",
              "      <td>0.28</td>\n",
              "      <td>10.8</td>\n",
              "      <td>5</td>\n",
              "      <td>0</td>\n",
              "    </tr>\n",
              "    <tr>\n",
              "      <th>1221</th>\n",
              "      <td>7.2</td>\n",
              "      <td>0.53</td>\n",
              "      <td>0.13</td>\n",
              "      <td>2.0</td>\n",
              "      <td>0.058</td>\n",
              "      <td>18.0</td>\n",
              "      <td>22.0</td>\n",
              "      <td>0.99573</td>\n",
              "      <td>3.21</td>\n",
              "      <td>0.68</td>\n",
              "      <td>9.9</td>\n",
              "      <td>6</td>\n",
              "      <td>1</td>\n",
              "    </tr>\n",
              "  </tbody>\n",
              "</table>\n",
              "</div>"
            ],
            "text/plain": [
              "      fixed acidity  volatile acidity  citric acid  ...  alcohol  quality  is_red\n",
              "225             7.5              0.65         0.18  ...      9.4        5       1\n",
              "3557            6.3              0.27         0.29  ...      8.8        6       0\n",
              "3825            8.8              0.27         0.25  ...     11.4        5       0\n",
              "1740            6.4              0.45         0.07  ...     10.8        5       0\n",
              "1221            7.2              0.53         0.13  ...      9.9        6       1\n",
              "\n",
              "[5 rows x 13 columns]"
            ]
          },
          "metadata": {
            "tags": []
          },
          "execution_count": 56
        }
      ]
    },
    {
      "cell_type": "code",
      "metadata": {
        "id": "A-9Q55Fnjyjr"
      },
      "source": [
        "def format_output(data):\n",
        "    is_red = data.pop('is_red')\n",
        "    is_red = np.array(is_red)\n",
        "    quality = data.pop('quality')\n",
        "    quality = np.array(quality)\n",
        "    return (quality, is_red)"
      ],
      "execution_count": 57,
      "outputs": []
    },
    {
      "cell_type": "code",
      "metadata": {
        "id": "q3cFwY5hjynC"
      },
      "source": [
        "# format the output of the train set\n",
        "train_Y = format_output(train)\n",
        "\n",
        "# format the output of the val set\n",
        "val_Y = format_output(val)\n",
        "    \n",
        "# format the output of the test set\n",
        "test_Y = format_output(test)"
      ],
      "execution_count": 58,
      "outputs": []
    },
    {
      "cell_type": "markdown",
      "metadata": {
        "id": "-CMKa7UlkgUT"
      },
      "source": [
        "Notice that after you get the labels, the `train`, `val` and `test` dataframes no longer contain the label columns, and contain just the feature columns.\n",
        "- This is because you used `.pop` in the `format_output` function."
      ]
    },
    {
      "cell_type": "code",
      "metadata": {
        "colab": {
          "base_uri": "https://localhost:8080/",
          "height": 191
        },
        "id": "SZViQzjJk1UL",
        "outputId": "1b201e4c-092c-43e4-8215-e12bdad154ae"
      },
      "source": [
        "train.head()"
      ],
      "execution_count": 59,
      "outputs": [
        {
          "output_type": "execute_result",
          "data": {
            "text/html": [
              "<div>\n",
              "<style scoped>\n",
              "    .dataframe tbody tr th:only-of-type {\n",
              "        vertical-align: middle;\n",
              "    }\n",
              "\n",
              "    .dataframe tbody tr th {\n",
              "        vertical-align: top;\n",
              "    }\n",
              "\n",
              "    .dataframe thead th {\n",
              "        text-align: right;\n",
              "    }\n",
              "</style>\n",
              "<table border=\"1\" class=\"dataframe\">\n",
              "  <thead>\n",
              "    <tr style=\"text-align: right;\">\n",
              "      <th></th>\n",
              "      <th>fixed acidity</th>\n",
              "      <th>volatile acidity</th>\n",
              "      <th>citric acid</th>\n",
              "      <th>residual sugar</th>\n",
              "      <th>chlorides</th>\n",
              "      <th>free sulfur dioxide</th>\n",
              "      <th>total sulfur dioxide</th>\n",
              "      <th>density</th>\n",
              "      <th>pH</th>\n",
              "      <th>sulphates</th>\n",
              "      <th>alcohol</th>\n",
              "    </tr>\n",
              "  </thead>\n",
              "  <tbody>\n",
              "    <tr>\n",
              "      <th>225</th>\n",
              "      <td>7.5</td>\n",
              "      <td>0.65</td>\n",
              "      <td>0.18</td>\n",
              "      <td>7.0</td>\n",
              "      <td>0.088</td>\n",
              "      <td>27.0</td>\n",
              "      <td>94.0</td>\n",
              "      <td>0.99915</td>\n",
              "      <td>3.38</td>\n",
              "      <td>0.77</td>\n",
              "      <td>9.4</td>\n",
              "    </tr>\n",
              "    <tr>\n",
              "      <th>3557</th>\n",
              "      <td>6.3</td>\n",
              "      <td>0.27</td>\n",
              "      <td>0.29</td>\n",
              "      <td>12.2</td>\n",
              "      <td>0.044</td>\n",
              "      <td>59.0</td>\n",
              "      <td>196.0</td>\n",
              "      <td>0.99782</td>\n",
              "      <td>3.14</td>\n",
              "      <td>0.40</td>\n",
              "      <td>8.8</td>\n",
              "    </tr>\n",
              "    <tr>\n",
              "      <th>3825</th>\n",
              "      <td>8.8</td>\n",
              "      <td>0.27</td>\n",
              "      <td>0.25</td>\n",
              "      <td>5.0</td>\n",
              "      <td>0.024</td>\n",
              "      <td>52.0</td>\n",
              "      <td>99.0</td>\n",
              "      <td>0.99250</td>\n",
              "      <td>2.87</td>\n",
              "      <td>0.49</td>\n",
              "      <td>11.4</td>\n",
              "    </tr>\n",
              "    <tr>\n",
              "      <th>1740</th>\n",
              "      <td>6.4</td>\n",
              "      <td>0.45</td>\n",
              "      <td>0.07</td>\n",
              "      <td>1.1</td>\n",
              "      <td>0.030</td>\n",
              "      <td>10.0</td>\n",
              "      <td>131.0</td>\n",
              "      <td>0.99050</td>\n",
              "      <td>2.97</td>\n",
              "      <td>0.28</td>\n",
              "      <td>10.8</td>\n",
              "    </tr>\n",
              "    <tr>\n",
              "      <th>1221</th>\n",
              "      <td>7.2</td>\n",
              "      <td>0.53</td>\n",
              "      <td>0.13</td>\n",
              "      <td>2.0</td>\n",
              "      <td>0.058</td>\n",
              "      <td>18.0</td>\n",
              "      <td>22.0</td>\n",
              "      <td>0.99573</td>\n",
              "      <td>3.21</td>\n",
              "      <td>0.68</td>\n",
              "      <td>9.9</td>\n",
              "    </tr>\n",
              "  </tbody>\n",
              "</table>\n",
              "</div>"
            ],
            "text/plain": [
              "      fixed acidity  volatile acidity  citric acid  ...    pH  sulphates  alcohol\n",
              "225             7.5              0.65         0.18  ...  3.38       0.77      9.4\n",
              "3557            6.3              0.27         0.29  ...  3.14       0.40      8.8\n",
              "3825            8.8              0.27         0.25  ...  2.87       0.49     11.4\n",
              "1740            6.4              0.45         0.07  ...  2.97       0.28     10.8\n",
              "1221            7.2              0.53         0.13  ...  3.21       0.68      9.9\n",
              "\n",
              "[5 rows x 11 columns]"
            ]
          },
          "metadata": {
            "tags": []
          },
          "execution_count": 59
        }
      ]
    },
    {
      "cell_type": "markdown",
      "metadata": {
        "id": "0qQdBJXvKw7Y"
      },
      "source": [
        "Normalize the data\n",
        "\n",
        "Next, normalize the data, x, using the formula:\n",
        "$$x_{norm} = \\frac{x - \\mu}{\\sigma}$$\n",
        "- The `norm` function is defined.\n",
        "- Apply the `norm` function to normalize the dataframes that contains the feature columns of `train`, `val` and `test` sets."
      ]
    },
    {
      "cell_type": "code",
      "metadata": {
        "id": "b_rUjDttlJEm"
      },
      "source": [
        "def norm(x):\n",
        "    return (x - train_stats['mean']) / train_stats['std']"
      ],
      "execution_count": 60,
      "outputs": []
    },
    {
      "cell_type": "code",
      "metadata": {
        "id": "53OzMbDFlMih"
      },
      "source": [
        "# normalize the train set\n",
        "norm_train_X = norm(train)\n",
        "    \n",
        "# normalize the val set\n",
        "norm_val_X = norm(val)\n",
        "    \n",
        "# normalize the test set\n",
        "norm_test_X = norm(test)"
      ],
      "execution_count": 61,
      "outputs": []
    },
    {
      "cell_type": "markdown",
      "metadata": {
        "id": "IcLgUOX4Kzsb"
      },
      "source": [
        "# Define the Model\n",
        "\n",
        "Define the model using the functional API. The base model will be 2 `Dense` layers of 128 neurons each, and have the `'relu'` activation.\n",
        "- Check out the documentation for [tf.keras.layers.Dense](https://www.tensorflow.org/api_docs/python/tf/keras/layers/Dense)"
      ]
    },
    {
      "cell_type": "code",
      "metadata": {
        "id": "RTZLxnRHleNj"
      },
      "source": [
        "def base_model(inputs):\n",
        "    \n",
        "    # connect a Dense layer with 128 neurons and a relu activation\n",
        "    x = tf.keras.layers.Dense(128, activation='relu')(inputs)\n",
        "    \n",
        "    # connect another Dense layer with 128 neurons and a relu activation\n",
        "    x = tf.keras.layers.Dense(128, activation='relu')(x)\n",
        "    return x"
      ],
      "execution_count": 64,
      "outputs": []
    },
    {
      "cell_type": "markdown",
      "metadata": {
        "id": "3CGQChUtK3iz"
      },
      "source": [
        "Define output layers of the model\n",
        "\n",
        "Add output layers to the base model. \n",
        "- The model will need two outputs.\n",
        "\n",
        "One output layer will predict wine quality, which is a numeric value.\n",
        "- Define a `Dense` layer with 1 neuron.\n",
        "- Since this is a regression output, the activation can be left as its default value `None`.\n",
        "\n",
        "The other output layer will predict the wine type, which is either red `1` or not red `0` (white).\n",
        "- Define a `Dense` layer with 1 neuron.\n",
        "- Since there are two possible categories, you can use a sigmoid activation for binary classification.\n",
        "\n",
        "Define the `Model`\n",
        "- Define the `Model` object, and set the following parameters:\n",
        "  - `inputs`: pass in the inputs to the model as a list.\n",
        "  - `outputs`: pass in a list of the outputs that you just defined: wine quality, then wine type.\n",
        "  - **Note**: please list the wine quality before wine type in the outputs, as this will affect the calculated loss if you choose the other order."
      ]
    },
    {
      "cell_type": "code",
      "metadata": {
        "id": "xybqWvRnsZQ-"
      },
      "source": [
        "def final_model(inputs):\n",
        "    \n",
        "    # get the base model\n",
        "    x = base_model(inputs)\n",
        "\n",
        "    # connect the output Dense layer for regression\n",
        "    wine_quality = Dense(units='1', name='wine_quality')(x)\n",
        "\n",
        "    # connect the output Dense layer for classification. this will use a sigmoid activation.\n",
        "    wine_type = Dense(units='1', activation='sigmoid', name='wine_type')(x)\n",
        "\n",
        "    # define the model using the input and output layers\n",
        "    model = Model(inputs=inputs, outputs=(wine_quality, wine_type))\n",
        "\n",
        "    return model"
      ],
      "execution_count": 65,
      "outputs": []
    },
    {
      "cell_type": "markdown",
      "metadata": {
        "id": "v0jO91aRK67_"
      },
      "source": [
        "Compiling the Model\n",
        "\n",
        "## Compiling the Model\n",
        "\n",
        "When setting the loss parameter of `model.compile`, you're setting the loss for each of the two outputs (wine quality and wine type).\n",
        "\n",
        "To set more than one loss, use a **dictionary of key-value pairs**.\n",
        "- You can look at the docs for the losses [here](https://www.tensorflow.org/api_docs/python/tf/keras/losses#functions).\n",
        "    - **Note**: For the desired spelling, please look at the \"Functions\" section of the documentation and not the \"classes\" section on that same page.\n",
        "- wine_type: Since you will be performing binary classification on wine type, you should use the **binary crossentropy** loss function for it.  Please pass this in as a string.  \n",
        "  - **Hint**, this should be all lowercase.  In the documentation, you'll see this under the \"Functions\" section, not the \"Classes\" section.\n",
        "- wine_quality: since this is a regression output, use the **mean squared error**.  Please pass it in as a string, all lowercase.\n",
        "  - **Hint**: You may notice that there are two aliases for mean squared error.  Please use the shorter name.\n",
        "\n",
        "\n",
        "Also set the metric for each of the two outputs.  Again, to set metrics for two or more outputs, use a dictionary with key value pairs.\n",
        "- The metrics documentation is linked [here](https://www.tensorflow.org/api_docs/python/tf/keras/metrics).\n",
        "- For the wine type, please set it to **accuracy** as a string, all lowercase.\n",
        "- For wine quality, please use the **root mean squared error**.  Instead of a string, you'll set it to an instance of the class [RootMeanSquaredError](https://www.tensorflow.org/api_docs/python/tf/keras/metrics/RootMeanSquaredError), which belongs to the tf.keras.metrics module.\n",
        "\n",
        "**Note**: If you see the error message \n",
        ">Exception: wine quality loss function is incorrect.\n",
        "\n",
        "- Please also check your other losses and metrics, as the error may be caused by the other three key-value pairs and not the wine quality loss."
      ]
    },
    {
      "cell_type": "code",
      "metadata": {
        "id": "TvWK4F35vhxO"
      },
      "source": [
        "inputs = tf.keras.layers.Input(shape=(11,))\n",
        "rms = tf.keras.optimizers.RMSprop(lr=0.0001)\n",
        "model = final_model(inputs)\n",
        "\n",
        "model.compile(optimizer=rms, \n",
        "              loss = {'wine_type' : \"binary_crossentropy\",\n",
        "                      'wine_quality' : \"mean_squared_error\"\n",
        "                     },\n",
        "              metrics = {'wine_type' : \"accuracy\",\n",
        "                         'wine_quality': tf.keras.metrics.RootMeanSquaredError()\n",
        "                       }\n",
        "             )"
      ],
      "execution_count": 66,
      "outputs": []
    },
    {
      "cell_type": "markdown",
      "metadata": {
        "id": "MmViZVSKK-Re"
      },
      "source": [
        "# Train the Model\n",
        "\n",
        "Fit the model to the training inputs and outputs. \n",
        "- Check the documentation for [model.fit](https://www.tensorflow.org/api_docs/python/tf/keras/Model#fit).\n",
        "- Remember to use the normalized training set as inputs. \n",
        "- For the validation data, please use the normalized validation set."
      ]
    },
    {
      "cell_type": "code",
      "metadata": {
        "colab": {
          "base_uri": "https://localhost:8080/"
        },
        "id": "I1JwVxYov0bQ",
        "outputId": "a3344f80-f7d7-4cdf-e85e-60b92dba48e7"
      },
      "source": [
        "history = model.fit(norm_train_X, train_Y,\n",
        "                    epochs = 180, validation_data=(norm_val_X, val_Y))"
      ],
      "execution_count": 67,
      "outputs": [
        {
          "output_type": "stream",
          "text": [
            "Epoch 1/180\n",
            "99/99 [==============================] - 1s 4ms/step - loss: 31.7466 - wine_quality_loss: 31.1123 - wine_type_loss: 0.6343 - wine_quality_root_mean_squared_error: 5.5722 - wine_type_accuracy: 0.7309 - val_loss: 19.9215 - val_wine_quality_loss: 19.2856 - val_wine_type_loss: 0.6359 - val_wine_quality_root_mean_squared_error: 4.3915 - val_wine_type_accuracy: 0.5957\n",
            "Epoch 2/180\n",
            "99/99 [==============================] - 0s 2ms/step - loss: 16.2443 - wine_quality_loss: 15.6175 - wine_type_loss: 0.6268 - wine_quality_root_mean_squared_error: 3.9444 - wine_type_accuracy: 0.6373 - val_loss: 7.8048 - val_wine_quality_loss: 7.2142 - val_wine_type_loss: 0.5906 - val_wine_quality_root_mean_squared_error: 2.6859 - val_wine_type_accuracy: 0.7503\n",
            "Epoch 3/180\n",
            "99/99 [==============================] - 0s 2ms/step - loss: 5.8722 - wine_quality_loss: 5.3072 - wine_type_loss: 0.5651 - wine_quality_root_mean_squared_error: 2.2976 - wine_type_accuracy: 0.7952 - val_loss: 2.9636 - val_wine_quality_loss: 2.5029 - val_wine_type_loss: 0.4607 - val_wine_quality_root_mean_squared_error: 1.5820 - val_wine_type_accuracy: 0.9594\n",
            "Epoch 4/180\n",
            "99/99 [==============================] - 0s 2ms/step - loss: 2.9146 - wine_quality_loss: 2.4943 - wine_type_loss: 0.4203 - wine_quality_root_mean_squared_error: 1.5775 - wine_type_accuracy: 0.9622 - val_loss: 2.3070 - val_wine_quality_loss: 1.9928 - val_wine_type_loss: 0.3143 - val_wine_quality_root_mean_squared_error: 1.4117 - val_wine_type_accuracy: 0.9683\n",
            "Epoch 5/180\n",
            "99/99 [==============================] - 0s 2ms/step - loss: 2.3755 - wine_quality_loss: 2.0895 - wine_type_loss: 0.2859 - wine_quality_root_mean_squared_error: 1.4420 - wine_type_accuracy: 0.9719 - val_loss: 2.0062 - val_wine_quality_loss: 1.7779 - val_wine_type_loss: 0.2284 - val_wine_quality_root_mean_squared_error: 1.3334 - val_wine_type_accuracy: 0.9772\n",
            "Epoch 6/180\n",
            "99/99 [==============================] - 0s 2ms/step - loss: 1.9373 - wine_quality_loss: 1.7324 - wine_type_loss: 0.2049 - wine_quality_root_mean_squared_error: 1.3157 - wine_type_accuracy: 0.9761 - val_loss: 1.7876 - val_wine_quality_loss: 1.6151 - val_wine_type_loss: 0.1725 - val_wine_quality_root_mean_squared_error: 1.2709 - val_wine_type_accuracy: 0.9848\n",
            "Epoch 7/180\n",
            "99/99 [==============================] - 0s 2ms/step - loss: 1.7362 - wine_quality_loss: 1.5815 - wine_type_loss: 0.1547 - wine_quality_root_mean_squared_error: 1.2561 - wine_type_accuracy: 0.9833 - val_loss: 1.6089 - val_wine_quality_loss: 1.4760 - val_wine_type_loss: 0.1329 - val_wine_quality_root_mean_squared_error: 1.2149 - val_wine_type_accuracy: 0.9873\n",
            "Epoch 8/180\n",
            "99/99 [==============================] - 0s 2ms/step - loss: 1.5164 - wine_quality_loss: 1.3946 - wine_type_loss: 0.1218 - wine_quality_root_mean_squared_error: 1.1806 - wine_type_accuracy: 0.9877 - val_loss: 1.4779 - val_wine_quality_loss: 1.3713 - val_wine_type_loss: 0.1066 - val_wine_quality_root_mean_squared_error: 1.1710 - val_wine_type_accuracy: 0.9899\n",
            "Epoch 9/180\n",
            "99/99 [==============================] - 0s 2ms/step - loss: 1.4203 - wine_quality_loss: 1.3248 - wine_type_loss: 0.0956 - wine_quality_root_mean_squared_error: 1.1507 - wine_type_accuracy: 0.9900 - val_loss: 1.3595 - val_wine_quality_loss: 1.2710 - val_wine_type_loss: 0.0885 - val_wine_quality_root_mean_squared_error: 1.1274 - val_wine_type_accuracy: 0.9899\n",
            "Epoch 10/180\n",
            "99/99 [==============================] - 0s 2ms/step - loss: 1.3153 - wine_quality_loss: 1.2337 - wine_type_loss: 0.0816 - wine_quality_root_mean_squared_error: 1.1101 - wine_type_accuracy: 0.9878 - val_loss: 1.2568 - val_wine_quality_loss: 1.1812 - val_wine_type_loss: 0.0756 - val_wine_quality_root_mean_squared_error: 1.0868 - val_wine_type_accuracy: 0.9911\n",
            "Epoch 11/180\n",
            "99/99 [==============================] - 0s 2ms/step - loss: 1.2721 - wine_quality_loss: 1.2080 - wine_type_loss: 0.0641 - wine_quality_root_mean_squared_error: 1.0985 - wine_type_accuracy: 0.9907 - val_loss: 1.1714 - val_wine_quality_loss: 1.1049 - val_wine_type_loss: 0.0664 - val_wine_quality_root_mean_squared_error: 1.0512 - val_wine_type_accuracy: 0.9911\n",
            "Epoch 12/180\n",
            "99/99 [==============================] - 0s 2ms/step - loss: 1.0528 - wine_quality_loss: 0.9881 - wine_type_loss: 0.0647 - wine_quality_root_mean_squared_error: 0.9933 - wine_type_accuracy: 0.9912 - val_loss: 1.1028 - val_wine_quality_loss: 1.0433 - val_wine_type_loss: 0.0595 - val_wine_quality_root_mean_squared_error: 1.0214 - val_wine_type_accuracy: 0.9911\n",
            "Epoch 13/180\n",
            "99/99 [==============================] - 0s 2ms/step - loss: 1.0416 - wine_quality_loss: 0.9852 - wine_type_loss: 0.0564 - wine_quality_root_mean_squared_error: 0.9917 - wine_type_accuracy: 0.9924 - val_loss: 1.0263 - val_wine_quality_loss: 0.9718 - val_wine_type_loss: 0.0545 - val_wine_quality_root_mean_squared_error: 0.9858 - val_wine_type_accuracy: 0.9911\n",
            "Epoch 14/180\n",
            "99/99 [==============================] - 0s 2ms/step - loss: 1.0628 - wine_quality_loss: 1.0089 - wine_type_loss: 0.0539 - wine_quality_root_mean_squared_error: 1.0038 - wine_type_accuracy: 0.9932 - val_loss: 0.9548 - val_wine_quality_loss: 0.9042 - val_wine_type_loss: 0.0506 - val_wine_quality_root_mean_squared_error: 0.9509 - val_wine_type_accuracy: 0.9911\n",
            "Epoch 15/180\n",
            "99/99 [==============================] - 0s 2ms/step - loss: 0.9985 - wine_quality_loss: 0.9425 - wine_type_loss: 0.0560 - wine_quality_root_mean_squared_error: 0.9681 - wine_type_accuracy: 0.9887 - val_loss: 0.9119 - val_wine_quality_loss: 0.8643 - val_wine_type_loss: 0.0475 - val_wine_quality_root_mean_squared_error: 0.9297 - val_wine_type_accuracy: 0.9911\n",
            "Epoch 16/180\n",
            "99/99 [==============================] - 0s 2ms/step - loss: 0.8901 - wine_quality_loss: 0.8363 - wine_type_loss: 0.0538 - wine_quality_root_mean_squared_error: 0.9142 - wine_type_accuracy: 0.9906 - val_loss: 0.8413 - val_wine_quality_loss: 0.7961 - val_wine_type_loss: 0.0452 - val_wine_quality_root_mean_squared_error: 0.8922 - val_wine_type_accuracy: 0.9911\n",
            "Epoch 17/180\n",
            "99/99 [==============================] - 0s 2ms/step - loss: 0.8457 - wine_quality_loss: 0.7942 - wine_type_loss: 0.0515 - wine_quality_root_mean_squared_error: 0.8910 - wine_type_accuracy: 0.9894 - val_loss: 0.7867 - val_wine_quality_loss: 0.7434 - val_wine_type_loss: 0.0433 - val_wine_quality_root_mean_squared_error: 0.8622 - val_wine_type_accuracy: 0.9911\n",
            "Epoch 18/180\n",
            "99/99 [==============================] - 0s 2ms/step - loss: 0.7763 - wine_quality_loss: 0.7344 - wine_type_loss: 0.0420 - wine_quality_root_mean_squared_error: 0.8566 - wine_type_accuracy: 0.9874 - val_loss: 0.7443 - val_wine_quality_loss: 0.7027 - val_wine_type_loss: 0.0416 - val_wine_quality_root_mean_squared_error: 0.8383 - val_wine_type_accuracy: 0.9924\n",
            "Epoch 19/180\n",
            "99/99 [==============================] - 0s 2ms/step - loss: 0.7584 - wine_quality_loss: 0.7237 - wine_type_loss: 0.0347 - wine_quality_root_mean_squared_error: 0.8496 - wine_type_accuracy: 0.9939 - val_loss: 0.7088 - val_wine_quality_loss: 0.6685 - val_wine_type_loss: 0.0403 - val_wine_quality_root_mean_squared_error: 0.8176 - val_wine_type_accuracy: 0.9924\n",
            "Epoch 20/180\n",
            "99/99 [==============================] - 0s 2ms/step - loss: 0.7150 - wine_quality_loss: 0.6751 - wine_type_loss: 0.0399 - wine_quality_root_mean_squared_error: 0.8213 - wine_type_accuracy: 0.9918 - val_loss: 0.6717 - val_wine_quality_loss: 0.6326 - val_wine_type_loss: 0.0391 - val_wine_quality_root_mean_squared_error: 0.7954 - val_wine_type_accuracy: 0.9924\n",
            "Epoch 21/180\n",
            "99/99 [==============================] - 0s 2ms/step - loss: 0.6661 - wine_quality_loss: 0.6366 - wine_type_loss: 0.0294 - wine_quality_root_mean_squared_error: 0.7975 - wine_type_accuracy: 0.9946 - val_loss: 0.6463 - val_wine_quality_loss: 0.6080 - val_wine_type_loss: 0.0382 - val_wine_quality_root_mean_squared_error: 0.7798 - val_wine_type_accuracy: 0.9924\n",
            "Epoch 22/180\n",
            "99/99 [==============================] - 0s 2ms/step - loss: 0.6483 - wine_quality_loss: 0.6105 - wine_type_loss: 0.0378 - wine_quality_root_mean_squared_error: 0.7811 - wine_type_accuracy: 0.9925 - val_loss: 0.6038 - val_wine_quality_loss: 0.5663 - val_wine_type_loss: 0.0375 - val_wine_quality_root_mean_squared_error: 0.7526 - val_wine_type_accuracy: 0.9924\n",
            "Epoch 23/180\n",
            "99/99 [==============================] - 0s 2ms/step - loss: 0.5824 - wine_quality_loss: 0.5426 - wine_type_loss: 0.0399 - wine_quality_root_mean_squared_error: 0.7364 - wine_type_accuracy: 0.9913 - val_loss: 0.5760 - val_wine_quality_loss: 0.5392 - val_wine_type_loss: 0.0367 - val_wine_quality_root_mean_squared_error: 0.7343 - val_wine_type_accuracy: 0.9924\n",
            "Epoch 24/180\n",
            "99/99 [==============================] - 0s 2ms/step - loss: 0.5426 - wine_quality_loss: 0.5100 - wine_type_loss: 0.0326 - wine_quality_root_mean_squared_error: 0.7137 - wine_type_accuracy: 0.9940 - val_loss: 0.5540 - val_wine_quality_loss: 0.5179 - val_wine_type_loss: 0.0361 - val_wine_quality_root_mean_squared_error: 0.7196 - val_wine_type_accuracy: 0.9924\n",
            "Epoch 25/180\n",
            "99/99 [==============================] - 0s 2ms/step - loss: 0.5642 - wine_quality_loss: 0.5173 - wine_type_loss: 0.0470 - wine_quality_root_mean_squared_error: 0.7190 - wine_type_accuracy: 0.9940 - val_loss: 0.5451 - val_wine_quality_loss: 0.5096 - val_wine_type_loss: 0.0355 - val_wine_quality_root_mean_squared_error: 0.7138 - val_wine_type_accuracy: 0.9937\n",
            "Epoch 26/180\n",
            "99/99 [==============================] - 0s 2ms/step - loss: 0.5246 - wine_quality_loss: 0.4930 - wine_type_loss: 0.0315 - wine_quality_root_mean_squared_error: 0.7018 - wine_type_accuracy: 0.9942 - val_loss: 0.5033 - val_wine_quality_loss: 0.4681 - val_wine_type_loss: 0.0352 - val_wine_quality_root_mean_squared_error: 0.6842 - val_wine_type_accuracy: 0.9924\n",
            "Epoch 27/180\n",
            "99/99 [==============================] - 0s 2ms/step - loss: 0.5208 - wine_quality_loss: 0.4884 - wine_type_loss: 0.0325 - wine_quality_root_mean_squared_error: 0.6987 - wine_type_accuracy: 0.9950 - val_loss: 0.4941 - val_wine_quality_loss: 0.4594 - val_wine_type_loss: 0.0346 - val_wine_quality_root_mean_squared_error: 0.6778 - val_wine_type_accuracy: 0.9937\n",
            "Epoch 28/180\n",
            "99/99 [==============================] - 0s 2ms/step - loss: 0.4971 - wine_quality_loss: 0.4686 - wine_type_loss: 0.0285 - wine_quality_root_mean_squared_error: 0.6842 - wine_type_accuracy: 0.9937 - val_loss: 0.4781 - val_wine_quality_loss: 0.4435 - val_wine_type_loss: 0.0345 - val_wine_quality_root_mean_squared_error: 0.6660 - val_wine_type_accuracy: 0.9937\n",
            "Epoch 29/180\n",
            "99/99 [==============================] - 0s 2ms/step - loss: 0.4900 - wine_quality_loss: 0.4545 - wine_type_loss: 0.0356 - wine_quality_root_mean_squared_error: 0.6739 - wine_type_accuracy: 0.9935 - val_loss: 0.4597 - val_wine_quality_loss: 0.4257 - val_wine_type_loss: 0.0340 - val_wine_quality_root_mean_squared_error: 0.6524 - val_wine_type_accuracy: 0.9937\n",
            "Epoch 30/180\n",
            "99/99 [==============================] - 0s 2ms/step - loss: 0.4574 - wine_quality_loss: 0.4332 - wine_type_loss: 0.0242 - wine_quality_root_mean_squared_error: 0.6581 - wine_type_accuracy: 0.9949 - val_loss: 0.4482 - val_wine_quality_loss: 0.4145 - val_wine_type_loss: 0.0337 - val_wine_quality_root_mean_squared_error: 0.6438 - val_wine_type_accuracy: 0.9937\n",
            "Epoch 31/180\n",
            "99/99 [==============================] - 0s 2ms/step - loss: 0.4645 - wine_quality_loss: 0.4295 - wine_type_loss: 0.0350 - wine_quality_root_mean_squared_error: 0.6551 - wine_type_accuracy: 0.9929 - val_loss: 0.4291 - val_wine_quality_loss: 0.3957 - val_wine_type_loss: 0.0334 - val_wine_quality_root_mean_squared_error: 0.6290 - val_wine_type_accuracy: 0.9937\n",
            "Epoch 32/180\n",
            "99/99 [==============================] - 0s 2ms/step - loss: 0.4321 - wine_quality_loss: 0.3926 - wine_type_loss: 0.0395 - wine_quality_root_mean_squared_error: 0.6265 - wine_type_accuracy: 0.9909 - val_loss: 0.4186 - val_wine_quality_loss: 0.3854 - val_wine_type_loss: 0.0332 - val_wine_quality_root_mean_squared_error: 0.6208 - val_wine_type_accuracy: 0.9937\n",
            "Epoch 33/180\n",
            "99/99 [==============================] - 0s 2ms/step - loss: 0.4281 - wine_quality_loss: 0.3927 - wine_type_loss: 0.0354 - wine_quality_root_mean_squared_error: 0.6266 - wine_type_accuracy: 0.9927 - val_loss: 0.4139 - val_wine_quality_loss: 0.3811 - val_wine_type_loss: 0.0329 - val_wine_quality_root_mean_squared_error: 0.6173 - val_wine_type_accuracy: 0.9937\n",
            "Epoch 34/180\n",
            "99/99 [==============================] - 0s 2ms/step - loss: 0.4025 - wine_quality_loss: 0.3681 - wine_type_loss: 0.0345 - wine_quality_root_mean_squared_error: 0.6065 - wine_type_accuracy: 0.9937 - val_loss: 0.4078 - val_wine_quality_loss: 0.3751 - val_wine_type_loss: 0.0327 - val_wine_quality_root_mean_squared_error: 0.6125 - val_wine_type_accuracy: 0.9937\n",
            "Epoch 35/180\n",
            "99/99 [==============================] - 0s 2ms/step - loss: 0.4068 - wine_quality_loss: 0.3659 - wine_type_loss: 0.0410 - wine_quality_root_mean_squared_error: 0.6047 - wine_type_accuracy: 0.9920 - val_loss: 0.3979 - val_wine_quality_loss: 0.3655 - val_wine_type_loss: 0.0323 - val_wine_quality_root_mean_squared_error: 0.6046 - val_wine_type_accuracy: 0.9937\n",
            "Epoch 36/180\n",
            "99/99 [==============================] - 0s 2ms/step - loss: 0.4041 - wine_quality_loss: 0.3762 - wine_type_loss: 0.0279 - wine_quality_root_mean_squared_error: 0.6133 - wine_type_accuracy: 0.9936 - val_loss: 0.3902 - val_wine_quality_loss: 0.3578 - val_wine_type_loss: 0.0323 - val_wine_quality_root_mean_squared_error: 0.5982 - val_wine_type_accuracy: 0.9937\n",
            "Epoch 37/180\n",
            "99/99 [==============================] - 0s 2ms/step - loss: 0.3980 - wine_quality_loss: 0.3633 - wine_type_loss: 0.0347 - wine_quality_root_mean_squared_error: 0.6027 - wine_type_accuracy: 0.9920 - val_loss: 0.3870 - val_wine_quality_loss: 0.3547 - val_wine_type_loss: 0.0322 - val_wine_quality_root_mean_squared_error: 0.5956 - val_wine_type_accuracy: 0.9937\n",
            "Epoch 38/180\n",
            "99/99 [==============================] - 0s 2ms/step - loss: 0.3924 - wine_quality_loss: 0.3447 - wine_type_loss: 0.0477 - wine_quality_root_mean_squared_error: 0.5871 - wine_type_accuracy: 0.9921 - val_loss: 0.3858 - val_wine_quality_loss: 0.3537 - val_wine_type_loss: 0.0321 - val_wine_quality_root_mean_squared_error: 0.5948 - val_wine_type_accuracy: 0.9937\n",
            "Epoch 39/180\n",
            "99/99 [==============================] - 0s 2ms/step - loss: 0.3668 - wine_quality_loss: 0.3457 - wine_type_loss: 0.0211 - wine_quality_root_mean_squared_error: 0.5879 - wine_type_accuracy: 0.9951 - val_loss: 0.3818 - val_wine_quality_loss: 0.3500 - val_wine_type_loss: 0.0318 - val_wine_quality_root_mean_squared_error: 0.5916 - val_wine_type_accuracy: 0.9937\n",
            "Epoch 40/180\n",
            "99/99 [==============================] - 0s 2ms/step - loss: 0.3840 - wine_quality_loss: 0.3546 - wine_type_loss: 0.0294 - wine_quality_root_mean_squared_error: 0.5953 - wine_type_accuracy: 0.9955 - val_loss: 0.3804 - val_wine_quality_loss: 0.3487 - val_wine_type_loss: 0.0317 - val_wine_quality_root_mean_squared_error: 0.5905 - val_wine_type_accuracy: 0.9937\n",
            "Epoch 41/180\n",
            "99/99 [==============================] - 0s 2ms/step - loss: 0.3899 - wine_quality_loss: 0.3556 - wine_type_loss: 0.0343 - wine_quality_root_mean_squared_error: 0.5961 - wine_type_accuracy: 0.9941 - val_loss: 0.3696 - val_wine_quality_loss: 0.3379 - val_wine_type_loss: 0.0317 - val_wine_quality_root_mean_squared_error: 0.5813 - val_wine_type_accuracy: 0.9937\n",
            "Epoch 42/180\n",
            "99/99 [==============================] - 0s 2ms/step - loss: 0.3749 - wine_quality_loss: 0.3527 - wine_type_loss: 0.0222 - wine_quality_root_mean_squared_error: 0.5936 - wine_type_accuracy: 0.9961 - val_loss: 0.3706 - val_wine_quality_loss: 0.3392 - val_wine_type_loss: 0.0314 - val_wine_quality_root_mean_squared_error: 0.5824 - val_wine_type_accuracy: 0.9937\n",
            "Epoch 43/180\n",
            "99/99 [==============================] - 0s 2ms/step - loss: 0.3813 - wine_quality_loss: 0.3449 - wine_type_loss: 0.0364 - wine_quality_root_mean_squared_error: 0.5870 - wine_type_accuracy: 0.9929 - val_loss: 0.3769 - val_wine_quality_loss: 0.3456 - val_wine_type_loss: 0.0313 - val_wine_quality_root_mean_squared_error: 0.5879 - val_wine_type_accuracy: 0.9937\n",
            "Epoch 44/180\n",
            "99/99 [==============================] - 0s 2ms/step - loss: 0.3554 - wine_quality_loss: 0.3331 - wine_type_loss: 0.0223 - wine_quality_root_mean_squared_error: 0.5770 - wine_type_accuracy: 0.9961 - val_loss: 0.3716 - val_wine_quality_loss: 0.3403 - val_wine_type_loss: 0.0312 - val_wine_quality_root_mean_squared_error: 0.5834 - val_wine_type_accuracy: 0.9937\n",
            "Epoch 45/180\n",
            "99/99 [==============================] - 0s 2ms/step - loss: 0.3643 - wine_quality_loss: 0.3377 - wine_type_loss: 0.0266 - wine_quality_root_mean_squared_error: 0.5811 - wine_type_accuracy: 0.9947 - val_loss: 0.3622 - val_wine_quality_loss: 0.3312 - val_wine_type_loss: 0.0310 - val_wine_quality_root_mean_squared_error: 0.5755 - val_wine_type_accuracy: 0.9937\n",
            "Epoch 46/180\n",
            "99/99 [==============================] - 0s 2ms/step - loss: 0.3650 - wine_quality_loss: 0.3284 - wine_type_loss: 0.0366 - wine_quality_root_mean_squared_error: 0.5730 - wine_type_accuracy: 0.9932 - val_loss: 0.3616 - val_wine_quality_loss: 0.3307 - val_wine_type_loss: 0.0308 - val_wine_quality_root_mean_squared_error: 0.5751 - val_wine_type_accuracy: 0.9949\n",
            "Epoch 47/180\n",
            "99/99 [==============================] - 0s 2ms/step - loss: 0.3529 - wine_quality_loss: 0.3273 - wine_type_loss: 0.0256 - wine_quality_root_mean_squared_error: 0.5720 - wine_type_accuracy: 0.9949 - val_loss: 0.3670 - val_wine_quality_loss: 0.3362 - val_wine_type_loss: 0.0308 - val_wine_quality_root_mean_squared_error: 0.5799 - val_wine_type_accuracy: 0.9949\n",
            "Epoch 48/180\n",
            "99/99 [==============================] - 0s 2ms/step - loss: 0.3479 - wine_quality_loss: 0.3212 - wine_type_loss: 0.0267 - wine_quality_root_mean_squared_error: 0.5666 - wine_type_accuracy: 0.9957 - val_loss: 0.3605 - val_wine_quality_loss: 0.3299 - val_wine_type_loss: 0.0307 - val_wine_quality_root_mean_squared_error: 0.5743 - val_wine_type_accuracy: 0.9937\n",
            "Epoch 49/180\n",
            "99/99 [==============================] - 0s 2ms/step - loss: 0.3408 - wine_quality_loss: 0.3172 - wine_type_loss: 0.0236 - wine_quality_root_mean_squared_error: 0.5631 - wine_type_accuracy: 0.9958 - val_loss: 0.3574 - val_wine_quality_loss: 0.3269 - val_wine_type_loss: 0.0304 - val_wine_quality_root_mean_squared_error: 0.5718 - val_wine_type_accuracy: 0.9949\n",
            "Epoch 50/180\n",
            "99/99 [==============================] - 0s 2ms/step - loss: 0.3587 - wine_quality_loss: 0.3312 - wine_type_loss: 0.0275 - wine_quality_root_mean_squared_error: 0.5754 - wine_type_accuracy: 0.9953 - val_loss: 0.3652 - val_wine_quality_loss: 0.3346 - val_wine_type_loss: 0.0305 - val_wine_quality_root_mean_squared_error: 0.5785 - val_wine_type_accuracy: 0.9937\n",
            "Epoch 51/180\n",
            "99/99 [==============================] - 0s 2ms/step - loss: 0.3579 - wine_quality_loss: 0.3262 - wine_type_loss: 0.0318 - wine_quality_root_mean_squared_error: 0.5710 - wine_type_accuracy: 0.9940 - val_loss: 0.3601 - val_wine_quality_loss: 0.3296 - val_wine_type_loss: 0.0305 - val_wine_quality_root_mean_squared_error: 0.5741 - val_wine_type_accuracy: 0.9937\n",
            "Epoch 52/180\n",
            "99/99 [==============================] - 0s 2ms/step - loss: 0.3429 - wine_quality_loss: 0.3164 - wine_type_loss: 0.0265 - wine_quality_root_mean_squared_error: 0.5624 - wine_type_accuracy: 0.9956 - val_loss: 0.3756 - val_wine_quality_loss: 0.3452 - val_wine_type_loss: 0.0304 - val_wine_quality_root_mean_squared_error: 0.5875 - val_wine_type_accuracy: 0.9937\n",
            "Epoch 53/180\n",
            "99/99 [==============================] - 0s 2ms/step - loss: 0.3607 - wine_quality_loss: 0.3213 - wine_type_loss: 0.0394 - wine_quality_root_mean_squared_error: 0.5668 - wine_type_accuracy: 0.9920 - val_loss: 0.3540 - val_wine_quality_loss: 0.3238 - val_wine_type_loss: 0.0302 - val_wine_quality_root_mean_squared_error: 0.5690 - val_wine_type_accuracy: 0.9937\n",
            "Epoch 54/180\n",
            "99/99 [==============================] - 0s 2ms/step - loss: 0.3357 - wine_quality_loss: 0.3152 - wine_type_loss: 0.0204 - wine_quality_root_mean_squared_error: 0.5614 - wine_type_accuracy: 0.9963 - val_loss: 0.3574 - val_wine_quality_loss: 0.3273 - val_wine_type_loss: 0.0301 - val_wine_quality_root_mean_squared_error: 0.5721 - val_wine_type_accuracy: 0.9937\n",
            "Epoch 55/180\n",
            "99/99 [==============================] - 0s 2ms/step - loss: 0.3451 - wine_quality_loss: 0.3103 - wine_type_loss: 0.0348 - wine_quality_root_mean_squared_error: 0.5570 - wine_type_accuracy: 0.9937 - val_loss: 0.3557 - val_wine_quality_loss: 0.3257 - val_wine_type_loss: 0.0300 - val_wine_quality_root_mean_squared_error: 0.5707 - val_wine_type_accuracy: 0.9949\n",
            "Epoch 56/180\n",
            "99/99 [==============================] - 0s 2ms/step - loss: 0.3238 - wine_quality_loss: 0.2937 - wine_type_loss: 0.0301 - wine_quality_root_mean_squared_error: 0.5417 - wine_type_accuracy: 0.9945 - val_loss: 0.3561 - val_wine_quality_loss: 0.3262 - val_wine_type_loss: 0.0299 - val_wine_quality_root_mean_squared_error: 0.5711 - val_wine_type_accuracy: 0.9949\n",
            "Epoch 57/180\n",
            "99/99 [==============================] - 0s 2ms/step - loss: 0.3214 - wine_quality_loss: 0.2961 - wine_type_loss: 0.0254 - wine_quality_root_mean_squared_error: 0.5440 - wine_type_accuracy: 0.9925 - val_loss: 0.3633 - val_wine_quality_loss: 0.3334 - val_wine_type_loss: 0.0298 - val_wine_quality_root_mean_squared_error: 0.5774 - val_wine_type_accuracy: 0.9949\n",
            "Epoch 58/180\n",
            "99/99 [==============================] - 0s 2ms/step - loss: 0.3311 - wine_quality_loss: 0.3080 - wine_type_loss: 0.0231 - wine_quality_root_mean_squared_error: 0.5549 - wine_type_accuracy: 0.9958 - val_loss: 0.3525 - val_wine_quality_loss: 0.3230 - val_wine_type_loss: 0.0295 - val_wine_quality_root_mean_squared_error: 0.5683 - val_wine_type_accuracy: 0.9949\n",
            "Epoch 59/180\n",
            "99/99 [==============================] - 0s 2ms/step - loss: 0.3315 - wine_quality_loss: 0.3005 - wine_type_loss: 0.0310 - wine_quality_root_mean_squared_error: 0.5482 - wine_type_accuracy: 0.9941 - val_loss: 0.3506 - val_wine_quality_loss: 0.3212 - val_wine_type_loss: 0.0295 - val_wine_quality_root_mean_squared_error: 0.5667 - val_wine_type_accuracy: 0.9949\n",
            "Epoch 60/180\n",
            "99/99 [==============================] - 0s 2ms/step - loss: 0.3348 - wine_quality_loss: 0.3114 - wine_type_loss: 0.0234 - wine_quality_root_mean_squared_error: 0.5580 - wine_type_accuracy: 0.9950 - val_loss: 0.3473 - val_wine_quality_loss: 0.3178 - val_wine_type_loss: 0.0295 - val_wine_quality_root_mean_squared_error: 0.5637 - val_wine_type_accuracy: 0.9949\n",
            "Epoch 61/180\n",
            "99/99 [==============================] - 0s 2ms/step - loss: 0.3214 - wine_quality_loss: 0.3035 - wine_type_loss: 0.0179 - wine_quality_root_mean_squared_error: 0.5508 - wine_type_accuracy: 0.9951 - val_loss: 0.3575 - val_wine_quality_loss: 0.3282 - val_wine_type_loss: 0.0293 - val_wine_quality_root_mean_squared_error: 0.5729 - val_wine_type_accuracy: 0.9949\n",
            "Epoch 62/180\n",
            "99/99 [==============================] - 0s 2ms/step - loss: 0.3347 - wine_quality_loss: 0.3088 - wine_type_loss: 0.0259 - wine_quality_root_mean_squared_error: 0.5556 - wine_type_accuracy: 0.9947 - val_loss: 0.3663 - val_wine_quality_loss: 0.3369 - val_wine_type_loss: 0.0294 - val_wine_quality_root_mean_squared_error: 0.5804 - val_wine_type_accuracy: 0.9937\n",
            "Epoch 63/180\n",
            "99/99 [==============================] - 0s 2ms/step - loss: 0.3224 - wine_quality_loss: 0.3013 - wine_type_loss: 0.0211 - wine_quality_root_mean_squared_error: 0.5488 - wine_type_accuracy: 0.9968 - val_loss: 0.3521 - val_wine_quality_loss: 0.3228 - val_wine_type_loss: 0.0293 - val_wine_quality_root_mean_squared_error: 0.5681 - val_wine_type_accuracy: 0.9937\n",
            "Epoch 64/180\n",
            "99/99 [==============================] - 0s 2ms/step - loss: 0.3277 - wine_quality_loss: 0.3002 - wine_type_loss: 0.0275 - wine_quality_root_mean_squared_error: 0.5478 - wine_type_accuracy: 0.9952 - val_loss: 0.3529 - val_wine_quality_loss: 0.3237 - val_wine_type_loss: 0.0292 - val_wine_quality_root_mean_squared_error: 0.5689 - val_wine_type_accuracy: 0.9949\n",
            "Epoch 65/180\n",
            "99/99 [==============================] - 0s 2ms/step - loss: 0.3238 - wine_quality_loss: 0.2938 - wine_type_loss: 0.0300 - wine_quality_root_mean_squared_error: 0.5420 - wine_type_accuracy: 0.9927 - val_loss: 0.3442 - val_wine_quality_loss: 0.3150 - val_wine_type_loss: 0.0292 - val_wine_quality_root_mean_squared_error: 0.5612 - val_wine_type_accuracy: 0.9937\n",
            "Epoch 66/180\n",
            "99/99 [==============================] - 0s 2ms/step - loss: 0.3276 - wine_quality_loss: 0.2991 - wine_type_loss: 0.0285 - wine_quality_root_mean_squared_error: 0.5469 - wine_type_accuracy: 0.9953 - val_loss: 0.3507 - val_wine_quality_loss: 0.3217 - val_wine_type_loss: 0.0290 - val_wine_quality_root_mean_squared_error: 0.5672 - val_wine_type_accuracy: 0.9949\n",
            "Epoch 67/180\n",
            "99/99 [==============================] - 0s 2ms/step - loss: 0.3256 - wine_quality_loss: 0.3066 - wine_type_loss: 0.0190 - wine_quality_root_mean_squared_error: 0.5537 - wine_type_accuracy: 0.9952 - val_loss: 0.3576 - val_wine_quality_loss: 0.3287 - val_wine_type_loss: 0.0289 - val_wine_quality_root_mean_squared_error: 0.5733 - val_wine_type_accuracy: 0.9949\n",
            "Epoch 68/180\n",
            "99/99 [==============================] - 0s 2ms/step - loss: 0.3248 - wine_quality_loss: 0.2969 - wine_type_loss: 0.0280 - wine_quality_root_mean_squared_error: 0.5448 - wine_type_accuracy: 0.9952 - val_loss: 0.3485 - val_wine_quality_loss: 0.3196 - val_wine_type_loss: 0.0288 - val_wine_quality_root_mean_squared_error: 0.5654 - val_wine_type_accuracy: 0.9949\n",
            "Epoch 69/180\n",
            "99/99 [==============================] - 0s 2ms/step - loss: 0.3106 - wine_quality_loss: 0.2883 - wine_type_loss: 0.0223 - wine_quality_root_mean_squared_error: 0.5368 - wine_type_accuracy: 0.9965 - val_loss: 0.3464 - val_wine_quality_loss: 0.3175 - val_wine_type_loss: 0.0289 - val_wine_quality_root_mean_squared_error: 0.5635 - val_wine_type_accuracy: 0.9937\n",
            "Epoch 70/180\n",
            "99/99 [==============================] - 0s 2ms/step - loss: 0.3190 - wine_quality_loss: 0.2930 - wine_type_loss: 0.0261 - wine_quality_root_mean_squared_error: 0.5412 - wine_type_accuracy: 0.9946 - val_loss: 0.3472 - val_wine_quality_loss: 0.3186 - val_wine_type_loss: 0.0287 - val_wine_quality_root_mean_squared_error: 0.5644 - val_wine_type_accuracy: 0.9949\n",
            "Epoch 71/180\n",
            "99/99 [==============================] - 0s 2ms/step - loss: 0.3227 - wine_quality_loss: 0.2992 - wine_type_loss: 0.0235 - wine_quality_root_mean_squared_error: 0.5468 - wine_type_accuracy: 0.9955 - val_loss: 0.3460 - val_wine_quality_loss: 0.3175 - val_wine_type_loss: 0.0285 - val_wine_quality_root_mean_squared_error: 0.5635 - val_wine_type_accuracy: 0.9949\n",
            "Epoch 72/180\n",
            "99/99 [==============================] - 0s 2ms/step - loss: 0.3235 - wine_quality_loss: 0.2897 - wine_type_loss: 0.0338 - wine_quality_root_mean_squared_error: 0.5380 - wine_type_accuracy: 0.9942 - val_loss: 0.3466 - val_wine_quality_loss: 0.3182 - val_wine_type_loss: 0.0284 - val_wine_quality_root_mean_squared_error: 0.5641 - val_wine_type_accuracy: 0.9949\n",
            "Epoch 73/180\n",
            "99/99 [==============================] - 0s 2ms/step - loss: 0.3139 - wine_quality_loss: 0.2934 - wine_type_loss: 0.0205 - wine_quality_root_mean_squared_error: 0.5416 - wine_type_accuracy: 0.9961 - val_loss: 0.3479 - val_wine_quality_loss: 0.3192 - val_wine_type_loss: 0.0286 - val_wine_quality_root_mean_squared_error: 0.5650 - val_wine_type_accuracy: 0.9937\n",
            "Epoch 74/180\n",
            "99/99 [==============================] - 0s 2ms/step - loss: 0.3103 - wine_quality_loss: 0.2876 - wine_type_loss: 0.0227 - wine_quality_root_mean_squared_error: 0.5362 - wine_type_accuracy: 0.9950 - val_loss: 0.3418 - val_wine_quality_loss: 0.3133 - val_wine_type_loss: 0.0285 - val_wine_quality_root_mean_squared_error: 0.5597 - val_wine_type_accuracy: 0.9949\n",
            "Epoch 75/180\n",
            "99/99 [==============================] - 0s 2ms/step - loss: 0.3063 - wine_quality_loss: 0.2862 - wine_type_loss: 0.0201 - wine_quality_root_mean_squared_error: 0.5348 - wine_type_accuracy: 0.9961 - val_loss: 0.3426 - val_wine_quality_loss: 0.3143 - val_wine_type_loss: 0.0283 - val_wine_quality_root_mean_squared_error: 0.5606 - val_wine_type_accuracy: 0.9949\n",
            "Epoch 76/180\n",
            "99/99 [==============================] - 0s 2ms/step - loss: 0.3188 - wine_quality_loss: 0.2966 - wine_type_loss: 0.0221 - wine_quality_root_mean_squared_error: 0.5446 - wine_type_accuracy: 0.9952 - val_loss: 0.3442 - val_wine_quality_loss: 0.3160 - val_wine_type_loss: 0.0282 - val_wine_quality_root_mean_squared_error: 0.5622 - val_wine_type_accuracy: 0.9949\n",
            "Epoch 77/180\n",
            "99/99 [==============================] - 0s 2ms/step - loss: 0.3173 - wine_quality_loss: 0.2955 - wine_type_loss: 0.0217 - wine_quality_root_mean_squared_error: 0.5436 - wine_type_accuracy: 0.9970 - val_loss: 0.3476 - val_wine_quality_loss: 0.3196 - val_wine_type_loss: 0.0281 - val_wine_quality_root_mean_squared_error: 0.5653 - val_wine_type_accuracy: 0.9949\n",
            "Epoch 78/180\n",
            "99/99 [==============================] - 0s 2ms/step - loss: 0.3111 - wine_quality_loss: 0.2910 - wine_type_loss: 0.0201 - wine_quality_root_mean_squared_error: 0.5394 - wine_type_accuracy: 0.9958 - val_loss: 0.3564 - val_wine_quality_loss: 0.3283 - val_wine_type_loss: 0.0281 - val_wine_quality_root_mean_squared_error: 0.5730 - val_wine_type_accuracy: 0.9949\n",
            "Epoch 79/180\n",
            "99/99 [==============================] - 0s 2ms/step - loss: 0.3128 - wine_quality_loss: 0.2908 - wine_type_loss: 0.0220 - wine_quality_root_mean_squared_error: 0.5392 - wine_type_accuracy: 0.9967 - val_loss: 0.3423 - val_wine_quality_loss: 0.3144 - val_wine_type_loss: 0.0280 - val_wine_quality_root_mean_squared_error: 0.5607 - val_wine_type_accuracy: 0.9949\n",
            "Epoch 80/180\n",
            "99/99 [==============================] - 0s 2ms/step - loss: 0.3178 - wine_quality_loss: 0.2863 - wine_type_loss: 0.0315 - wine_quality_root_mean_squared_error: 0.5350 - wine_type_accuracy: 0.9944 - val_loss: 0.3495 - val_wine_quality_loss: 0.3216 - val_wine_type_loss: 0.0279 - val_wine_quality_root_mean_squared_error: 0.5671 - val_wine_type_accuracy: 0.9949\n",
            "Epoch 81/180\n",
            "99/99 [==============================] - 0s 2ms/step - loss: 0.3272 - wine_quality_loss: 0.2969 - wine_type_loss: 0.0303 - wine_quality_root_mean_squared_error: 0.5448 - wine_type_accuracy: 0.9948 - val_loss: 0.3473 - val_wine_quality_loss: 0.3195 - val_wine_type_loss: 0.0278 - val_wine_quality_root_mean_squared_error: 0.5652 - val_wine_type_accuracy: 0.9949\n",
            "Epoch 82/180\n",
            "99/99 [==============================] - 0s 2ms/step - loss: 0.3040 - wine_quality_loss: 0.2864 - wine_type_loss: 0.0176 - wine_quality_root_mean_squared_error: 0.5352 - wine_type_accuracy: 0.9968 - val_loss: 0.3424 - val_wine_quality_loss: 0.3146 - val_wine_type_loss: 0.0279 - val_wine_quality_root_mean_squared_error: 0.5609 - val_wine_type_accuracy: 0.9949\n",
            "Epoch 83/180\n",
            "99/99 [==============================] - 0s 2ms/step - loss: 0.3082 - wine_quality_loss: 0.2902 - wine_type_loss: 0.0180 - wine_quality_root_mean_squared_error: 0.5386 - wine_type_accuracy: 0.9972 - val_loss: 0.3397 - val_wine_quality_loss: 0.3119 - val_wine_type_loss: 0.0278 - val_wine_quality_root_mean_squared_error: 0.5585 - val_wine_type_accuracy: 0.9949\n",
            "Epoch 84/180\n",
            "99/99 [==============================] - 0s 2ms/step - loss: 0.3142 - wine_quality_loss: 0.2928 - wine_type_loss: 0.0214 - wine_quality_root_mean_squared_error: 0.5410 - wine_type_accuracy: 0.9968 - val_loss: 0.3498 - val_wine_quality_loss: 0.3221 - val_wine_type_loss: 0.0278 - val_wine_quality_root_mean_squared_error: 0.5675 - val_wine_type_accuracy: 0.9949\n",
            "Epoch 85/180\n",
            "99/99 [==============================] - 0s 2ms/step - loss: 0.3036 - wine_quality_loss: 0.2842 - wine_type_loss: 0.0194 - wine_quality_root_mean_squared_error: 0.5330 - wine_type_accuracy: 0.9972 - val_loss: 0.3519 - val_wine_quality_loss: 0.3242 - val_wine_type_loss: 0.0277 - val_wine_quality_root_mean_squared_error: 0.5693 - val_wine_type_accuracy: 0.9949\n",
            "Epoch 86/180\n",
            "99/99 [==============================] - 0s 2ms/step - loss: 0.3149 - wine_quality_loss: 0.2887 - wine_type_loss: 0.0262 - wine_quality_root_mean_squared_error: 0.5372 - wine_type_accuracy: 0.9948 - val_loss: 0.3616 - val_wine_quality_loss: 0.3340 - val_wine_type_loss: 0.0276 - val_wine_quality_root_mean_squared_error: 0.5779 - val_wine_type_accuracy: 0.9949\n",
            "Epoch 87/180\n",
            "99/99 [==============================] - 0s 2ms/step - loss: 0.3055 - wine_quality_loss: 0.2873 - wine_type_loss: 0.0182 - wine_quality_root_mean_squared_error: 0.5359 - wine_type_accuracy: 0.9965 - val_loss: 0.3413 - val_wine_quality_loss: 0.3138 - val_wine_type_loss: 0.0275 - val_wine_quality_root_mean_squared_error: 0.5602 - val_wine_type_accuracy: 0.9949\n",
            "Epoch 88/180\n",
            "99/99 [==============================] - 0s 2ms/step - loss: 0.2989 - wine_quality_loss: 0.2844 - wine_type_loss: 0.0144 - wine_quality_root_mean_squared_error: 0.5332 - wine_type_accuracy: 0.9977 - val_loss: 0.3412 - val_wine_quality_loss: 0.3137 - val_wine_type_loss: 0.0275 - val_wine_quality_root_mean_squared_error: 0.5601 - val_wine_type_accuracy: 0.9949\n",
            "Epoch 89/180\n",
            "99/99 [==============================] - 0s 2ms/step - loss: 0.3105 - wine_quality_loss: 0.2801 - wine_type_loss: 0.0305 - wine_quality_root_mean_squared_error: 0.5291 - wine_type_accuracy: 0.9954 - val_loss: 0.3471 - val_wine_quality_loss: 0.3195 - val_wine_type_loss: 0.0276 - val_wine_quality_root_mean_squared_error: 0.5652 - val_wine_type_accuracy: 0.9949\n",
            "Epoch 90/180\n",
            "99/99 [==============================] - 0s 2ms/step - loss: 0.3135 - wine_quality_loss: 0.2914 - wine_type_loss: 0.0221 - wine_quality_root_mean_squared_error: 0.5397 - wine_type_accuracy: 0.9959 - val_loss: 0.3483 - val_wine_quality_loss: 0.3208 - val_wine_type_loss: 0.0275 - val_wine_quality_root_mean_squared_error: 0.5664 - val_wine_type_accuracy: 0.9949\n",
            "Epoch 91/180\n",
            "99/99 [==============================] - 0s 2ms/step - loss: 0.3064 - wine_quality_loss: 0.2867 - wine_type_loss: 0.0197 - wine_quality_root_mean_squared_error: 0.5353 - wine_type_accuracy: 0.9960 - val_loss: 0.3385 - val_wine_quality_loss: 0.3111 - val_wine_type_loss: 0.0274 - val_wine_quality_root_mean_squared_error: 0.5577 - val_wine_type_accuracy: 0.9949\n",
            "Epoch 92/180\n",
            "99/99 [==============================] - 0s 2ms/step - loss: 0.3034 - wine_quality_loss: 0.2758 - wine_type_loss: 0.0275 - wine_quality_root_mean_squared_error: 0.5251 - wine_type_accuracy: 0.9941 - val_loss: 0.3485 - val_wine_quality_loss: 0.3212 - val_wine_type_loss: 0.0274 - val_wine_quality_root_mean_squared_error: 0.5667 - val_wine_type_accuracy: 0.9949\n",
            "Epoch 93/180\n",
            "99/99 [==============================] - 0s 2ms/step - loss: 0.3020 - wine_quality_loss: 0.2829 - wine_type_loss: 0.0191 - wine_quality_root_mean_squared_error: 0.5317 - wine_type_accuracy: 0.9970 - val_loss: 0.3411 - val_wine_quality_loss: 0.3136 - val_wine_type_loss: 0.0275 - val_wine_quality_root_mean_squared_error: 0.5600 - val_wine_type_accuracy: 0.9949\n",
            "Epoch 94/180\n",
            "99/99 [==============================] - 0s 2ms/step - loss: 0.3111 - wine_quality_loss: 0.2888 - wine_type_loss: 0.0224 - wine_quality_root_mean_squared_error: 0.5373 - wine_type_accuracy: 0.9966 - val_loss: 0.3447 - val_wine_quality_loss: 0.3173 - val_wine_type_loss: 0.0274 - val_wine_quality_root_mean_squared_error: 0.5633 - val_wine_type_accuracy: 0.9949\n",
            "Epoch 95/180\n",
            "99/99 [==============================] - 0s 2ms/step - loss: 0.3024 - wine_quality_loss: 0.2816 - wine_type_loss: 0.0207 - wine_quality_root_mean_squared_error: 0.5306 - wine_type_accuracy: 0.9950 - val_loss: 0.3402 - val_wine_quality_loss: 0.3127 - val_wine_type_loss: 0.0275 - val_wine_quality_root_mean_squared_error: 0.5592 - val_wine_type_accuracy: 0.9949\n",
            "Epoch 96/180\n",
            "99/99 [==============================] - 0s 2ms/step - loss: 0.2970 - wine_quality_loss: 0.2817 - wine_type_loss: 0.0153 - wine_quality_root_mean_squared_error: 0.5307 - wine_type_accuracy: 0.9978 - val_loss: 0.3423 - val_wine_quality_loss: 0.3150 - val_wine_type_loss: 0.0273 - val_wine_quality_root_mean_squared_error: 0.5612 - val_wine_type_accuracy: 0.9949\n",
            "Epoch 97/180\n",
            "99/99 [==============================] - 0s 2ms/step - loss: 0.3069 - wine_quality_loss: 0.2783 - wine_type_loss: 0.0286 - wine_quality_root_mean_squared_error: 0.5273 - wine_type_accuracy: 0.9946 - val_loss: 0.3438 - val_wine_quality_loss: 0.3166 - val_wine_type_loss: 0.0272 - val_wine_quality_root_mean_squared_error: 0.5626 - val_wine_type_accuracy: 0.9949\n",
            "Epoch 98/180\n",
            "99/99 [==============================] - 0s 2ms/step - loss: 0.2900 - wine_quality_loss: 0.2678 - wine_type_loss: 0.0222 - wine_quality_root_mean_squared_error: 0.5173 - wine_type_accuracy: 0.9949 - val_loss: 0.3422 - val_wine_quality_loss: 0.3150 - val_wine_type_loss: 0.0272 - val_wine_quality_root_mean_squared_error: 0.5612 - val_wine_type_accuracy: 0.9949\n",
            "Epoch 99/180\n",
            "99/99 [==============================] - 0s 2ms/step - loss: 0.2940 - wine_quality_loss: 0.2759 - wine_type_loss: 0.0182 - wine_quality_root_mean_squared_error: 0.5252 - wine_type_accuracy: 0.9971 - val_loss: 0.3392 - val_wine_quality_loss: 0.3121 - val_wine_type_loss: 0.0272 - val_wine_quality_root_mean_squared_error: 0.5586 - val_wine_type_accuracy: 0.9949\n",
            "Epoch 100/180\n",
            "99/99 [==============================] - 0s 2ms/step - loss: 0.3007 - wine_quality_loss: 0.2775 - wine_type_loss: 0.0232 - wine_quality_root_mean_squared_error: 0.5267 - wine_type_accuracy: 0.9948 - val_loss: 0.3395 - val_wine_quality_loss: 0.3124 - val_wine_type_loss: 0.0270 - val_wine_quality_root_mean_squared_error: 0.5590 - val_wine_type_accuracy: 0.9949\n",
            "Epoch 101/180\n",
            "99/99 [==============================] - 0s 2ms/step - loss: 0.3177 - wine_quality_loss: 0.2830 - wine_type_loss: 0.0347 - wine_quality_root_mean_squared_error: 0.5319 - wine_type_accuracy: 0.9944 - val_loss: 0.3412 - val_wine_quality_loss: 0.3141 - val_wine_type_loss: 0.0271 - val_wine_quality_root_mean_squared_error: 0.5604 - val_wine_type_accuracy: 0.9949\n",
            "Epoch 102/180\n",
            "99/99 [==============================] - 0s 2ms/step - loss: 0.2870 - wine_quality_loss: 0.2655 - wine_type_loss: 0.0215 - wine_quality_root_mean_squared_error: 0.5151 - wine_type_accuracy: 0.9966 - val_loss: 0.3419 - val_wine_quality_loss: 0.3148 - val_wine_type_loss: 0.0270 - val_wine_quality_root_mean_squared_error: 0.5611 - val_wine_type_accuracy: 0.9949\n",
            "Epoch 103/180\n",
            "99/99 [==============================] - 0s 2ms/step - loss: 0.2940 - wine_quality_loss: 0.2786 - wine_type_loss: 0.0154 - wine_quality_root_mean_squared_error: 0.5278 - wine_type_accuracy: 0.9962 - val_loss: 0.3465 - val_wine_quality_loss: 0.3195 - val_wine_type_loss: 0.0270 - val_wine_quality_root_mean_squared_error: 0.5653 - val_wine_type_accuracy: 0.9949\n",
            "Epoch 104/180\n",
            "99/99 [==============================] - 0s 2ms/step - loss: 0.3035 - wine_quality_loss: 0.2806 - wine_type_loss: 0.0229 - wine_quality_root_mean_squared_error: 0.5297 - wine_type_accuracy: 0.9962 - val_loss: 0.3385 - val_wine_quality_loss: 0.3117 - val_wine_type_loss: 0.0268 - val_wine_quality_root_mean_squared_error: 0.5583 - val_wine_type_accuracy: 0.9949\n",
            "Epoch 105/180\n",
            "99/99 [==============================] - 0s 2ms/step - loss: 0.2985 - wine_quality_loss: 0.2811 - wine_type_loss: 0.0174 - wine_quality_root_mean_squared_error: 0.5302 - wine_type_accuracy: 0.9965 - val_loss: 0.3390 - val_wine_quality_loss: 0.3123 - val_wine_type_loss: 0.0267 - val_wine_quality_root_mean_squared_error: 0.5588 - val_wine_type_accuracy: 0.9949\n",
            "Epoch 106/180\n",
            "99/99 [==============================] - 0s 2ms/step - loss: 0.3004 - wine_quality_loss: 0.2793 - wine_type_loss: 0.0211 - wine_quality_root_mean_squared_error: 0.5283 - wine_type_accuracy: 0.9968 - val_loss: 0.3398 - val_wine_quality_loss: 0.3128 - val_wine_type_loss: 0.0270 - val_wine_quality_root_mean_squared_error: 0.5593 - val_wine_type_accuracy: 0.9949\n",
            "Epoch 107/180\n",
            "99/99 [==============================] - 0s 2ms/step - loss: 0.3015 - wine_quality_loss: 0.2742 - wine_type_loss: 0.0273 - wine_quality_root_mean_squared_error: 0.5236 - wine_type_accuracy: 0.9954 - val_loss: 0.3393 - val_wine_quality_loss: 0.3125 - val_wine_type_loss: 0.0268 - val_wine_quality_root_mean_squared_error: 0.5591 - val_wine_type_accuracy: 0.9949\n",
            "Epoch 108/180\n",
            "99/99 [==============================] - 0s 2ms/step - loss: 0.2986 - wine_quality_loss: 0.2884 - wine_type_loss: 0.0102 - wine_quality_root_mean_squared_error: 0.5369 - wine_type_accuracy: 0.9986 - val_loss: 0.3379 - val_wine_quality_loss: 0.3112 - val_wine_type_loss: 0.0267 - val_wine_quality_root_mean_squared_error: 0.5579 - val_wine_type_accuracy: 0.9949\n",
            "Epoch 109/180\n",
            "99/99 [==============================] - 0s 2ms/step - loss: 0.3002 - wine_quality_loss: 0.2745 - wine_type_loss: 0.0257 - wine_quality_root_mean_squared_error: 0.5239 - wine_type_accuracy: 0.9958 - val_loss: 0.3403 - val_wine_quality_loss: 0.3134 - val_wine_type_loss: 0.0269 - val_wine_quality_root_mean_squared_error: 0.5598 - val_wine_type_accuracy: 0.9949\n",
            "Epoch 110/180\n",
            "99/99 [==============================] - 0s 2ms/step - loss: 0.2979 - wine_quality_loss: 0.2811 - wine_type_loss: 0.0168 - wine_quality_root_mean_squared_error: 0.5301 - wine_type_accuracy: 0.9966 - val_loss: 0.3384 - val_wine_quality_loss: 0.3116 - val_wine_type_loss: 0.0268 - val_wine_quality_root_mean_squared_error: 0.5582 - val_wine_type_accuracy: 0.9949\n",
            "Epoch 111/180\n",
            "99/99 [==============================] - 0s 2ms/step - loss: 0.3120 - wine_quality_loss: 0.2926 - wine_type_loss: 0.0194 - wine_quality_root_mean_squared_error: 0.5408 - wine_type_accuracy: 0.9970 - val_loss: 0.3469 - val_wine_quality_loss: 0.3201 - val_wine_type_loss: 0.0267 - val_wine_quality_root_mean_squared_error: 0.5658 - val_wine_type_accuracy: 0.9949\n",
            "Epoch 112/180\n",
            "99/99 [==============================] - 0s 2ms/step - loss: 0.2967 - wine_quality_loss: 0.2818 - wine_type_loss: 0.0149 - wine_quality_root_mean_squared_error: 0.5307 - wine_type_accuracy: 0.9971 - val_loss: 0.3370 - val_wine_quality_loss: 0.3104 - val_wine_type_loss: 0.0266 - val_wine_quality_root_mean_squared_error: 0.5571 - val_wine_type_accuracy: 0.9949\n",
            "Epoch 113/180\n",
            "99/99 [==============================] - 0s 2ms/step - loss: 0.2955 - wine_quality_loss: 0.2769 - wine_type_loss: 0.0186 - wine_quality_root_mean_squared_error: 0.5261 - wine_type_accuracy: 0.9970 - val_loss: 0.3411 - val_wine_quality_loss: 0.3146 - val_wine_type_loss: 0.0265 - val_wine_quality_root_mean_squared_error: 0.5609 - val_wine_type_accuracy: 0.9949\n",
            "Epoch 114/180\n",
            "99/99 [==============================] - 0s 2ms/step - loss: 0.3080 - wine_quality_loss: 0.2787 - wine_type_loss: 0.0293 - wine_quality_root_mean_squared_error: 0.5277 - wine_type_accuracy: 0.9950 - val_loss: 0.3418 - val_wine_quality_loss: 0.3152 - val_wine_type_loss: 0.0266 - val_wine_quality_root_mean_squared_error: 0.5614 - val_wine_type_accuracy: 0.9949\n",
            "Epoch 115/180\n",
            "99/99 [==============================] - 0s 2ms/step - loss: 0.2858 - wine_quality_loss: 0.2651 - wine_type_loss: 0.0207 - wine_quality_root_mean_squared_error: 0.5147 - wine_type_accuracy: 0.9959 - val_loss: 0.3409 - val_wine_quality_loss: 0.3143 - val_wine_type_loss: 0.0266 - val_wine_quality_root_mean_squared_error: 0.5607 - val_wine_type_accuracy: 0.9949\n",
            "Epoch 116/180\n",
            "99/99 [==============================] - 0s 2ms/step - loss: 0.2912 - wine_quality_loss: 0.2730 - wine_type_loss: 0.0182 - wine_quality_root_mean_squared_error: 0.5224 - wine_type_accuracy: 0.9966 - val_loss: 0.3420 - val_wine_quality_loss: 0.3154 - val_wine_type_loss: 0.0266 - val_wine_quality_root_mean_squared_error: 0.5616 - val_wine_type_accuracy: 0.9949\n",
            "Epoch 117/180\n",
            "99/99 [==============================] - 0s 2ms/step - loss: 0.3040 - wine_quality_loss: 0.2743 - wine_type_loss: 0.0297 - wine_quality_root_mean_squared_error: 0.5236 - wine_type_accuracy: 0.9947 - val_loss: 0.3416 - val_wine_quality_loss: 0.3152 - val_wine_type_loss: 0.0264 - val_wine_quality_root_mean_squared_error: 0.5614 - val_wine_type_accuracy: 0.9949\n",
            "Epoch 118/180\n",
            "99/99 [==============================] - 0s 2ms/step - loss: 0.3012 - wine_quality_loss: 0.2803 - wine_type_loss: 0.0209 - wine_quality_root_mean_squared_error: 0.5293 - wine_type_accuracy: 0.9954 - val_loss: 0.3384 - val_wine_quality_loss: 0.3120 - val_wine_type_loss: 0.0264 - val_wine_quality_root_mean_squared_error: 0.5585 - val_wine_type_accuracy: 0.9949\n",
            "Epoch 119/180\n",
            "99/99 [==============================] - 0s 2ms/step - loss: 0.2883 - wine_quality_loss: 0.2700 - wine_type_loss: 0.0183 - wine_quality_root_mean_squared_error: 0.5195 - wine_type_accuracy: 0.9960 - val_loss: 0.3373 - val_wine_quality_loss: 0.3109 - val_wine_type_loss: 0.0264 - val_wine_quality_root_mean_squared_error: 0.5576 - val_wine_type_accuracy: 0.9937\n",
            "Epoch 120/180\n",
            "99/99 [==============================] - 0s 2ms/step - loss: 0.2975 - wine_quality_loss: 0.2767 - wine_type_loss: 0.0208 - wine_quality_root_mean_squared_error: 0.5259 - wine_type_accuracy: 0.9959 - val_loss: 0.3394 - val_wine_quality_loss: 0.3129 - val_wine_type_loss: 0.0265 - val_wine_quality_root_mean_squared_error: 0.5594 - val_wine_type_accuracy: 0.9949\n",
            "Epoch 121/180\n",
            "99/99 [==============================] - 0s 2ms/step - loss: 0.2900 - wine_quality_loss: 0.2701 - wine_type_loss: 0.0199 - wine_quality_root_mean_squared_error: 0.5196 - wine_type_accuracy: 0.9965 - val_loss: 0.3479 - val_wine_quality_loss: 0.3214 - val_wine_type_loss: 0.0265 - val_wine_quality_root_mean_squared_error: 0.5669 - val_wine_type_accuracy: 0.9937\n",
            "Epoch 122/180\n",
            "99/99 [==============================] - 0s 2ms/step - loss: 0.2838 - wine_quality_loss: 0.2698 - wine_type_loss: 0.0140 - wine_quality_root_mean_squared_error: 0.5193 - wine_type_accuracy: 0.9979 - val_loss: 0.3372 - val_wine_quality_loss: 0.3108 - val_wine_type_loss: 0.0264 - val_wine_quality_root_mean_squared_error: 0.5575 - val_wine_type_accuracy: 0.9937\n",
            "Epoch 123/180\n",
            "99/99 [==============================] - 0s 2ms/step - loss: 0.2814 - wine_quality_loss: 0.2645 - wine_type_loss: 0.0169 - wine_quality_root_mean_squared_error: 0.5142 - wine_type_accuracy: 0.9967 - val_loss: 0.3362 - val_wine_quality_loss: 0.3099 - val_wine_type_loss: 0.0262 - val_wine_quality_root_mean_squared_error: 0.5567 - val_wine_type_accuracy: 0.9949\n",
            "Epoch 124/180\n",
            "99/99 [==============================] - 0s 2ms/step - loss: 0.2808 - wine_quality_loss: 0.2649 - wine_type_loss: 0.0160 - wine_quality_root_mean_squared_error: 0.5145 - wine_type_accuracy: 0.9970 - val_loss: 0.3362 - val_wine_quality_loss: 0.3101 - val_wine_type_loss: 0.0262 - val_wine_quality_root_mean_squared_error: 0.5568 - val_wine_type_accuracy: 0.9949\n",
            "Epoch 125/180\n",
            "99/99 [==============================] - 0s 2ms/step - loss: 0.2800 - wine_quality_loss: 0.2648 - wine_type_loss: 0.0152 - wine_quality_root_mean_squared_error: 0.5145 - wine_type_accuracy: 0.9973 - val_loss: 0.3413 - val_wine_quality_loss: 0.3150 - val_wine_type_loss: 0.0262 - val_wine_quality_root_mean_squared_error: 0.5613 - val_wine_type_accuracy: 0.9937\n",
            "Epoch 126/180\n",
            "99/99 [==============================] - 0s 2ms/step - loss: 0.2832 - wine_quality_loss: 0.2645 - wine_type_loss: 0.0187 - wine_quality_root_mean_squared_error: 0.5142 - wine_type_accuracy: 0.9966 - val_loss: 0.3428 - val_wine_quality_loss: 0.3164 - val_wine_type_loss: 0.0264 - val_wine_quality_root_mean_squared_error: 0.5625 - val_wine_type_accuracy: 0.9937\n",
            "Epoch 127/180\n",
            "99/99 [==============================] - 0s 2ms/step - loss: 0.2844 - wine_quality_loss: 0.2681 - wine_type_loss: 0.0163 - wine_quality_root_mean_squared_error: 0.5178 - wine_type_accuracy: 0.9969 - val_loss: 0.3389 - val_wine_quality_loss: 0.3124 - val_wine_type_loss: 0.0265 - val_wine_quality_root_mean_squared_error: 0.5590 - val_wine_type_accuracy: 0.9937\n",
            "Epoch 128/180\n",
            "99/99 [==============================] - 0s 2ms/step - loss: 0.2901 - wine_quality_loss: 0.2716 - wine_type_loss: 0.0186 - wine_quality_root_mean_squared_error: 0.5211 - wine_type_accuracy: 0.9969 - val_loss: 0.3597 - val_wine_quality_loss: 0.3333 - val_wine_type_loss: 0.0264 - val_wine_quality_root_mean_squared_error: 0.5773 - val_wine_type_accuracy: 0.9937\n",
            "Epoch 129/180\n",
            "99/99 [==============================] - 0s 2ms/step - loss: 0.2743 - wine_quality_loss: 0.2601 - wine_type_loss: 0.0142 - wine_quality_root_mean_squared_error: 0.5098 - wine_type_accuracy: 0.9972 - val_loss: 0.3408 - val_wine_quality_loss: 0.3146 - val_wine_type_loss: 0.0262 - val_wine_quality_root_mean_squared_error: 0.5609 - val_wine_type_accuracy: 0.9937\n",
            "Epoch 130/180\n",
            "99/99 [==============================] - 0s 2ms/step - loss: 0.2974 - wine_quality_loss: 0.2755 - wine_type_loss: 0.0219 - wine_quality_root_mean_squared_error: 0.5249 - wine_type_accuracy: 0.9966 - val_loss: 0.3356 - val_wine_quality_loss: 0.3092 - val_wine_type_loss: 0.0264 - val_wine_quality_root_mean_squared_error: 0.5561 - val_wine_type_accuracy: 0.9937\n",
            "Epoch 131/180\n",
            "99/99 [==============================] - 0s 2ms/step - loss: 0.2832 - wine_quality_loss: 0.2670 - wine_type_loss: 0.0162 - wine_quality_root_mean_squared_error: 0.5167 - wine_type_accuracy: 0.9973 - val_loss: 0.3439 - val_wine_quality_loss: 0.3177 - val_wine_type_loss: 0.0262 - val_wine_quality_root_mean_squared_error: 0.5637 - val_wine_type_accuracy: 0.9937\n",
            "Epoch 132/180\n",
            "99/99 [==============================] - 0s 2ms/step - loss: 0.3039 - wine_quality_loss: 0.2784 - wine_type_loss: 0.0254 - wine_quality_root_mean_squared_error: 0.5275 - wine_type_accuracy: 0.9959 - val_loss: 0.3409 - val_wine_quality_loss: 0.3147 - val_wine_type_loss: 0.0262 - val_wine_quality_root_mean_squared_error: 0.5610 - val_wine_type_accuracy: 0.9937\n",
            "Epoch 133/180\n",
            "99/99 [==============================] - 0s 2ms/step - loss: 0.2810 - wine_quality_loss: 0.2655 - wine_type_loss: 0.0155 - wine_quality_root_mean_squared_error: 0.5152 - wine_type_accuracy: 0.9972 - val_loss: 0.3448 - val_wine_quality_loss: 0.3186 - val_wine_type_loss: 0.0262 - val_wine_quality_root_mean_squared_error: 0.5644 - val_wine_type_accuracy: 0.9937\n",
            "Epoch 134/180\n",
            "99/99 [==============================] - 0s 2ms/step - loss: 0.2826 - wine_quality_loss: 0.2670 - wine_type_loss: 0.0156 - wine_quality_root_mean_squared_error: 0.5166 - wine_type_accuracy: 0.9973 - val_loss: 0.3502 - val_wine_quality_loss: 0.3239 - val_wine_type_loss: 0.0262 - val_wine_quality_root_mean_squared_error: 0.5692 - val_wine_type_accuracy: 0.9937\n",
            "Epoch 135/180\n",
            "99/99 [==============================] - 0s 2ms/step - loss: 0.2976 - wine_quality_loss: 0.2707 - wine_type_loss: 0.0269 - wine_quality_root_mean_squared_error: 0.5202 - wine_type_accuracy: 0.9948 - val_loss: 0.3361 - val_wine_quality_loss: 0.3100 - val_wine_type_loss: 0.0261 - val_wine_quality_root_mean_squared_error: 0.5568 - val_wine_type_accuracy: 0.9937\n",
            "Epoch 136/180\n",
            "99/99 [==============================] - 0s 2ms/step - loss: 0.2859 - wine_quality_loss: 0.2694 - wine_type_loss: 0.0165 - wine_quality_root_mean_squared_error: 0.5189 - wine_type_accuracy: 0.9964 - val_loss: 0.3407 - val_wine_quality_loss: 0.3146 - val_wine_type_loss: 0.0261 - val_wine_quality_root_mean_squared_error: 0.5609 - val_wine_type_accuracy: 0.9937\n",
            "Epoch 137/180\n",
            "99/99 [==============================] - 0s 2ms/step - loss: 0.2828 - wine_quality_loss: 0.2686 - wine_type_loss: 0.0142 - wine_quality_root_mean_squared_error: 0.5182 - wine_type_accuracy: 0.9964 - val_loss: 0.3382 - val_wine_quality_loss: 0.3121 - val_wine_type_loss: 0.0261 - val_wine_quality_root_mean_squared_error: 0.5586 - val_wine_type_accuracy: 0.9937\n",
            "Epoch 138/180\n",
            "99/99 [==============================] - 0s 2ms/step - loss: 0.2767 - wine_quality_loss: 0.2610 - wine_type_loss: 0.0157 - wine_quality_root_mean_squared_error: 0.5108 - wine_type_accuracy: 0.9966 - val_loss: 0.3387 - val_wine_quality_loss: 0.3126 - val_wine_type_loss: 0.0260 - val_wine_quality_root_mean_squared_error: 0.5591 - val_wine_type_accuracy: 0.9937\n",
            "Epoch 139/180\n",
            "99/99 [==============================] - 0s 2ms/step - loss: 0.2942 - wine_quality_loss: 0.2721 - wine_type_loss: 0.0221 - wine_quality_root_mean_squared_error: 0.5215 - wine_type_accuracy: 0.9945 - val_loss: 0.3419 - val_wine_quality_loss: 0.3159 - val_wine_type_loss: 0.0260 - val_wine_quality_root_mean_squared_error: 0.5621 - val_wine_type_accuracy: 0.9937\n",
            "Epoch 140/180\n",
            "99/99 [==============================] - 0s 2ms/step - loss: 0.2867 - wine_quality_loss: 0.2665 - wine_type_loss: 0.0202 - wine_quality_root_mean_squared_error: 0.5161 - wine_type_accuracy: 0.9949 - val_loss: 0.3484 - val_wine_quality_loss: 0.3223 - val_wine_type_loss: 0.0261 - val_wine_quality_root_mean_squared_error: 0.5677 - val_wine_type_accuracy: 0.9937\n",
            "Epoch 141/180\n",
            "99/99 [==============================] - 0s 2ms/step - loss: 0.3064 - wine_quality_loss: 0.2807 - wine_type_loss: 0.0257 - wine_quality_root_mean_squared_error: 0.5296 - wine_type_accuracy: 0.9948 - val_loss: 0.3416 - val_wine_quality_loss: 0.3156 - val_wine_type_loss: 0.0260 - val_wine_quality_root_mean_squared_error: 0.5618 - val_wine_type_accuracy: 0.9937\n",
            "Epoch 142/180\n",
            "99/99 [==============================] - 0s 2ms/step - loss: 0.2898 - wine_quality_loss: 0.2605 - wine_type_loss: 0.0293 - wine_quality_root_mean_squared_error: 0.5103 - wine_type_accuracy: 0.9944 - val_loss: 0.3477 - val_wine_quality_loss: 0.3215 - val_wine_type_loss: 0.0261 - val_wine_quality_root_mean_squared_error: 0.5670 - val_wine_type_accuracy: 0.9937\n",
            "Epoch 143/180\n",
            "99/99 [==============================] - 0s 2ms/step - loss: 0.2803 - wine_quality_loss: 0.2641 - wine_type_loss: 0.0162 - wine_quality_root_mean_squared_error: 0.5137 - wine_type_accuracy: 0.9965 - val_loss: 0.3373 - val_wine_quality_loss: 0.3112 - val_wine_type_loss: 0.0261 - val_wine_quality_root_mean_squared_error: 0.5578 - val_wine_type_accuracy: 0.9937\n",
            "Epoch 144/180\n",
            "99/99 [==============================] - 0s 2ms/step - loss: 0.2786 - wine_quality_loss: 0.2684 - wine_type_loss: 0.0102 - wine_quality_root_mean_squared_error: 0.5180 - wine_type_accuracy: 0.9975 - val_loss: 0.3364 - val_wine_quality_loss: 0.3101 - val_wine_type_loss: 0.0263 - val_wine_quality_root_mean_squared_error: 0.5568 - val_wine_type_accuracy: 0.9937\n",
            "Epoch 145/180\n",
            "99/99 [==============================] - 0s 2ms/step - loss: 0.2901 - wine_quality_loss: 0.2631 - wine_type_loss: 0.0271 - wine_quality_root_mean_squared_error: 0.5128 - wine_type_accuracy: 0.9955 - val_loss: 0.3362 - val_wine_quality_loss: 0.3098 - val_wine_type_loss: 0.0263 - val_wine_quality_root_mean_squared_error: 0.5566 - val_wine_type_accuracy: 0.9937\n",
            "Epoch 146/180\n",
            "99/99 [==============================] - 0s 2ms/step - loss: 0.2872 - wine_quality_loss: 0.2680 - wine_type_loss: 0.0192 - wine_quality_root_mean_squared_error: 0.5176 - wine_type_accuracy: 0.9965 - val_loss: 0.3381 - val_wine_quality_loss: 0.3120 - val_wine_type_loss: 0.0262 - val_wine_quality_root_mean_squared_error: 0.5586 - val_wine_type_accuracy: 0.9937\n",
            "Epoch 147/180\n",
            "99/99 [==============================] - 0s 2ms/step - loss: 0.2784 - wine_quality_loss: 0.2634 - wine_type_loss: 0.0150 - wine_quality_root_mean_squared_error: 0.5131 - wine_type_accuracy: 0.9977 - val_loss: 0.3540 - val_wine_quality_loss: 0.3278 - val_wine_type_loss: 0.0262 - val_wine_quality_root_mean_squared_error: 0.5726 - val_wine_type_accuracy: 0.9937\n",
            "Epoch 148/180\n",
            "99/99 [==============================] - 0s 2ms/step - loss: 0.2877 - wine_quality_loss: 0.2633 - wine_type_loss: 0.0245 - wine_quality_root_mean_squared_error: 0.5131 - wine_type_accuracy: 0.9952 - val_loss: 0.3390 - val_wine_quality_loss: 0.3128 - val_wine_type_loss: 0.0262 - val_wine_quality_root_mean_squared_error: 0.5593 - val_wine_type_accuracy: 0.9937\n",
            "Epoch 149/180\n",
            "99/99 [==============================] - 0s 2ms/step - loss: 0.2809 - wine_quality_loss: 0.2645 - wine_type_loss: 0.0164 - wine_quality_root_mean_squared_error: 0.5142 - wine_type_accuracy: 0.9963 - val_loss: 0.3424 - val_wine_quality_loss: 0.3162 - val_wine_type_loss: 0.0262 - val_wine_quality_root_mean_squared_error: 0.5623 - val_wine_type_accuracy: 0.9937\n",
            "Epoch 150/180\n",
            "99/99 [==============================] - 0s 2ms/step - loss: 0.2857 - wine_quality_loss: 0.2673 - wine_type_loss: 0.0184 - wine_quality_root_mean_squared_error: 0.5169 - wine_type_accuracy: 0.9958 - val_loss: 0.3380 - val_wine_quality_loss: 0.3117 - val_wine_type_loss: 0.0263 - val_wine_quality_root_mean_squared_error: 0.5583 - val_wine_type_accuracy: 0.9937\n",
            "Epoch 151/180\n",
            "99/99 [==============================] - 0s 2ms/step - loss: 0.2738 - wine_quality_loss: 0.2602 - wine_type_loss: 0.0136 - wine_quality_root_mean_squared_error: 0.5100 - wine_type_accuracy: 0.9975 - val_loss: 0.3412 - val_wine_quality_loss: 0.3149 - val_wine_type_loss: 0.0262 - val_wine_quality_root_mean_squared_error: 0.5612 - val_wine_type_accuracy: 0.9937\n",
            "Epoch 152/180\n",
            "99/99 [==============================] - 0s 2ms/step - loss: 0.2900 - wine_quality_loss: 0.2623 - wine_type_loss: 0.0277 - wine_quality_root_mean_squared_error: 0.5121 - wine_type_accuracy: 0.9959 - val_loss: 0.3468 - val_wine_quality_loss: 0.3206 - val_wine_type_loss: 0.0263 - val_wine_quality_root_mean_squared_error: 0.5662 - val_wine_type_accuracy: 0.9937\n",
            "Epoch 153/180\n",
            "99/99 [==============================] - 0s 2ms/step - loss: 0.2909 - wine_quality_loss: 0.2720 - wine_type_loss: 0.0190 - wine_quality_root_mean_squared_error: 0.5213 - wine_type_accuracy: 0.9963 - val_loss: 0.3457 - val_wine_quality_loss: 0.3195 - val_wine_type_loss: 0.0262 - val_wine_quality_root_mean_squared_error: 0.5653 - val_wine_type_accuracy: 0.9937\n",
            "Epoch 154/180\n",
            "99/99 [==============================] - 0s 2ms/step - loss: 0.2668 - wine_quality_loss: 0.2548 - wine_type_loss: 0.0120 - wine_quality_root_mean_squared_error: 0.5046 - wine_type_accuracy: 0.9977 - val_loss: 0.3418 - val_wine_quality_loss: 0.3157 - val_wine_type_loss: 0.0261 - val_wine_quality_root_mean_squared_error: 0.5618 - val_wine_type_accuracy: 0.9937\n",
            "Epoch 155/180\n",
            "99/99 [==============================] - 0s 2ms/step - loss: 0.2709 - wine_quality_loss: 0.2597 - wine_type_loss: 0.0112 - wine_quality_root_mean_squared_error: 0.5095 - wine_type_accuracy: 0.9974 - val_loss: 0.3442 - val_wine_quality_loss: 0.3181 - val_wine_type_loss: 0.0261 - val_wine_quality_root_mean_squared_error: 0.5640 - val_wine_type_accuracy: 0.9937\n",
            "Epoch 156/180\n",
            "99/99 [==============================] - 0s 2ms/step - loss: 0.2794 - wine_quality_loss: 0.2687 - wine_type_loss: 0.0107 - wine_quality_root_mean_squared_error: 0.5183 - wine_type_accuracy: 0.9972 - val_loss: 0.3422 - val_wine_quality_loss: 0.3161 - val_wine_type_loss: 0.0261 - val_wine_quality_root_mean_squared_error: 0.5623 - val_wine_type_accuracy: 0.9937\n",
            "Epoch 157/180\n",
            "99/99 [==============================] - 0s 2ms/step - loss: 0.2791 - wine_quality_loss: 0.2594 - wine_type_loss: 0.0197 - wine_quality_root_mean_squared_error: 0.5091 - wine_type_accuracy: 0.9959 - val_loss: 0.3410 - val_wine_quality_loss: 0.3149 - val_wine_type_loss: 0.0261 - val_wine_quality_root_mean_squared_error: 0.5612 - val_wine_type_accuracy: 0.9937\n",
            "Epoch 158/180\n",
            "99/99 [==============================] - 0s 2ms/step - loss: 0.2823 - wine_quality_loss: 0.2682 - wine_type_loss: 0.0141 - wine_quality_root_mean_squared_error: 0.5176 - wine_type_accuracy: 0.9968 - val_loss: 0.3465 - val_wine_quality_loss: 0.3204 - val_wine_type_loss: 0.0261 - val_wine_quality_root_mean_squared_error: 0.5660 - val_wine_type_accuracy: 0.9937\n",
            "Epoch 159/180\n",
            "99/99 [==============================] - 0s 2ms/step - loss: 0.3071 - wine_quality_loss: 0.2716 - wine_type_loss: 0.0355 - wine_quality_root_mean_squared_error: 0.5209 - wine_type_accuracy: 0.9925 - val_loss: 0.3404 - val_wine_quality_loss: 0.3141 - val_wine_type_loss: 0.0263 - val_wine_quality_root_mean_squared_error: 0.5604 - val_wine_type_accuracy: 0.9937\n",
            "Epoch 160/180\n",
            "99/99 [==============================] - 0s 2ms/step - loss: 0.2800 - wine_quality_loss: 0.2576 - wine_type_loss: 0.0224 - wine_quality_root_mean_squared_error: 0.5075 - wine_type_accuracy: 0.9969 - val_loss: 0.3437 - val_wine_quality_loss: 0.3175 - val_wine_type_loss: 0.0262 - val_wine_quality_root_mean_squared_error: 0.5635 - val_wine_type_accuracy: 0.9937\n",
            "Epoch 161/180\n",
            "99/99 [==============================] - 0s 2ms/step - loss: 0.2818 - wine_quality_loss: 0.2652 - wine_type_loss: 0.0166 - wine_quality_root_mean_squared_error: 0.5148 - wine_type_accuracy: 0.9965 - val_loss: 0.3376 - val_wine_quality_loss: 0.3115 - val_wine_type_loss: 0.0261 - val_wine_quality_root_mean_squared_error: 0.5581 - val_wine_type_accuracy: 0.9937\n",
            "Epoch 162/180\n",
            "99/99 [==============================] - 0s 2ms/step - loss: 0.2687 - wine_quality_loss: 0.2517 - wine_type_loss: 0.0170 - wine_quality_root_mean_squared_error: 0.5016 - wine_type_accuracy: 0.9961 - val_loss: 0.3400 - val_wine_quality_loss: 0.3138 - val_wine_type_loss: 0.0262 - val_wine_quality_root_mean_squared_error: 0.5602 - val_wine_type_accuracy: 0.9937\n",
            "Epoch 163/180\n",
            "99/99 [==============================] - 0s 2ms/step - loss: 0.2780 - wine_quality_loss: 0.2650 - wine_type_loss: 0.0130 - wine_quality_root_mean_squared_error: 0.5147 - wine_type_accuracy: 0.9969 - val_loss: 0.3454 - val_wine_quality_loss: 0.3192 - val_wine_type_loss: 0.0262 - val_wine_quality_root_mean_squared_error: 0.5650 - val_wine_type_accuracy: 0.9937\n",
            "Epoch 164/180\n",
            "99/99 [==============================] - 0s 2ms/step - loss: 0.2721 - wine_quality_loss: 0.2580 - wine_type_loss: 0.0141 - wine_quality_root_mean_squared_error: 0.5079 - wine_type_accuracy: 0.9970 - val_loss: 0.3463 - val_wine_quality_loss: 0.3203 - val_wine_type_loss: 0.0260 - val_wine_quality_root_mean_squared_error: 0.5659 - val_wine_type_accuracy: 0.9937\n",
            "Epoch 165/180\n",
            "99/99 [==============================] - 0s 2ms/step - loss: 0.2627 - wine_quality_loss: 0.2533 - wine_type_loss: 0.0094 - wine_quality_root_mean_squared_error: 0.5032 - wine_type_accuracy: 0.9983 - val_loss: 0.3438 - val_wine_quality_loss: 0.3177 - val_wine_type_loss: 0.0261 - val_wine_quality_root_mean_squared_error: 0.5636 - val_wine_type_accuracy: 0.9937\n",
            "Epoch 166/180\n",
            "99/99 [==============================] - 0s 2ms/step - loss: 0.2858 - wine_quality_loss: 0.2622 - wine_type_loss: 0.0237 - wine_quality_root_mean_squared_error: 0.5120 - wine_type_accuracy: 0.9941 - val_loss: 0.3394 - val_wine_quality_loss: 0.3133 - val_wine_type_loss: 0.0261 - val_wine_quality_root_mean_squared_error: 0.5597 - val_wine_type_accuracy: 0.9937\n",
            "Epoch 167/180\n",
            "99/99 [==============================] - 0s 2ms/step - loss: 0.2714 - wine_quality_loss: 0.2604 - wine_type_loss: 0.0110 - wine_quality_root_mean_squared_error: 0.5103 - wine_type_accuracy: 0.9979 - val_loss: 0.3436 - val_wine_quality_loss: 0.3175 - val_wine_type_loss: 0.0261 - val_wine_quality_root_mean_squared_error: 0.5635 - val_wine_type_accuracy: 0.9937\n",
            "Epoch 168/180\n",
            "99/99 [==============================] - 0s 2ms/step - loss: 0.2680 - wine_quality_loss: 0.2581 - wine_type_loss: 0.0099 - wine_quality_root_mean_squared_error: 0.5079 - wine_type_accuracy: 0.9982 - val_loss: 0.3424 - val_wine_quality_loss: 0.3162 - val_wine_type_loss: 0.0261 - val_wine_quality_root_mean_squared_error: 0.5623 - val_wine_type_accuracy: 0.9937\n",
            "Epoch 169/180\n",
            "99/99 [==============================] - 0s 2ms/step - loss: 0.2712 - wine_quality_loss: 0.2597 - wine_type_loss: 0.0114 - wine_quality_root_mean_squared_error: 0.5095 - wine_type_accuracy: 0.9972 - val_loss: 0.3390 - val_wine_quality_loss: 0.3129 - val_wine_type_loss: 0.0261 - val_wine_quality_root_mean_squared_error: 0.5594 - val_wine_type_accuracy: 0.9937\n",
            "Epoch 170/180\n",
            "99/99 [==============================] - 0s 2ms/step - loss: 0.2705 - wine_quality_loss: 0.2563 - wine_type_loss: 0.0142 - wine_quality_root_mean_squared_error: 0.5061 - wine_type_accuracy: 0.9972 - val_loss: 0.3437 - val_wine_quality_loss: 0.3176 - val_wine_type_loss: 0.0261 - val_wine_quality_root_mean_squared_error: 0.5636 - val_wine_type_accuracy: 0.9937\n",
            "Epoch 171/180\n",
            "99/99 [==============================] - 0s 2ms/step - loss: 0.2780 - wine_quality_loss: 0.2595 - wine_type_loss: 0.0185 - wine_quality_root_mean_squared_error: 0.5093 - wine_type_accuracy: 0.9965 - val_loss: 0.3392 - val_wine_quality_loss: 0.3129 - val_wine_type_loss: 0.0263 - val_wine_quality_root_mean_squared_error: 0.5594 - val_wine_type_accuracy: 0.9937\n",
            "Epoch 172/180\n",
            "99/99 [==============================] - 0s 2ms/step - loss: 0.2702 - wine_quality_loss: 0.2536 - wine_type_loss: 0.0166 - wine_quality_root_mean_squared_error: 0.5033 - wine_type_accuracy: 0.9969 - val_loss: 0.3424 - val_wine_quality_loss: 0.3161 - val_wine_type_loss: 0.0264 - val_wine_quality_root_mean_squared_error: 0.5622 - val_wine_type_accuracy: 0.9937\n",
            "Epoch 173/180\n",
            "99/99 [==============================] - 0s 2ms/step - loss: 0.2673 - wine_quality_loss: 0.2529 - wine_type_loss: 0.0144 - wine_quality_root_mean_squared_error: 0.5029 - wine_type_accuracy: 0.9968 - val_loss: 0.3445 - val_wine_quality_loss: 0.3182 - val_wine_type_loss: 0.0263 - val_wine_quality_root_mean_squared_error: 0.5641 - val_wine_type_accuracy: 0.9937\n",
            "Epoch 174/180\n",
            "99/99 [==============================] - 0s 2ms/step - loss: 0.2680 - wine_quality_loss: 0.2546 - wine_type_loss: 0.0134 - wine_quality_root_mean_squared_error: 0.5045 - wine_type_accuracy: 0.9972 - val_loss: 0.3551 - val_wine_quality_loss: 0.3288 - val_wine_type_loss: 0.0262 - val_wine_quality_root_mean_squared_error: 0.5734 - val_wine_type_accuracy: 0.9937\n",
            "Epoch 175/180\n",
            "99/99 [==============================] - 0s 2ms/step - loss: 0.2750 - wine_quality_loss: 0.2532 - wine_type_loss: 0.0218 - wine_quality_root_mean_squared_error: 0.5031 - wine_type_accuracy: 0.9960 - val_loss: 0.3450 - val_wine_quality_loss: 0.3188 - val_wine_type_loss: 0.0262 - val_wine_quality_root_mean_squared_error: 0.5646 - val_wine_type_accuracy: 0.9937\n",
            "Epoch 176/180\n",
            "99/99 [==============================] - 0s 2ms/step - loss: 0.2627 - wine_quality_loss: 0.2520 - wine_type_loss: 0.0107 - wine_quality_root_mean_squared_error: 0.5020 - wine_type_accuracy: 0.9981 - val_loss: 0.3492 - val_wine_quality_loss: 0.3230 - val_wine_type_loss: 0.0263 - val_wine_quality_root_mean_squared_error: 0.5683 - val_wine_type_accuracy: 0.9937\n",
            "Epoch 177/180\n",
            "99/99 [==============================] - 0s 2ms/step - loss: 0.2732 - wine_quality_loss: 0.2476 - wine_type_loss: 0.0255 - wine_quality_root_mean_squared_error: 0.4976 - wine_type_accuracy: 0.9953 - val_loss: 0.3393 - val_wine_quality_loss: 0.3130 - val_wine_type_loss: 0.0263 - val_wine_quality_root_mean_squared_error: 0.5595 - val_wine_type_accuracy: 0.9937\n",
            "Epoch 178/180\n",
            "99/99 [==============================] - 0s 2ms/step - loss: 0.2623 - wine_quality_loss: 0.2500 - wine_type_loss: 0.0122 - wine_quality_root_mean_squared_error: 0.4999 - wine_type_accuracy: 0.9971 - val_loss: 0.3400 - val_wine_quality_loss: 0.3137 - val_wine_type_loss: 0.0263 - val_wine_quality_root_mean_squared_error: 0.5601 - val_wine_type_accuracy: 0.9937\n",
            "Epoch 179/180\n",
            "99/99 [==============================] - 0s 2ms/step - loss: 0.2680 - wine_quality_loss: 0.2544 - wine_type_loss: 0.0136 - wine_quality_root_mean_squared_error: 0.5044 - wine_type_accuracy: 0.9973 - val_loss: 0.3572 - val_wine_quality_loss: 0.3309 - val_wine_type_loss: 0.0263 - val_wine_quality_root_mean_squared_error: 0.5752 - val_wine_type_accuracy: 0.9937\n",
            "Epoch 180/180\n",
            "99/99 [==============================] - 0s 2ms/step - loss: 0.2769 - wine_quality_loss: 0.2609 - wine_type_loss: 0.0160 - wine_quality_root_mean_squared_error: 0.5106 - wine_type_accuracy: 0.9963 - val_loss: 0.3440 - val_wine_quality_loss: 0.3177 - val_wine_type_loss: 0.0262 - val_wine_quality_root_mean_squared_error: 0.5637 - val_wine_type_accuracy: 0.9937\n"
          ],
          "name": "stdout"
        }
      ]
    },
    {
      "cell_type": "code",
      "metadata": {
        "colab": {
          "base_uri": "https://localhost:8080/"
        },
        "id": "6E-vX6VYw9JR",
        "outputId": "42d2bba6-d411-4bc0-b1c3-ff8190ea6d01"
      },
      "source": [
        "# Gather the training metrics\n",
        "loss, wine_quality_loss, wine_type_loss, wine_quality_rmse, wine_type_accuracy = model.evaluate(x=norm_val_X, y=val_Y)\n",
        "\n",
        "print()\n",
        "print(f'loss: {loss}')\n",
        "print(f'wine_quality_loss: {wine_quality_loss}')\n",
        "print(f'wine_type_loss: {wine_type_loss}')\n",
        "print(f'wine_quality_rmse: {wine_quality_rmse}')\n",
        "print(f'wine_type_accuracy: {wine_type_accuracy}')\n",
        "\n",
        "# EXPECTED VALUES\n",
        "# ~ 0.30 - 0.38\n",
        "# ~ 0.30 - 0.38\n",
        "# ~ 0.018 - 0.030\n",
        "# ~ 0.50 - 0.62\n",
        "# ~ 0.97 - 1.0\n",
        "\n",
        "# Example:\n",
        "#0.3657050132751465\n",
        "#0.3463745415210724\n",
        "#0.019330406561493874\n",
        "#0.5885359048843384\n",
        "#0.9974651336669922"
      ],
      "execution_count": 68,
      "outputs": [
        {
          "output_type": "stream",
          "text": [
            "25/25 [==============================] - 0s 948us/step - loss: 0.3440 - wine_quality_loss: 0.3177 - wine_type_loss: 0.0262 - wine_quality_root_mean_squared_error: 0.5637 - wine_type_accuracy: 0.9937\n",
            "\n",
            "loss: 0.34395769238471985\n",
            "wine_quality_loss: 0.31770938634872437\n",
            "wine_type_loss: 0.02624836377799511\n",
            "wine_quality_rmse: 0.5636571645736694\n",
            "wine_type_accuracy: 0.9936628937721252\n"
          ],
          "name": "stdout"
        }
      ]
    },
    {
      "cell_type": "markdown",
      "metadata": {
        "id": "1CVD67i7LBaO"
      },
      "source": [
        "# Analyze the Model Performance\n",
        "\n",
        "Note that the model has two outputs. The output at index 0 is quality and index 1 is wine type\n",
        "\n",
        "So, round the quality predictions to the nearest integer."
      ]
    },
    {
      "cell_type": "code",
      "metadata": {
        "id": "loQzaSArxKFk"
      },
      "source": [
        "predictions = model.predict(norm_test_X)\n",
        "quality_pred = predictions[0]\n",
        "type_pred = predictions[1]"
      ],
      "execution_count": 69,
      "outputs": []
    },
    {
      "cell_type": "code",
      "metadata": {
        "colab": {
          "base_uri": "https://localhost:8080/"
        },
        "id": "j9UXiwfRxKKq",
        "outputId": "7ff38db4-c866-4f61-ff58-53e0b7911acb"
      },
      "source": [
        "print(quality_pred[0])\n",
        "\n",
        "# EXPECTED OUTPUT\n",
        "# 5.6 - 6.0"
      ],
      "execution_count": 70,
      "outputs": [
        {
          "output_type": "stream",
          "text": [
            "[5.780664]\n"
          ],
          "name": "stdout"
        }
      ]
    },
    {
      "cell_type": "code",
      "metadata": {
        "colab": {
          "base_uri": "https://localhost:8080/"
        },
        "id": "1LlLF13cxlbU",
        "outputId": "079abdf6-4990-43b8-efb2-2c99b9261c73"
      },
      "source": [
        "len(type_pred)"
      ],
      "execution_count": 73,
      "outputs": [
        {
          "output_type": "execute_result",
          "data": {
            "text/plain": [
              "987"
            ]
          },
          "metadata": {
            "tags": []
          },
          "execution_count": 73
        }
      ]
    },
    {
      "cell_type": "code",
      "metadata": {
        "colab": {
          "base_uri": "https://localhost:8080/"
        },
        "id": "qzl5HHeixNoH",
        "outputId": "aeca48b2-08fc-4f01-d337-47a46f45b91e"
      },
      "source": [
        "print(type_pred[0])\n",
        "print(type_pred[944])\n",
        "\n",
        "# EXPECTED OUTPUT\n",
        "# A number close to zero\n",
        "# A number close to or equal to 1"
      ],
      "execution_count": 71,
      "outputs": [
        {
          "output_type": "stream",
          "text": [
            "[2.5615735e-05]\n",
            "[0.99999285]\n"
          ],
          "name": "stdout"
        }
      ]
    },
    {
      "cell_type": "markdown",
      "metadata": {
        "id": "S_jUylFcLEuH"
      },
      "source": [
        "Plot Utilities"
      ]
    },
    {
      "cell_type": "code",
      "metadata": {
        "id": "hoMKVqbixzXb"
      },
      "source": [
        "def plot_metrics(metric_name, title, ylim=5):\n",
        "    plt.title(title)\n",
        "    plt.ylim(0,ylim)\n",
        "    plt.plot(history.history[metric_name],color='blue',label=metric_name)\n",
        "    plt.plot(history.history['val_' + metric_name],color='green',label='val_' + metric_name)\n"
      ],
      "execution_count": 74,
      "outputs": []
    },
    {
      "cell_type": "code",
      "metadata": {
        "id": "m7-PeDMMx0-x"
      },
      "source": [
        "def plot_confusion_matrix(y_true, y_pred, title='', labels=[0,1]):\n",
        "    cm = confusion_matrix(y_true, y_pred)\n",
        "    fig = plt.figure()\n",
        "    ax = fig.add_subplot(111)\n",
        "    cax = ax.matshow(cm)\n",
        "    plt.title('Confusion matrix of the classifier')\n",
        "    fig.colorbar(cax)\n",
        "    ax.set_xticklabels([''] + labels)\n",
        "    ax.set_yticklabels([''] + labels)\n",
        "    plt.xlabel('Predicted')\n",
        "    plt.ylabel('True')\n",
        "    fmt = 'd'\n",
        "    thresh = cm.max() / 2.\n",
        "    for i, j in itertools.product(range(cm.shape[0]), range(cm.shape[1])):\n",
        "          plt.text(j, i, format(cm[i, j], fmt),\n",
        "                  horizontalalignment=\"center\",\n",
        "                  color=\"black\" if cm[i, j] > thresh else \"white\")\n",
        "    plt.show()"
      ],
      "execution_count": 75,
      "outputs": []
    },
    {
      "cell_type": "code",
      "metadata": {
        "id": "8xkhfmiPx3CX"
      },
      "source": [
        "def plot_diff(y_true, y_pred, title = '' ):\n",
        "    plt.scatter(y_true, y_pred)\n",
        "    plt.title(title)\n",
        "    plt.xlabel('True Values')\n",
        "    plt.ylabel('Predictions')\n",
        "    plt.axis('equal')\n",
        "    plt.axis('square')\n",
        "    plt.plot([-100, 100], [-100, 100])\n",
        "    return plt"
      ],
      "execution_count": 76,
      "outputs": []
    },
    {
      "cell_type": "markdown",
      "metadata": {
        "id": "Cv1GqWtBLHMD"
      },
      "source": [
        "Plots for Metrics"
      ]
    },
    {
      "cell_type": "code",
      "metadata": {
        "colab": {
          "base_uri": "https://localhost:8080/",
          "height": 281
        },
        "id": "fBsszBORx7J2",
        "outputId": "e55cbbeb-bb34-4d80-a393-345c137c454e"
      },
      "source": [
        "plot_metrics('wine_quality_root_mean_squared_error', 'RMSE', ylim=2)"
      ],
      "execution_count": 77,
      "outputs": [
        {
          "output_type": "display_data",
          "data": {
            "image/png": "[encoded data removed]",
            "text/plain": [
              "<Figure size 432x288 with 1 Axes>"
            ]
          },
          "metadata": {
            "tags": [],
            "needs_background": "light"
          }
        }
      ]
    },
    {
      "cell_type": "code",
      "metadata": {
        "colab": {
          "base_uri": "https://localhost:8080/",
          "height": 281
        },
        "id": "LSLk6kl9x7MP",
        "outputId": "256587ca-2de7-4b65-af38-a3fd42c2f74f"
      },
      "source": [
        "plot_metrics('wine_type_loss', 'Wine Type Loss', ylim=0.2)"
      ],
      "execution_count": 78,
      "outputs": [
        {
          "output_type": "display_data",
          "data": {
            "image/png": "[encoded data removed]",
            "text/plain": [
              "<Figure size 432x288 with 1 Axes>"
            ]
          },
          "metadata": {
            "tags": [],
            "needs_background": "light"
          }
        }
      ]
    },
    {
      "cell_type": "markdown",
      "metadata": {
        "id": "jsIiwZDILJb_"
      },
      "source": [
        "Plots for Confusion Matrix"
      ]
    },
    {
      "cell_type": "code",
      "metadata": {
        "colab": {
          "base_uri": "https://localhost:8080/",
          "height": 288
        },
        "id": "Rz5gto5RyMSp",
        "outputId": "2799cfd0-ad40-42a4-93ba-6c7c96c132c2"
      },
      "source": [
        "# Wine Type Prediction\n",
        "plot_confusion_matrix(test_Y[1], np.round(type_pred), title='Wine Type', labels = [0, 1])"
      ],
      "execution_count": 79,
      "outputs": [
        {
          "output_type": "display_data",
          "data": {
            "image/png": "[encoded data removed]",
            "text/plain": [
              "<Figure size 432x288 with 2 Axes>"
            ]
          },
          "metadata": {
            "tags": [],
            "needs_background": "light"
          }
        }
      ]
    },
    {
      "cell_type": "code",
      "metadata": {
        "colab": {
          "base_uri": "https://localhost:8080/",
          "height": 295
        },
        "id": "KGzagT4tyMVE",
        "outputId": "ce701750-1649-462d-9d70-96d758090c53"
      },
      "source": [
        "# Wine Quality Prediction\n",
        "scatter_plot = plot_diff(test_Y[0], quality_pred, title='Type')"
      ],
      "execution_count": 80,
      "outputs": [
        {
          "output_type": "display_data",
          "data": {
            "image/png": "[encoded data removed]",
            "text/plain": [
              "<Figure size 432x288 with 1 Axes>"
            ]
          },
          "metadata": {
            "tags": [],
            "needs_background": "light"
          }
        }
      ]
    }
  ]
}