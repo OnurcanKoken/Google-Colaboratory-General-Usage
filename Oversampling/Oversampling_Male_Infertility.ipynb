{
  "nbformat": 4,
  "nbformat_minor": 0,
  "metadata": {
    "colab": {
      "name": "Oversampling_Male_Infertility.ipynb",
      "provenance": [],
      "collapsed_sections": [
        "W2_ebIvgU-_-",
        "6FHL8IxyWCUT",
        "moSVZ4SUW9ms",
        "E1PuDv8YdPmV",
        "x32sxoOIZDHP",
        "7AfEIQnALLzX",
        "qmjU_YpnQwt8",
        "VgsWPS3oXKls",
        "9kP2I7jXUAKu",
        "QLH_py82XZz7",
        "LKb2XEKPgvas",
        "O5sAiwnho95J",
        "jgH55xAzWIPP",
        "cX3gcnNNWwc6",
        "PworRMKfyS0-"
      ],
      "authorship_tag": "ABX9TyO1EEJYGCEOTvBPyDNQ6GsZ",
      "include_colab_link": true
    },
    "kernelspec": {
      "name": "python3",
      "display_name": "Python 3"
    }
  },
  "cells": [
    {
      "cell_type": "markdown",
      "metadata": {
        "id": "view-in-github",
        "colab_type": "text"
      },
      "source": [
        "<a href=\"https://colab.research.google.com/github/OnurcanKoken/TensorFlow_Workshops_Colab_General_Usage/blob/master/Oversampling/Oversampling_Male_Infertility.ipynb\" target=\"_parent\"><img src=\"https://colab.research.google.com/assets/colab-badge.svg\" alt=\"Open In Colab\"/></a>"
      ]
    },
    {
      "cell_type": "markdown",
      "metadata": {
        "id": "kSq3ZxFgIlmo"
      },
      "source": [
        "# **Veri Dengeleme - Oversampling**"
      ]
    },
    {
      "cell_type": "markdown",
      "metadata": {
        "id": "W2_ebIvgU-_-"
      },
      "source": [
        "# 1. Kütüphaneleri ve Verileri Tanımlayalım"
      ]
    },
    {
      "cell_type": "code",
      "metadata": {
        "colab": {
          "base_uri": "https://localhost:8080/"
        },
        "id": "94Vfkta1TwKc",
        "outputId": "e032c00b-be82-493c-ee0a-afee6add1fff"
      },
      "source": [
        "# Mounting Google Drive locally\n",
        "# Import Google Drive Files and the Dataset\n",
        "from google.colab import drive  \n",
        "drive.mount('/content/drive')"
      ],
      "execution_count": null,
      "outputs": [
        {
          "output_type": "stream",
          "text": [
            "Mounted at /content/drive\n"
          ],
          "name": "stdout"
        }
      ]
    },
    {
      "cell_type": "code",
      "metadata": {
        "id": "Qr0JdKfETwbY"
      },
      "source": [
        "# Selection of Tensorflow version\n",
        "try:\n",
        "  %tensorflow_version 2.x\n",
        "except Exception:\n",
        "  pass"
      ],
      "execution_count": null,
      "outputs": []
    },
    {
      "cell_type": "code",
      "metadata": {
        "id": "kaeaKTSOT0PL"
      },
      "source": [
        "# Import the Libraries that will be used\n",
        "import os\n",
        "import cv2\n",
        "import glob\n",
        "import keras\n",
        "import random \n",
        "from random import randint\n",
        "import numpy as np\n",
        "from numpy import save\n",
        "from numpy import expand_dims\n",
        "import tensorflow as tf\n",
        "from tensorflow import keras\n",
        "from tensorflow.keras.models import Sequential\n",
        "from tensorflow.keras.layers import Activation, Dense, Flatten, BatchNormalization, Conv2D, MaxPool2D\n",
        "from tensorflow.keras.optimizers import Adam\n",
        "from tensorflow.keras.metrics import categorical_crossentropy\n",
        "from tensorflow.keras.preprocessing.image import ImageDataGenerator\n",
        "from keras.preprocessing.image import ImageDataGenerator\n",
        "from PIL import Image\n",
        "import matplotlib.pyplot as plt\n",
        "from matplotlib import pyplot\n",
        "from scipy import ndimage, misc\n",
        "from sklearn.metrics import confusion_matrix\n",
        "from sklearn.utils import shuffle\n",
        "from sklearn.preprocessing import MinMaxScaler\n",
        "import itertools\n",
        "import shutil\n",
        "import warnings\n",
        "!pip install -q keras\n",
        "warnings.simplefilter(action='ignore', category=FutureWarning)\n",
        "%matplotlib inline\n",
        "\n",
        "# save the model\n",
        "import h5py\n",
        "\n",
        "# load back the model\n",
        "from keras.models import load_model\n",
        "\n",
        "# import the necessary library to resize\n",
        "from skimage.transform import resize\n",
        "\n",
        "# library to convert 224 x 224 grayscale to rgb\n",
        "from skimage.color import gray2rgb"
      ],
      "execution_count": null,
      "outputs": []
    },
    {
      "cell_type": "code",
      "metadata": {
        "id": "n_2wifpET3Zf"
      },
      "source": [
        "# Load the Dataset\n",
        "\n",
        "# 1000 x 128 x 128\n",
        "x_128_train = '/content/drive/My Drive/AI/Male_Infertility_Assessment/MHSMA The Modified Human Sperm Morphology Analysis Dataset-20201116T105219Z-001/mhsma-dataset-master/mhsma/x_128_train.npy'\n",
        "np_x_128_train = np.load(x_128_train)\n",
        "\n",
        "# 240 x 128 x 128\n",
        "x_128_valid = '/content/drive/My Drive/AI/Male_Infertility_Assessment/MHSMA The Modified Human Sperm Morphology Analysis Dataset-20201116T105219Z-001/mhsma-dataset-master/mhsma/x_128_valid.npy'\n",
        "np_x_128_valid = np.load(x_128_valid)\n",
        "\n",
        "# 300 x 128 x 128\n",
        "x_128_test = '/content/drive/My Drive/AI/Male_Infertility_Assessment/MHSMA The Modified Human Sperm Morphology Analysis Dataset-20201116T105219Z-001/mhsma-dataset-master/mhsma/x_128_test.npy'\n",
        "np_x_128_test = np.load(x_128_test)"
      ],
      "execution_count": null,
      "outputs": []
    },
    {
      "cell_type": "code",
      "metadata": {
        "id": "SlXJ5BPmT4Hc"
      },
      "source": [
        "# Load Acrosome Labels\n",
        "\n",
        "# for 1000 Samples\n",
        "y_acrosome_train = '/content/drive/My Drive/AI/Male_Infertility_Assessment/MHSMA The Modified Human Sperm Morphology Analysis Dataset-20201116T105219Z-001/mhsma-dataset-master/mhsma/y_acrosome_train.npy'\n",
        "np_y_acrosome_train = np.load(y_acrosome_train)\n",
        "\n",
        "# for 240 Samples\n",
        "y_acrosome_valid = '/content/drive/My Drive/AI/Male_Infertility_Assessment/MHSMA The Modified Human Sperm Morphology Analysis Dataset-20201116T105219Z-001/mhsma-dataset-master/mhsma/y_acrosome_valid.npy'\n",
        "np_y_acrosome_valid = np.load(y_acrosome_valid)\n",
        "\n",
        "# for 300 Samples\n",
        "y_acrosome_test = '/content/drive/My Drive/AI/Male_Infertility_Assessment/MHSMA The Modified Human Sperm Morphology Analysis Dataset-20201116T105219Z-001/mhsma-dataset-master/mhsma/y_acrosome_test.npy'\n",
        "np_y_acrosome_test = np.load(y_acrosome_test)\n"
      ],
      "execution_count": null,
      "outputs": []
    },
    {
      "cell_type": "markdown",
      "metadata": {
        "id": "CaMtJ6edUKiq"
      },
      "source": [
        "Convert the trains to 4th dimention and decrease shapes of validation and test sets from 128 pixel to 64 pixel"
      ]
    },
    {
      "cell_type": "code",
      "metadata": {
        "id": "7tzbEL8xUETG"
      },
      "source": [
        "# convert train set to 1000 x 128 x 128 x 1\n",
        "np_x_128_train_s = np.resize(np_x_128_train, (1000,128,128,1))\n",
        "\n",
        "# convert validation set to 240 x 128 x 128 x 1\n",
        "np_x_128_valid_s = np.resize(np_x_128_valid, (240,64,64,1))\n",
        "\n",
        "# convert test set to 300 x 128 x 128 x 1\n",
        "np_x_128_test_s = np.resize(np_x_128_test, (300,64,64,1))"
      ],
      "execution_count": null,
      "outputs": []
    },
    {
      "cell_type": "markdown",
      "metadata": {
        "id": "6FHL8IxyWCUT"
      },
      "source": [
        "# 2. Prepare the Data"
      ]
    },
    {
      "cell_type": "markdown",
      "metadata": {
        "id": "tlDrZDZhQGZt"
      },
      "source": [
        "şu anda bu bölümü kullanmıyoruz, onun yerine kendimiz s0 s1 listleri oluşturup onları kullanacağız"
      ]
    },
    {
      "cell_type": "code",
      "metadata": {
        "id": "xRFfmI0oWRfU"
      },
      "source": [
        "# dataset paths\n",
        "train_path = '/content/drive/MyDrive/AI/MHSMA_Data/train'\n",
        "valid_path = '/content/drive/MyDrive/AI/MHSMA_Data/valid'\n",
        "test_path = '/content/drive/MyDrive/AI/MHSMA_Data/test'"
      ],
      "execution_count": null,
      "outputs": []
    },
    {
      "cell_type": "code",
      "metadata": {
        "colab": {
          "base_uri": "https://localhost:8080/"
        },
        "id": "u6HemQ4qWTgw",
        "outputId": "7d250a47-3de4-4f38-e42b-39ae760a2df6"
      },
      "source": [
        "# use ImageDataGenerator and flow_from_directory to create batches\n",
        "train_batches = ImageDataGenerator(preprocessing_function=tf.keras.applications.vgg16.preprocess_input) \\\n",
        "    .flow_from_directory(directory=train_path, target_size=(224,224), classes=['normal', 'abnormal'], batch_size=10)\n",
        "valid_batches = ImageDataGenerator(preprocessing_function=tf.keras.applications.vgg16.preprocess_input) \\\n",
        "    .flow_from_directory(directory=valid_path, target_size=(224,224), classes=['normal', 'abnormal'], batch_size=10)\n",
        "test_batches = ImageDataGenerator(preprocessing_function=tf.keras.applications.vgg16.preprocess_input) \\\n",
        "    .flow_from_directory(directory=test_path, target_size=(224,224), classes=['normal', 'abnormal'], batch_size=10, shuffle=False)"
      ],
      "execution_count": null,
      "outputs": [
        {
          "output_type": "stream",
          "text": [
            "Found 1000 images belonging to 2 classes.\n",
            "Found 240 images belonging to 2 classes.\n",
            "Found 300 images belonging to 2 classes.\n"
          ],
          "name": "stdout"
        }
      ]
    },
    {
      "cell_type": "markdown",
      "metadata": {
        "id": "moSVZ4SUW9ms"
      },
      "source": [
        "# 2. Prepare the Data for Oversampling"
      ]
    },
    {
      "cell_type": "markdown",
      "metadata": {
        "id": "50mr8l9z85AB"
      },
      "source": [
        "Let us first seperate S_0 and S_1\n",
        "where S_0 contains positive/normal samples and S_1 contains negative/abnormal samples"
      ]
    },
    {
      "cell_type": "code",
      "metadata": {
        "id": "w5Nbhhbm9Q4x"
      },
      "source": [
        "# save and seperate training images\n",
        "# class 0, positive, normal\n",
        "# class 1, negative, abnormal\n",
        "S_0 = []\n",
        "S_1 = []\n",
        "i = 0\n",
        "p = 0\n",
        "n = 0\n",
        "for i in range(1000): # number of images\n",
        "  \n",
        "  img = np_x_128_train[i]\n",
        "  img = Image.fromarray(img)\n",
        "  list_of_pixels = list(img.getdata())\n",
        "  img_i = str(i)\n",
        "  label = np_y_acrosome_train[i]\n",
        "  #img_list = img.tolist()\n",
        "  if label == 0:\n",
        "    S_0.append(list_of_pixels) # be careful it returns None, so do not assign it\n",
        "    # print(img_i + ' is saved' + ' as ' + str(label))\n",
        "    p = p + 1\n",
        "  elif label == 1:\n",
        "    S_1.append(list_of_pixels)\n",
        "    # print(img_i + ' is saved' + ' as ' + str(label))\n",
        "    n = n + 1\n",
        "\n",
        "# print(str(n) + ' abnormal, ' + str(p) + ' normal ' + ' images are saved')\n",
        "# expected result is: \"301 abnormal 699 normal images are saved\"\n"
      ],
      "execution_count": null,
      "outputs": []
    },
    {
      "cell_type": "code",
      "metadata": {
        "colab": {
          "base_uri": "https://localhost:8080/"
        },
        "id": "Xpld66LKVV5X",
        "outputId": "e34a9797-ce6a-411b-d004-d48ca66419ed"
      },
      "source": [
        "print(len(S_0), len(S_0[0])) # results 699 16384"
      ],
      "execution_count": null,
      "outputs": [
        {
          "output_type": "stream",
          "text": [
            "699 16384\n"
          ],
          "name": "stdout"
        }
      ]
    },
    {
      "cell_type": "markdown",
      "metadata": {
        "id": "uYpUC_E8XX1W"
      },
      "source": [
        "How to get back the original img from a list - no need to run this part"
      ]
    },
    {
      "cell_type": "code",
      "metadata": {
        "id": "ZCmqP0u6WPj7"
      },
      "source": [
        "  img = np_x_128_train[0]\n",
        "  img = Image.fromarray(img)\n",
        "  list_of_pixels = list(img.getdata())"
      ],
      "execution_count": null,
      "outputs": []
    },
    {
      "cell_type": "code",
      "metadata": {
        "colab": {
          "base_uri": "https://localhost:8080/"
        },
        "id": "zOAhR_w_WW5F",
        "outputId": "b188be5b-ef7a-4a49-f012-4ca74ff701c8"
      },
      "source": [
        "print(img.mode, img.size)"
      ],
      "execution_count": null,
      "outputs": [
        {
          "output_type": "stream",
          "text": [
            "L (128, 128)\n"
          ],
          "name": "stdout"
        }
      ]
    },
    {
      "cell_type": "code",
      "metadata": {
        "id": "IzH-8_IPWPwR"
      },
      "source": [
        "#im2 = Image.new(img.mode, img.size)\n",
        "im2 = Image.new('L', (128,128))\n",
        "im2.putdata(list_of_pixels)"
      ],
      "execution_count": null,
      "outputs": []
    },
    {
      "cell_type": "markdown",
      "metadata": {
        "id": "E1PuDv8YdPmV"
      },
      "source": [
        "# 3. Data Augmentation "
      ]
    },
    {
      "cell_type": "markdown",
      "metadata": {
        "id": "4rPf8ufQ2QC6"
      },
      "source": [
        "Notice that we need to convert the image list to an image format (128x128)"
      ]
    },
    {
      "cell_type": "code",
      "metadata": {
        "id": "FxSbtiKT2e44"
      },
      "source": [
        "# rotation\n",
        "import scipy\n",
        "# rotate image [0,360) degree by nearest-neighbor algorithm\n",
        "def rotate_img(image, degree):\n",
        "\n",
        "    image = scipy.ndimage.interpolation.rotate(image, degree, reshape = False, mode='nearest')\n",
        "\n",
        "    return image\n",
        "\n",
        "# this one is an alternative to rotate by using the Image Data Generator\n",
        "# rotate image [0,360) degree by nearest-neighbor algorithm\n",
        "def alternative_rotate_img(image, degree):\n",
        "\n",
        "    datagen = ImageDataGenerator(rotation_range = degree) \n",
        "    img_rotate = img_to_array(image) \n",
        "    img_rotate = img_rotate.reshape((1, ) + img_rotate.shape)  \n",
        "\n",
        "    i=0\n",
        "    for img_batch in datagen.flow(img_rotate, batch_size=1):\n",
        "      for img_rotate in img_batch:\n",
        "          img_rotate = np.squeeze(img_rotate, axis = 2)\n",
        "          img_rotate = np.asarray(img_rotate)\n",
        "          #plt.imshow(img_rotate, cmap='gray', vmin=0, vmax=255)\n",
        "          #plt.show()\n",
        "          i=i+1    \n",
        "      if i >= 1: # limits the number of rotated images\n",
        "          break\n",
        "\n",
        "    return img_rotate\n"
      ],
      "execution_count": null,
      "outputs": []
    },
    {
      "cell_type": "code",
      "metadata": {
        "id": "fLPil9ebdU-2"
      },
      "source": [
        "# shift\n",
        "# Shifting Left\n",
        "def shift_left(image, pxl):\n",
        "  # WIDTH = 128  HEIGHT = 128\n",
        "  WIDTH, HEIGHT = image.shape\n",
        "  for i in range(HEIGHT, 1, -1):\n",
        "    for j in range(WIDTH):\n",
        "      if (i < HEIGHT-pxl):\n",
        "        image[j][i] = image[j][i-pxl]\n",
        "  return image\n",
        "\n",
        "# Shifting Right\n",
        "def shift_right(image, pxl):\n",
        "  # WIDTH = 128  HEIGHT = 128\n",
        "  WIDTH, HEIGHT = image.shape\n",
        "  for j in range(WIDTH):\n",
        "    for i in range(HEIGHT):\n",
        "      if (i < HEIGHT-pxl):\n",
        "        image[j][i] = image[j][i+pxl]\n",
        "  return image\n",
        "\n",
        "# Shifting Up\n",
        "def shift_up(image, pxl):\n",
        "  # WIDTH = 128  HEIGHT = 128\n",
        "  WIDTH, HEIGHT = image.shape\n",
        "  for j in range(WIDTH):\n",
        "    for i in range(HEIGHT):\n",
        "      if (j < WIDTH - pxl and j > pxl):\n",
        "        image[j][i] = image[j+pxl][i]\n",
        "      #else: # this can be used instead of overwriting on the image\n",
        "        # image[j][i] = 1\n",
        "  return image\n",
        "\n",
        "# Shifting Down\n",
        "def shift_down(image, pxl):\n",
        "  # WIDTH = 128  HEIGHT = 128\n",
        "  WIDTH, HEIGHT = image.shape\n",
        "  for j in range(WIDTH, 1, -1):\n",
        "    for i in range(HEIGHT):\n",
        "      if (j < HEIGHT - pxl and j > pxl):\n",
        "        image[j][i] = image[j-pxl][i]\n",
        "  return image\n",
        "\n",
        "# Shift randomly\n",
        "def shift_all(image):\n",
        "\n",
        "  v = random.randint(0, 1)\n",
        "  if v == 1:\n",
        "    image = shift_up(image, random.randint(0, 5))\n",
        "  if v == 0:\n",
        "    image = shift_down(image, random.randint(0, 5))\n",
        "\n",
        "  h = random.randint(0, 1)\n",
        "  if h == 1:\n",
        "    image = shift_right(image, random.randint(0, 5))\n",
        "  if h == 0:\n",
        "    image = shift_left(image, random.randint(0, 5))\n",
        "  \n",
        "  return image\n"
      ],
      "execution_count": null,
      "outputs": []
    },
    {
      "cell_type": "code",
      "metadata": {
        "id": "tUb66haz217Q"
      },
      "source": [
        "# flip vertical and/or horizontal\n",
        "def flip_vh(image):\n",
        "  h = random.randint(0, 1)\n",
        "  y = random.randint(0, 1)\n",
        "  if (h == 1):\n",
        "    image = np.flipud(image) # up down\n",
        "  if (y == 1):\n",
        "    image = np.fliplr(image) # left right\n",
        "  return image"
      ],
      "execution_count": null,
      "outputs": []
    },
    {
      "cell_type": "code",
      "metadata": {
        "id": "Re0nYUBm26F9"
      },
      "source": [
        "# exp^log(1.25) brigthness\n",
        "def brigth1_25(image):\n",
        "  x = np.log10(1.25)\n",
        "  y = random.uniform(-x,x)\n",
        "  image = (np.exp(y))*image\n",
        "  return image"
      ],
      "execution_count": null,
      "outputs": []
    },
    {
      "cell_type": "code",
      "metadata": {
        "id": "vQZhbh4g28QH"
      },
      "source": [
        "# SizeAndCut: 128x128 to 64x64\n",
        "def SizeAndCut(img):\n",
        "  new_img = np.zeros((64,64))\n",
        "  for i in range(0,96):\n",
        "   for j in range(0,96):\n",
        "     if 32 <= i <= 95:\n",
        "       if 32 <= j <= 95:\n",
        "          new_img[i-32,j-32] = img[i,j]\n",
        "\n",
        "  return new_img"
      ],
      "execution_count": null,
      "outputs": []
    },
    {
      "cell_type": "code",
      "metadata": {
        "id": "kZ8iqmEu3dL5"
      },
      "source": [
        "# convert 1D list to 2D image\n",
        "def pixel_to_image(image_pixel):\n",
        "\n",
        "  im2 = Image.new('L',(128,128))\n",
        "  im2.putdata(image_pixel)\n",
        "  return im2\n"
      ],
      "execution_count": null,
      "outputs": []
    },
    {
      "cell_type": "code",
      "metadata": {
        "id": "wW03j8juVr6U"
      },
      "source": [
        "# normalize img by substruct mean of it and divide by 255\n",
        "def norm_img(img):\n",
        "  img_norm = (img - np.mean(img)) / 255\n",
        "  return img_norm"
      ],
      "execution_count": null,
      "outputs": []
    },
    {
      "cell_type": "code",
      "metadata": {
        "id": "qS7Z-Mrm2-Ae"
      },
      "source": [
        "def Data_Augmentation(image):\n",
        "\n",
        "  # convert 1D list to 2D image\n",
        "  image = pixel_to_image(image)\n",
        "\n",
        "  # rotate [0,360)\n",
        "  image = rotate_img(image, random.randint(0, 359))\n",
        "\n",
        "  # shift +-5 horizontal or vertical\n",
        "  image = shift_all(image)\n",
        "\n",
        "  # flip horizontal and/or vertical\n",
        "  image = flip_vh(image)\n",
        "\n",
        "  # brightness\n",
        "  image = brigth1_25(image)\n",
        "\n",
        "  # 128x128 to 64x64\n",
        "  image = SizeAndCut(image)\n",
        "\n",
        "  # normalization\n",
        "  image = norm_img(image)\n",
        "\n",
        "  return image"
      ],
      "execution_count": null,
      "outputs": []
    },
    {
      "cell_type": "markdown",
      "metadata": {
        "id": "x32sxoOIZDHP"
      },
      "source": [
        "# 4. Generate Mini Batch"
      ]
    },
    {
      "cell_type": "code",
      "metadata": {
        "id": "2lThSpcGZHpm"
      },
      "source": [
        "def Generate_Mini_Batch(S_0, S_1, epochs = 64):\n",
        "  B = [] # empty list for images\n",
        "  B_label = [] # empty list for labels\n",
        "  i_0 = 0 # last sample index of S0\n",
        "  i_1 = 0 # last sample index of S1\n",
        "  \n",
        "  # generate 64 images randomly\n",
        "  for i in range(64): # i = 0 to 63\n",
        "    c = randint(0,1)\n",
        "\n",
        "    # class 0 positive normal                                                           \n",
        "    if c == 0:\n",
        "      if i_0 == 0:\n",
        "        # shuffle S0                                                           \n",
        "        random.shuffle(S_0)\n",
        "      # send original img and get generated one\n",
        "      img_x = Data_Augmentation(S_0[i_0])\n",
        "\n",
        "    # class 1 negative abnormal\n",
        "    if c == 1:\n",
        "      if i_1 == 0:\n",
        "        # shuffle S1                                                           \n",
        "        random.shuffle(S_1)\n",
        "      # send original img and get generated one\n",
        "      img_x = Data_Augmentation(S_1[i_1])      \n",
        "\n",
        "    # append generated image to B list                                 \n",
        "    B.append(img_x)                   \n",
        "    # save the label of generated image                                         \n",
        "    B_label.append(c)\n",
        "    \n",
        "    # increase the index of S0 and S1\n",
        "    # when index exceed the length of list\n",
        "    # go back to beginning\n",
        "    if c == 0:\n",
        "      i_0 = (i_0 + 1) % len(S_0) # mod operation        \n",
        "    else:\n",
        "      i_1 = (i_1 + 1) % len(S_1)  \n",
        "\n",
        "  # return generated B list and its label list                 \n",
        "  return B, B_label\n",
        "    "
      ],
      "execution_count": null,
      "outputs": []
    },
    {
      "cell_type": "markdown",
      "metadata": {
        "id": "7AfEIQnALLzX"
      },
      "source": [
        "# 5. Check - Generate_Mini_Batch & Data_Augmentation"
      ]
    },
    {
      "cell_type": "markdown",
      "metadata": {
        "id": "EJ1duqTvHNYG"
      },
      "source": [
        "No need to run this part!\n",
        "\n",
        "Let us try the generate_mini_batch and data_augmentation functions"
      ]
    },
    {
      "cell_type": "code",
      "metadata": {
        "id": "KOzg-FtUHSAh"
      },
      "source": [
        "# obtain the generated images and labels\n",
        "try_x, try_y = Generate_Mini_Batch(S_0, S_1, epochs = 64)\n"
      ],
      "execution_count": null,
      "outputs": []
    },
    {
      "cell_type": "code",
      "metadata": {
        "id": "cJ8ZMbxreX9k"
      },
      "source": [
        "B, B_label = try_x, try_y"
      ],
      "execution_count": null,
      "outputs": []
    },
    {
      "cell_type": "code",
      "metadata": {
        "id": "NIw2ttBOcRvx"
      },
      "source": [
        "shape(try_x)"
      ],
      "execution_count": null,
      "outputs": []
    },
    {
      "cell_type": "code",
      "metadata": {
        "colab": {
          "base_uri": "https://localhost:8080/",
          "height": 338
        },
        "id": "icggTaB_H_Ng",
        "outputId": "4800b20a-5f9b-46ec-b9a3-d51af0f76ca1"
      },
      "source": [
        "# obtain the generated images and labels\n",
        "B, B_label = Generate_Mini_Batch(S_0, S_1, epochs = 64)\n",
        "# copy and plot the image\n",
        "plt.imshow((B[17]).copy(), cmap = 'gray')\n",
        "print(\"length of B list is\", len(B), \n",
        "      \"\\nlength of B_label list is\", len(B_label),\n",
        "      \"\\nshape of an image is\", (B[17]).shape, \n",
        "      \"\\nlabel (0 is normal, 1 is abnormal) of this image is\", B_label[17] )\n"
      ],
      "execution_count": null,
      "outputs": [
        {
          "output_type": "stream",
          "text": [
            "length of B list is 64 \n",
            "length of B_label list is 64 \n",
            "shape of an image is (64, 64) \n",
            "label (0 is normal, 1 is abnormal) of this image is 0\n"
          ],
          "name": "stdout"
        },
        {
          "output_type": "display_data",
          "data": {
            "image/png": "[encoded data removed]",
            "text/plain": [
              "<Figure size 432x288 with 1 Axes>"
            ]
          },
          "metadata": {
            "tags": [],
            "needs_background": "light"
          }
        }
      ]
    },
    {
      "cell_type": "code",
      "metadata": {
        "colab": {
          "base_uri": "https://localhost:8080/"
        },
        "id": "bV9pQKw2dbZr",
        "outputId": "db1dadec-367f-47c0-b5b3-c64c41103b5f"
      },
      "source": [
        "img_1.shape"
      ],
      "execution_count": null,
      "outputs": [
        {
          "output_type": "execute_result",
          "data": {
            "text/plain": [
              "(64, 64)"
            ]
          },
          "metadata": {
            "tags": []
          },
          "execution_count": 40
        }
      ]
    },
    {
      "cell_type": "code",
      "metadata": {
        "id": "I0bwJgX1eWfI"
      },
      "source": [
        ""
      ],
      "execution_count": null,
      "outputs": []
    },
    {
      "cell_type": "code",
      "metadata": {
        "colab": {
          "base_uri": "https://localhost:8080/"
        },
        "id": "QoAztmf8bzxq",
        "outputId": "34a01deb-fbaf-4e9f-f5b0-564362ec34da"
      },
      "source": [
        "len(try_y)\n"
      ],
      "execution_count": null,
      "outputs": [
        {
          "output_type": "execute_result",
          "data": {
            "text/plain": [
              "64"
            ]
          },
          "metadata": {
            "tags": []
          },
          "execution_count": 35
        }
      ]
    },
    {
      "cell_type": "code",
      "metadata": {
        "colab": {
          "base_uri": "https://localhost:8080/"
        },
        "id": "rrKcaSChc7IB",
        "outputId": "69054aef-efde-4d70-88c7-b25dd5f3526b"
      },
      "source": [
        "len(try_x)"
      ],
      "execution_count": null,
      "outputs": [
        {
          "output_type": "execute_result",
          "data": {
            "text/plain": [
              "64"
            ]
          },
          "metadata": {
            "tags": []
          },
          "execution_count": 37
        }
      ]
    },
    {
      "cell_type": "code",
      "metadata": {
        "colab": {
          "base_uri": "https://localhost:8080/"
        },
        "id": "hy1oC67odEBU",
        "outputId": "9c0dfb82-9006-423a-8663-4ef9091dc204"
      },
      "source": [
        "print(\"length of B list is\", len(B), \", length of B_label list is\", len(B_label))\n",
        "print(\"shape of an image is\", (B[42]).shape, \", label (0 is normal, 1 is abnormal) of this image is\", B_label[42] )"
      ],
      "execution_count": null,
      "outputs": [
        {
          "output_type": "stream",
          "text": [
            "length of B list is 64 , length of B_label list is 64\n",
            "shape of an image is (64, 64) , label (0 is normal, 1 is abnormal) of this image is 0\n"
          ],
          "name": "stdout"
        }
      ]
    },
    {
      "cell_type": "code",
      "metadata": {
        "id": "aOEP9NzdKZs5"
      },
      "source": [
        "# convert the floating list of image to a np array\n",
        "img_1 = np.asarray(img_1)"
      ],
      "execution_count": null,
      "outputs": []
    },
    {
      "cell_type": "code",
      "metadata": {
        "colab": {
          "base_uri": "https://localhost:8080/"
        },
        "id": "c6en13y5Ki0h",
        "outputId": "43ec4ada-63fc-44dd-ac6a-698af33c7cd6"
      },
      "source": [
        "# size and shape of an image\n",
        "print(img_1.size)\n",
        "print(img_1.shape)"
      ],
      "execution_count": null,
      "outputs": [
        {
          "output_type": "stream",
          "text": [
            "4096\n",
            "(64, 64)\n"
          ],
          "name": "stdout"
        }
      ]
    },
    {
      "cell_type": "code",
      "metadata": {
        "colab": {
          "base_uri": "https://localhost:8080/"
        },
        "id": "pmnfnwmnIF0W",
        "outputId": "3db7142d-930f-4e54-cb84-f7ff4b27627e"
      },
      "source": [
        "# convert np array to an image\n",
        "img_1 = Image.fromarray(img_1)\n",
        "print(img_1.mode, img_1.size)\n",
        "print(len(try_y))\n",
        "print(len(try_x))"
      ],
      "execution_count": null,
      "outputs": [
        {
          "output_type": "stream",
          "text": [
            "F (64, 64)\n",
            "64\n",
            "64\n"
          ],
          "name": "stdout"
        }
      ]
    },
    {
      "cell_type": "markdown",
      "metadata": {
        "id": "qmjU_YpnQwt8"
      },
      "source": [
        "# Check normalization - Failed"
      ]
    },
    {
      "cell_type": "code",
      "metadata": {
        "colab": {
          "base_uri": "https://localhost:8080/"
        },
        "id": "-u9x_eWgO0UM",
        "outputId": "f44bdc93-a896-4928-f316-590f7d19fe61"
      },
      "source": [
        "valid_batches = create_valid_batches()   \n",
        "img_batch, img_label = valid_batches.next()"
      ],
      "execution_count": null,
      "outputs": [
        {
          "output_type": "stream",
          "text": [
            "Found 240 images belonging to 2 classes.\n"
          ],
          "name": "stdout"
        }
      ]
    },
    {
      "cell_type": "code",
      "metadata": {
        "colab": {
          "base_uri": "https://localhost:8080/"
        },
        "id": "0GyYd96oP4CD",
        "outputId": "597aeb4f-8b89-45db-a137-a9d0d2716686"
      },
      "source": [
        "img_batch[1]"
      ],
      "execution_count": null,
      "outputs": [
        {
          "output_type": "execute_result",
          "data": {
            "text/plain": [
              "array([[[0.09827843, 0.04792549, 0.02086275],\n",
              "        [0.09827843, 0.04792549, 0.02086275],\n",
              "        [0.09827843, 0.04792549, 0.02086275],\n",
              "        ...,\n",
              "        [0.10219999, 0.05184706, 0.02478431],\n",
              "        [0.09827843, 0.04792549, 0.02086275],\n",
              "        [0.09827843, 0.04792549, 0.02086275]],\n",
              "\n",
              "       [[0.09827843, 0.04792549, 0.02086275],\n",
              "        [0.09827843, 0.04792549, 0.02086275],\n",
              "        [0.09827843, 0.04792549, 0.02086275],\n",
              "        ...,\n",
              "        [0.10219999, 0.05184706, 0.02478431],\n",
              "        [0.09827843, 0.04792549, 0.02086275],\n",
              "        [0.09827843, 0.04792549, 0.02086275]],\n",
              "\n",
              "       [[0.09827843, 0.04792549, 0.02086275],\n",
              "        [0.09827843, 0.04792549, 0.02086275],\n",
              "        [0.09827843, 0.04792549, 0.02086275],\n",
              "        ...,\n",
              "        [0.10219999, 0.05184706, 0.02478431],\n",
              "        [0.09827843, 0.04792549, 0.02086275],\n",
              "        [0.09827843, 0.04792549, 0.02086275]],\n",
              "\n",
              "       ...,\n",
              "\n",
              "       [[0.09827843, 0.04792549, 0.02086275],\n",
              "        [0.09827843, 0.04792549, 0.02086275],\n",
              "        [0.09827843, 0.04792549, 0.02086275],\n",
              "        ...,\n",
              "        [0.09827843, 0.04792549, 0.02086275],\n",
              "        [0.09827843, 0.04792549, 0.02086275],\n",
              "        [0.09827843, 0.04792549, 0.02086275]],\n",
              "\n",
              "       [[0.09827843, 0.04792549, 0.02086275],\n",
              "        [0.09827843, 0.04792549, 0.02086275],\n",
              "        [0.09827843, 0.04792549, 0.02086275],\n",
              "        ...,\n",
              "        [0.09827843, 0.04792549, 0.02086275],\n",
              "        [0.09827843, 0.04792549, 0.02086275],\n",
              "        [0.09827843, 0.04792549, 0.02086275]],\n",
              "\n",
              "       [[0.09827843, 0.04792549, 0.02086275],\n",
              "        [0.09827843, 0.04792549, 0.02086275],\n",
              "        [0.09827843, 0.04792549, 0.02086275],\n",
              "        ...,\n",
              "        [0.09827843, 0.04792549, 0.02086275],\n",
              "        [0.09827843, 0.04792549, 0.02086275],\n",
              "        [0.09827843, 0.04792549, 0.02086275]]], dtype=float32)"
            ]
          },
          "metadata": {
            "tags": []
          },
          "execution_count": 53
        }
      ]
    },
    {
      "cell_type": "code",
      "metadata": {
        "colab": {
          "base_uri": "https://localhost:8080/"
        },
        "id": "_lEptUYrQ4j0",
        "outputId": "83febcc8-e99b-4bdd-d7af-067912785ddf"
      },
      "source": [
        "img_batch_img = (img_batch[1]).copy() \n",
        "img_batch_img = img_batch_img*1\n",
        "#plt.imshow(img_batch_img, cmap = 'gray')\n",
        "plt.imshow(img_batch_img)"
      ],
      "execution_count": null,
      "outputs": [
        {
          "output_type": "stream",
          "text": [
            "Clipping input data to the valid range for imshow with RGB data ([0..1] for floats or [0..255] for integers).\n"
          ],
          "name": "stderr"
        },
        {
          "output_type": "execute_result",
          "data": {
            "text/plain": [
              "<matplotlib.image.AxesImage at 0x7f9ca26f29e8>"
            ]
          },
          "metadata": {
            "tags": []
          },
          "execution_count": 70
        },
        {
          "output_type": "display_data",
          "data": {
            "image/png": "[encoded data removed]",
            "text/plain": [
              "<Figure size 432x288 with 1 Axes>"
            ]
          },
          "metadata": {
            "tags": [],
            "needs_background": "light"
          }
        }
      ]
    },
    {
      "cell_type": "markdown",
      "metadata": {
        "id": "VgsWPS3oXKls"
      },
      "source": [
        "# Check Normalization - 2"
      ]
    },
    {
      "cell_type": "code",
      "metadata": {
        "colab": {
          "base_uri": "https://localhost:8080/"
        },
        "id": "t-lUMtfSXO6x",
        "outputId": "ad49ac72-8d84-4b4c-8002-046e02bf3e1e"
      },
      "source": [
        "img_128_1 = (np_x_128_train[1]).copy()\n",
        "im_128_1 = Image.fromarray(norm_img(img_128_1))\n",
        "arr = np.asarray(im_128_1)\n",
        "plt.imshow(arr, cmap='gray')\n",
        "plt.show()\n"
      ],
      "execution_count": null,
      "outputs": [
        {
          "output_type": "display_data",
          "data": {
            "image/png": "[encoded data removed]",
            "text/plain": [
              "<Figure size 432x288 with 1 Axes>"
            ]
          },
          "metadata": {
            "tags": [],
            "needs_background": "light"
          }
        }
      ]
    },
    {
      "cell_type": "code",
      "metadata": {
        "colab": {
          "base_uri": "https://localhost:8080/"
        },
        "id": "wFbIduVmXsWK",
        "outputId": "291cd83e-6828-4389-aff7-1abcd636fd79"
      },
      "source": [
        "img_128_1 = (np_x_128_train[1]).copy()\n",
        "im_128_1 = Image.fromarray((img_128_1))\n",
        "arr = np.asarray(im_128_1)\n",
        "plt.imshow(arr, cmap='gray')\n",
        "plt.show()\n"
      ],
      "execution_count": null,
      "outputs": [
        {
          "output_type": "display_data",
          "data": {
            "image/png": "[encoded data removed]",
            "text/plain": [
              "<Figure size 432x288 with 1 Axes>"
            ]
          },
          "metadata": {
            "tags": [],
            "needs_background": "light"
          }
        }
      ]
    },
    {
      "cell_type": "markdown",
      "metadata": {
        "id": "zjcLpt99XNb_"
      },
      "source": [
        ""
      ]
    },
    {
      "cell_type": "markdown",
      "metadata": {
        "id": "9kP2I7jXUAKu"
      },
      "source": [
        "# 6. Model_1 Simple CNN\n"
      ]
    },
    {
      "cell_type": "code",
      "metadata": {
        "id": "6l93z1JbZfjC"
      },
      "source": [
        "# create the 2nd model, Simple CNN Model\n",
        "\n",
        "model_1 = Sequential([\n",
        "    Conv2D(filters=32, kernel_size=(3, 3), activation='relu', padding = 'same', input_shape=(64,64,1)), # 64 x 64 x 3 ?\n",
        "    MaxPool2D(pool_size=(2, 2), strides=2),\n",
        "    Conv2D(filters=64, kernel_size=(3, 3), activation='relu', padding = 'same'),\n",
        "    MaxPool2D(pool_size=(2, 2), strides=2),\n",
        "    Flatten(),\n",
        "    Dense(units=2, activation='softmax')\n",
        "])"
      ],
      "execution_count": null,
      "outputs": []
    },
    {
      "cell_type": "code",
      "metadata": {
        "colab": {
          "base_uri": "https://localhost:8080/"
        },
        "id": "YnT34lDhU5ME",
        "outputId": "4b556cd1-ce99-418a-c4fd-fe0b7ed338fb"
      },
      "source": [
        "# summarize model_1 | fine-tuned vgg16 model\n",
        "model_1.summary()"
      ],
      "execution_count": null,
      "outputs": [
        {
          "output_type": "stream",
          "text": [
            "Model: \"sequential_1\"\n",
            "_________________________________________________________________\n",
            "Layer (type)                 Output Shape              Param #   \n",
            "=================================================================\n",
            "conv2d_2 (Conv2D)            (None, 64, 64, 32)        320       \n",
            "_________________________________________________________________\n",
            "max_pooling2d_2 (MaxPooling2 (None, 32, 32, 32)        0         \n",
            "_________________________________________________________________\n",
            "conv2d_3 (Conv2D)            (None, 32, 32, 64)        18496     \n",
            "_________________________________________________________________\n",
            "max_pooling2d_3 (MaxPooling2 (None, 16, 16, 64)        0         \n",
            "_________________________________________________________________\n",
            "flatten_1 (Flatten)          (None, 16384)             0         \n",
            "_________________________________________________________________\n",
            "dense_1 (Dense)              (None, 2)                 32770     \n",
            "=================================================================\n",
            "Total params: 51,586\n",
            "Trainable params: 51,586\n",
            "Non-trainable params: 0\n",
            "_________________________________________________________________\n"
          ],
          "name": "stdout"
        }
      ]
    },
    {
      "cell_type": "code",
      "metadata": {
        "id": "h9mHYlbUTKhz"
      },
      "source": [
        "## insert\n",
        "## transfer learning\n",
        "## vgg16\n",
        "## here\n",
        "## !!!"
      ],
      "execution_count": null,
      "outputs": []
    },
    {
      "cell_type": "code",
      "metadata": {
        "id": "G59cJbPHVqor"
      },
      "source": [
        "# before compiling our model,\n",
        "# let us define\n",
        "# precision, recall, f0.5, f1\n",
        "from keras import backend as K\n",
        "\n",
        "def recall_m(y_true, y_pred):\n",
        "    true_positives = K.sum(K.round(K.clip(y_true * y_pred, 0, 1)))\n",
        "    possible_positives = K.sum(K.round(K.clip(y_true, 0, 1)))\n",
        "    recall = true_positives / (possible_positives + K.epsilon())\n",
        "    return recall\n",
        "\n",
        "def precision_m(y_true, y_pred):\n",
        "    true_positives = K.sum(K.round(K.clip(y_true * y_pred, 0, 1)))\n",
        "    predicted_positives = K.sum(K.round(K.clip(y_pred, 0, 1)))\n",
        "    precision = true_positives / (predicted_positives + K.epsilon())\n",
        "    return precision\n",
        "\n",
        "def f05_m(y_true, y_pred):\n",
        "    precision = precision_m(y_true, y_pred)\n",
        "    recall = recall_m(y_true, y_pred)\n",
        "    beta_square = 0.5**2\n",
        "    return (1+beta_square)*((precision*recall)/(beta_square*precision+recall+K.epsilon()))\n",
        "\n",
        "def f1_m(y_true, y_pred):\n",
        "    precision = precision_m(y_true, y_pred)\n",
        "    recall = recall_m(y_true, y_pred)\n",
        "    # beta_square is equal to 1 here\n",
        "    return 2*((precision*recall)/(precision+recall+K.epsilon()))"
      ],
      "execution_count": null,
      "outputs": []
    },
    {
      "cell_type": "code",
      "metadata": {
        "id": "60hUdNH6U7bb"
      },
      "source": [
        "# this time \"binary_crossentropy\" is used\n",
        "# model_1.compile(optimizer=Adam(learning_rate=0.0001), loss='binary_crossentropy', metrics=['accuracy', f05_m, f1_m, precision_m, recall_m])"
      ],
      "execution_count": null,
      "outputs": []
    },
    {
      "cell_type": "code",
      "metadata": {
        "id": "yRIQVITqrGHA"
      },
      "source": [
        "# this time \"categorical_crossentropy\" is used\n",
        "#model_1.compile(optimizer=Adam(learning_rate=0.0001), loss='categorical_crossentropy', metrics=['accuracy', f05_m, f1_m, precision_m, recall_m])\n",
        "model_1.compile(optimizer=Adam(learning_rate=0.0001), loss='categorical_crossentropy', metrics=['accuracy'])"
      ],
      "execution_count": null,
      "outputs": []
    },
    {
      "cell_type": "markdown",
      "metadata": {
        "id": "QLH_py82XZz7"
      },
      "source": [
        "# 7. Model_2 VGG16 - Transfer Learning - Fine Tuning"
      ]
    },
    {
      "cell_type": "markdown",
      "metadata": {
        "id": "SwxzXnZkUSgy"
      },
      "source": [
        "Daha önceden indirmiştik, onu doğrudan yüklüyorum."
      ]
    },
    {
      "cell_type": "code",
      "metadata": {
        "colab": {
          "base_uri": "https://localhost:8080/"
        },
        "id": "YEez5UoWUPmh",
        "outputId": "80beafc9-67da-4483-ef21-123649bbf0ec"
      },
      "source": [
        "# load the vgg16_model\n",
        "import h5py\n",
        "from keras.models import load_model\n",
        "vgg16_model = load_model(\"/content/drive/MyDrive/AI/Male_Infertility_Assessment/Models/vgg16_model.h5\")\n",
        "vgg16_model.summary()"
      ],
      "execution_count": null,
      "outputs": [
        {
          "output_type": "stream",
          "text": [
            "WARNING:tensorflow:No training configuration found in the save file, so the model was *not* compiled. Compile it manually.\n",
            "Model: \"vgg16\"\n",
            "_________________________________________________________________\n",
            "Layer (type)                 Output Shape              Param #   \n",
            "=================================================================\n",
            "input_1 (InputLayer)         [(None, 224, 224, 3)]     0         \n",
            "_________________________________________________________________\n",
            "block1_conv1 (Conv2D)        (None, 224, 224, 64)      1792      \n",
            "_________________________________________________________________\n",
            "block1_conv2 (Conv2D)        (None, 224, 224, 64)      36928     \n",
            "_________________________________________________________________\n",
            "block1_pool (MaxPooling2D)   (None, 112, 112, 64)      0         \n",
            "_________________________________________________________________\n",
            "block2_conv1 (Conv2D)        (None, 112, 112, 128)     73856     \n",
            "_________________________________________________________________\n",
            "block2_conv2 (Conv2D)        (None, 112, 112, 128)     147584    \n",
            "_________________________________________________________________\n",
            "block2_pool (MaxPooling2D)   (None, 56, 56, 128)       0         \n",
            "_________________________________________________________________\n",
            "block3_conv1 (Conv2D)        (None, 56, 56, 256)       295168    \n",
            "_________________________________________________________________\n",
            "block3_conv2 (Conv2D)        (None, 56, 56, 256)       590080    \n",
            "_________________________________________________________________\n",
            "block3_conv3 (Conv2D)        (None, 56, 56, 256)       590080    \n",
            "_________________________________________________________________\n",
            "block3_pool (MaxPooling2D)   (None, 28, 28, 256)       0         \n",
            "_________________________________________________________________\n",
            "block4_conv1 (Conv2D)        (None, 28, 28, 512)       1180160   \n",
            "_________________________________________________________________\n",
            "block4_conv2 (Conv2D)        (None, 28, 28, 512)       2359808   \n",
            "_________________________________________________________________\n",
            "block4_conv3 (Conv2D)        (None, 28, 28, 512)       2359808   \n",
            "_________________________________________________________________\n",
            "block4_pool (MaxPooling2D)   (None, 14, 14, 512)       0         \n",
            "_________________________________________________________________\n",
            "block5_conv1 (Conv2D)        (None, 14, 14, 512)       2359808   \n",
            "_________________________________________________________________\n",
            "block5_conv2 (Conv2D)        (None, 14, 14, 512)       2359808   \n",
            "_________________________________________________________________\n",
            "block5_conv3 (Conv2D)        (None, 14, 14, 512)       2359808   \n",
            "_________________________________________________________________\n",
            "block5_pool (MaxPooling2D)   (None, 7, 7, 512)         0         \n",
            "_________________________________________________________________\n",
            "flatten (Flatten)            (None, 25088)             0         \n",
            "_________________________________________________________________\n",
            "fc1 (Dense)                  (None, 4096)              102764544 \n",
            "_________________________________________________________________\n",
            "fc2 (Dense)                  (None, 4096)              16781312  \n",
            "_________________________________________________________________\n",
            "predictions (Dense)          (None, 1000)              4097000   \n",
            "=================================================================\n",
            "Total params: 138,357,544\n",
            "Trainable params: 138,357,544\n",
            "Non-trainable params: 0\n",
            "_________________________________________________________________\n"
          ],
          "name": "stdout"
        }
      ]
    },
    {
      "cell_type": "markdown",
      "metadata": {
        "id": "8J5P8JymUkLQ"
      },
      "source": [
        "Kendi modelimizi oluşturuyoruz, son 3 katmanı eğitilebilir hale getireceğim."
      ]
    },
    {
      "cell_type": "code",
      "metadata": {
        "id": "qqmzBOWOUjUq"
      },
      "source": [
        "# get all the layers until the last one\n",
        "model_2 = Sequential()\n",
        "for layer in vgg16_model.layers[:-4]:\n",
        "    model_2.add(layer)\n"
      ],
      "execution_count": null,
      "outputs": []
    },
    {
      "cell_type": "code",
      "metadata": {
        "id": "scoAQlf6U1h8"
      },
      "source": [
        "# freeze all the layers\n",
        "for layer in model_2.layers:\n",
        "    layer.trainable = False"
      ],
      "execution_count": null,
      "outputs": []
    },
    {
      "cell_type": "code",
      "metadata": {
        "id": "cM_Yo0zmZpaL"
      },
      "source": [
        "# add the last 4 layers as you desire, I have used the same structure\n",
        "model_2.add(Flatten())\n",
        "model_2.add(Dense(units = 4096, activation = 'relu')) # fully connected layers\n",
        "model_2.add(Dense(units = 4096, activation = 'relu'))\n",
        "\n",
        "# add the last layer to seperate normal and abnormal classes\n",
        "model_2.add(Dense(units=2, activation='softmax'))"
      ],
      "execution_count": null,
      "outputs": []
    },
    {
      "cell_type": "code",
      "metadata": {
        "colab": {
          "base_uri": "https://localhost:8080/"
        },
        "id": "-ZCfb0myXZ0D",
        "outputId": "2a60cfbd-0d6b-4248-87c1-ccd69f9e9ce4"
      },
      "source": [
        "# summarize model_2 | fine-tuned vgg16 model\n",
        "model_2.summary()"
      ],
      "execution_count": null,
      "outputs": [
        {
          "output_type": "stream",
          "text": [
            "Model: \"sequential\"\n",
            "_________________________________________________________________\n",
            "Layer (type)                 Output Shape              Param #   \n",
            "=================================================================\n",
            "block1_conv1 (Conv2D)        (None, 224, 224, 64)      1792      \n",
            "_________________________________________________________________\n",
            "block1_conv2 (Conv2D)        (None, 224, 224, 64)      36928     \n",
            "_________________________________________________________________\n",
            "block1_pool (MaxPooling2D)   (None, 112, 112, 64)      0         \n",
            "_________________________________________________________________\n",
            "block2_conv1 (Conv2D)        (None, 112, 112, 128)     73856     \n",
            "_________________________________________________________________\n",
            "block2_conv2 (Conv2D)        (None, 112, 112, 128)     147584    \n",
            "_________________________________________________________________\n",
            "block2_pool (MaxPooling2D)   (None, 56, 56, 128)       0         \n",
            "_________________________________________________________________\n",
            "block3_conv1 (Conv2D)        (None, 56, 56, 256)       295168    \n",
            "_________________________________________________________________\n",
            "block3_conv2 (Conv2D)        (None, 56, 56, 256)       590080    \n",
            "_________________________________________________________________\n",
            "block3_conv3 (Conv2D)        (None, 56, 56, 256)       590080    \n",
            "_________________________________________________________________\n",
            "block3_pool (MaxPooling2D)   (None, 28, 28, 256)       0         \n",
            "_________________________________________________________________\n",
            "block4_conv1 (Conv2D)        (None, 28, 28, 512)       1180160   \n",
            "_________________________________________________________________\n",
            "block4_conv2 (Conv2D)        (None, 28, 28, 512)       2359808   \n",
            "_________________________________________________________________\n",
            "block4_conv3 (Conv2D)        (None, 28, 28, 512)       2359808   \n",
            "_________________________________________________________________\n",
            "block4_pool (MaxPooling2D)   (None, 14, 14, 512)       0         \n",
            "_________________________________________________________________\n",
            "block5_conv1 (Conv2D)        (None, 14, 14, 512)       2359808   \n",
            "_________________________________________________________________\n",
            "block5_conv2 (Conv2D)        (None, 14, 14, 512)       2359808   \n",
            "_________________________________________________________________\n",
            "block5_conv3 (Conv2D)        (None, 14, 14, 512)       2359808   \n",
            "_________________________________________________________________\n",
            "block5_pool (MaxPooling2D)   (None, 7, 7, 512)         0         \n",
            "_________________________________________________________________\n",
            "flatten (Flatten)            (None, 25088)             0         \n",
            "_________________________________________________________________\n",
            "dense (Dense)                (None, 4096)              102764544 \n",
            "_________________________________________________________________\n",
            "dense_1 (Dense)              (None, 4096)              16781312  \n",
            "_________________________________________________________________\n",
            "dense_2 (Dense)              (None, 2)                 8194      \n",
            "=================================================================\n",
            "Total params: 134,268,738\n",
            "Trainable params: 119,554,050\n",
            "Non-trainable params: 14,714,688\n",
            "_________________________________________________________________\n"
          ],
          "name": "stdout"
        }
      ]
    },
    {
      "cell_type": "markdown",
      "metadata": {
        "id": "LKb2XEKPgvas"
      },
      "source": [
        "# 8. Convert Training Dataset to Batch"
      ]
    },
    {
      "cell_type": "code",
      "metadata": {
        "id": "_0jY94wyhOgl"
      },
      "source": [
        "import os\n",
        "import glob\n",
        "\n",
        "def clear_folders():\n",
        "\n",
        "  files = glob.glob('/content/drive/MyDrive/AI/MHSMA_Data_Temp/train/normal/*')\n",
        "  for f in files:\n",
        "      os.remove(f)\n",
        "\n",
        "  files = glob.glob('/content/drive/MyDrive/AI/MHSMA_Data_Temp/train/abnormal/*')\n",
        "  for f in files:\n",
        "      os.remove(f)\n",
        "\n",
        "def file_images(x,y):\n",
        "\n",
        "  # class 0, positive, normal\n",
        "  # class 1, negative, abnormal\n",
        "  i = 0\n",
        "  p = 0\n",
        "  n = 0\n",
        "  for i in range(200): # number of images\n",
        "\n",
        "    img = x[i]\n",
        "    img = Image.fromarray(img)\n",
        "\n",
        "    # convert 'F' to JPEG \n",
        "    # img = Image.fromarray(img)\n",
        "    img = img.convert('L')  \n",
        "\n",
        "    img_i = str(i)\n",
        "    label = y[i]\n",
        "\n",
        "    if label == 0:\n",
        "      img.save('/content/drive/MyDrive/AI/MHSMA_Data_Temp/train/normal/' + img_i + '.jpg','JPEG')\n",
        "      # print(img_i + ' is saved' + ' as ' + str(label))\n",
        "      p = p + 1\n",
        "    elif label == 1:\n",
        "      img.save('/content/drive/MyDrive/AI/MHSMA_Data_Temp/train/abnormal/' + img_i + '.jpg','JPEG')\n",
        "      # print(img_i + ' is saved' + ' as ' + str(label))\n",
        "      n = n + 1\n",
        "\n",
        "  print(str(n) + ' abnormal, ' + str(p) + ' normal ' + ' images are saved')\n",
        "  # expected result is: \"? abnormal ? normal images are saved\"\n",
        "\n",
        "  return 0\n",
        "\n",
        "def create_batch():\n",
        "  \n",
        "  # dataset path\n",
        "  train_path = '/content/drive/MyDrive/AI/MHSMA_Data_Temp/train'\n",
        "  train_batch = ImageDataGenerator(preprocessing_function=tf.keras.applications.vgg16.preprocess_input) \\\n",
        "      .flow_from_directory(directory=train_path, target_size=(224,224), classes=['normal', 'abnormal'], batch_size=64, shuffle=True)\n",
        "\n",
        "  return train_batch\n",
        "\n",
        "def train_to_batch(x,y):\n",
        "\n",
        "  # clear the folders\n",
        "  clear_folders()\n",
        "  \n",
        "  # save and seperate training images\n",
        "  c = file_images(x,y)\n",
        "\n",
        "  if c == 0:\n",
        "    # print(\"images saved\")\n",
        "    print(\" \")\n",
        "  else:\n",
        "    print(\"we have a problem\")\n",
        "  \n",
        "  # create a batch\n",
        "  train_batch = create_batch()\n",
        "\n",
        "  return train_batch\n",
        "\n",
        "def create_valid_batches():\n",
        "  valid_path = '/content/drive/MyDrive/AI/MHSMA_Data/valid'\n",
        "  valid_batches = ImageDataGenerator(preprocessing_function=tf.keras.applications.vgg16.preprocess_input) \\\n",
        "      .flow_from_directory(directory=valid_path, target_size=(224,224), classes=['normal', 'abnormal'], batch_size=64, shuffle=True)\n",
        "\n",
        "  return valid_batches\n"
      ],
      "execution_count": null,
      "outputs": []
    },
    {
      "cell_type": "markdown",
      "metadata": {
        "id": "O5sAiwnho95J"
      },
      "source": [
        "# Evaluation Metrics"
      ]
    },
    {
      "cell_type": "code",
      "metadata": {
        "id": "8NrGsh9tpCGj"
      },
      "source": [
        "# before compiling our model,\n",
        "# let us define\n",
        "# precision, recall, f0.5, f1\n",
        "from keras import backend as K\n",
        "\n",
        "def recall_m(y_true, y_pred):\n",
        "    true_positives = K.sum(K.round(K.clip(y_true * y_pred, 0, 1)))\n",
        "    possible_positives = K.sum(K.round(K.clip(y_true, 0, 1)))\n",
        "    recall = true_positives / (possible_positives + K.epsilon())\n",
        "    return recall\n",
        "\n",
        "def precision_m(y_true, y_pred):\n",
        "    true_positives = K.sum(K.round(K.clip(y_true * y_pred, 0, 1)))\n",
        "    predicted_positives = K.sum(K.round(K.clip(y_pred, 0, 1)))\n",
        "    precision = true_positives / (predicted_positives + K.epsilon())\n",
        "    return precision\n",
        "\n",
        "def f05_m(y_true, y_pred):\n",
        "    precision = precision_m(y_true, y_pred)\n",
        "    recall = recall_m(y_true, y_pred)\n",
        "    beta_square = 0.5**2\n",
        "    return (1+beta_square)*((precision*recall)/(beta_square*precision+recall+K.epsilon()))\n",
        "\n",
        "def f1_m(y_true, y_pred):\n",
        "    precision = precision_m(y_true, y_pred)\n",
        "    recall = recall_m(y_true, y_pred)\n",
        "    # beta_square is equal to 1 here\n",
        "    return 2*((precision*recall)/(precision+recall+K.epsilon()))"
      ],
      "execution_count": null,
      "outputs": []
    },
    {
      "cell_type": "markdown",
      "metadata": {
        "id": "-gfIdPXBIO9A"
      },
      "source": [
        "# 8. Train & Validate The Model with Oversampling & Data Augmentation"
      ]
    },
    {
      "cell_type": "markdown",
      "metadata": {
        "id": "oEqjQp0I-JZm"
      },
      "source": [
        "First Training to see if it works"
      ]
    },
    {
      "cell_type": "code",
      "metadata": {
        "id": "F1oXycGZGXng",
        "colab": {
          "base_uri": "https://localhost:8080/"
        },
        "outputId": "3defe2b5-5ce4-4121-abae-4aac08d15b4b"
      },
      "source": [
        "#loss min is our main purpose\n",
        "#S_0 an S_1 lists are determined                                               \n",
        "\n",
        "#model = model_1 # simple cnn\n",
        "model_100 = model_2 # vgg16 - transfer learning\n",
        "\n",
        "# this time \"categorical_crossentropy\" is used\n",
        "model_100.compile(optimizer=Adam(learning_rate=0.0001), loss='categorical_crossentropy', metrics=['accuracy', f05_m, f1_m, precision_m, recall_m])\n",
        "\n",
        "loss_min = 0.3 # let us initialize the min loss as 2            #????????????????\n",
        "valid_batches = create_valid_batches()                        #????????????????\n",
        "\n",
        "for i in range(100): # this is going to be equal to 10.000    #????????????????\n",
        "\n",
        "  print(i, \"\\n\")\n",
        "\n",
        "  # trains are used instead of batches\n",
        "  x, y = Generate_Mini_Batch(S_0,S_1,64)\n",
        "\n",
        "  # x = np.resize(x,(64,64,64,1))                             #????????????????\n",
        "\n",
        "  x = np.array(x)\n",
        "  y = np.array(y)\n",
        "\n",
        "  train_batch = train_to_batch(x,y)\n",
        "  \n",
        "\n",
        "  # training part\n",
        "  # result = model.fit(x, y, batch_size=64, epochs=1, verbose=1, validation_data = (np_x_128_valid_s, np_y_acrosome_valid), validation_batch_size=64, shuffle=True) \n",
        "  # result = model.fit(x, y, batch_size=64, epochs=1, verbose=1, shuffle=True) \n",
        "  # train the model with training and validation datasets\n",
        "  result_100 = model_100.fit(x=train_batch,\n",
        "      steps_per_epoch=len(train_batch),\n",
        "      validation_data=valid_batches,\n",
        "      validation_steps=len(valid_batches),\n",
        "      batch_size = 64,\n",
        "      epochs=3)\n",
        "\n",
        "  # get the loss function result on validation set\n",
        "  # loss_current = result_100.history['val_loss'] \n",
        "\n",
        "  # for any need;\n",
        "  # train_loss = result_100.history['loss']\n",
        "  # loss_current = train_loss\n",
        "  # train_acc  = result_100.history['accuracy']\n",
        "  val_acc    = result_100.history['val_accuracy']\n",
        "  loss_current = val_acc\n",
        "   \n",
        "  print(loss_current, \"\\n\")\n",
        "\n",
        "  # update current loss\n",
        "  # continue\n",
        "\n",
        "  if loss_current[-1] > loss_min:\n",
        "    loss_min = loss_current[-1]\n",
        "    # save and update the model parameters                                                \n",
        "    # let us save the vgg16_model\n",
        "    model_100.save(\"/content/drive/MyDrive/AI/Male_Infertility_Assessment/Models/oversamp_6_model.h5\")\n",
        "    print(\"the model is saved\")\n"
      ],
      "execution_count": null,
      "outputs": [
        {
          "output_type": "stream",
          "text": [
            "Found 240 images belonging to 2 classes.\n",
            "0 \n",
            "\n",
            "107 abnormal, 93 normal  images are saved\n",
            " \n",
            "Found 200 images belonging to 2 classes.\n",
            "Epoch 1/3\n",
            "4/4 [==============================] - 239s 78s/step - loss: 1.3008 - accuracy: 0.5008 - f05_m: 0.5000 - f1_m: 0.5000 - precision_m: 0.5000 - recall_m: 0.5000 - val_loss: 0.7803 - val_accuracy: 0.6625 - val_f05_m: 0.6641 - val_f1_m: 0.6641 - val_precision_m: 0.6641 - val_recall_m: 0.6641\n",
            "Epoch 2/3\n",
            "4/4 [==============================] - 208s 59s/step - loss: 1.1180 - accuracy: 0.6588 - f05_m: 0.6724 - f1_m: 0.6724 - precision_m: 0.6724 - recall_m: 0.6724 - val_loss: 12.8030 - val_accuracy: 0.2750 - val_f05_m: 0.2760 - val_f1_m: 0.2760 - val_precision_m: 0.2760 - val_recall_m: 0.2760\n",
            "Epoch 3/3\n",
            "4/4 [==============================] - 209s 59s/step - loss: 1.0992 - accuracy: 0.6812 - f05_m: 0.7016 - f1_m: 0.7016 - precision_m: 0.7016 - recall_m: 0.7016 - val_loss: 1.9373 - val_accuracy: 0.3833 - val_f05_m: 0.3867 - val_f1_m: 0.3867 - val_precision_m: 0.3867 - val_recall_m: 0.3867\n",
            "[0.6625000238418579, 0.2750000059604645, 0.38333332538604736] \n",
            "\n",
            "the model is saved\n",
            "1 \n",
            "\n",
            "102 abnormal, 98 normal  images are saved\n",
            " \n",
            "Found 200 images belonging to 2 classes.\n",
            "Epoch 1/3\n",
            "4/4 [==============================] - 214s 70s/step - loss: 1.8097 - accuracy: 0.5200 - f05_m: 0.5430 - f1_m: 0.5430 - precision_m: 0.5430 - recall_m: 0.5430 - val_loss: 10.8547 - val_accuracy: 0.2750 - val_f05_m: 0.2734 - val_f1_m: 0.2734 - val_precision_m: 0.2734 - val_recall_m: 0.2734\n",
            "Epoch 2/3\n",
            "4/4 [==============================] - 209s 59s/step - loss: 0.9917 - accuracy: 0.6400 - f05_m: 0.6367 - f1_m: 0.6367 - precision_m: 0.6367 - recall_m: 0.6367 - val_loss: 4.5849 - val_accuracy: 0.2750 - val_f05_m: 0.2747 - val_f1_m: 0.2747 - val_precision_m: 0.2747 - val_recall_m: 0.2747\n",
            "Epoch 3/3\n",
            "4/4 [==============================] - 210s 60s/step - loss: 0.3942 - accuracy: 0.8100 - f05_m: 0.7969 - f1_m: 0.7969 - precision_m: 0.7969 - recall_m: 0.7969 - val_loss: 9.4597 - val_accuracy: 0.2750 - val_f05_m: 0.2747 - val_f1_m: 0.2747 - val_precision_m: 0.2747 - val_recall_m: 0.2747\n",
            "[0.2750000059604645, 0.2750000059604645, 0.2750000059604645] \n",
            "\n",
            "2 \n",
            "\n",
            "103 abnormal, 97 normal  images are saved\n",
            " \n",
            "Found 200 images belonging to 2 classes.\n",
            "Epoch 1/3\n",
            "4/4 [==============================] - 210s 59s/step - loss: 1.1207 - accuracy: 0.5650 - f05_m: 0.5508 - f1_m: 0.5508 - precision_m: 0.5508 - recall_m: 0.5508 - val_loss: 6.7140 - val_accuracy: 0.2750 - val_f05_m: 0.2734 - val_f1_m: 0.2734 - val_precision_m: 0.2734 - val_recall_m: 0.2734\n",
            "Epoch 2/3\n",
            "4/4 [==============================] - 208s 59s/step - loss: 0.4799 - accuracy: 0.7550 - f05_m: 0.7812 - f1_m: 0.7812 - precision_m: 0.7812 - recall_m: 0.7812 - val_loss: 6.6347 - val_accuracy: 0.2750 - val_f05_m: 0.2786 - val_f1_m: 0.2786 - val_precision_m: 0.2786 - val_recall_m: 0.2786\n",
            "Epoch 3/3\n",
            "4/4 [==============================] - 207s 59s/step - loss: 0.2354 - accuracy: 0.9200 - f05_m: 0.9375 - f1_m: 0.9375 - precision_m: 0.9375 - recall_m: 0.9375 - val_loss: 5.8891 - val_accuracy: 0.2750 - val_f05_m: 0.2721 - val_f1_m: 0.2721 - val_precision_m: 0.2721 - val_recall_m: 0.2721\n",
            "[0.2750000059604645, 0.2750000059604645, 0.2750000059604645] \n",
            "\n",
            "3 \n",
            "\n",
            "98 abnormal, 102 normal  images are saved\n",
            " \n",
            "Found 200 images belonging to 2 classes.\n",
            "Epoch 1/3\n",
            "4/4 [==============================] - 208s 59s/step - loss: 0.9177 - accuracy: 0.5450 - f05_m: 0.5625 - f1_m: 0.5625 - precision_m: 0.5625 - recall_m: 0.5625 - val_loss: 2.9004 - val_accuracy: 0.3250 - val_f05_m: 0.3320 - val_f1_m: 0.3320 - val_precision_m: 0.3320 - val_recall_m: 0.3320\n",
            "Epoch 2/3\n",
            "4/4 [==============================] - 207s 68s/step - loss: 0.5509 - accuracy: 0.7000 - f05_m: 0.7383 - f1_m: 0.7383 - precision_m: 0.7383 - recall_m: 0.7383 - val_loss: 4.8107 - val_accuracy: 0.2750 - val_f05_m: 0.2747 - val_f1_m: 0.2747 - val_precision_m: 0.2747 - val_recall_m: 0.2747\n",
            "Epoch 3/3\n",
            "4/4 [==============================] - 208s 59s/step - loss: 0.4059 - accuracy: 0.7800 - f05_m: 0.8008 - f1_m: 0.8008 - precision_m: 0.8008 - recall_m: 0.8008 - val_loss: 1.8148 - val_accuracy: 0.4292 - val_f05_m: 0.4271 - val_f1_m: 0.4271 - val_precision_m: 0.4271 - val_recall_m: 0.4271\n",
            "[0.32499998807907104, 0.2750000059604645, 0.42916667461395264] \n",
            "\n",
            "the model is saved\n",
            "4 \n",
            "\n",
            "87 abnormal, 113 normal  images are saved\n",
            " \n",
            "Found 200 images belonging to 2 classes.\n",
            "Epoch 1/3\n",
            "4/4 [==============================] - 211s 59s/step - loss: 0.9034 - accuracy: 0.6250 - f05_m: 0.6523 - f1_m: 0.6523 - precision_m: 0.6523 - recall_m: 0.6523 - val_loss: 3.2364 - val_accuracy: 0.3000 - val_f05_m: 0.2982 - val_f1_m: 0.2982 - val_precision_m: 0.2982 - val_recall_m: 0.2982\n",
            "Epoch 2/3\n",
            "4/4 [==============================] - 208s 59s/step - loss: 0.4214 - accuracy: 0.7950 - f05_m: 0.7852 - f1_m: 0.7852 - precision_m: 0.7852 - recall_m: 0.7852 - val_loss: 2.4827 - val_accuracy: 0.3042 - val_f05_m: 0.3021 - val_f1_m: 0.3021 - val_precision_m: 0.3021 - val_recall_m: 0.3021\n",
            "Epoch 3/3\n",
            "4/4 [==============================] - 207s 67s/step - loss: 0.2211 - accuracy: 0.9050 - f05_m: 0.8984 - f1_m: 0.8984 - precision_m: 0.8984 - recall_m: 0.8984 - val_loss: 2.1580 - val_accuracy: 0.3167 - val_f05_m: 0.3151 - val_f1_m: 0.3151 - val_precision_m: 0.3151 - val_recall_m: 0.3151\n",
            "[0.30000001192092896, 0.30416667461395264, 0.3166666626930237] \n",
            "\n",
            "5 \n",
            "\n",
            "104 abnormal, 96 normal  images are saved\n",
            " \n",
            "Found 200 images belonging to 2 classes.\n",
            "Epoch 1/3\n",
            "4/4 [==============================] - 208s 59s/step - loss: 0.9989 - accuracy: 0.5950 - f05_m: 0.5742 - f1_m: 0.5742 - precision_m: 0.5742 - recall_m: 0.5742 - val_loss: 2.5931 - val_accuracy: 0.2792 - val_f05_m: 0.2773 - val_f1_m: 0.2773 - val_precision_m: 0.2773 - val_recall_m: 0.2773\n",
            "Epoch 2/3\n",
            "4/4 [==============================] - 209s 68s/step - loss: 0.5065 - accuracy: 0.7800 - f05_m: 0.7461 - f1_m: 0.7461 - precision_m: 0.7461 - recall_m: 0.7461 - val_loss: 4.2280 - val_accuracy: 0.2750 - val_f05_m: 0.2695 - val_f1_m: 0.2695 - val_precision_m: 0.2695 - val_recall_m: 0.2695\n",
            "Epoch 3/3\n",
            "4/4 [==============================] - 207s 59s/step - loss: 0.2924 - accuracy: 0.8800 - f05_m: 0.8789 - f1_m: 0.8789 - precision_m: 0.8789 - recall_m: 0.8789 - val_loss: 2.4289 - val_accuracy: 0.3042 - val_f05_m: 0.3008 - val_f1_m: 0.3008 - val_precision_m: 0.3008 - val_recall_m: 0.3008\n",
            "[0.27916666865348816, 0.2750000059604645, 0.30416667461395264] \n",
            "\n",
            "6 \n",
            "\n",
            "96 abnormal, 104 normal  images are saved\n",
            " \n",
            "Found 200 images belonging to 2 classes.\n",
            "Epoch 1/3\n",
            "4/4 [==============================] - 207s 59s/step - loss: 0.8616 - accuracy: 0.6050 - f05_m: 0.6367 - f1_m: 0.6367 - precision_m: 0.6367 - recall_m: 0.6367 - val_loss: 5.9602 - val_accuracy: 0.2750 - val_f05_m: 0.2786 - val_f1_m: 0.2786 - val_precision_m: 0.2786 - val_recall_m: 0.2786\n",
            "Epoch 2/3\n",
            "4/4 [==============================] - 206s 58s/step - loss: 0.6347 - accuracy: 0.7000 - f05_m: 0.7109 - f1_m: 0.7109 - precision_m: 0.7109 - recall_m: 0.7109 - val_loss: 1.9884 - val_accuracy: 0.3708 - val_f05_m: 0.3685 - val_f1_m: 0.3685 - val_precision_m: 0.3685 - val_recall_m: 0.3685\n",
            "Epoch 3/3\n",
            "4/4 [==============================] - 207s 59s/step - loss: 0.3222 - accuracy: 0.8500 - f05_m: 0.8281 - f1_m: 0.8281 - precision_m: 0.8281 - recall_m: 0.8281 - val_loss: 5.7024 - val_accuracy: 0.2750 - val_f05_m: 0.2760 - val_f1_m: 0.2760 - val_precision_m: 0.2760 - val_recall_m: 0.2760\n",
            "[0.2750000059604645, 0.3708333373069763, 0.2750000059604645] \n",
            "\n",
            "7 \n",
            "\n",
            "95 abnormal, 105 normal  images are saved\n",
            " \n",
            "Found 200 images belonging to 2 classes.\n",
            "Epoch 1/3\n",
            "4/4 [==============================] - 208s 59s/step - loss: 0.9600 - accuracy: 0.5550 - f05_m: 0.5977 - f1_m: 0.5977 - precision_m: 0.5977 - recall_m: 0.5977 - val_loss: 3.5727 - val_accuracy: 0.2708 - val_f05_m: 0.2695 - val_f1_m: 0.2695 - val_precision_m: 0.2695 - val_recall_m: 0.2695\n",
            "Epoch 2/3\n",
            "4/4 [==============================] - 205s 58s/step - loss: 0.5225 - accuracy: 0.7300 - f05_m: 0.6523 - f1_m: 0.6523 - precision_m: 0.6523 - recall_m: 0.6523 - val_loss: 4.8412 - val_accuracy: 0.2750 - val_f05_m: 0.2760 - val_f1_m: 0.2760 - val_precision_m: 0.2760 - val_recall_m: 0.2760\n",
            "Epoch 3/3\n",
            "4/4 [==============================] - 206s 67s/step - loss: 0.2986 - accuracy: 0.8400 - f05_m: 0.8203 - f1_m: 0.8203 - precision_m: 0.8203 - recall_m: 0.8203 - val_loss: 3.9192 - val_accuracy: 0.2708 - val_f05_m: 0.2721 - val_f1_m: 0.2721 - val_precision_m: 0.2721 - val_recall_m: 0.2721\n",
            "[0.2708333432674408, 0.2750000059604645, 0.2708333432674408] \n",
            "\n",
            "8 \n",
            "\n",
            "96 abnormal, 104 normal  images are saved\n",
            " \n",
            "Found 200 images belonging to 2 classes.\n",
            "Epoch 1/3\n",
            "4/4 [==============================] - 207s 59s/step - loss: 0.9220 - accuracy: 0.5450 - f05_m: 0.5898 - f1_m: 0.5898 - precision_m: 0.5898 - recall_m: 0.5898 - val_loss: 3.7313 - val_accuracy: 0.2750 - val_f05_m: 0.2799 - val_f1_m: 0.2799 - val_precision_m: 0.2799 - val_recall_m: 0.2799\n",
            "Epoch 2/3\n",
            "4/4 [==============================] - 205s 67s/step - loss: 0.4597 - accuracy: 0.7850 - f05_m: 0.6953 - f1_m: 0.6953 - precision_m: 0.6953 - recall_m: 0.6953 - val_loss: 4.4905 - val_accuracy: 0.2750 - val_f05_m: 0.2721 - val_f1_m: 0.2721 - val_precision_m: 0.2721 - val_recall_m: 0.2721\n",
            "Epoch 3/3\n",
            "4/4 [==============================] - 206s 67s/step - loss: 0.1976 - accuracy: 0.9700 - f05_m: 0.9492 - f1_m: 0.9492 - precision_m: 0.9492 - recall_m: 0.9492 - val_loss: 4.7483 - val_accuracy: 0.2750 - val_f05_m: 0.2786 - val_f1_m: 0.2786 - val_precision_m: 0.2786 - val_recall_m: 0.2786\n",
            "[0.2750000059604645, 0.2750000059604645, 0.2750000059604645] \n",
            "\n",
            "9 \n",
            "\n",
            "103 abnormal, 97 normal  images are saved\n",
            " \n",
            "Found 200 images belonging to 2 classes.\n",
            "Epoch 1/3\n",
            "4/4 [==============================] - 207s 67s/step - loss: 0.9506 - accuracy: 0.6100 - f05_m: 0.6133 - f1_m: 0.6133 - precision_m: 0.6133 - recall_m: 0.6133 - val_loss: 6.3867 - val_accuracy: 0.2750 - val_f05_m: 0.2734 - val_f1_m: 0.2734 - val_precision_m: 0.2734 - val_recall_m: 0.2734\n",
            "Epoch 2/3\n",
            "4/4 [==============================] - 204s 67s/step - loss: 0.5097 - accuracy: 0.7550 - f05_m: 0.6992 - f1_m: 0.6992 - precision_m: 0.6992 - recall_m: 0.6992 - val_loss: 3.5108 - val_accuracy: 0.2792 - val_f05_m: 0.2839 - val_f1_m: 0.2839 - val_precision_m: 0.2839 - val_recall_m: 0.2839\n",
            "Epoch 3/3\n",
            "4/4 [==============================] - 207s 59s/step - loss: 0.2870 - accuracy: 0.8950 - f05_m: 0.9180 - f1_m: 0.9180 - precision_m: 0.9180 - recall_m: 0.9180 - val_loss: 4.9793 - val_accuracy: 0.2750 - val_f05_m: 0.2695 - val_f1_m: 0.2695 - val_precision_m: 0.2695 - val_recall_m: 0.2695\n",
            "[0.2750000059604645, 0.27916666865348816, 0.2750000059604645] \n",
            "\n",
            "10 \n",
            "\n",
            "100 abnormal, 100 normal  images are saved\n",
            " \n",
            "Found 200 images belonging to 2 classes.\n",
            "Epoch 1/3\n",
            "4/4 [==============================] - 205s 58s/step - loss: 0.7889 - accuracy: 0.6200 - f05_m: 0.6211 - f1_m: 0.6211 - precision_m: 0.6211 - recall_m: 0.6211 - val_loss: 2.6849 - val_accuracy: 0.2875 - val_f05_m: 0.2878 - val_f1_m: 0.2878 - val_precision_m: 0.2878 - val_recall_m: 0.2878\n",
            "Epoch 2/3\n",
            "4/4 [==============================] - 205s 58s/step - loss: 0.4652 - accuracy: 0.7750 - f05_m: 0.7422 - f1_m: 0.7422 - precision_m: 0.7422 - recall_m: 0.7422 - val_loss: 4.3281 - val_accuracy: 0.2750 - val_f05_m: 0.2786 - val_f1_m: 0.2786 - val_precision_m: 0.2786 - val_recall_m: 0.2786\n",
            "Epoch 3/3\n",
            "4/4 [==============================] - 206s 67s/step - loss: 0.2754 - accuracy: 0.8650 - f05_m: 0.8398 - f1_m: 0.8398 - precision_m: 0.8398 - recall_m: 0.8398 - val_loss: 3.2657 - val_accuracy: 0.2875 - val_f05_m: 0.2917 - val_f1_m: 0.2917 - val_precision_m: 0.2917 - val_recall_m: 0.2917\n",
            "[0.2874999940395355, 0.2750000059604645, 0.2874999940395355] \n",
            "\n",
            "11 \n",
            "\n",
            "94 abnormal, 106 normal  images are saved\n",
            " \n",
            "Found 200 images belonging to 2 classes.\n",
            "Epoch 1/3\n",
            "4/4 [==============================] - 207s 59s/step - loss: 0.8986 - accuracy: 0.5350 - f05_m: 0.5273 - f1_m: 0.5273 - precision_m: 0.5273 - recall_m: 0.5273 - val_loss: 4.4756 - val_accuracy: 0.2750 - val_f05_m: 0.2747 - val_f1_m: 0.2747 - val_precision_m: 0.2747 - val_recall_m: 0.2747\n",
            "Epoch 2/3\n",
            "4/4 [==============================] - 207s 59s/step - loss: 0.4962 - accuracy: 0.7750 - f05_m: 0.7695 - f1_m: 0.7695 - precision_m: 0.7695 - recall_m: 0.7695 - val_loss: 5.1580 - val_accuracy: 0.2750 - val_f05_m: 0.2773 - val_f1_m: 0.2773 - val_precision_m: 0.2773 - val_recall_m: 0.2773\n",
            "Epoch 3/3\n",
            "4/4 [==============================] - 206s 67s/step - loss: 0.2440 - accuracy: 0.9250 - f05_m: 0.9141 - f1_m: 0.9141 - precision_m: 0.9141 - recall_m: 0.9141 - val_loss: 5.6918 - val_accuracy: 0.2750 - val_f05_m: 0.2826 - val_f1_m: 0.2826 - val_precision_m: 0.2826 - val_recall_m: 0.2826\n",
            "[0.2750000059604645, 0.2750000059604645, 0.2750000059604645] \n",
            "\n",
            "12 \n",
            "\n",
            "97 abnormal, 103 normal  images are saved\n",
            " \n",
            "Found 200 images belonging to 2 classes.\n",
            "Epoch 1/3\n",
            "4/4 [==============================] - 208s 68s/step - loss: 0.8481 - accuracy: 0.5750 - f05_m: 0.5586 - f1_m: 0.5586 - precision_m: 0.5586 - recall_m: 0.5586 - val_loss: 5.9734 - val_accuracy: 0.2750 - val_f05_m: 0.2773 - val_f1_m: 0.2773 - val_precision_m: 0.2773 - val_recall_m: 0.2773\n",
            "Epoch 2/3\n",
            "4/4 [==============================] - 206s 59s/step - loss: 0.4811 - accuracy: 0.7650 - f05_m: 0.7891 - f1_m: 0.7891 - precision_m: 0.7891 - recall_m: 0.7891 - val_loss: 5.5068 - val_accuracy: 0.2750 - val_f05_m: 0.2786 - val_f1_m: 0.2786 - val_precision_m: 0.2786 - val_recall_m: 0.2786\n",
            "Epoch 3/3\n",
            "4/4 [==============================] - 208s 59s/step - loss: 0.2524 - accuracy: 0.9150 - f05_m: 0.9062 - f1_m: 0.9062 - precision_m: 0.9062 - recall_m: 0.9062 - val_loss: 7.4298 - val_accuracy: 0.2750 - val_f05_m: 0.2747 - val_f1_m: 0.2747 - val_precision_m: 0.2747 - val_recall_m: 0.2747\n",
            "[0.2750000059604645, 0.2750000059604645, 0.2750000059604645] \n",
            "\n",
            "13 \n",
            "\n",
            "120 abnormal, 80 normal  images are saved\n",
            " \n",
            "Found 200 images belonging to 2 classes.\n",
            "Epoch 1/3\n",
            "4/4 [==============================] - 207s 59s/step - loss: 0.7911 - accuracy: 0.6050 - f05_m: 0.5820 - f1_m: 0.5820 - precision_m: 0.5820 - recall_m: 0.5820 - val_loss: 6.1129 - val_accuracy: 0.2750 - val_f05_m: 0.2812 - val_f1_m: 0.2812 - val_precision_m: 0.2812 - val_recall_m: 0.2812\n",
            "Epoch 2/3\n",
            "4/4 [==============================] - 206s 67s/step - loss: 0.4041 - accuracy: 0.8050 - f05_m: 0.7930 - f1_m: 0.7930 - precision_m: 0.7930 - recall_m: 0.7930 - val_loss: 7.9026 - val_accuracy: 0.2750 - val_f05_m: 0.2747 - val_f1_m: 0.2747 - val_precision_m: 0.2747 - val_recall_m: 0.2747\n",
            "Epoch 3/3\n",
            "4/4 [==============================] - 203s 58s/step - loss: 0.2296 - accuracy: 0.8900 - f05_m: 0.8594 - f1_m: 0.8594 - precision_m: 0.8594 - recall_m: 0.8594 - val_loss: 9.2020 - val_accuracy: 0.2750 - val_f05_m: 0.2734 - val_f1_m: 0.2734 - val_precision_m: 0.2734 - val_recall_m: 0.2734\n",
            "[0.2750000059604645, 0.2750000059604645, 0.2750000059604645] \n",
            "\n",
            "14 \n",
            "\n",
            "94 abnormal, 106 normal  images are saved\n",
            " \n",
            "Found 200 images belonging to 2 classes.\n",
            "Epoch 1/3\n",
            "4/4 [==============================] - 205s 67s/step - loss: 0.9185 - accuracy: 0.6100 - f05_m: 0.5859 - f1_m: 0.5859 - precision_m: 0.5859 - recall_m: 0.5859 - val_loss: 9.4354 - val_accuracy: 0.2750 - val_f05_m: 0.2682 - val_f1_m: 0.2682 - val_precision_m: 0.2682 - val_recall_m: 0.2682\n",
            "Epoch 2/3\n",
            "4/4 [==============================] - 206s 59s/step - loss: 0.5206 - accuracy: 0.7200 - f05_m: 0.7266 - f1_m: 0.7266 - precision_m: 0.7266 - recall_m: 0.7266 - val_loss: 7.6895 - val_accuracy: 0.2750 - val_f05_m: 0.2812 - val_f1_m: 0.2812 - val_precision_m: 0.2812 - val_recall_m: 0.2812\n",
            "Epoch 3/3\n",
            "4/4 [==============================] - 204s 58s/step - loss: 0.3042 - accuracy: 0.8550 - f05_m: 0.8594 - f1_m: 0.8594 - precision_m: 0.8594 - recall_m: 0.8594 - val_loss: 10.4047 - val_accuracy: 0.2750 - val_f05_m: 0.2773 - val_f1_m: 0.2773 - val_precision_m: 0.2773 - val_recall_m: 0.2773\n",
            "[0.2750000059604645, 0.2750000059604645, 0.2750000059604645] \n",
            "\n",
            "15 \n",
            "\n",
            "90 abnormal, 110 normal  images are saved\n",
            " \n",
            "Found 200 images belonging to 2 classes.\n",
            "Epoch 1/3\n",
            "4/4 [==============================] - 207s 59s/step - loss: 0.8683 - accuracy: 0.5750 - f05_m: 0.5312 - f1_m: 0.5312 - precision_m: 0.5312 - recall_m: 0.5312 - val_loss: 8.8496 - val_accuracy: 0.2750 - val_f05_m: 0.2799 - val_f1_m: 0.2799 - val_precision_m: 0.2799 - val_recall_m: 0.2799\n",
            "Epoch 2/3\n",
            "4/4 [==============================] - 206s 59s/step - loss: 0.4624 - accuracy: 0.7750 - f05_m: 0.7422 - f1_m: 0.7422 - precision_m: 0.7422 - recall_m: 0.7422 - val_loss: 9.9130 - val_accuracy: 0.2750 - val_f05_m: 0.2786 - val_f1_m: 0.2786 - val_precision_m: 0.2786 - val_recall_m: 0.2786\n",
            "Epoch 3/3\n",
            "4/4 [==============================] - 207s 59s/step - loss: 0.2769 - accuracy: 0.8900 - f05_m: 0.8594 - f1_m: 0.8594 - precision_m: 0.8594 - recall_m: 0.8594 - val_loss: 6.8153 - val_accuracy: 0.2708 - val_f05_m: 0.2747 - val_f1_m: 0.2747 - val_precision_m: 0.2747 - val_recall_m: 0.2747\n",
            "[0.2750000059604645, 0.2750000059604645, 0.2708333432674408] \n",
            "\n",
            "16 \n",
            "\n",
            "105 abnormal, 95 normal  images are saved\n",
            " \n",
            "Found 200 images belonging to 2 classes.\n",
            "Epoch 1/3\n",
            "4/4 [==============================] - 208s 68s/step - loss: 0.8990 - accuracy: 0.5950 - f05_m: 0.5742 - f1_m: 0.5742 - precision_m: 0.5742 - recall_m: 0.5742 - val_loss: 9.8796 - val_accuracy: 0.2750 - val_f05_m: 0.2721 - val_f1_m: 0.2721 - val_precision_m: 0.2721 - val_recall_m: 0.2721\n",
            "Epoch 2/3\n",
            "4/4 [==============================] - 207s 59s/step - loss: 0.6196 - accuracy: 0.6550 - f05_m: 0.6758 - f1_m: 0.6758 - precision_m: 0.6758 - recall_m: 0.6758 - val_loss: 7.4134 - val_accuracy: 0.2750 - val_f05_m: 0.2734 - val_f1_m: 0.2734 - val_precision_m: 0.2734 - val_recall_m: 0.2734\n",
            "Epoch 3/3\n",
            "4/4 [==============================] - 205s 58s/step - loss: 0.3109 - accuracy: 0.8600 - f05_m: 0.8906 - f1_m: 0.8906 - precision_m: 0.8906 - recall_m: 0.8906 - val_loss: 9.4367 - val_accuracy: 0.2750 - val_f05_m: 0.2656 - val_f1_m: 0.2656 - val_precision_m: 0.2656 - val_recall_m: 0.2656\n",
            "[0.2750000059604645, 0.2750000059604645, 0.2750000059604645] \n",
            "\n",
            "17 \n",
            "\n",
            "95 abnormal, 105 normal  images are saved\n",
            " \n",
            "Found 200 images belonging to 2 classes.\n",
            "Epoch 1/3\n",
            "4/4 [==============================] - 206s 58s/step - loss: 0.8338 - accuracy: 0.6000 - f05_m: 0.6055 - f1_m: 0.6055 - precision_m: 0.6055 - recall_m: 0.6055 - val_loss: 6.3853 - val_accuracy: 0.2750 - val_f05_m: 0.2708 - val_f1_m: 0.2708 - val_precision_m: 0.2708 - val_recall_m: 0.2708\n",
            "Epoch 2/3\n",
            "4/4 [==============================] - 207s 59s/step - loss: 0.5188 - accuracy: 0.7600 - f05_m: 0.7578 - f1_m: 0.7578 - precision_m: 0.7578 - recall_m: 0.7578 - val_loss: 7.7982 - val_accuracy: 0.2750 - val_f05_m: 0.2773 - val_f1_m: 0.2773 - val_precision_m: 0.2773 - val_recall_m: 0.2773\n",
            "Epoch 3/3\n",
            "4/4 [==============================] - 207s 67s/step - loss: 0.2914 - accuracy: 0.8800 - f05_m: 0.8789 - f1_m: 0.8789 - precision_m: 0.8789 - recall_m: 0.8789 - val_loss: 7.2728 - val_accuracy: 0.2750 - val_f05_m: 0.2734 - val_f1_m: 0.2734 - val_precision_m: 0.2734 - val_recall_m: 0.2734\n",
            "[0.2750000059604645, 0.2750000059604645, 0.2750000059604645] \n",
            "\n",
            "18 \n",
            "\n",
            "93 abnormal, 107 normal  images are saved\n",
            " \n",
            "Found 200 images belonging to 2 classes.\n",
            "Epoch 1/3\n",
            "4/4 [==============================] - 207s 59s/step - loss: 0.6957 - accuracy: 0.6400 - f05_m: 0.6914 - f1_m: 0.6914 - precision_m: 0.6914 - recall_m: 0.6914 - val_loss: 6.8432 - val_accuracy: 0.2750 - val_f05_m: 0.2747 - val_f1_m: 0.2747 - val_precision_m: 0.2747 - val_recall_m: 0.2747\n",
            "Epoch 2/3\n",
            "4/4 [==============================] - 206s 58s/step - loss: 0.4219 - accuracy: 0.8100 - f05_m: 0.8516 - f1_m: 0.8516 - precision_m: 0.8516 - recall_m: 0.8516 - val_loss: 6.4600 - val_accuracy: 0.2750 - val_f05_m: 0.2669 - val_f1_m: 0.2669 - val_precision_m: 0.2669 - val_recall_m: 0.2669\n",
            "Epoch 3/3\n",
            "4/4 [==============================] - 206s 67s/step - loss: 0.2181 - accuracy: 0.9550 - f05_m: 0.9375 - f1_m: 0.9375 - precision_m: 0.9375 - recall_m: 0.9375 - val_loss: 6.3080 - val_accuracy: 0.2750 - val_f05_m: 0.2760 - val_f1_m: 0.2760 - val_precision_m: 0.2760 - val_recall_m: 0.2760\n",
            "[0.2750000059604645, 0.2750000059604645, 0.2750000059604645] \n",
            "\n",
            "19 \n",
            "\n",
            "87 abnormal, 113 normal  images are saved\n",
            " \n",
            "Found 200 images belonging to 2 classes.\n",
            "Epoch 1/3\n",
            "4/4 [==============================] - 206s 59s/step - loss: 0.7275 - accuracy: 0.6000 - f05_m: 0.6055 - f1_m: 0.6055 - precision_m: 0.6055 - recall_m: 0.6055 - val_loss: 6.2020 - val_accuracy: 0.2750 - val_f05_m: 0.2747 - val_f1_m: 0.2747 - val_precision_m: 0.2747 - val_recall_m: 0.2747\n",
            "Epoch 2/3\n",
            "4/4 [==============================] - 207s 68s/step - loss: 0.4544 - accuracy: 0.7900 - f05_m: 0.8359 - f1_m: 0.8359 - precision_m: 0.8359 - recall_m: 0.8359 - val_loss: 6.8005 - val_accuracy: 0.2750 - val_f05_m: 0.2708 - val_f1_m: 0.2708 - val_precision_m: 0.2708 - val_recall_m: 0.2708\n",
            "Epoch 3/3\n",
            "4/4 [==============================] - 206s 67s/step - loss: 0.2451 - accuracy: 0.9050 - f05_m: 0.9258 - f1_m: 0.9258 - precision_m: 0.9258 - recall_m: 0.9258 - val_loss: 7.6070 - val_accuracy: 0.2750 - val_f05_m: 0.2695 - val_f1_m: 0.2695 - val_precision_m: 0.2695 - val_recall_m: 0.2695\n",
            "[0.2750000059604645, 0.2750000059604645, 0.2750000059604645] \n",
            "\n",
            "20 \n",
            "\n",
            "101 abnormal, 99 normal  images are saved\n",
            " \n",
            "Found 200 images belonging to 2 classes.\n",
            "Epoch 1/3\n",
            "4/4 [==============================] - 208s 68s/step - loss: 0.9081 - accuracy: 0.5400 - f05_m: 0.5586 - f1_m: 0.5586 - precision_m: 0.5586 - recall_m: 0.5586 - val_loss: 7.2287 - val_accuracy: 0.2750 - val_f05_m: 0.2721 - val_f1_m: 0.2721 - val_precision_m: 0.2721 - val_recall_m: 0.2721\n",
            "Epoch 2/3\n",
            "4/4 [==============================] - 206s 67s/step - loss: 0.5222 - accuracy: 0.7400 - f05_m: 0.7422 - f1_m: 0.7422 - precision_m: 0.7422 - recall_m: 0.7422 - val_loss: 7.4038 - val_accuracy: 0.2750 - val_f05_m: 0.2708 - val_f1_m: 0.2708 - val_precision_m: 0.2708 - val_recall_m: 0.2708\n",
            "Epoch 3/3\n",
            "4/4 [==============================] - 204s 58s/step - loss: 0.3406 - accuracy: 0.8500 - f05_m: 0.8281 - f1_m: 0.8281 - precision_m: 0.8281 - recall_m: 0.8281 - val_loss: 3.3665 - val_accuracy: 0.2875 - val_f05_m: 0.2904 - val_f1_m: 0.2904 - val_precision_m: 0.2904 - val_recall_m: 0.2904\n",
            "[0.2750000059604645, 0.2750000059604645, 0.2874999940395355] \n",
            "\n",
            "21 \n",
            "\n",
            "109 abnormal, 91 normal  images are saved\n",
            " \n",
            "Found 200 images belonging to 2 classes.\n",
            "Epoch 1/3\n",
            "4/4 [==============================] - 211s 60s/step - loss: 1.1569 - accuracy: 0.5300 - f05_m: 0.5234 - f1_m: 0.5234 - precision_m: 0.5234 - recall_m: 0.5234 - val_loss: 6.8127 - val_accuracy: 0.2750 - val_f05_m: 0.2760 - val_f1_m: 0.2760 - val_precision_m: 0.2760 - val_recall_m: 0.2760\n",
            "Epoch 2/3\n",
            "4/4 [==============================] - 208s 59s/step - loss: 0.7894 - accuracy: 0.6450 - f05_m: 0.6680 - f1_m: 0.6680 - precision_m: 0.6680 - recall_m: 0.6680 - val_loss: 2.5881 - val_accuracy: 0.3000 - val_f05_m: 0.2982 - val_f1_m: 0.2982 - val_precision_m: 0.2982 - val_recall_m: 0.2982\n",
            "Epoch 3/3\n",
            "4/4 [==============================] - 208s 59s/step - loss: 0.5012 - accuracy: 0.7500 - f05_m: 0.7500 - f1_m: 0.7500 - precision_m: 0.7500 - recall_m: 0.7500 - val_loss: 4.2133 - val_accuracy: 0.2750 - val_f05_m: 0.2721 - val_f1_m: 0.2721 - val_precision_m: 0.2721 - val_recall_m: 0.2721\n",
            "[0.2750000059604645, 0.30000001192092896, 0.2750000059604645] \n",
            "\n",
            "22 \n",
            "\n",
            "89 abnormal, 111 normal  images are saved\n",
            " \n",
            "Found 200 images belonging to 2 classes.\n",
            "Epoch 1/3\n",
            "4/4 [==============================] - 208s 59s/step - loss: 0.8111 - accuracy: 0.5500 - f05_m: 0.5937 - f1_m: 0.5937 - precision_m: 0.5938 - recall_m: 0.5938 - val_loss: 3.3846 - val_accuracy: 0.2750 - val_f05_m: 0.2708 - val_f1_m: 0.2708 - val_precision_m: 0.2708 - val_recall_m: 0.2708\n",
            "Epoch 2/3\n",
            "4/4 [==============================] - 206s 67s/step - loss: 0.5148 - accuracy: 0.7550 - f05_m: 0.7539 - f1_m: 0.7539 - precision_m: 0.7539 - recall_m: 0.7539 - val_loss: 3.7231 - val_accuracy: 0.2750 - val_f05_m: 0.2773 - val_f1_m: 0.2773 - val_precision_m: 0.2773 - val_recall_m: 0.2773\n",
            "Epoch 3/3\n",
            "4/4 [==============================] - 207s 59s/step - loss: 0.3673 - accuracy: 0.8250 - f05_m: 0.8359 - f1_m: 0.8359 - precision_m: 0.8359 - recall_m: 0.8359 - val_loss: 4.9173 - val_accuracy: 0.2750 - val_f05_m: 0.2786 - val_f1_m: 0.2786 - val_precision_m: 0.2786 - val_recall_m: 0.2786\n",
            "[0.2750000059604645, 0.2750000059604645, 0.2750000059604645] \n",
            "\n",
            "23 \n",
            "\n",
            "109 abnormal, 91 normal  images are saved\n",
            " \n",
            "Found 200 images belonging to 2 classes.\n",
            "Epoch 1/3\n",
            "4/4 [==============================] - 209s 59s/step - loss: 0.7286 - accuracy: 0.5800 - f05_m: 0.5625 - f1_m: 0.5625 - precision_m: 0.5625 - recall_m: 0.5625 - val_loss: 4.8289 - val_accuracy: 0.2750 - val_f05_m: 0.2773 - val_f1_m: 0.2773 - val_precision_m: 0.2773 - val_recall_m: 0.2773\n",
            "Epoch 2/3\n",
            "4/4 [==============================] - 208s 60s/step - loss: 0.4985 - accuracy: 0.7550 - f05_m: 0.7539 - f1_m: 0.7539 - precision_m: 0.7539 - recall_m: 0.7539 - val_loss: 5.7751 - val_accuracy: 0.2750 - val_f05_m: 0.2721 - val_f1_m: 0.2721 - val_precision_m: 0.2721 - val_recall_m: 0.2721\n",
            "Epoch 3/3\n",
            "4/4 [==============================] - 208s 59s/step - loss: 0.2948 - accuracy: 0.9150 - f05_m: 0.9336 - f1_m: 0.9336 - precision_m: 0.9336 - recall_m: 0.9336 - val_loss: 5.2544 - val_accuracy: 0.2750 - val_f05_m: 0.2682 - val_f1_m: 0.2682 - val_precision_m: 0.2682 - val_recall_m: 0.2682\n",
            "[0.2750000059604645, 0.2750000059604645, 0.2750000059604645] \n",
            "\n",
            "24 \n",
            "\n",
            "98 abnormal, 102 normal  images are saved\n",
            " \n",
            "Found 200 images belonging to 2 classes.\n",
            "Epoch 1/3\n",
            "4/4 [==============================] - 206s 67s/step - loss: 0.7193 - accuracy: 0.5700 - f05_m: 0.6094 - f1_m: 0.6094 - precision_m: 0.6094 - recall_m: 0.6094 - val_loss: 6.6436 - val_accuracy: 0.2750 - val_f05_m: 0.2812 - val_f1_m: 0.2812 - val_precision_m: 0.2812 - val_recall_m: 0.2812\n",
            "Epoch 2/3\n",
            "4/4 [==============================] - 206s 67s/step - loss: 0.5202 - accuracy: 0.7000 - f05_m: 0.7383 - f1_m: 0.7383 - precision_m: 0.7383 - recall_m: 0.7383 - val_loss: 5.0745 - val_accuracy: 0.2750 - val_f05_m: 0.2786 - val_f1_m: 0.2786 - val_precision_m: 0.2786 - val_recall_m: 0.2786\n",
            "Epoch 3/3\n",
            "4/4 [==============================] - 207s 59s/step - loss: 0.3426 - accuracy: 0.8150 - f05_m: 0.8008 - f1_m: 0.8008 - precision_m: 0.8008 - recall_m: 0.8008 - val_loss: 6.8832 - val_accuracy: 0.2750 - val_f05_m: 0.2773 - val_f1_m: 0.2773 - val_precision_m: 0.2773 - val_recall_m: 0.2773\n",
            "[0.2750000059604645, 0.2750000059604645, 0.2750000059604645] \n",
            "\n",
            "25 \n",
            "\n",
            "81 abnormal, 119 normal  images are saved\n",
            " \n",
            "Found 200 images belonging to 2 classes.\n",
            "Epoch 1/3\n",
            "4/4 [==============================] - 208s 59s/step - loss: 0.7629 - accuracy: 0.6150 - f05_m: 0.5898 - f1_m: 0.5898 - precision_m: 0.5898 - recall_m: 0.5898 - val_loss: 5.6429 - val_accuracy: 0.2750 - val_f05_m: 0.2708 - val_f1_m: 0.2708 - val_precision_m: 0.2708 - val_recall_m: 0.2708\n",
            "Epoch 2/3\n",
            "4/4 [==============================] - 206s 59s/step - loss: 0.5512 - accuracy: 0.7100 - f05_m: 0.7734 - f1_m: 0.7734 - precision_m: 0.7734 - recall_m: 0.7734 - val_loss: 5.9431 - val_accuracy: 0.2750 - val_f05_m: 0.2747 - val_f1_m: 0.2747 - val_precision_m: 0.2747 - val_recall_m: 0.2747\n",
            "Epoch 3/3\n",
            "4/4 [==============================] - 209s 68s/step - loss: 0.2440 - accuracy: 0.9300 - f05_m: 0.9453 - f1_m: 0.9453 - precision_m: 0.9453 - recall_m: 0.9453 - val_loss: 6.2967 - val_accuracy: 0.2750 - val_f05_m: 0.2734 - val_f1_m: 0.2734 - val_precision_m: 0.2734 - val_recall_m: 0.2734\n",
            "[0.2750000059604645, 0.2750000059604645, 0.2750000059604645] \n",
            "\n",
            "26 \n",
            "\n",
            "114 abnormal, 86 normal  images are saved\n",
            " \n",
            "Found 200 images belonging to 2 classes.\n",
            "Epoch 1/3\n",
            "4/4 [==============================] - 207s 59s/step - loss: 0.7766 - accuracy: 0.6250 - f05_m: 0.5703 - f1_m: 0.5703 - precision_m: 0.5703 - recall_m: 0.5703 - val_loss: 6.0062 - val_accuracy: 0.2750 - val_f05_m: 0.2734 - val_f1_m: 0.2734 - val_precision_m: 0.2734 - val_recall_m: 0.2734\n",
            "Epoch 2/3\n",
            "4/4 [==============================] - 207s 59s/step - loss: 0.4665 - accuracy: 0.7900 - f05_m: 0.6992 - f1_m: 0.6992 - precision_m: 0.6992 - recall_m: 0.6992 - val_loss: 5.4152 - val_accuracy: 0.2750 - val_f05_m: 0.2760 - val_f1_m: 0.2760 - val_precision_m: 0.2760 - val_recall_m: 0.2760\n",
            "Epoch 3/3\n",
            "4/4 [==============================] - 208s 68s/step - loss: 0.2734 - accuracy: 0.9050 - f05_m: 0.9258 - f1_m: 0.9258 - precision_m: 0.9258 - recall_m: 0.9258 - val_loss: 5.0588 - val_accuracy: 0.2750 - val_f05_m: 0.2747 - val_f1_m: 0.2747 - val_precision_m: 0.2747 - val_recall_m: 0.2747\n",
            "[0.2750000059604645, 0.2750000059604645, 0.2750000059604645] \n",
            "\n",
            "27 \n",
            "\n",
            "101 abnormal, 99 normal  images are saved\n",
            " \n",
            "Found 200 images belonging to 2 classes.\n",
            "Epoch 1/3\n",
            "4/4 [==============================] - 207s 59s/step - loss: 0.6803 - accuracy: 0.6350 - f05_m: 0.5781 - f1_m: 0.5781 - precision_m: 0.5781 - recall_m: 0.5781 - val_loss: 5.1095 - val_accuracy: 0.2750 - val_f05_m: 0.2721 - val_f1_m: 0.2721 - val_precision_m: 0.2721 - val_recall_m: 0.2721\n",
            "Epoch 2/3\n",
            "4/4 [==============================] - 206s 67s/step - loss: 0.4195 - accuracy: 0.8000 - f05_m: 0.8164 - f1_m: 0.8164 - precision_m: 0.8164 - recall_m: 0.8164 - val_loss: 3.7887 - val_accuracy: 0.2750 - val_f05_m: 0.2773 - val_f1_m: 0.2773 - val_precision_m: 0.2773 - val_recall_m: 0.2773\n",
            "Epoch 3/3\n",
            "4/4 [==============================] - 208s 59s/step - loss: 0.3219 - accuracy: 0.8500 - f05_m: 0.8281 - f1_m: 0.8281 - precision_m: 0.8281 - recall_m: 0.8281 - val_loss: 5.8446 - val_accuracy: 0.2750 - val_f05_m: 0.2773 - val_f1_m: 0.2773 - val_precision_m: 0.2773 - val_recall_m: 0.2773\n",
            "[0.2750000059604645, 0.2750000059604645, 0.2750000059604645] \n",
            "\n",
            "28 \n",
            "\n",
            "104 abnormal, 96 normal  images are saved\n",
            " \n",
            "Found 200 images belonging to 2 classes.\n",
            "Epoch 1/3\n",
            "4/4 [==============================] - 209s 68s/step - loss: 1.0844 - accuracy: 0.5300 - f05_m: 0.5508 - f1_m: 0.5508 - precision_m: 0.5508 - recall_m: 0.5508 - val_loss: 4.8492 - val_accuracy: 0.2750 - val_f05_m: 0.2760 - val_f1_m: 0.2760 - val_precision_m: 0.2760 - val_recall_m: 0.2760\n",
            "Epoch 2/3\n",
            "4/4 [==============================] - 207s 59s/step - loss: 0.6007 - accuracy: 0.6600 - f05_m: 0.6523 - f1_m: 0.6523 - precision_m: 0.6523 - recall_m: 0.6523 - val_loss: 7.0212 - val_accuracy: 0.2750 - val_f05_m: 0.2708 - val_f1_m: 0.2708 - val_precision_m: 0.2708 - val_recall_m: 0.2708\n",
            "Epoch 3/3\n",
            "4/4 [==============================] - 207s 59s/step - loss: 0.4196 - accuracy: 0.7500 - f05_m: 0.8047 - f1_m: 0.8047 - precision_m: 0.8047 - recall_m: 0.8047 - val_loss: 7.1906 - val_accuracy: 0.2750 - val_f05_m: 0.2682 - val_f1_m: 0.2682 - val_precision_m: 0.2682 - val_recall_m: 0.2682\n",
            "[0.2750000059604645, 0.2750000059604645, 0.2750000059604645] \n",
            "\n",
            "29 \n",
            "\n",
            "99 abnormal, 101 normal  images are saved\n",
            " \n",
            "Found 200 images belonging to 2 classes.\n",
            "Epoch 1/3\n",
            "4/4 [==============================] - 207s 59s/step - loss: 0.7627 - accuracy: 0.5850 - f05_m: 0.5391 - f1_m: 0.5391 - precision_m: 0.5391 - recall_m: 0.5391 - val_loss: 6.6456 - val_accuracy: 0.2750 - val_f05_m: 0.2695 - val_f1_m: 0.2695 - val_precision_m: 0.2695 - val_recall_m: 0.2695\n",
            "Epoch 2/3\n",
            "4/4 [==============================] - 208s 68s/step - loss: 0.5392 - accuracy: 0.7050 - f05_m: 0.6602 - f1_m: 0.6602 - precision_m: 0.6602 - recall_m: 0.6602 - val_loss: 7.2690 - val_accuracy: 0.2750 - val_f05_m: 0.2708 - val_f1_m: 0.2708 - val_precision_m: 0.2708 - val_recall_m: 0.2708\n",
            "Epoch 3/3\n",
            "4/4 [==============================] - 207s 59s/step - loss: 0.3496 - accuracy: 0.8800 - f05_m: 0.8516 - f1_m: 0.8516 - precision_m: 0.8516 - recall_m: 0.8516 - val_loss: 5.6488 - val_accuracy: 0.2750 - val_f05_m: 0.2760 - val_f1_m: 0.2760 - val_precision_m: 0.2760 - val_recall_m: 0.2760\n",
            "[0.2750000059604645, 0.2750000059604645, 0.2750000059604645] \n",
            "\n",
            "30 \n",
            "\n",
            "100 abnormal, 100 normal  images are saved\n",
            " \n",
            "Found 200 images belonging to 2 classes.\n",
            "Epoch 1/3\n",
            "4/4 [==============================] - 209s 59s/step - loss: 0.6860 - accuracy: 0.6500 - f05_m: 0.6445 - f1_m: 0.6445 - precision_m: 0.6445 - recall_m: 0.6445 - val_loss: 7.2480 - val_accuracy: 0.2750 - val_f05_m: 0.2760 - val_f1_m: 0.2760 - val_precision_m: 0.2760 - val_recall_m: 0.2760\n",
            "Epoch 2/3\n",
            "4/4 [==============================] - 206s 59s/step - loss: 0.5103 - accuracy: 0.7450 - f05_m: 0.7734 - f1_m: 0.7734 - precision_m: 0.7734 - recall_m: 0.7734 - val_loss: 6.1784 - val_accuracy: 0.2750 - val_f05_m: 0.2747 - val_f1_m: 0.2747 - val_precision_m: 0.2747 - val_recall_m: 0.2747\n",
            "Epoch 3/3\n",
            "4/4 [==============================] - 207s 68s/step - loss: 0.2676 - accuracy: 0.9250 - f05_m: 0.8867 - f1_m: 0.8867 - precision_m: 0.8867 - recall_m: 0.8867 - val_loss: 6.7528 - val_accuracy: 0.2750 - val_f05_m: 0.2760 - val_f1_m: 0.2760 - val_precision_m: 0.2760 - val_recall_m: 0.2760\n",
            "[0.2750000059604645, 0.2750000059604645, 0.2750000059604645] \n",
            "\n",
            "31 \n",
            "\n",
            "99 abnormal, 101 normal  images are saved\n",
            " \n",
            "Found 200 images belonging to 2 classes.\n",
            "Epoch 1/3\n",
            "4/4 [==============================] - 207s 59s/step - loss: 0.7041 - accuracy: 0.6400 - f05_m: 0.6641 - f1_m: 0.6641 - precision_m: 0.6641 - recall_m: 0.6641 - val_loss: 7.8450 - val_accuracy: 0.2750 - val_f05_m: 0.2773 - val_f1_m: 0.2773 - val_precision_m: 0.2773 - val_recall_m: 0.2773\n",
            "Epoch 2/3\n",
            "4/4 [==============================] - 206s 59s/step - loss: 0.5745 - accuracy: 0.7000 - f05_m: 0.6562 - f1_m: 0.6562 - precision_m: 0.6562 - recall_m: 0.6562 - val_loss: 5.3128 - val_accuracy: 0.2750 - val_f05_m: 0.2734 - val_f1_m: 0.2734 - val_precision_m: 0.2734 - val_recall_m: 0.2734\n",
            "Epoch 3/3\n",
            "4/4 [==============================] - 208s 68s/step - loss: 0.2723 - accuracy: 0.9100 - f05_m: 0.8750 - f1_m: 0.8750 - precision_m: 0.8750 - recall_m: 0.8750 - val_loss: 8.0211 - val_accuracy: 0.2750 - val_f05_m: 0.2747 - val_f1_m: 0.2747 - val_precision_m: 0.2747 - val_recall_m: 0.2747\n",
            "[0.2750000059604645, 0.2750000059604645, 0.2750000059604645] \n",
            "\n",
            "32 \n",
            "\n",
            "88 abnormal, 112 normal  images are saved\n",
            " \n",
            "Found 200 images belonging to 2 classes.\n",
            "Epoch 1/3\n",
            "4/4 [==============================] - 208s 59s/step - loss: 0.7866 - accuracy: 0.6300 - f05_m: 0.6562 - f1_m: 0.6562 - precision_m: 0.6562 - recall_m: 0.6562 - val_loss: 5.2405 - val_accuracy: 0.2750 - val_f05_m: 0.2786 - val_f1_m: 0.2786 - val_precision_m: 0.2786 - val_recall_m: 0.2786\n",
            "Epoch 2/3\n",
            "4/4 [==============================] - 207s 59s/step - loss: 0.5567 - accuracy: 0.7000 - f05_m: 0.7383 - f1_m: 0.7383 - precision_m: 0.7383 - recall_m: 0.7383 - val_loss: 7.6373 - val_accuracy: 0.2750 - val_f05_m: 0.2734 - val_f1_m: 0.2734 - val_precision_m: 0.2734 - val_recall_m: 0.2734\n",
            "Epoch 3/3\n",
            "4/4 [==============================] - 207s 59s/step - loss: 0.4280 - accuracy: 0.7750 - f05_m: 0.7695 - f1_m: 0.7695 - precision_m: 0.7695 - recall_m: 0.7695 - val_loss: 6.5950 - val_accuracy: 0.2750 - val_f05_m: 0.2708 - val_f1_m: 0.2708 - val_precision_m: 0.2708 - val_recall_m: 0.2708\n",
            "[0.2750000059604645, 0.2750000059604645, 0.2750000059604645] \n",
            "\n",
            "33 \n",
            "\n",
            "112 abnormal, 88 normal  images are saved\n",
            " \n",
            "Found 200 images belonging to 2 classes.\n",
            "Epoch 1/3\n",
            "4/4 [==============================] - 208s 59s/step - loss: 0.7732 - accuracy: 0.6100 - f05_m: 0.6133 - f1_m: 0.6133 - precision_m: 0.6133 - recall_m: 0.6133 - val_loss: 5.7969 - val_accuracy: 0.2750 - val_f05_m: 0.2734 - val_f1_m: 0.2734 - val_precision_m: 0.2734 - val_recall_m: 0.2734\n",
            "Epoch 2/3\n",
            "4/4 [==============================] - 208s 68s/step - loss: 0.4920 - accuracy: 0.7550 - f05_m: 0.7266 - f1_m: 0.7266 - precision_m: 0.7266 - recall_m: 0.7266 - val_loss: 7.4215 - val_accuracy: 0.2750 - val_f05_m: 0.2734 - val_f1_m: 0.2734 - val_precision_m: 0.2734 - val_recall_m: 0.2734\n",
            "Epoch 3/3\n",
            "4/4 [==============================] - 207s 59s/step - loss: 0.3703 - accuracy: 0.8550 - f05_m: 0.8867 - f1_m: 0.8867 - precision_m: 0.8867 - recall_m: 0.8867 - val_loss: 6.6916 - val_accuracy: 0.2750 - val_f05_m: 0.2721 - val_f1_m: 0.2721 - val_precision_m: 0.2721 - val_recall_m: 0.2721\n",
            "[0.2750000059604645, 0.2750000059604645, 0.2750000059604645] \n",
            "\n",
            "34 \n",
            "\n",
            "90 abnormal, 110 normal  images are saved\n",
            " \n",
            "Found 200 images belonging to 2 classes.\n",
            "Epoch 1/3\n",
            "4/4 [==============================] - 209s 59s/step - loss: 0.6792 - accuracy: 0.6400 - f05_m: 0.6367 - f1_m: 0.6367 - precision_m: 0.6367 - recall_m: 0.6367 - val_loss: 7.8976 - val_accuracy: 0.2750 - val_f05_m: 0.2799 - val_f1_m: 0.2799 - val_precision_m: 0.2799 - val_recall_m: 0.2799\n",
            "Epoch 2/3\n",
            "4/4 [==============================] - 207s 59s/step - loss: 0.4919 - accuracy: 0.7400 - f05_m: 0.7695 - f1_m: 0.7695 - precision_m: 0.7695 - recall_m: 0.7695 - val_loss: 8.2328 - val_accuracy: 0.2750 - val_f05_m: 0.2786 - val_f1_m: 0.2786 - val_precision_m: 0.2786 - val_recall_m: 0.2786\n",
            "Epoch 3/3\n",
            "4/4 [==============================] - 206s 59s/step - loss: 0.2765 - accuracy: 0.9000 - f05_m: 0.8945 - f1_m: 0.8945 - precision_m: 0.8945 - recall_m: 0.8945 - val_loss: 8.9432 - val_accuracy: 0.2750 - val_f05_m: 0.2786 - val_f1_m: 0.2786 - val_precision_m: 0.2786 - val_recall_m: 0.2786\n",
            "[0.2750000059604645, 0.2750000059604645, 0.2750000059604645] \n",
            "\n",
            "35 \n",
            "\n",
            "94 abnormal, 106 normal  images are saved\n",
            " \n",
            "Found 200 images belonging to 2 classes.\n",
            "Epoch 1/3\n",
            "4/4 [==============================] - 209s 68s/step - loss: 0.7428 - accuracy: 0.6150 - f05_m: 0.6719 - f1_m: 0.6719 - precision_m: 0.6719 - recall_m: 0.6719 - val_loss: 8.5260 - val_accuracy: 0.2750 - val_f05_m: 0.2695 - val_f1_m: 0.2695 - val_precision_m: 0.2695 - val_recall_m: 0.2695\n",
            "Epoch 2/3\n",
            "4/4 [==============================] - 208s 59s/step - loss: 0.4714 - accuracy: 0.7450 - f05_m: 0.8008 - f1_m: 0.8008 - precision_m: 0.8008 - recall_m: 0.8008 - val_loss: 7.4723 - val_accuracy: 0.2750 - val_f05_m: 0.2695 - val_f1_m: 0.2695 - val_precision_m: 0.2695 - val_recall_m: 0.2695\n",
            "Epoch 3/3\n",
            "4/4 [==============================] - 207s 59s/step - loss: 0.2741 - accuracy: 0.9000 - f05_m: 0.8945 - f1_m: 0.8945 - precision_m: 0.8945 - recall_m: 0.8945 - val_loss: 6.6424 - val_accuracy: 0.2750 - val_f05_m: 0.2708 - val_f1_m: 0.2708 - val_precision_m: 0.2708 - val_recall_m: 0.2708\n",
            "[0.2750000059604645, 0.2750000059604645, 0.2750000059604645] \n",
            "\n",
            "36 \n",
            "\n",
            "97 abnormal, 103 normal  images are saved\n",
            " \n",
            "Found 200 images belonging to 2 classes.\n",
            "Epoch 1/3\n",
            "4/4 [==============================] - 208s 59s/step - loss: 0.6964 - accuracy: 0.6800 - f05_m: 0.6953 - f1_m: 0.6953 - precision_m: 0.6953 - recall_m: 0.6953 - val_loss: 7.5628 - val_accuracy: 0.2750 - val_f05_m: 0.2760 - val_f1_m: 0.2760 - val_precision_m: 0.2760 - val_recall_m: 0.2760\n",
            "Epoch 2/3\n",
            "4/4 [==============================] - 206s 59s/step - loss: 0.4060 - accuracy: 0.8100 - f05_m: 0.8516 - f1_m: 0.8516 - precision_m: 0.8516 - recall_m: 0.8516 - val_loss: 7.7916 - val_accuracy: 0.2750 - val_f05_m: 0.2773 - val_f1_m: 0.2773 - val_precision_m: 0.2773 - val_recall_m: 0.2773\n",
            "Epoch 3/3\n",
            "4/4 [==============================] - 209s 59s/step - loss: 0.2369 - accuracy: 0.9250 - f05_m: 0.9414 - f1_m: 0.9414 - precision_m: 0.9414 - recall_m: 0.9414 - val_loss: 8.8921 - val_accuracy: 0.2750 - val_f05_m: 0.2773 - val_f1_m: 0.2773 - val_precision_m: 0.2773 - val_recall_m: 0.2773\n",
            "[0.2750000059604645, 0.2750000059604645, 0.2750000059604645] \n",
            "\n",
            "37 \n",
            "\n",
            "105 abnormal, 95 normal  images are saved\n",
            " \n",
            "Found 200 images belonging to 2 classes.\n",
            "Epoch 1/3\n",
            "4/4 [==============================] - 207s 59s/step - loss: 0.7613 - accuracy: 0.5900 - f05_m: 0.6523 - f1_m: 0.6523 - precision_m: 0.6523 - recall_m: 0.6523 - val_loss: 9.2957 - val_accuracy: 0.2750 - val_f05_m: 0.2747 - val_f1_m: 0.2747 - val_precision_m: 0.2747 - val_recall_m: 0.2747\n",
            "Epoch 2/3\n",
            "4/4 [==============================] - 207s 59s/step - loss: 0.4367 - accuracy: 0.7900 - f05_m: 0.8086 - f1_m: 0.8086 - precision_m: 0.8086 - recall_m: 0.8086 - val_loss: 7.9618 - val_accuracy: 0.2750 - val_f05_m: 0.2695 - val_f1_m: 0.2695 - val_precision_m: 0.2695 - val_recall_m: 0.2695\n",
            "Epoch 3/3\n",
            "4/4 [==============================] - 208s 59s/step - loss: 0.2476 - accuracy: 0.9300 - f05_m: 0.9180 - f1_m: 0.9180 - precision_m: 0.9180 - recall_m: 0.9180 - val_loss: 8.4812 - val_accuracy: 0.2750 - val_f05_m: 0.2773 - val_f1_m: 0.2773 - val_precision_m: 0.2773 - val_recall_m: 0.2773\n",
            "[0.2750000059604645, 0.2750000059604645, 0.2750000059604645] \n",
            "\n",
            "38 \n",
            "\n",
            "111 abnormal, 89 normal  images are saved\n",
            " \n",
            "Found 200 images belonging to 2 classes.\n",
            "Epoch 1/3\n",
            "4/4 [==============================] - 210s 68s/step - loss: 0.8120 - accuracy: 0.6200 - f05_m: 0.6484 - f1_m: 0.6484 - precision_m: 0.6484 - recall_m: 0.6484 - val_loss: 8.0358 - val_accuracy: 0.2750 - val_f05_m: 0.2721 - val_f1_m: 0.2721 - val_precision_m: 0.2721 - val_recall_m: 0.2721\n",
            "Epoch 2/3\n",
            "4/4 [==============================] - 208s 59s/step - loss: 0.4412 - accuracy: 0.7850 - f05_m: 0.8047 - f1_m: 0.8047 - precision_m: 0.8047 - recall_m: 0.8047 - val_loss: 9.2160 - val_accuracy: 0.2750 - val_f05_m: 0.2708 - val_f1_m: 0.2708 - val_precision_m: 0.2708 - val_recall_m: 0.2708\n",
            "Epoch 3/3\n",
            "4/4 [==============================] - 206s 67s/step - loss: 0.1993 - accuracy: 0.9650 - f05_m: 0.9727 - f1_m: 0.9727 - precision_m: 0.9727 - recall_m: 0.9727 - val_loss: 8.4874 - val_accuracy: 0.2750 - val_f05_m: 0.2773 - val_f1_m: 0.2773 - val_precision_m: 0.2773 - val_recall_m: 0.2773\n",
            "[0.2750000059604645, 0.2750000059604645, 0.2750000059604645] \n",
            "\n",
            "39 \n",
            "\n",
            "99 abnormal, 101 normal  images are saved\n",
            " \n",
            "Found 200 images belonging to 2 classes.\n",
            "Epoch 1/3\n",
            "4/4 [==============================] - 207s 68s/step - loss: 0.9495 - accuracy: 0.5300 - f05_m: 0.5781 - f1_m: 0.5781 - precision_m: 0.5781 - recall_m: 0.5781 - val_loss: 6.8028 - val_accuracy: 0.2750 - val_f05_m: 0.2773 - val_f1_m: 0.2773 - val_precision_m: 0.2773 - val_recall_m: 0.2773\n",
            "Epoch 2/3\n",
            "4/4 [==============================] - 207s 59s/step - loss: 0.5477 - accuracy: 0.6900 - f05_m: 0.6484 - f1_m: 0.6484 - precision_m: 0.6484 - recall_m: 0.6484 - val_loss: 8.0257 - val_accuracy: 0.2750 - val_f05_m: 0.2760 - val_f1_m: 0.2760 - val_precision_m: 0.2760 - val_recall_m: 0.2760\n",
            "Epoch 3/3\n",
            "4/4 [==============================] - 208s 59s/step - loss: 0.3427 - accuracy: 0.8500 - f05_m: 0.8555 - f1_m: 0.8555 - precision_m: 0.8555 - recall_m: 0.8555 - val_loss: 6.4587 - val_accuracy: 0.2750 - val_f05_m: 0.2760 - val_f1_m: 0.2760 - val_precision_m: 0.2760 - val_recall_m: 0.2760\n",
            "[0.2750000059604645, 0.2750000059604645, 0.2750000059604645] \n",
            "\n",
            "40 \n",
            "\n",
            "101 abnormal, 99 normal  images are saved\n",
            " \n",
            "Found 200 images belonging to 2 classes.\n",
            "Epoch 1/3\n",
            "4/4 [==============================] - 208s 68s/step - loss: 0.8204 - accuracy: 0.6000 - f05_m: 0.6328 - f1_m: 0.6328 - precision_m: 0.6328 - recall_m: 0.6328 - val_loss: 7.2893 - val_accuracy: 0.2750 - val_f05_m: 0.2734 - val_f1_m: 0.2734 - val_precision_m: 0.2734 - val_recall_m: 0.2734\n",
            "Epoch 2/3\n",
            "4/4 [==============================] - 206s 59s/step - loss: 0.4742 - accuracy: 0.7950 - f05_m: 0.8125 - f1_m: 0.8125 - precision_m: 0.8125 - recall_m: 0.8125 - val_loss: 7.3798 - val_accuracy: 0.2750 - val_f05_m: 0.2721 - val_f1_m: 0.2721 - val_precision_m: 0.2721 - val_recall_m: 0.2721\n",
            "Epoch 3/3\n",
            "4/4 [==============================] - 205s 58s/step - loss: 0.2908 - accuracy: 0.8700 - f05_m: 0.8984 - f1_m: 0.8984 - precision_m: 0.8984 - recall_m: 0.8984 - val_loss: 6.6029 - val_accuracy: 0.2750 - val_f05_m: 0.2786 - val_f1_m: 0.2786 - val_precision_m: 0.2786 - val_recall_m: 0.2786\n",
            "[0.2750000059604645, 0.2750000059604645, 0.2750000059604645] \n",
            "\n",
            "41 \n",
            "\n",
            "103 abnormal, 97 normal  images are saved\n",
            " \n",
            "Found 200 images belonging to 2 classes.\n",
            "Epoch 1/3\n",
            "4/4 [==============================] - 208s 59s/step - loss: 0.8944 - accuracy: 0.5950 - f05_m: 0.5469 - f1_m: 0.5469 - precision_m: 0.5469 - recall_m: 0.5469 - val_loss: 7.1020 - val_accuracy: 0.2750 - val_f05_m: 0.2760 - val_f1_m: 0.2760 - val_precision_m: 0.2760 - val_recall_m: 0.2760\n",
            "Epoch 2/3\n",
            "4/4 [==============================] - 206s 59s/step - loss: 0.5614 - accuracy: 0.7050 - f05_m: 0.7422 - f1_m: 0.7422 - precision_m: 0.7422 - recall_m: 0.7422 - val_loss: 3.9173 - val_accuracy: 0.2708 - val_f05_m: 0.2721 - val_f1_m: 0.2721 - val_precision_m: 0.2721 - val_recall_m: 0.2721\n",
            "Epoch 3/3\n",
            "4/4 [==============================] - 206s 59s/step - loss: 0.3361 - accuracy: 0.8850 - f05_m: 0.8828 - f1_m: 0.8828 - precision_m: 0.8828 - recall_m: 0.8828 - val_loss: 6.3376 - val_accuracy: 0.2750 - val_f05_m: 0.2786 - val_f1_m: 0.2786 - val_precision_m: 0.2786 - val_recall_m: 0.2786\n",
            "[0.2750000059604645, 0.2708333432674408, 0.2750000059604645] \n",
            "\n",
            "42 \n",
            "\n",
            "99 abnormal, 101 normal  images are saved\n",
            " \n",
            "Found 200 images belonging to 2 classes.\n",
            "Epoch 1/3\n",
            "4/4 [==============================] - 209s 59s/step - loss: 0.7189 - accuracy: 0.6100 - f05_m: 0.6680 - f1_m: 0.6680 - precision_m: 0.6680 - recall_m: 0.6680 - val_loss: 5.9933 - val_accuracy: 0.2750 - val_f05_m: 0.2695 - val_f1_m: 0.2695 - val_precision_m: 0.2695 - val_recall_m: 0.2695\n",
            "Epoch 2/3\n",
            "4/4 [==============================] - 207s 59s/step - loss: 0.5278 - accuracy: 0.7150 - f05_m: 0.7500 - f1_m: 0.7500 - precision_m: 0.7500 - recall_m: 0.7500 - val_loss: 7.6546 - val_accuracy: 0.2750 - val_f05_m: 0.2721 - val_f1_m: 0.2721 - val_precision_m: 0.2721 - val_recall_m: 0.2721\n",
            "Epoch 3/3\n",
            "4/4 [==============================] - 207s 59s/step - loss: 0.3632 - accuracy: 0.8500 - f05_m: 0.8828 - f1_m: 0.8828 - precision_m: 0.8828 - recall_m: 0.8828 - val_loss: 8.7077 - val_accuracy: 0.2750 - val_f05_m: 0.2747 - val_f1_m: 0.2747 - val_precision_m: 0.2747 - val_recall_m: 0.2747\n",
            "[0.2750000059604645, 0.2750000059604645, 0.2750000059604645] \n",
            "\n",
            "43 \n",
            "\n",
            "104 abnormal, 96 normal  images are saved\n",
            " \n",
            "Found 200 images belonging to 2 classes.\n",
            "Epoch 1/3\n",
            "4/4 [==============================] - 208s 68s/step - loss: 0.7385 - accuracy: 0.6150 - f05_m: 0.6445 - f1_m: 0.6445 - precision_m: 0.6445 - recall_m: 0.6445 - val_loss: 9.1649 - val_accuracy: 0.2750 - val_f05_m: 0.2773 - val_f1_m: 0.2773 - val_precision_m: 0.2773 - val_recall_m: 0.2773\n",
            "Epoch 2/3\n",
            "4/4 [==============================] - 209s 59s/step - loss: 0.5014 - accuracy: 0.7350 - f05_m: 0.7930 - f1_m: 0.7930 - precision_m: 0.7930 - recall_m: 0.7930 - val_loss: 9.4424 - val_accuracy: 0.2750 - val_f05_m: 0.2747 - val_f1_m: 0.2747 - val_precision_m: 0.2747 - val_recall_m: 0.2747\n",
            "Epoch 3/3\n",
            "4/4 [==============================] - 206s 59s/step - loss: 0.3025 - accuracy: 0.9050 - f05_m: 0.9258 - f1_m: 0.9258 - precision_m: 0.9258 - recall_m: 0.9258 - val_loss: 8.9714 - val_accuracy: 0.2750 - val_f05_m: 0.2773 - val_f1_m: 0.2773 - val_precision_m: 0.2773 - val_recall_m: 0.2773\n",
            "[0.2750000059604645, 0.2750000059604645, 0.2750000059604645] \n",
            "\n",
            "44 \n",
            "\n",
            "96 abnormal, 104 normal  images are saved\n",
            " \n",
            "Found 200 images belonging to 2 classes.\n",
            "Epoch 1/3\n",
            "4/4 [==============================] - 209s 59s/step - loss: 0.7730 - accuracy: 0.5950 - f05_m: 0.5195 - f1_m: 0.5195 - precision_m: 0.5195 - recall_m: 0.5195 - val_loss: 8.7959 - val_accuracy: 0.2750 - val_f05_m: 0.2747 - val_f1_m: 0.2747 - val_precision_m: 0.2747 - val_recall_m: 0.2747\n",
            "Epoch 2/3\n",
            "4/4 [==============================] - 206s 59s/step - loss: 0.4316 - accuracy: 0.7950 - f05_m: 0.8125 - f1_m: 0.8125 - precision_m: 0.8125 - recall_m: 0.8125 - val_loss: 8.5291 - val_accuracy: 0.2750 - val_f05_m: 0.2669 - val_f1_m: 0.2669 - val_precision_m: 0.2669 - val_recall_m: 0.2669\n",
            "Epoch 3/3\n",
            "4/4 [==============================] - 207s 59s/step - loss: 0.2607 - accuracy: 0.9100 - f05_m: 0.9023 - f1_m: 0.9023 - precision_m: 0.9023 - recall_m: 0.9023 - val_loss: 8.2705 - val_accuracy: 0.2750 - val_f05_m: 0.2799 - val_f1_m: 0.2799 - val_precision_m: 0.2799 - val_recall_m: 0.2799\n",
            "[0.2750000059604645, 0.2750000059604645, 0.2750000059604645] \n",
            "\n",
            "45 \n",
            "\n",
            "96 abnormal, 104 normal  images are saved\n",
            " \n",
            "Found 200 images belonging to 2 classes.\n",
            "Epoch 1/3\n",
            "4/4 [==============================] - 210s 60s/step - loss: 0.8822 - accuracy: 0.5800 - f05_m: 0.5898 - f1_m: 0.5898 - precision_m: 0.5898 - recall_m: 0.5898 - val_loss: 9.8274 - val_accuracy: 0.2750 - val_f05_m: 0.2721 - val_f1_m: 0.2721 - val_precision_m: 0.2721 - val_recall_m: 0.2721\n",
            "Epoch 2/3\n",
            "4/4 [==============================] - 208s 59s/step - loss: 0.7288 - accuracy: 0.6350 - f05_m: 0.6602 - f1_m: 0.6602 - precision_m: 0.6602 - recall_m: 0.6602 - val_loss: 6.6184 - val_accuracy: 0.2708 - val_f05_m: 0.2708 - val_f1_m: 0.2708 - val_precision_m: 0.2708 - val_recall_m: 0.2708\n",
            "Epoch 3/3\n",
            "4/4 [==============================] - 207s 67s/step - loss: 0.4348 - accuracy: 0.7800 - f05_m: 0.7461 - f1_m: 0.7461 - precision_m: 0.7461 - recall_m: 0.7461 - val_loss: 9.7483 - val_accuracy: 0.2750 - val_f05_m: 0.2786 - val_f1_m: 0.2786 - val_precision_m: 0.2786 - val_recall_m: 0.2786\n",
            "[0.2750000059604645, 0.2708333432674408, 0.2750000059604645] \n",
            "\n",
            "46 \n",
            "\n",
            "95 abnormal, 105 normal  images are saved\n",
            " \n",
            "Found 200 images belonging to 2 classes.\n",
            "Epoch 1/3\n",
            "4/4 [==============================] - 208s 59s/step - loss: 0.9209 - accuracy: 0.5400 - f05_m: 0.5039 - f1_m: 0.5039 - precision_m: 0.5039 - recall_m: 0.5039 - val_loss: 6.4119 - val_accuracy: 0.2708 - val_f05_m: 0.2708 - val_f1_m: 0.2708 - val_precision_m: 0.2708 - val_recall_m: 0.2708\n",
            "Epoch 2/3\n",
            "4/4 [==============================] - 211s 69s/step - loss: 0.8834 - accuracy: 0.5800 - f05_m: 0.5898 - f1_m: 0.5898 - precision_m: 0.5898 - recall_m: 0.5898 - val_loss: 5.8769 - val_accuracy: 0.2750 - val_f05_m: 0.2708 - val_f1_m: 0.2708 - val_precision_m: 0.2708 - val_recall_m: 0.2708\n",
            "Epoch 3/3\n",
            "4/4 [==============================] - 207s 59s/step - loss: 0.4484 - accuracy: 0.7600 - f05_m: 0.7578 - f1_m: 0.7578 - precision_m: 0.7578 - recall_m: 0.7578 - val_loss: 7.3413 - val_accuracy: 0.2750 - val_f05_m: 0.2760 - val_f1_m: 0.2760 - val_precision_m: 0.2760 - val_recall_m: 0.2760\n",
            "[0.2708333432674408, 0.2750000059604645, 0.2750000059604645] \n",
            "\n",
            "47 \n",
            "\n",
            "89 abnormal, 111 normal  images are saved\n",
            " \n",
            "Found 200 images belonging to 2 classes.\n",
            "Epoch 1/3\n",
            "4/4 [==============================] - 209s 59s/step - loss: 0.7749 - accuracy: 0.5850 - f05_m: 0.6484 - f1_m: 0.6484 - precision_m: 0.6484 - recall_m: 0.6484 - val_loss: 4.9956 - val_accuracy: 0.2750 - val_f05_m: 0.2721 - val_f1_m: 0.2721 - val_precision_m: 0.2721 - val_recall_m: 0.2721\n",
            "Epoch 2/3\n",
            "4/4 [==============================] - 207s 59s/step - loss: 0.5181 - accuracy: 0.7450 - f05_m: 0.6914 - f1_m: 0.6914 - precision_m: 0.6914 - recall_m: 0.6914 - val_loss: 5.8247 - val_accuracy: 0.2750 - val_f05_m: 0.2786 - val_f1_m: 0.2786 - val_precision_m: 0.2786 - val_recall_m: 0.2786\n",
            "Epoch 3/3\n",
            "4/4 [==============================] - 206s 59s/step - loss: 0.4096 - accuracy: 0.8100 - f05_m: 0.8242 - f1_m: 0.8242 - precision_m: 0.8242 - recall_m: 0.8242 - val_loss: 6.1369 - val_accuracy: 0.2750 - val_f05_m: 0.2734 - val_f1_m: 0.2734 - val_precision_m: 0.2734 - val_recall_m: 0.2734\n",
            "[0.2750000059604645, 0.2750000059604645, 0.2750000059604645] \n",
            "\n",
            "48 \n",
            "\n",
            "100 abnormal, 100 normal  images are saved\n",
            " \n",
            "Found 200 images belonging to 2 classes.\n",
            "Epoch 1/3\n",
            "4/4 [==============================] - 207s 68s/step - loss: 0.7014 - accuracy: 0.6500 - f05_m: 0.6719 - f1_m: 0.6719 - precision_m: 0.6719 - recall_m: 0.6719 - val_loss: 5.5710 - val_accuracy: 0.2750 - val_f05_m: 0.2734 - val_f1_m: 0.2734 - val_precision_m: 0.2734 - val_recall_m: 0.2734\n",
            "Epoch 2/3\n",
            "4/4 [==============================] - 206s 58s/step - loss: 0.4987 - accuracy: 0.7800 - f05_m: 0.7461 - f1_m: 0.7461 - precision_m: 0.7461 - recall_m: 0.7461 - val_loss: 6.1121 - val_accuracy: 0.2750 - val_f05_m: 0.2799 - val_f1_m: 0.2799 - val_precision_m: 0.2799 - val_recall_m: 0.2799\n",
            "Epoch 3/3\n",
            "4/4 [==============================] - 206s 59s/step - loss: 0.3649 - accuracy: 0.8350 - f05_m: 0.7891 - f1_m: 0.7891 - precision_m: 0.7891 - recall_m: 0.7891 - val_loss: 5.5765 - val_accuracy: 0.2750 - val_f05_m: 0.2786 - val_f1_m: 0.2786 - val_precision_m: 0.2786 - val_recall_m: 0.2786\n",
            "[0.2750000059604645, 0.2750000059604645, 0.2750000059604645] \n",
            "\n",
            "49 \n",
            "\n",
            "97 abnormal, 103 normal  images are saved\n",
            " \n",
            "Found 200 images belonging to 2 classes.\n",
            "Epoch 1/3\n",
            "4/4 [==============================] - 210s 59s/step - loss: 0.7461 - accuracy: 0.6350 - f05_m: 0.6602 - f1_m: 0.6602 - precision_m: 0.6602 - recall_m: 0.6602 - val_loss: 4.9586 - val_accuracy: 0.2708 - val_f05_m: 0.2708 - val_f1_m: 0.2708 - val_precision_m: 0.2708 - val_recall_m: 0.2708\n",
            "Epoch 2/3\n",
            "4/4 [==============================] - 209s 59s/step - loss: 0.5466 - accuracy: 0.7300 - f05_m: 0.7617 - f1_m: 0.7617 - precision_m: 0.7617 - recall_m: 0.7617 - val_loss: 6.2735 - val_accuracy: 0.2750 - val_f05_m: 0.2747 - val_f1_m: 0.2747 - val_precision_m: 0.2747 - val_recall_m: 0.2747\n",
            "Epoch 3/3\n",
            "4/4 [==============================] - 206s 59s/step - loss: 0.3606 - accuracy: 0.8400 - f05_m: 0.8750 - f1_m: 0.8750 - precision_m: 0.8750 - recall_m: 0.8750 - val_loss: 5.5888 - val_accuracy: 0.2750 - val_f05_m: 0.2747 - val_f1_m: 0.2747 - val_precision_m: 0.2747 - val_recall_m: 0.2747\n",
            "[0.2708333432674408, 0.2750000059604645, 0.2750000059604645] \n",
            "\n",
            "50 \n",
            "\n",
            "97 abnormal, 103 normal  images are saved\n",
            " \n",
            "Found 200 images belonging to 2 classes.\n",
            "Epoch 1/3\n",
            "4/4 [==============================] - 209s 68s/step - loss: 0.6688 - accuracy: 0.6150 - f05_m: 0.6172 - f1_m: 0.6172 - precision_m: 0.6172 - recall_m: 0.6172 - val_loss: 7.4717 - val_accuracy: 0.2750 - val_f05_m: 0.2760 - val_f1_m: 0.2760 - val_precision_m: 0.2760 - val_recall_m: 0.2760\n",
            "Epoch 2/3\n",
            "4/4 [==============================] - 209s 68s/step - loss: 0.4825 - accuracy: 0.7700 - f05_m: 0.7383 - f1_m: 0.7383 - precision_m: 0.7383 - recall_m: 0.7383 - val_loss: 7.2504 - val_accuracy: 0.2750 - val_f05_m: 0.2826 - val_f1_m: 0.2826 - val_precision_m: 0.2826 - val_recall_m: 0.2826\n",
            "Epoch 3/3\n",
            "4/4 [==============================] - 209s 68s/step - loss: 0.3379 - accuracy: 0.8950 - f05_m: 0.9180 - f1_m: 0.9180 - precision_m: 0.9180 - recall_m: 0.9180 - val_loss: 8.1479 - val_accuracy: 0.2750 - val_f05_m: 0.2734 - val_f1_m: 0.2734 - val_precision_m: 0.2734 - val_recall_m: 0.2734\n",
            "[0.2750000059604645, 0.2750000059604645, 0.2750000059604645] \n",
            "\n",
            "51 \n",
            "\n",
            "84 abnormal, 116 normal  images are saved\n",
            " \n",
            "Found 200 images belonging to 2 classes.\n",
            "Epoch 1/3\n",
            "4/4 [==============================] - 208s 68s/step - loss: 0.6964 - accuracy: 0.6600 - f05_m: 0.6797 - f1_m: 0.6797 - precision_m: 0.6797 - recall_m: 0.6797 - val_loss: 7.4632 - val_accuracy: 0.2750 - val_f05_m: 0.2734 - val_f1_m: 0.2734 - val_precision_m: 0.2734 - val_recall_m: 0.2734\n",
            "Epoch 2/3\n",
            "4/4 [==============================] - 208s 59s/step - loss: 0.5124 - accuracy: 0.7850 - f05_m: 0.7500 - f1_m: 0.7500 - precision_m: 0.7500 - recall_m: 0.7500 - val_loss: 6.7971 - val_accuracy: 0.2750 - val_f05_m: 0.2760 - val_f1_m: 0.2760 - val_precision_m: 0.2760 - val_recall_m: 0.2760\n",
            "Epoch 3/3\n",
            "4/4 [==============================] - 209s 68s/step - loss: 0.3540 - accuracy: 0.8700 - f05_m: 0.8437 - f1_m: 0.8437 - precision_m: 0.8438 - recall_m: 0.8438 - val_loss: 7.2495 - val_accuracy: 0.2750 - val_f05_m: 0.2773 - val_f1_m: 0.2773 - val_precision_m: 0.2773 - val_recall_m: 0.2773\n",
            "[0.2750000059604645, 0.2750000059604645, 0.2750000059604645] \n",
            "\n",
            "52 \n",
            "\n",
            "110 abnormal, 90 normal  images are saved\n",
            " \n",
            "Found 200 images belonging to 2 classes.\n",
            "Epoch 1/3\n",
            "4/4 [==============================] - 206s 58s/step - loss: 0.6905 - accuracy: 0.6000 - f05_m: 0.5781 - f1_m: 0.5781 - precision_m: 0.5781 - recall_m: 0.5781 - val_loss: 7.0640 - val_accuracy: 0.2750 - val_f05_m: 0.2773 - val_f1_m: 0.2773 - val_precision_m: 0.2773 - val_recall_m: 0.2773\n",
            "Epoch 2/3\n",
            "4/4 [==============================] - 208s 59s/step - loss: 0.4756 - accuracy: 0.7700 - f05_m: 0.7383 - f1_m: 0.7383 - precision_m: 0.7383 - recall_m: 0.7383 - val_loss: 7.2789 - val_accuracy: 0.2750 - val_f05_m: 0.2760 - val_f1_m: 0.2760 - val_precision_m: 0.2760 - val_recall_m: 0.2760\n",
            "Epoch 3/3\n",
            "4/4 [==============================] - 208s 59s/step - loss: 0.3212 - accuracy: 0.8450 - f05_m: 0.8516 - f1_m: 0.8516 - precision_m: 0.8516 - recall_m: 0.8516 - val_loss: 6.8403 - val_accuracy: 0.2750 - val_f05_m: 0.2839 - val_f1_m: 0.2839 - val_precision_m: 0.2839 - val_recall_m: 0.2839\n",
            "[0.2750000059604645, 0.2750000059604645, 0.2750000059604645] \n",
            "\n",
            "53 \n",
            "\n",
            "89 abnormal, 111 normal  images are saved\n",
            " \n",
            "Found 200 images belonging to 2 classes.\n",
            "Epoch 1/3\n",
            "4/4 [==============================] - 209s 59s/step - loss: 0.7236 - accuracy: 0.6700 - f05_m: 0.6875 - f1_m: 0.6875 - precision_m: 0.6875 - recall_m: 0.6875 - val_loss: 5.8836 - val_accuracy: 0.2667 - val_f05_m: 0.2669 - val_f1_m: 0.2669 - val_precision_m: 0.2669 - val_recall_m: 0.2669\n",
            "Epoch 2/3\n",
            "4/4 [==============================] - 210s 68s/step - loss: 0.4600 - accuracy: 0.7850 - f05_m: 0.8320 - f1_m: 0.8320 - precision_m: 0.8320 - recall_m: 0.8320 - val_loss: 6.7946 - val_accuracy: 0.2750 - val_f05_m: 0.2786 - val_f1_m: 0.2786 - val_precision_m: 0.2786 - val_recall_m: 0.2786\n",
            "Epoch 3/3\n",
            "4/4 [==============================] - 208s 59s/step - loss: 0.2979 - accuracy: 0.9100 - f05_m: 0.8750 - f1_m: 0.8750 - precision_m: 0.8750 - recall_m: 0.8750 - val_loss: 6.5251 - val_accuracy: 0.2708 - val_f05_m: 0.2708 - val_f1_m: 0.2708 - val_precision_m: 0.2708 - val_recall_m: 0.2708\n",
            "[0.2666666805744171, 0.2750000059604645, 0.2708333432674408] \n",
            "\n",
            "54 \n",
            "\n",
            "102 abnormal, 98 normal  images are saved\n",
            " \n",
            "Found 200 images belonging to 2 classes.\n",
            "Epoch 1/3\n",
            "4/4 [==============================] - 209s 59s/step - loss: 0.5857 - accuracy: 0.7100 - f05_m: 0.7187 - f1_m: 0.7187 - precision_m: 0.7188 - recall_m: 0.7188 - val_loss: 8.8207 - val_accuracy: 0.2750 - val_f05_m: 0.2773 - val_f1_m: 0.2773 - val_precision_m: 0.2773 - val_recall_m: 0.2773\n",
            "Epoch 2/3\n",
            "4/4 [==============================] - 208s 68s/step - loss: 0.4097 - accuracy: 0.8400 - f05_m: 0.8203 - f1_m: 0.8203 - precision_m: 0.8203 - recall_m: 0.8203 - val_loss: 6.7315 - val_accuracy: 0.2708 - val_f05_m: 0.2656 - val_f1_m: 0.2656 - val_precision_m: 0.2656 - val_recall_m: 0.2656\n",
            "Epoch 3/3\n",
            "4/4 [==============================] - 208s 59s/step - loss: 0.3142 - accuracy: 0.8600 - f05_m: 0.8086 - f1_m: 0.8086 - precision_m: 0.8086 - recall_m: 0.8086 - val_loss: 8.6348 - val_accuracy: 0.2750 - val_f05_m: 0.2786 - val_f1_m: 0.2786 - val_precision_m: 0.2786 - val_recall_m: 0.2786\n",
            "[0.2750000059604645, 0.2708333432674408, 0.2750000059604645] \n",
            "\n",
            "55 \n",
            "\n",
            "92 abnormal, 108 normal  images are saved\n",
            " \n",
            "Found 200 images belonging to 2 classes.\n",
            "Epoch 1/3\n",
            "4/4 [==============================] - 207s 59s/step - loss: 0.7514 - accuracy: 0.6600 - f05_m: 0.6250 - f1_m: 0.6250 - precision_m: 0.6250 - recall_m: 0.6250 - val_loss: 6.5823 - val_accuracy: 0.2750 - val_f05_m: 0.2799 - val_f1_m: 0.2799 - val_precision_m: 0.2799 - val_recall_m: 0.2799\n",
            "Epoch 2/3\n",
            "4/4 [==============================] - 209s 59s/step - loss: 0.5256 - accuracy: 0.7300 - f05_m: 0.7344 - f1_m: 0.7344 - precision_m: 0.7344 - recall_m: 0.7344 - val_loss: 9.6017 - val_accuracy: 0.2750 - val_f05_m: 0.2708 - val_f1_m: 0.2708 - val_precision_m: 0.2708 - val_recall_m: 0.2708\n",
            "Epoch 3/3\n",
            "4/4 [==============================] - 207s 68s/step - loss: 0.4468 - accuracy: 0.7900 - f05_m: 0.8086 - f1_m: 0.8086 - precision_m: 0.8086 - recall_m: 0.8086 - val_loss: 9.1094 - val_accuracy: 0.2750 - val_f05_m: 0.2747 - val_f1_m: 0.2747 - val_precision_m: 0.2747 - val_recall_m: 0.2747\n",
            "[0.2750000059604645, 0.2750000059604645, 0.2750000059604645] \n",
            "\n",
            "56 \n",
            "\n",
            "87 abnormal, 113 normal  images are saved\n",
            " \n",
            "Found 200 images belonging to 2 classes.\n",
            "Epoch 1/3\n",
            "4/4 [==============================] - 207s 59s/step - loss: 0.8616 - accuracy: 0.6100 - f05_m: 0.6680 - f1_m: 0.6680 - precision_m: 0.6680 - recall_m: 0.6680 - val_loss: 8.6250 - val_accuracy: 0.2750 - val_f05_m: 0.2747 - val_f1_m: 0.2747 - val_precision_m: 0.2747 - val_recall_m: 0.2747\n",
            "Epoch 2/3\n",
            "4/4 [==============================] - 209s 59s/step - loss: 0.6008 - accuracy: 0.7000 - f05_m: 0.6562 - f1_m: 0.6562 - precision_m: 0.6562 - recall_m: 0.6562 - val_loss: 9.9658 - val_accuracy: 0.2750 - val_f05_m: 0.2721 - val_f1_m: 0.2721 - val_precision_m: 0.2721 - val_recall_m: 0.2721\n",
            "Epoch 3/3\n",
            "4/4 [==============================] - 207s 68s/step - loss: 0.3399 - accuracy: 0.8700 - f05_m: 0.8711 - f1_m: 0.8711 - precision_m: 0.8711 - recall_m: 0.8711 - val_loss: 9.0292 - val_accuracy: 0.2750 - val_f05_m: 0.2734 - val_f1_m: 0.2734 - val_precision_m: 0.2734 - val_recall_m: 0.2734\n",
            "[0.2750000059604645, 0.2750000059604645, 0.2750000059604645] \n",
            "\n",
            "57 \n",
            "\n",
            "84 abnormal, 116 normal  images are saved\n",
            " \n",
            "Found 200 images belonging to 2 classes.\n",
            "Epoch 1/3\n",
            "4/4 [==============================] - 210s 68s/step - loss: 0.7567 - accuracy: 0.6300 - f05_m: 0.6562 - f1_m: 0.6562 - precision_m: 0.6562 - recall_m: 0.6562 - val_loss: 9.0250 - val_accuracy: 0.2750 - val_f05_m: 0.2721 - val_f1_m: 0.2721 - val_precision_m: 0.2721 - val_recall_m: 0.2721\n",
            "Epoch 2/3\n",
            "4/4 [==============================] - 208s 59s/step - loss: 0.5472 - accuracy: 0.7200 - f05_m: 0.7266 - f1_m: 0.7266 - precision_m: 0.7266 - recall_m: 0.7266 - val_loss: 8.1742 - val_accuracy: 0.2750 - val_f05_m: 0.2734 - val_f1_m: 0.2734 - val_precision_m: 0.2734 - val_recall_m: 0.2734\n",
            "Epoch 3/3\n",
            "4/4 [==============================] - 208s 59s/step - loss: 0.3331 - accuracy: 0.8650 - f05_m: 0.8945 - f1_m: 0.8945 - precision_m: 0.8945 - recall_m: 0.8945 - val_loss: 6.0477 - val_accuracy: 0.2750 - val_f05_m: 0.2760 - val_f1_m: 0.2760 - val_precision_m: 0.2760 - val_recall_m: 0.2760\n",
            "[0.2750000059604645, 0.2750000059604645, 0.2750000059604645] \n",
            "\n",
            "58 \n",
            "\n",
            "100 abnormal, 100 normal  images are saved\n",
            " \n",
            "Found 200 images belonging to 2 classes.\n",
            "Epoch 1/3\n",
            "4/4 [==============================] - 209s 60s/step - loss: 0.7923 - accuracy: 0.5500 - f05_m: 0.5937 - f1_m: 0.5937 - precision_m: 0.5938 - recall_m: 0.5938 - val_loss: 6.3409 - val_accuracy: 0.2750 - val_f05_m: 0.2852 - val_f1_m: 0.2852 - val_precision_m: 0.2852 - val_recall_m: 0.2852\n",
            "Epoch 2/3\n",
            "4/4 [==============================] - 207s 59s/step - loss: 0.5509 - accuracy: 0.7000 - f05_m: 0.7109 - f1_m: 0.7109 - precision_m: 0.7109 - recall_m: 0.7109 - val_loss: 6.4388 - val_accuracy: 0.2750 - val_f05_m: 0.2826 - val_f1_m: 0.2826 - val_precision_m: 0.2826 - val_recall_m: 0.2826\n",
            "Epoch 3/3\n",
            "4/4 [==============================] - 209s 68s/step - loss: 0.3473 - accuracy: 0.8600 - f05_m: 0.8633 - f1_m: 0.8633 - precision_m: 0.8633 - recall_m: 0.8633 - val_loss: 6.4090 - val_accuracy: 0.2750 - val_f05_m: 0.2812 - val_f1_m: 0.2812 - val_precision_m: 0.2812 - val_recall_m: 0.2812\n",
            "[0.2750000059604645, 0.2750000059604645, 0.2750000059604645] \n",
            "\n",
            "59 \n",
            "\n",
            "99 abnormal, 101 normal  images are saved\n",
            " \n",
            "Found 200 images belonging to 2 classes.\n",
            "Epoch 1/3\n",
            "4/4 [==============================] - 208s 59s/step - loss: 0.6617 - accuracy: 0.6450 - f05_m: 0.6953 - f1_m: 0.6953 - precision_m: 0.6953 - recall_m: 0.6953 - val_loss: 6.1132 - val_accuracy: 0.2750 - val_f05_m: 0.2773 - val_f1_m: 0.2773 - val_precision_m: 0.2773 - val_recall_m: 0.2773\n",
            "Epoch 2/3\n",
            "4/4 [==============================] - 210s 59s/step - loss: 0.4812 - accuracy: 0.7800 - f05_m: 0.7734 - f1_m: 0.7734 - precision_m: 0.7734 - recall_m: 0.7734 - val_loss: 6.0848 - val_accuracy: 0.2750 - val_f05_m: 0.2826 - val_f1_m: 0.2826 - val_precision_m: 0.2826 - val_recall_m: 0.2826\n",
            "Epoch 3/3\n",
            "4/4 [==============================] - 205s 58s/step - loss: 0.3100 - accuracy: 0.8900 - f05_m: 0.8867 - f1_m: 0.8867 - precision_m: 0.8867 - recall_m: 0.8867 - val_loss: 6.3270 - val_accuracy: 0.2750 - val_f05_m: 0.2747 - val_f1_m: 0.2747 - val_precision_m: 0.2747 - val_recall_m: 0.2747\n",
            "[0.2750000059604645, 0.2750000059604645, 0.2750000059604645] \n",
            "\n",
            "60 \n",
            "\n",
            "101 abnormal, 99 normal  images are saved\n",
            " \n",
            "Found 200 images belonging to 2 classes.\n",
            "Epoch 1/3\n",
            "4/4 [==============================] - 208s 59s/step - loss: 0.7071 - accuracy: 0.6400 - f05_m: 0.5547 - f1_m: 0.5547 - precision_m: 0.5547 - recall_m: 0.5547 - val_loss: 6.5930 - val_accuracy: 0.2750 - val_f05_m: 0.2734 - val_f1_m: 0.2734 - val_precision_m: 0.2734 - val_recall_m: 0.2734\n",
            "Epoch 2/3\n",
            "4/4 [==============================] - 208s 59s/step - loss: 0.4514 - accuracy: 0.7700 - f05_m: 0.7656 - f1_m: 0.7656 - precision_m: 0.7656 - recall_m: 0.7656 - val_loss: 6.4728 - val_accuracy: 0.2750 - val_f05_m: 0.2799 - val_f1_m: 0.2799 - val_precision_m: 0.2799 - val_recall_m: 0.2799\n",
            "Epoch 3/3\n",
            "4/4 [==============================] - 207s 59s/step - loss: 0.3208 - accuracy: 0.8650 - f05_m: 0.8672 - f1_m: 0.8672 - precision_m: 0.8672 - recall_m: 0.8672 - val_loss: 7.7277 - val_accuracy: 0.2750 - val_f05_m: 0.2734 - val_f1_m: 0.2734 - val_precision_m: 0.2734 - val_recall_m: 0.2734\n",
            "[0.2750000059604645, 0.2750000059604645, 0.2750000059604645] \n",
            "\n",
            "61 \n",
            "\n",
            "97 abnormal, 103 normal  images are saved\n",
            " \n",
            "Found 200 images belonging to 2 classes.\n",
            "Epoch 1/3\n",
            "4/4 [==============================] - 209s 59s/step - loss: 0.6795 - accuracy: 0.6350 - f05_m: 0.6328 - f1_m: 0.6328 - precision_m: 0.6328 - recall_m: 0.6328 - val_loss: 7.0989 - val_accuracy: 0.2750 - val_f05_m: 0.2695 - val_f1_m: 0.2695 - val_precision_m: 0.2695 - val_recall_m: 0.2695\n",
            "Epoch 2/3\n",
            "4/4 [==============================] - 206s 59s/step - loss: 0.5224 - accuracy: 0.7450 - f05_m: 0.8008 - f1_m: 0.8008 - precision_m: 0.8008 - recall_m: 0.8008 - val_loss: 9.5788 - val_accuracy: 0.2750 - val_f05_m: 0.2734 - val_f1_m: 0.2734 - val_precision_m: 0.2734 - val_recall_m: 0.2734\n",
            "Epoch 3/3\n",
            "4/4 [==============================] - 209s 68s/step - loss: 0.3352 - accuracy: 0.8400 - f05_m: 0.7930 - f1_m: 0.7930 - precision_m: 0.7930 - recall_m: 0.7930 - val_loss: 7.8415 - val_accuracy: 0.2750 - val_f05_m: 0.2786 - val_f1_m: 0.2786 - val_precision_m: 0.2786 - val_recall_m: 0.2786\n",
            "[0.2750000059604645, 0.2750000059604645, 0.2750000059604645] \n",
            "\n",
            "62 \n",
            "\n",
            "102 abnormal, 98 normal  images are saved\n",
            " \n",
            "Found 200 images belonging to 2 classes.\n",
            "Epoch 1/3\n",
            "4/4 [==============================] - 208s 59s/step - loss: 0.6983 - accuracy: 0.6850 - f05_m: 0.6719 - f1_m: 0.6719 - precision_m: 0.6719 - recall_m: 0.6719 - val_loss: 9.4684 - val_accuracy: 0.2750 - val_f05_m: 0.2721 - val_f1_m: 0.2721 - val_precision_m: 0.2721 - val_recall_m: 0.2721\n",
            "Epoch 2/3\n",
            "4/4 [==============================] - 208s 68s/step - loss: 0.4232 - accuracy: 0.8300 - f05_m: 0.8125 - f1_m: 0.8125 - precision_m: 0.8125 - recall_m: 0.8125 - val_loss: 7.3057 - val_accuracy: 0.2750 - val_f05_m: 0.2708 - val_f1_m: 0.2708 - val_precision_m: 0.2708 - val_recall_m: 0.2708\n",
            "Epoch 3/3\n",
            "4/4 [==============================] - 207s 59s/step - loss: 0.3039 - accuracy: 0.8450 - f05_m: 0.8516 - f1_m: 0.8516 - precision_m: 0.8516 - recall_m: 0.8516 - val_loss: 7.6257 - val_accuracy: 0.2750 - val_f05_m: 0.2708 - val_f1_m: 0.2708 - val_precision_m: 0.2708 - val_recall_m: 0.2708\n",
            "[0.2750000059604645, 0.2750000059604645, 0.2750000059604645] \n",
            "\n",
            "63 \n",
            "\n",
            "92 abnormal, 108 normal  images are saved\n",
            " \n",
            "Found 200 images belonging to 2 classes.\n",
            "Epoch 1/3\n",
            "4/4 [==============================] - 209s 60s/step - loss: 0.7806 - accuracy: 0.5900 - f05_m: 0.5703 - f1_m: 0.5703 - precision_m: 0.5703 - recall_m: 0.5703 - val_loss: 7.2731 - val_accuracy: 0.2750 - val_f05_m: 0.2734 - val_f1_m: 0.2734 - val_precision_m: 0.2734 - val_recall_m: 0.2734\n",
            "Epoch 2/3\n",
            "4/4 [==============================] - 208s 68s/step - loss: 0.5060 - accuracy: 0.7450 - f05_m: 0.7734 - f1_m: 0.7734 - precision_m: 0.7734 - recall_m: 0.7734 - val_loss: 7.6939 - val_accuracy: 0.2750 - val_f05_m: 0.2734 - val_f1_m: 0.2734 - val_precision_m: 0.2734 - val_recall_m: 0.2734\n",
            "Epoch 3/3\n",
            "4/4 [==============================] - 208s 68s/step - loss: 0.3343 - accuracy: 0.8750 - f05_m: 0.8750 - f1_m: 0.8750 - precision_m: 0.8750 - recall_m: 0.8750 - val_loss: 7.4911 - val_accuracy: 0.2750 - val_f05_m: 0.2682 - val_f1_m: 0.2682 - val_precision_m: 0.2682 - val_recall_m: 0.2682\n",
            "[0.2750000059604645, 0.2750000059604645, 0.2750000059604645] \n",
            "\n",
            "64 \n",
            "\n",
            "104 abnormal, 96 normal  images are saved\n",
            " \n",
            "Found 200 images belonging to 2 classes.\n",
            "Epoch 1/3\n",
            "4/4 [==============================] - 212s 69s/step - loss: 0.7945 - accuracy: 0.6400 - f05_m: 0.6367 - f1_m: 0.6367 - precision_m: 0.6367 - recall_m: 0.6367 - val_loss: 7.4215 - val_accuracy: 0.2750 - val_f05_m: 0.2747 - val_f1_m: 0.2747 - val_precision_m: 0.2747 - val_recall_m: 0.2747\n",
            "Epoch 2/3\n",
            "4/4 [==============================] - 208s 59s/step - loss: 0.5666 - accuracy: 0.7150 - f05_m: 0.6953 - f1_m: 0.6953 - precision_m: 0.6953 - recall_m: 0.6953 - val_loss: 6.6294 - val_accuracy: 0.2750 - val_f05_m: 0.2773 - val_f1_m: 0.2773 - val_precision_m: 0.2773 - val_recall_m: 0.2773\n",
            "Epoch 3/3\n",
            "4/4 [==============================] - 206s 59s/step - loss: 0.3451 - accuracy: 0.8900 - f05_m: 0.9141 - f1_m: 0.9141 - precision_m: 0.9141 - recall_m: 0.9141 - val_loss: 6.0682 - val_accuracy: 0.2750 - val_f05_m: 0.2747 - val_f1_m: 0.2747 - val_precision_m: 0.2747 - val_recall_m: 0.2747\n",
            "[0.2750000059604645, 0.2750000059604645, 0.2750000059604645] \n",
            "\n",
            "65 \n",
            "\n",
            "87 abnormal, 113 normal  images are saved\n",
            " \n",
            "Found 200 images belonging to 2 classes.\n",
            "Epoch 1/3\n",
            "3/4 [=====================>........] - ETA: 17s - loss: 0.8000 - accuracy: 0.6029 - f05_m: 0.6094 - f1_m: 0.6094 - precision_m: 0.6094 - recall_m: 0.6094 "
          ],
          "name": "stdout"
        }
      ]
    },
    {
      "cell_type": "code",
      "metadata": {
        "id": "ef88wWQwkNMd"
      },
      "source": [
        "# validation loss min is our main purpose here\n",
        "# the focus can be validation accuracy, too\n",
        "# S_0 an S_1 lists are determined                                               \n",
        "\n",
        "# \"categorical_crossentropy\" is used\n",
        "model.compile(optimizer=Adam(learning_rate=0.0001), loss='categorical_crossentropy', metrics=['accuracy', f05_m, f1_m, precision_m, recall_m])\n",
        "\n",
        "loss_min = 2 # let us initialize the min loss as 2           \n",
        "valid_batches = create_valid_batches()                        \n",
        "\n",
        "for i in range(100): # number of iterations \n",
        "\n",
        "  # trains are used instead of batches\n",
        "  x, y = Generate_Mini_Batch(S_0,S_1,64)\n",
        "                      \n",
        "  x = np.array(x)\n",
        "  y = np.array(y)\n",
        "\n",
        "  train_batch = train_to_batch(x,y)\n",
        "\n",
        "  # train the model with training and validation datasets\n",
        "  his = model.fit(x=train_batch,\n",
        "      steps_per_epoch=len(train_batch),\n",
        "      validation_data=valid_batches,\n",
        "      validation_steps=len(valid_batches),\n",
        "      batch_size = 64,\n",
        "      epochs=3)\n",
        "\n",
        "  # get the loss function result on validation set\n",
        "  loss_current = his.history['val_loss'] \n",
        "\n",
        "  # for any need;\n",
        "  # train_loss = his.history['loss']\n",
        "  # train_acc  = his.history['accuracy']\n",
        "  # val_acc = his.history['val_accuracy'] \n",
        "\n",
        "  # update loss\n",
        "  if loss_current[-1] < loss_min:\n",
        "    loss_min = loss_current[-1]\n",
        "    # save and update the model parameters                                                \n",
        "    model.save(\"/MyDrive/.../oversamp_model.h5\")\n",
        "    print(\"the model is saved\")"
      ],
      "execution_count": null,
      "outputs": []
    },
    {
      "cell_type": "code",
      "metadata": {
        "id": "7ArDAVHVNq7Q"
      },
      "source": [
        "# validation loss min is our main focus\n",
        "# S_0 an S_1 lists are determined                                               \n",
        "\n",
        "# vgg16 - transfer learning model\n",
        "# \"categorical_crossentropy\" is used\n",
        "model.compile(optimizer=Adam(learning_rate=0.0001), loss='categorical_crossentropy', metrics=['accuracy', f05_m, f1_m, precision_m, recall_m])\n",
        "\n",
        "loss_min = 0.3 # let us initialize the min loss as 2      \n",
        "valid_batches = create_valid_batches()                       \n",
        "\n",
        "for i in range(100): # this is going to be equal to 10.000  \n",
        "\n",
        "  # generate mini-batch by S0 and S1 lists\n",
        "  x, y = Generate_Mini_Batch(S_0,S_1,64)\n",
        "\n",
        "  # convert list to np.array fromat\n",
        "  x = np.array(x)\n",
        "  y = np.array(y)\n",
        "\n",
        "  # create the training batch with np.arrays\n",
        "  train_batch = train_to_batch(x,y)\n",
        "  \n",
        "  # training part\n",
        "  # train the model with training and validation datasets\n",
        "  result = model.fit(x=train_batch,\n",
        "      steps_per_epoch=len(train_batch),\n",
        "      validation_data=valid_batches,\n",
        "      validation_steps=len(valid_batches),\n",
        "      batch_size = 64,\n",
        "      epochs=1)\n",
        "\n",
        "  # get the loss function result on validation set\n",
        "  loss_current = result.history['val_loss'] \n",
        "\n",
        "  # check and update the minimum loss\n",
        "  if loss_current[-1] > loss_min:\n",
        "    loss_min = loss_current[-1]\n",
        "    # save the model parameters                                                \n",
        "    model.save(\"/content/drive/MyDrive/AI/Male_Infertility_Assessment/Models/oversamp_6_model.h5\")\n",
        "    print(\"the model is saved\")\n"
      ],
      "execution_count": null,
      "outputs": []
    },
    {
      "cell_type": "markdown",
      "metadata": {
        "id": "jgH55xAzWIPP"
      },
      "source": [
        "# 9. Test the Model"
      ]
    },
    {
      "cell_type": "code",
      "metadata": {
        "id": "oB7PG1aErFDH"
      },
      "source": [
        "# train the model with training and validation datasets\n",
        "#model_1.fit(x=train_batches,\n",
        "#    steps_per_epoch=len(train_batches),\n",
        "#    validation_data=valid_batches,\n",
        "#    validation_steps=len(valid_batches),\n",
        "#    epochs=1,\n",
        "#    verbose=2\n",
        "#)"
      ],
      "execution_count": null,
      "outputs": []
    },
    {
      "cell_type": "code",
      "metadata": {
        "id": "4XPcjGXMWn1A"
      },
      "source": [
        "# use the model to predict outputs of test data\n",
        "predictions = model.predict(x=test_batches, steps=len(test_batches), verbose=0)"
      ],
      "execution_count": null,
      "outputs": []
    },
    {
      "cell_type": "markdown",
      "metadata": {
        "id": "cX3gcnNNWwc6"
      },
      "source": [
        "# 10. Visualize the Predictions"
      ]
    },
    {
      "cell_type": "code",
      "metadata": {
        "id": "w8fTX_WMW6zr"
      },
      "source": [
        "# define a function to visualize the confusion matrix\n",
        "def plot_confusion_matrix(cm, classes,\n",
        "                          normalize=False,\n",
        "                          title='Confusion matrix',\n",
        "                          cmap=plt.cm.Blues):\n",
        "    \n",
        "    # Normalization can be applied\n",
        "    # normalize = True\n",
        "    \n",
        "    plt.imshow(cm, interpolation='nearest', cmap=cmap)\n",
        "    plt.title(title)\n",
        "    plt.colorbar()\n",
        "    tick_marks = np.arange(len(classes))\n",
        "    plt.xticks(tick_marks, classes, rotation=45)\n",
        "    plt.yticks(tick_marks, classes)\n",
        "\n",
        "    if normalize:\n",
        "        cm = cm.astype('float') / cm.sum(axis=1)[:, np.newaxis]\n",
        "        print(\"Normalized confusion matrix\")\n",
        "    else:\n",
        "        print('Confusion matrix, without normalization')\n",
        "\n",
        "    print(cm)\n",
        "\n",
        "    thresh = cm.max() / 2.\n",
        "    for i, j in itertools.product(range(cm.shape[0]), range(cm.shape[1])):\n",
        "        \n",
        "        plt.text(j, i, round(cm[i, j],2),\n",
        "            horizontalalignment=\"center\",\n",
        "            color=\"white\" if cm[i, j] > thresh else \"black\")\n",
        "\n",
        "    plt.tight_layout()\n",
        "    plt.ylabel('True label')\n",
        "    plt.xlabel('Predicted label')"
      ],
      "execution_count": null,
      "outputs": []
    },
    {
      "cell_type": "code",
      "metadata": {
        "colab": {
          "base_uri": "https://localhost:8080/"
        },
        "id": "dfBCloJ9W7NX",
        "outputId": "1d3203d3-ccd6-434c-9d73-9e1d0b66fa97"
      },
      "source": [
        "# get the predictions and true values\n",
        "\n",
        "# import classification_report\n",
        "from sklearn.metrics import classification_report\n",
        "\n",
        "# get the ground truth of your data, test labels\n",
        "test_labels = test_batches.classes \n",
        "\n",
        "# get the class with highest probability for each sample\n",
        "y_pred = np.argmax(predictions, axis=-1)\n",
        "\n",
        "# get the classification report\n",
        "print(classification_report(test_labels, y_pred))"
      ],
      "execution_count": null,
      "outputs": [
        {
          "output_type": "stream",
          "text": [
            "              precision    recall  f1-score   support\n",
            "\n",
            "           0       0.78      0.86      0.82       213\n",
            "           1       0.54      0.39      0.45        87\n",
            "\n",
            "    accuracy                           0.73       300\n",
            "   macro avg       0.66      0.63      0.64       300\n",
            "weighted avg       0.71      0.73      0.71       300\n",
            "\n"
          ],
          "name": "stdout"
        }
      ]
    },
    {
      "cell_type": "code",
      "metadata": {
        "id": "02DQPS_BW8wA"
      },
      "source": [
        "# use the confusion matrix plotting function\n",
        "cm = confusion_matrix(y_true = test_labels, y_pred = y_pred)"
      ],
      "execution_count": null,
      "outputs": []
    },
    {
      "cell_type": "code",
      "metadata": {
        "colab": {
          "base_uri": "https://localhost:8080/"
        },
        "id": "cl32hp6fXET9",
        "outputId": "9dc9b8e7-be12-41f7-e7a4-89d161001000"
      },
      "source": [
        "# check the label if everything is alright\n",
        "test_batches.class_indices"
      ],
      "execution_count": null,
      "outputs": [
        {
          "output_type": "execute_result",
          "data": {
            "text/plain": [
              "{'abnormal': 1, 'normal': 0}"
            ]
          },
          "metadata": {
            "tags": []
          },
          "execution_count": 24
        }
      ]
    },
    {
      "cell_type": "code",
      "metadata": {
        "colab": {
          "base_uri": "https://localhost:8080/",
          "height": 364
        },
        "id": "_7R89XqNXCmK",
        "outputId": "58538966-f438-4aba-8987-d8a9892a5a96"
      },
      "source": [
        "# plot the confusion matrix without normalization\n",
        "cm_plot_labels = ['normal', 'abnormal']\n",
        "plot_confusion_matrix(cm=cm, classes=cm_plot_labels, title='Confusion Matrix')"
      ],
      "execution_count": null,
      "outputs": [
        {
          "output_type": "stream",
          "text": [
            "Confusion matrix, without normalization\n",
            "[[184  29]\n",
            " [ 53  34]]\n"
          ],
          "name": "stdout"
        },
        {
          "output_type": "display_data",
          "data": {
            "image/png": "[encoded data removed]",
            "text/plain": [
              "<Figure size 432x288 with 2 Axes>"
            ]
          },
          "metadata": {
            "tags": []
          }
        }
      ]
    },
    {
      "cell_type": "code",
      "metadata": {
        "colab": {
          "base_uri": "https://localhost:8080/",
          "height": 364
        },
        "id": "4aBAsfbpXG1w",
        "outputId": "64f492c9-219e-4f93-8802-9881f60e6ca9"
      },
      "source": [
        "# plot the normalized confusion matrix\n",
        "plot_confusion_matrix(cm=cm, normalize = True, classes=cm_plot_labels, title='Confusion Matrix')"
      ],
      "execution_count": null,
      "outputs": [
        {
          "output_type": "stream",
          "text": [
            "Normalized confusion matrix\n",
            "[[0.86384977 0.13615023]\n",
            " [0.6091954  0.3908046 ]]\n"
          ],
          "name": "stdout"
        },
        {
          "output_type": "display_data",
          "data": {
            "image/png": "[encoded data removed]",
            "text/plain": [
              "<Figure size 432x288 with 2 Axes>"
            ]
          },
          "metadata": {
            "tags": []
          }
        }
      ]
    },
    {
      "cell_type": "code",
      "metadata": {
        "colab": {
          "base_uri": "https://localhost:8080/"
        },
        "id": "3ktJnKZyXIQ1",
        "outputId": "97d510da-717f-4c4e-a879-4057042c0ab7"
      },
      "source": [
        "# calculate the metrics\n",
        "from sklearn.metrics import accuracy_score\n",
        "from sklearn.metrics import fbeta_score\n",
        "from sklearn.metrics import f1_score\n",
        "from sklearn.metrics import precision_score\n",
        "from sklearn.metrics import recall_score\n",
        "\n",
        "y_true = test_labels\n",
        "y_pred = y_pred\n",
        "a = accuracy_score(y_true, y_pred)\n",
        "p = precision_score(y_true, y_pred)\n",
        "r = recall_score(y_true, y_pred)\n",
        "f1 = fbeta_score(y_true, y_pred, beta=1.0)\n",
        "f05 = fbeta_score(y_true, y_pred, beta=0.5)\n",
        "\n",
        "print('Result: accuracy = %.3f, precision = %.3f, recall = %.3f, f1_score = %.3f, f0.5_score = %.3f' % (a, p, r, f1, f05))\n"
      ],
      "execution_count": null,
      "outputs": [
        {
          "output_type": "stream",
          "text": [
            "Result: accuracy = 0.727, precision = 0.540, recall = 0.391, f1_score = 0.453, f0.5_score = 0.501\n"
          ],
          "name": "stdout"
        }
      ]
    },
    {
      "cell_type": "markdown",
      "metadata": {
        "id": "PworRMKfyS0-"
      },
      "source": [
        "# 11. References"
      ]
    },
    {
      "cell_type": "markdown",
      "metadata": {
        "id": "elJpBNEWGMHW"
      },
      "source": [
        "Add layer to model\n",
        "\n",
        "- https://missinglink.ai/guides/keras/using-keras-flatten-operation-cnn-models-code-examples/\n",
        "\n",
        "- https://keras.io/guides/sequential_model/\n",
        "\n",
        "- https://keras.io/api/layers/core_layers/\n",
        "\n",
        "Conversion Image - List\n",
        "\n",
        "- https://stackoverflow.com/questions/12062920/how-do-i-create-an-image-in-pil-using-a-list-of-rgb-tuples\n",
        "\n",
        "\n",
        "Return history of training in Keras:\n",
        "\n",
        "- https://stackoverflow.com/questions/36952763/how-to-return-history-of-validation-loss-in-keras#:~:text=According%20to%20Keras%20documentation%2C%20the,successive%20losses%20and%20other%20metrics.\n",
        "\n",
        "- https://keras.io/getting_started/faq/#how-can-i-record-the-training-validation-loss-accuracy-at-each-epoch\n",
        "\n",
        "- https://keras.io/guides/customizing_what_happens_in_fit/\n",
        "\n",
        "\n",
        "Shuffle two lists:\n",
        "\n",
        "- https://stackoverflow.com/questions/23289547/shuffle-two-list-at-once-with-same-order\n",
        "\n",
        "Clear Folder:\n",
        "\n",
        "- https://stackoverflow.com/questions/185936/how-to-delete-the-contents-of-a-folder\n",
        "\n"
      ]
    }
  ]
}