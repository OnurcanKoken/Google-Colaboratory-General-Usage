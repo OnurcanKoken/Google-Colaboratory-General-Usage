{
  "nbformat": 4,
  "nbformat_minor": 0,
  "metadata": {
    "colab": {
      "name": "Untitled0.ipynb",
      "provenance": [],
      "authorship_tag": "ABX9TyNfFMinx+KPgOoz5pcyK5rM"
    },
    "kernelspec": {
      "name": "python3",
      "display_name": "Python 3"
    }
  },
  "cells": [
    {
      "cell_type": "code",
      "metadata": {
        "id": "PIpXyKzRUTMe",
        "colab_type": "code",
        "colab": {
          "base_uri": "https://localhost:8080/",
          "height": 34
        },
        "outputId": "8c843f4c-b7de-4870-ee87-6a44806177f6"
      },
      "source": [
        "print(\"bu bir denemedir\")"
      ],
      "execution_count": 1,
      "outputs": [
        {
          "output_type": "stream",
          "text": [
            "bu bir denemedir\n"
          ],
          "name": "stdout"
        }
      ]
    },
    {
      "cell_type": "markdown",
      "metadata": {
        "id": "NkFW4wYAOPkU",
        "colab_type": "text"
      },
      "source": [
        "güzel denedim he"
      ]
    },
    {
      "cell_type": "code",
      "metadata": {
        "id": "pjYBUp2jORMC",
        "colab_type": "code",
        "colab": {
          "base_uri": "https://localhost:8080/",
          "height": 34
        },
        "outputId": "ce3d568a-7eab-439f-8b0e-3573f3994838"
      },
      "source": [
        "print(\"bir daha deniyorum\")"
      ],
      "execution_count": 2,
      "outputs": [
        {
          "output_type": "stream",
          "text": [
            "bir daha deniyorum\n"
          ],
          "name": "stdout"
        }
      ]
    },
    {
      "cell_type": "code",
      "metadata": {
        "id": "aP6za6AAOUO_",
        "colab_type": "code",
        "colab": {}
      },
      "source": [
        "print(\"denemiyorum\")"
      ],
      "execution_count": 0,
      "outputs": []
    },
    {
      "cell_type": "markdown",
      "metadata": {
        "id": "-3F8d2jXOXEj",
        "colab_type": "text"
      },
      "source": [
        "`son`"
      ]
    }
  ]
}